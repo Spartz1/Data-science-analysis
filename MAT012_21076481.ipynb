{
  "cells": [
    {
      "cell_type": "markdown",
      "metadata": {
        "id": "view-in-github",
        "colab_type": "text"
      },
      "source": [
        "<a href=\"https://colab.research.google.com/github/Spartz1/Machine-Learning/blob/main/MAT012_21076481.ipynb\" target=\"_parent\"><img src=\"https://colab.research.google.com/assets/colab-badge.svg\" alt=\"Open In Colab\"/></a>"
      ]
    },
    {
      "cell_type": "markdown",
      "source": [
        "#Credit Risk Scoring Coursework"
      ],
      "metadata": {
        "id": "3YPqz_WAL_uN"
      }
    },
    {
      "cell_type": "code",
      "execution_count": 1,
      "metadata": {
        "id": "EW19bbBoW9B-",
        "outputId": "f801ea8b-ba3b-4af1-89f8-5fa1441bb9b1",
        "colab": {
          "base_uri": "https://localhost:8080/"
        }
      },
      "outputs": [
        {
          "output_type": "stream",
          "name": "stderr",
          "text": [
            "/usr/local/lib/python3.7/dist-packages/statsmodels/tools/_testing.py:19: FutureWarning: pandas.util.testing is deprecated. Use the functions in the public API at pandas.testing instead.\n",
            "  import pandas.util.testing as tm\n"
          ]
        }
      ],
      "source": [
        "import numpy as np\n",
        "import pandas as pd\n",
        "import matplotlib.pyplot as plt\n",
        "import seaborn as sns\n",
        "import os\n",
        "import operator\n",
        "import statsmodels.api as sm\n",
        "import statsmodels.formula.api as smf\n",
        "from sklearn.model_selection import train_test_split, cross_val_score\n",
        "from sklearn.feature_selection import chi2\n",
        "from sklearn.linear_model import LinearRegression, LogisticRegression\n",
        "from sklearn.metrics import mean_absolute_error, roc_auc_score, roc_curve, accuracy_score, confusion_matrix, classification_report"
      ]
    },
    {
      "cell_type": "code",
      "execution_count": 2,
      "metadata": {
        "id": "3ioGbPxKW9CC"
      },
      "outputs": [],
      "source": [
        "creditDf = pd.read_excel(\"GermanCreditData.xlsx\", sheet_name=\"Sheet1\")"
      ]
    },
    {
      "cell_type": "code",
      "source": [
        "creditDf.head()"
      ],
      "metadata": {
        "colab": {
          "base_uri": "https://localhost:8080/",
          "height": 299
        },
        "id": "njaEQWc_8PWP",
        "outputId": "e2ffce32-faa0-4669-f264-eea2727c89bc"
      },
      "execution_count": 3,
      "outputs": [
        {
          "output_type": "execute_result",
          "data": {
            "text/plain": [
              "   Checking  Duration  History Purpose  Amount  Savings  Emploed  Installp  \\\n",
              "0         1         6        4       3    1169        5        5         4   \n",
              "1         2        48        2       3    5951        1        3         2   \n",
              "2         4        12        4       6    2096        1        4         2   \n",
              "3         1        42        2       2    7882        1        4         2   \n",
              "4         1        24        3       0    4870        1        3         3   \n",
              "\n",
              "   marital  Coapp  ...  Age  Other  housing  Existcr  Job  Depends  Telephone  \\\n",
              "0        3      1  ...   67      3        2        2    3        1          2   \n",
              "1        2      1  ...   22      3        2        1    3        1          1   \n",
              "2        3      1  ...   49      3        2        1    2        2          1   \n",
              "3        3      3  ...   45      3        3        1    3        2          1   \n",
              "4        3      1  ...   53      3        3        2    3        2          1   \n",
              "\n",
              "   Foreign  Bad  Good  \n",
              "0        1    0     1  \n",
              "1        1    1     0  \n",
              "2        1    0     1  \n",
              "3        1    0     1  \n",
              "4        1    1     0  \n",
              "\n",
              "[5 rows x 22 columns]"
            ],
            "text/html": [
              "\n",
              "  <div id=\"df-1461074f-923f-48f9-b283-ac13be20e563\">\n",
              "    <div class=\"colab-df-container\">\n",
              "      <div>\n",
              "<style scoped>\n",
              "    .dataframe tbody tr th:only-of-type {\n",
              "        vertical-align: middle;\n",
              "    }\n",
              "\n",
              "    .dataframe tbody tr th {\n",
              "        vertical-align: top;\n",
              "    }\n",
              "\n",
              "    .dataframe thead th {\n",
              "        text-align: right;\n",
              "    }\n",
              "</style>\n",
              "<table border=\"1\" class=\"dataframe\">\n",
              "  <thead>\n",
              "    <tr style=\"text-align: right;\">\n",
              "      <th></th>\n",
              "      <th>Checking</th>\n",
              "      <th>Duration</th>\n",
              "      <th>History</th>\n",
              "      <th>Purpose</th>\n",
              "      <th>Amount</th>\n",
              "      <th>Savings</th>\n",
              "      <th>Emploed</th>\n",
              "      <th>Installp</th>\n",
              "      <th>marital</th>\n",
              "      <th>Coapp</th>\n",
              "      <th>...</th>\n",
              "      <th>Age</th>\n",
              "      <th>Other</th>\n",
              "      <th>housing</th>\n",
              "      <th>Existcr</th>\n",
              "      <th>Job</th>\n",
              "      <th>Depends</th>\n",
              "      <th>Telephone</th>\n",
              "      <th>Foreign</th>\n",
              "      <th>Bad</th>\n",
              "      <th>Good</th>\n",
              "    </tr>\n",
              "  </thead>\n",
              "  <tbody>\n",
              "    <tr>\n",
              "      <th>0</th>\n",
              "      <td>1</td>\n",
              "      <td>6</td>\n",
              "      <td>4</td>\n",
              "      <td>3</td>\n",
              "      <td>1169</td>\n",
              "      <td>5</td>\n",
              "      <td>5</td>\n",
              "      <td>4</td>\n",
              "      <td>3</td>\n",
              "      <td>1</td>\n",
              "      <td>...</td>\n",
              "      <td>67</td>\n",
              "      <td>3</td>\n",
              "      <td>2</td>\n",
              "      <td>2</td>\n",
              "      <td>3</td>\n",
              "      <td>1</td>\n",
              "      <td>2</td>\n",
              "      <td>1</td>\n",
              "      <td>0</td>\n",
              "      <td>1</td>\n",
              "    </tr>\n",
              "    <tr>\n",
              "      <th>1</th>\n",
              "      <td>2</td>\n",
              "      <td>48</td>\n",
              "      <td>2</td>\n",
              "      <td>3</td>\n",
              "      <td>5951</td>\n",
              "      <td>1</td>\n",
              "      <td>3</td>\n",
              "      <td>2</td>\n",
              "      <td>2</td>\n",
              "      <td>1</td>\n",
              "      <td>...</td>\n",
              "      <td>22</td>\n",
              "      <td>3</td>\n",
              "      <td>2</td>\n",
              "      <td>1</td>\n",
              "      <td>3</td>\n",
              "      <td>1</td>\n",
              "      <td>1</td>\n",
              "      <td>1</td>\n",
              "      <td>1</td>\n",
              "      <td>0</td>\n",
              "    </tr>\n",
              "    <tr>\n",
              "      <th>2</th>\n",
              "      <td>4</td>\n",
              "      <td>12</td>\n",
              "      <td>4</td>\n",
              "      <td>6</td>\n",
              "      <td>2096</td>\n",
              "      <td>1</td>\n",
              "      <td>4</td>\n",
              "      <td>2</td>\n",
              "      <td>3</td>\n",
              "      <td>1</td>\n",
              "      <td>...</td>\n",
              "      <td>49</td>\n",
              "      <td>3</td>\n",
              "      <td>2</td>\n",
              "      <td>1</td>\n",
              "      <td>2</td>\n",
              "      <td>2</td>\n",
              "      <td>1</td>\n",
              "      <td>1</td>\n",
              "      <td>0</td>\n",
              "      <td>1</td>\n",
              "    </tr>\n",
              "    <tr>\n",
              "      <th>3</th>\n",
              "      <td>1</td>\n",
              "      <td>42</td>\n",
              "      <td>2</td>\n",
              "      <td>2</td>\n",
              "      <td>7882</td>\n",
              "      <td>1</td>\n",
              "      <td>4</td>\n",
              "      <td>2</td>\n",
              "      <td>3</td>\n",
              "      <td>3</td>\n",
              "      <td>...</td>\n",
              "      <td>45</td>\n",
              "      <td>3</td>\n",
              "      <td>3</td>\n",
              "      <td>1</td>\n",
              "      <td>3</td>\n",
              "      <td>2</td>\n",
              "      <td>1</td>\n",
              "      <td>1</td>\n",
              "      <td>0</td>\n",
              "      <td>1</td>\n",
              "    </tr>\n",
              "    <tr>\n",
              "      <th>4</th>\n",
              "      <td>1</td>\n",
              "      <td>24</td>\n",
              "      <td>3</td>\n",
              "      <td>0</td>\n",
              "      <td>4870</td>\n",
              "      <td>1</td>\n",
              "      <td>3</td>\n",
              "      <td>3</td>\n",
              "      <td>3</td>\n",
              "      <td>1</td>\n",
              "      <td>...</td>\n",
              "      <td>53</td>\n",
              "      <td>3</td>\n",
              "      <td>3</td>\n",
              "      <td>2</td>\n",
              "      <td>3</td>\n",
              "      <td>2</td>\n",
              "      <td>1</td>\n",
              "      <td>1</td>\n",
              "      <td>1</td>\n",
              "      <td>0</td>\n",
              "    </tr>\n",
              "  </tbody>\n",
              "</table>\n",
              "<p>5 rows × 22 columns</p>\n",
              "</div>\n",
              "      <button class=\"colab-df-convert\" onclick=\"convertToInteractive('df-1461074f-923f-48f9-b283-ac13be20e563')\"\n",
              "              title=\"Convert this dataframe to an interactive table.\"\n",
              "              style=\"display:none;\">\n",
              "        \n",
              "  <svg xmlns=\"http://www.w3.org/2000/svg\" height=\"24px\"viewBox=\"0 0 24 24\"\n",
              "       width=\"24px\">\n",
              "    <path d=\"M0 0h24v24H0V0z\" fill=\"none\"/>\n",
              "    <path d=\"M18.56 5.44l.94 2.06.94-2.06 2.06-.94-2.06-.94-.94-2.06-.94 2.06-2.06.94zm-11 1L8.5 8.5l.94-2.06 2.06-.94-2.06-.94L8.5 2.5l-.94 2.06-2.06.94zm10 10l.94 2.06.94-2.06 2.06-.94-2.06-.94-.94-2.06-.94 2.06-2.06.94z\"/><path d=\"M17.41 7.96l-1.37-1.37c-.4-.4-.92-.59-1.43-.59-.52 0-1.04.2-1.43.59L10.3 9.45l-7.72 7.72c-.78.78-.78 2.05 0 2.83L4 21.41c.39.39.9.59 1.41.59.51 0 1.02-.2 1.41-.59l7.78-7.78 2.81-2.81c.8-.78.8-2.07 0-2.86zM5.41 20L4 18.59l7.72-7.72 1.47 1.35L5.41 20z\"/>\n",
              "  </svg>\n",
              "      </button>\n",
              "      \n",
              "  <style>\n",
              "    .colab-df-container {\n",
              "      display:flex;\n",
              "      flex-wrap:wrap;\n",
              "      gap: 12px;\n",
              "    }\n",
              "\n",
              "    .colab-df-convert {\n",
              "      background-color: #E8F0FE;\n",
              "      border: none;\n",
              "      border-radius: 50%;\n",
              "      cursor: pointer;\n",
              "      display: none;\n",
              "      fill: #1967D2;\n",
              "      height: 32px;\n",
              "      padding: 0 0 0 0;\n",
              "      width: 32px;\n",
              "    }\n",
              "\n",
              "    .colab-df-convert:hover {\n",
              "      background-color: #E2EBFA;\n",
              "      box-shadow: 0px 1px 2px rgba(60, 64, 67, 0.3), 0px 1px 3px 1px rgba(60, 64, 67, 0.15);\n",
              "      fill: #174EA6;\n",
              "    }\n",
              "\n",
              "    [theme=dark] .colab-df-convert {\n",
              "      background-color: #3B4455;\n",
              "      fill: #D2E3FC;\n",
              "    }\n",
              "\n",
              "    [theme=dark] .colab-df-convert:hover {\n",
              "      background-color: #434B5C;\n",
              "      box-shadow: 0px 1px 3px 1px rgba(0, 0, 0, 0.15);\n",
              "      filter: drop-shadow(0px 1px 2px rgba(0, 0, 0, 0.3));\n",
              "      fill: #FFFFFF;\n",
              "    }\n",
              "  </style>\n",
              "\n",
              "      <script>\n",
              "        const buttonEl =\n",
              "          document.querySelector('#df-1461074f-923f-48f9-b283-ac13be20e563 button.colab-df-convert');\n",
              "        buttonEl.style.display =\n",
              "          google.colab.kernel.accessAllowed ? 'block' : 'none';\n",
              "\n",
              "        async function convertToInteractive(key) {\n",
              "          const element = document.querySelector('#df-1461074f-923f-48f9-b283-ac13be20e563');\n",
              "          const dataTable =\n",
              "            await google.colab.kernel.invokeFunction('convertToInteractive',\n",
              "                                                     [key], {});\n",
              "          if (!dataTable) return;\n",
              "\n",
              "          const docLinkHtml = 'Like what you see? Visit the ' +\n",
              "            '<a target=\"_blank\" href=https://colab.research.google.com/notebooks/data_table.ipynb>data table notebook</a>'\n",
              "            + ' to learn more about interactive tables.';\n",
              "          element.innerHTML = '';\n",
              "          dataTable['output_type'] = 'display_data';\n",
              "          await google.colab.output.renderOutput(dataTable, element);\n",
              "          const docLink = document.createElement('div');\n",
              "          docLink.innerHTML = docLinkHtml;\n",
              "          element.appendChild(docLink);\n",
              "        }\n",
              "      </script>\n",
              "    </div>\n",
              "  </div>\n",
              "  "
            ]
          },
          "metadata": {},
          "execution_count": 3
        }
      ]
    },
    {
      "cell_type": "code",
      "execution_count": 4,
      "metadata": {
        "colab": {
          "base_uri": "https://localhost:8080/"
        },
        "id": "uWNqFf3sW9CD",
        "outputId": "ae1acbf4-0bd7-4f71-e176-4cd0c5d88b17"
      },
      "outputs": [
        {
          "output_type": "stream",
          "name": "stdout",
          "text": [
            "(1000, 22)\n",
            "Index(['Checking', 'Duration', 'History', 'Purpose', 'Amount', 'Savings',\n",
            "       'Emploed', 'Installp', 'marital', 'Coapp', 'Resident', 'Property',\n",
            "       'Age', 'Other', 'housing', 'Existcr', 'Job', 'Depends', 'Telephone',\n",
            "       'Foreign', 'Bad', 'Good'],\n",
            "      dtype='object')\n"
          ]
        }
      ],
      "source": [
        "print(creditDf.shape)\n",
        "print(creditDf.columns)"
      ]
    },
    {
      "cell_type": "code",
      "source": [
        "creditDf1 = creditDf.drop('Bad', axis = 1)"
      ],
      "metadata": {
        "id": "AmIJ3O5I6lkV"
      },
      "execution_count": 5,
      "outputs": []
    },
    {
      "cell_type": "markdown",
      "source": [
        "####Deleting missing data"
      ],
      "metadata": {
        "id": "oMTUfDBXOWfy"
      }
    },
    {
      "cell_type": "code",
      "source": [
        "creditDf.Purpose.value_counts()"
      ],
      "metadata": {
        "colab": {
          "base_uri": "https://localhost:8080/"
        },
        "id": "W-x98g3p4Z2Y",
        "outputId": "aeba4f1d-6ae7-4eb2-be07-bc03724db91b"
      },
      "execution_count": 6,
      "outputs": [
        {
          "output_type": "execute_result",
          "data": {
            "text/plain": [
              "3    280\n",
              "0    234\n",
              "2    181\n",
              "1    103\n",
              "9     97\n",
              "6     50\n",
              "5     22\n",
              "4     12\n",
              "X     12\n",
              "8      9\n",
              "Name: Purpose, dtype: int64"
            ]
          },
          "metadata": {},
          "execution_count": 6
        }
      ]
    },
    {
      "cell_type": "code",
      "source": [
        "creditDf1 = creditDf.drop(creditDf[creditDf.Purpose == 'X'].index)\n",
        "creditDf1"
      ],
      "metadata": {
        "id": "CJhQMNpH9Zrw",
        "outputId": "44032852-c37e-4ceb-eeb4-8b70e99a9135",
        "colab": {
          "base_uri": "https://localhost:8080/",
          "height": 487
        }
      },
      "execution_count": 7,
      "outputs": [
        {
          "output_type": "execute_result",
          "data": {
            "text/plain": [
              "     Checking  Duration  History Purpose  Amount  Savings  Emploed  Installp  \\\n",
              "0           1         6        4       3    1169        5        5         4   \n",
              "1           2        48        2       3    5951        1        3         2   \n",
              "2           4        12        4       6    2096        1        4         2   \n",
              "3           1        42        2       2    7882        1        4         2   \n",
              "4           1        24        3       0    4870        1        3         3   \n",
              "..        ...       ...      ...     ...     ...      ...      ...       ...   \n",
              "995         4        12        2       2    1736        1        4         3   \n",
              "996         1        30        2       1    3857        1        3         4   \n",
              "997         4        12        2       3     804        1        5         4   \n",
              "998         1        45        2       3    1845        1        3         4   \n",
              "999         2        45        4       1    4576        2        1         3   \n",
              "\n",
              "     marital  Coapp  ...  Age  Other  housing  Existcr  Job  Depends  \\\n",
              "0          3      1  ...   67      3        2        2    3        1   \n",
              "1          2      1  ...   22      3        2        1    3        1   \n",
              "2          3      1  ...   49      3        2        1    2        2   \n",
              "3          3      3  ...   45      3        3        1    3        2   \n",
              "4          3      1  ...   53      3        3        2    3        2   \n",
              "..       ...    ...  ...  ...    ...      ...      ...  ...      ...   \n",
              "995        2      1  ...   31      3        2        1    2        1   \n",
              "996        1      1  ...   40      3        2        1    4        1   \n",
              "997        3      1  ...   38      3        2        1    3        1   \n",
              "998        3      1  ...   23      3        3        1    3        1   \n",
              "999        3      1  ...   27      3        2        1    3        1   \n",
              "\n",
              "     Telephone  Foreign  Bad  Good  \n",
              "0            2        1    0     1  \n",
              "1            1        1    1     0  \n",
              "2            1        1    0     1  \n",
              "3            1        1    0     1  \n",
              "4            1        1    1     0  \n",
              "..         ...      ...  ...   ...  \n",
              "995          1        1    0     1  \n",
              "996          2        1    0     1  \n",
              "997          1        1    0     1  \n",
              "998          2        1    1     0  \n",
              "999          1        1    0     1  \n",
              "\n",
              "[988 rows x 22 columns]"
            ],
            "text/html": [
              "\n",
              "  <div id=\"df-fce3158d-9305-42a1-baa7-9723929a6a4f\">\n",
              "    <div class=\"colab-df-container\">\n",
              "      <div>\n",
              "<style scoped>\n",
              "    .dataframe tbody tr th:only-of-type {\n",
              "        vertical-align: middle;\n",
              "    }\n",
              "\n",
              "    .dataframe tbody tr th {\n",
              "        vertical-align: top;\n",
              "    }\n",
              "\n",
              "    .dataframe thead th {\n",
              "        text-align: right;\n",
              "    }\n",
              "</style>\n",
              "<table border=\"1\" class=\"dataframe\">\n",
              "  <thead>\n",
              "    <tr style=\"text-align: right;\">\n",
              "      <th></th>\n",
              "      <th>Checking</th>\n",
              "      <th>Duration</th>\n",
              "      <th>History</th>\n",
              "      <th>Purpose</th>\n",
              "      <th>Amount</th>\n",
              "      <th>Savings</th>\n",
              "      <th>Emploed</th>\n",
              "      <th>Installp</th>\n",
              "      <th>marital</th>\n",
              "      <th>Coapp</th>\n",
              "      <th>...</th>\n",
              "      <th>Age</th>\n",
              "      <th>Other</th>\n",
              "      <th>housing</th>\n",
              "      <th>Existcr</th>\n",
              "      <th>Job</th>\n",
              "      <th>Depends</th>\n",
              "      <th>Telephone</th>\n",
              "      <th>Foreign</th>\n",
              "      <th>Bad</th>\n",
              "      <th>Good</th>\n",
              "    </tr>\n",
              "  </thead>\n",
              "  <tbody>\n",
              "    <tr>\n",
              "      <th>0</th>\n",
              "      <td>1</td>\n",
              "      <td>6</td>\n",
              "      <td>4</td>\n",
              "      <td>3</td>\n",
              "      <td>1169</td>\n",
              "      <td>5</td>\n",
              "      <td>5</td>\n",
              "      <td>4</td>\n",
              "      <td>3</td>\n",
              "      <td>1</td>\n",
              "      <td>...</td>\n",
              "      <td>67</td>\n",
              "      <td>3</td>\n",
              "      <td>2</td>\n",
              "      <td>2</td>\n",
              "      <td>3</td>\n",
              "      <td>1</td>\n",
              "      <td>2</td>\n",
              "      <td>1</td>\n",
              "      <td>0</td>\n",
              "      <td>1</td>\n",
              "    </tr>\n",
              "    <tr>\n",
              "      <th>1</th>\n",
              "      <td>2</td>\n",
              "      <td>48</td>\n",
              "      <td>2</td>\n",
              "      <td>3</td>\n",
              "      <td>5951</td>\n",
              "      <td>1</td>\n",
              "      <td>3</td>\n",
              "      <td>2</td>\n",
              "      <td>2</td>\n",
              "      <td>1</td>\n",
              "      <td>...</td>\n",
              "      <td>22</td>\n",
              "      <td>3</td>\n",
              "      <td>2</td>\n",
              "      <td>1</td>\n",
              "      <td>3</td>\n",
              "      <td>1</td>\n",
              "      <td>1</td>\n",
              "      <td>1</td>\n",
              "      <td>1</td>\n",
              "      <td>0</td>\n",
              "    </tr>\n",
              "    <tr>\n",
              "      <th>2</th>\n",
              "      <td>4</td>\n",
              "      <td>12</td>\n",
              "      <td>4</td>\n",
              "      <td>6</td>\n",
              "      <td>2096</td>\n",
              "      <td>1</td>\n",
              "      <td>4</td>\n",
              "      <td>2</td>\n",
              "      <td>3</td>\n",
              "      <td>1</td>\n",
              "      <td>...</td>\n",
              "      <td>49</td>\n",
              "      <td>3</td>\n",
              "      <td>2</td>\n",
              "      <td>1</td>\n",
              "      <td>2</td>\n",
              "      <td>2</td>\n",
              "      <td>1</td>\n",
              "      <td>1</td>\n",
              "      <td>0</td>\n",
              "      <td>1</td>\n",
              "    </tr>\n",
              "    <tr>\n",
              "      <th>3</th>\n",
              "      <td>1</td>\n",
              "      <td>42</td>\n",
              "      <td>2</td>\n",
              "      <td>2</td>\n",
              "      <td>7882</td>\n",
              "      <td>1</td>\n",
              "      <td>4</td>\n",
              "      <td>2</td>\n",
              "      <td>3</td>\n",
              "      <td>3</td>\n",
              "      <td>...</td>\n",
              "      <td>45</td>\n",
              "      <td>3</td>\n",
              "      <td>3</td>\n",
              "      <td>1</td>\n",
              "      <td>3</td>\n",
              "      <td>2</td>\n",
              "      <td>1</td>\n",
              "      <td>1</td>\n",
              "      <td>0</td>\n",
              "      <td>1</td>\n",
              "    </tr>\n",
              "    <tr>\n",
              "      <th>4</th>\n",
              "      <td>1</td>\n",
              "      <td>24</td>\n",
              "      <td>3</td>\n",
              "      <td>0</td>\n",
              "      <td>4870</td>\n",
              "      <td>1</td>\n",
              "      <td>3</td>\n",
              "      <td>3</td>\n",
              "      <td>3</td>\n",
              "      <td>1</td>\n",
              "      <td>...</td>\n",
              "      <td>53</td>\n",
              "      <td>3</td>\n",
              "      <td>3</td>\n",
              "      <td>2</td>\n",
              "      <td>3</td>\n",
              "      <td>2</td>\n",
              "      <td>1</td>\n",
              "      <td>1</td>\n",
              "      <td>1</td>\n",
              "      <td>0</td>\n",
              "    </tr>\n",
              "    <tr>\n",
              "      <th>...</th>\n",
              "      <td>...</td>\n",
              "      <td>...</td>\n",
              "      <td>...</td>\n",
              "      <td>...</td>\n",
              "      <td>...</td>\n",
              "      <td>...</td>\n",
              "      <td>...</td>\n",
              "      <td>...</td>\n",
              "      <td>...</td>\n",
              "      <td>...</td>\n",
              "      <td>...</td>\n",
              "      <td>...</td>\n",
              "      <td>...</td>\n",
              "      <td>...</td>\n",
              "      <td>...</td>\n",
              "      <td>...</td>\n",
              "      <td>...</td>\n",
              "      <td>...</td>\n",
              "      <td>...</td>\n",
              "      <td>...</td>\n",
              "      <td>...</td>\n",
              "    </tr>\n",
              "    <tr>\n",
              "      <th>995</th>\n",
              "      <td>4</td>\n",
              "      <td>12</td>\n",
              "      <td>2</td>\n",
              "      <td>2</td>\n",
              "      <td>1736</td>\n",
              "      <td>1</td>\n",
              "      <td>4</td>\n",
              "      <td>3</td>\n",
              "      <td>2</td>\n",
              "      <td>1</td>\n",
              "      <td>...</td>\n",
              "      <td>31</td>\n",
              "      <td>3</td>\n",
              "      <td>2</td>\n",
              "      <td>1</td>\n",
              "      <td>2</td>\n",
              "      <td>1</td>\n",
              "      <td>1</td>\n",
              "      <td>1</td>\n",
              "      <td>0</td>\n",
              "      <td>1</td>\n",
              "    </tr>\n",
              "    <tr>\n",
              "      <th>996</th>\n",
              "      <td>1</td>\n",
              "      <td>30</td>\n",
              "      <td>2</td>\n",
              "      <td>1</td>\n",
              "      <td>3857</td>\n",
              "      <td>1</td>\n",
              "      <td>3</td>\n",
              "      <td>4</td>\n",
              "      <td>1</td>\n",
              "      <td>1</td>\n",
              "      <td>...</td>\n",
              "      <td>40</td>\n",
              "      <td>3</td>\n",
              "      <td>2</td>\n",
              "      <td>1</td>\n",
              "      <td>4</td>\n",
              "      <td>1</td>\n",
              "      <td>2</td>\n",
              "      <td>1</td>\n",
              "      <td>0</td>\n",
              "      <td>1</td>\n",
              "    </tr>\n",
              "    <tr>\n",
              "      <th>997</th>\n",
              "      <td>4</td>\n",
              "      <td>12</td>\n",
              "      <td>2</td>\n",
              "      <td>3</td>\n",
              "      <td>804</td>\n",
              "      <td>1</td>\n",
              "      <td>5</td>\n",
              "      <td>4</td>\n",
              "      <td>3</td>\n",
              "      <td>1</td>\n",
              "      <td>...</td>\n",
              "      <td>38</td>\n",
              "      <td>3</td>\n",
              "      <td>2</td>\n",
              "      <td>1</td>\n",
              "      <td>3</td>\n",
              "      <td>1</td>\n",
              "      <td>1</td>\n",
              "      <td>1</td>\n",
              "      <td>0</td>\n",
              "      <td>1</td>\n",
              "    </tr>\n",
              "    <tr>\n",
              "      <th>998</th>\n",
              "      <td>1</td>\n",
              "      <td>45</td>\n",
              "      <td>2</td>\n",
              "      <td>3</td>\n",
              "      <td>1845</td>\n",
              "      <td>1</td>\n",
              "      <td>3</td>\n",
              "      <td>4</td>\n",
              "      <td>3</td>\n",
              "      <td>1</td>\n",
              "      <td>...</td>\n",
              "      <td>23</td>\n",
              "      <td>3</td>\n",
              "      <td>3</td>\n",
              "      <td>1</td>\n",
              "      <td>3</td>\n",
              "      <td>1</td>\n",
              "      <td>2</td>\n",
              "      <td>1</td>\n",
              "      <td>1</td>\n",
              "      <td>0</td>\n",
              "    </tr>\n",
              "    <tr>\n",
              "      <th>999</th>\n",
              "      <td>2</td>\n",
              "      <td>45</td>\n",
              "      <td>4</td>\n",
              "      <td>1</td>\n",
              "      <td>4576</td>\n",
              "      <td>2</td>\n",
              "      <td>1</td>\n",
              "      <td>3</td>\n",
              "      <td>3</td>\n",
              "      <td>1</td>\n",
              "      <td>...</td>\n",
              "      <td>27</td>\n",
              "      <td>3</td>\n",
              "      <td>2</td>\n",
              "      <td>1</td>\n",
              "      <td>3</td>\n",
              "      <td>1</td>\n",
              "      <td>1</td>\n",
              "      <td>1</td>\n",
              "      <td>0</td>\n",
              "      <td>1</td>\n",
              "    </tr>\n",
              "  </tbody>\n",
              "</table>\n",
              "<p>988 rows × 22 columns</p>\n",
              "</div>\n",
              "      <button class=\"colab-df-convert\" onclick=\"convertToInteractive('df-fce3158d-9305-42a1-baa7-9723929a6a4f')\"\n",
              "              title=\"Convert this dataframe to an interactive table.\"\n",
              "              style=\"display:none;\">\n",
              "        \n",
              "  <svg xmlns=\"http://www.w3.org/2000/svg\" height=\"24px\"viewBox=\"0 0 24 24\"\n",
              "       width=\"24px\">\n",
              "    <path d=\"M0 0h24v24H0V0z\" fill=\"none\"/>\n",
              "    <path d=\"M18.56 5.44l.94 2.06.94-2.06 2.06-.94-2.06-.94-.94-2.06-.94 2.06-2.06.94zm-11 1L8.5 8.5l.94-2.06 2.06-.94-2.06-.94L8.5 2.5l-.94 2.06-2.06.94zm10 10l.94 2.06.94-2.06 2.06-.94-2.06-.94-.94-2.06-.94 2.06-2.06.94z\"/><path d=\"M17.41 7.96l-1.37-1.37c-.4-.4-.92-.59-1.43-.59-.52 0-1.04.2-1.43.59L10.3 9.45l-7.72 7.72c-.78.78-.78 2.05 0 2.83L4 21.41c.39.39.9.59 1.41.59.51 0 1.02-.2 1.41-.59l7.78-7.78 2.81-2.81c.8-.78.8-2.07 0-2.86zM5.41 20L4 18.59l7.72-7.72 1.47 1.35L5.41 20z\"/>\n",
              "  </svg>\n",
              "      </button>\n",
              "      \n",
              "  <style>\n",
              "    .colab-df-container {\n",
              "      display:flex;\n",
              "      flex-wrap:wrap;\n",
              "      gap: 12px;\n",
              "    }\n",
              "\n",
              "    .colab-df-convert {\n",
              "      background-color: #E8F0FE;\n",
              "      border: none;\n",
              "      border-radius: 50%;\n",
              "      cursor: pointer;\n",
              "      display: none;\n",
              "      fill: #1967D2;\n",
              "      height: 32px;\n",
              "      padding: 0 0 0 0;\n",
              "      width: 32px;\n",
              "    }\n",
              "\n",
              "    .colab-df-convert:hover {\n",
              "      background-color: #E2EBFA;\n",
              "      box-shadow: 0px 1px 2px rgba(60, 64, 67, 0.3), 0px 1px 3px 1px rgba(60, 64, 67, 0.15);\n",
              "      fill: #174EA6;\n",
              "    }\n",
              "\n",
              "    [theme=dark] .colab-df-convert {\n",
              "      background-color: #3B4455;\n",
              "      fill: #D2E3FC;\n",
              "    }\n",
              "\n",
              "    [theme=dark] .colab-df-convert:hover {\n",
              "      background-color: #434B5C;\n",
              "      box-shadow: 0px 1px 3px 1px rgba(0, 0, 0, 0.15);\n",
              "      filter: drop-shadow(0px 1px 2px rgba(0, 0, 0, 0.3));\n",
              "      fill: #FFFFFF;\n",
              "    }\n",
              "  </style>\n",
              "\n",
              "      <script>\n",
              "        const buttonEl =\n",
              "          document.querySelector('#df-fce3158d-9305-42a1-baa7-9723929a6a4f button.colab-df-convert');\n",
              "        buttonEl.style.display =\n",
              "          google.colab.kernel.accessAllowed ? 'block' : 'none';\n",
              "\n",
              "        async function convertToInteractive(key) {\n",
              "          const element = document.querySelector('#df-fce3158d-9305-42a1-baa7-9723929a6a4f');\n",
              "          const dataTable =\n",
              "            await google.colab.kernel.invokeFunction('convertToInteractive',\n",
              "                                                     [key], {});\n",
              "          if (!dataTable) return;\n",
              "\n",
              "          const docLinkHtml = 'Like what you see? Visit the ' +\n",
              "            '<a target=\"_blank\" href=https://colab.research.google.com/notebooks/data_table.ipynb>data table notebook</a>'\n",
              "            + ' to learn more about interactive tables.';\n",
              "          element.innerHTML = '';\n",
              "          dataTable['output_type'] = 'display_data';\n",
              "          await google.colab.output.renderOutput(dataTable, element);\n",
              "          const docLink = document.createElement('div');\n",
              "          docLink.innerHTML = docLinkHtml;\n",
              "          element.appendChild(docLink);\n",
              "        }\n",
              "      </script>\n",
              "    </div>\n",
              "  </div>\n",
              "  "
            ]
          },
          "metadata": {},
          "execution_count": 7
        }
      ]
    },
    {
      "cell_type": "markdown",
      "source": [
        "####Changing data type of features as per data dictionary"
      ],
      "metadata": {
        "id": "5ednCUNtWgFV"
      }
    },
    {
      "cell_type": "code",
      "source": [
        "creditDf1.describe().T"
      ],
      "metadata": {
        "colab": {
          "base_uri": "https://localhost:8080/",
          "height": 708
        },
        "id": "FbiRDojPPFKF",
        "outputId": "519cad8c-081f-40e8-eb10-4b141959d7ee"
      },
      "execution_count": 8,
      "outputs": [
        {
          "output_type": "execute_result",
          "data": {
            "text/plain": [
              "           count         mean          std    min     25%     50%     75%  \\\n",
              "Checking   988.0     2.586032     1.259488    1.0     1.0     2.0     4.0   \n",
              "Duration   988.0    20.764170    11.955509    4.0    12.0    18.0    24.0   \n",
              "History    988.0     2.547571     1.080716    0.0     2.0     2.0     4.0   \n",
              "Amount     988.0  3211.281377  2710.759455  250.0  1364.0  2302.5  3951.5   \n",
              "Savings    988.0     2.108300     1.581111    1.0     1.0     1.0     3.0   \n",
              "Emploed    988.0     3.388664     1.201465    1.0     3.0     3.0     5.0   \n",
              "Installp   988.0     2.976721     1.120168    1.0     2.0     3.0     4.0   \n",
              "marital    988.0     2.683198     0.708782    1.0     2.0     3.0     3.0   \n",
              "Coapp      988.0     1.140688     0.473668    1.0     1.0     1.0     1.0   \n",
              "Resident   988.0     2.840081     1.106641    1.0     2.0     3.0     4.0   \n",
              "Property   988.0     2.348178     1.048097    1.0     1.0     2.0     3.0   \n",
              "Age        988.0    35.492915    11.371455   19.0    27.0    33.0    42.0   \n",
              "Other      988.0     2.686235     0.694991    1.0     3.0     3.0     3.0   \n",
              "housing    988.0     1.924089     0.530056    1.0     2.0     2.0     2.0   \n",
              "Existcr    988.0     1.405870     0.578442    1.0     1.0     1.0     2.0   \n",
              "Job        988.0     2.896761     0.645670    1.0     3.0     3.0     3.0   \n",
              "Depends    988.0     1.154858     0.361953    1.0     1.0     1.0     1.0   \n",
              "Telephone  988.0     1.397773     0.489686    1.0     1.0     1.0     2.0   \n",
              "Foreign    988.0     1.036437     0.187470    1.0     1.0     1.0     1.0   \n",
              "Bad        988.0     0.298583     0.457868    0.0     0.0     0.0     1.0   \n",
              "Good       988.0     0.701417     0.457868    0.0     0.0     1.0     1.0   \n",
              "\n",
              "               max  \n",
              "Checking       4.0  \n",
              "Duration      72.0  \n",
              "History        4.0  \n",
              "Amount     15945.0  \n",
              "Savings        5.0  \n",
              "Emploed        5.0  \n",
              "Installp       4.0  \n",
              "marital        4.0  \n",
              "Coapp          3.0  \n",
              "Resident       4.0  \n",
              "Property       4.0  \n",
              "Age           75.0  \n",
              "Other          3.0  \n",
              "housing        3.0  \n",
              "Existcr        4.0  \n",
              "Job            4.0  \n",
              "Depends        2.0  \n",
              "Telephone      2.0  \n",
              "Foreign        2.0  \n",
              "Bad            1.0  \n",
              "Good           1.0  "
            ],
            "text/html": [
              "\n",
              "  <div id=\"df-997c818d-88d1-46d4-99c5-5fd06b6c06e8\">\n",
              "    <div class=\"colab-df-container\">\n",
              "      <div>\n",
              "<style scoped>\n",
              "    .dataframe tbody tr th:only-of-type {\n",
              "        vertical-align: middle;\n",
              "    }\n",
              "\n",
              "    .dataframe tbody tr th {\n",
              "        vertical-align: top;\n",
              "    }\n",
              "\n",
              "    .dataframe thead th {\n",
              "        text-align: right;\n",
              "    }\n",
              "</style>\n",
              "<table border=\"1\" class=\"dataframe\">\n",
              "  <thead>\n",
              "    <tr style=\"text-align: right;\">\n",
              "      <th></th>\n",
              "      <th>count</th>\n",
              "      <th>mean</th>\n",
              "      <th>std</th>\n",
              "      <th>min</th>\n",
              "      <th>25%</th>\n",
              "      <th>50%</th>\n",
              "      <th>75%</th>\n",
              "      <th>max</th>\n",
              "    </tr>\n",
              "  </thead>\n",
              "  <tbody>\n",
              "    <tr>\n",
              "      <th>Checking</th>\n",
              "      <td>988.0</td>\n",
              "      <td>2.586032</td>\n",
              "      <td>1.259488</td>\n",
              "      <td>1.0</td>\n",
              "      <td>1.0</td>\n",
              "      <td>2.0</td>\n",
              "      <td>4.0</td>\n",
              "      <td>4.0</td>\n",
              "    </tr>\n",
              "    <tr>\n",
              "      <th>Duration</th>\n",
              "      <td>988.0</td>\n",
              "      <td>20.764170</td>\n",
              "      <td>11.955509</td>\n",
              "      <td>4.0</td>\n",
              "      <td>12.0</td>\n",
              "      <td>18.0</td>\n",
              "      <td>24.0</td>\n",
              "      <td>72.0</td>\n",
              "    </tr>\n",
              "    <tr>\n",
              "      <th>History</th>\n",
              "      <td>988.0</td>\n",
              "      <td>2.547571</td>\n",
              "      <td>1.080716</td>\n",
              "      <td>0.0</td>\n",
              "      <td>2.0</td>\n",
              "      <td>2.0</td>\n",
              "      <td>4.0</td>\n",
              "      <td>4.0</td>\n",
              "    </tr>\n",
              "    <tr>\n",
              "      <th>Amount</th>\n",
              "      <td>988.0</td>\n",
              "      <td>3211.281377</td>\n",
              "      <td>2710.759455</td>\n",
              "      <td>250.0</td>\n",
              "      <td>1364.0</td>\n",
              "      <td>2302.5</td>\n",
              "      <td>3951.5</td>\n",
              "      <td>15945.0</td>\n",
              "    </tr>\n",
              "    <tr>\n",
              "      <th>Savings</th>\n",
              "      <td>988.0</td>\n",
              "      <td>2.108300</td>\n",
              "      <td>1.581111</td>\n",
              "      <td>1.0</td>\n",
              "      <td>1.0</td>\n",
              "      <td>1.0</td>\n",
              "      <td>3.0</td>\n",
              "      <td>5.0</td>\n",
              "    </tr>\n",
              "    <tr>\n",
              "      <th>Emploed</th>\n",
              "      <td>988.0</td>\n",
              "      <td>3.388664</td>\n",
              "      <td>1.201465</td>\n",
              "      <td>1.0</td>\n",
              "      <td>3.0</td>\n",
              "      <td>3.0</td>\n",
              "      <td>5.0</td>\n",
              "      <td>5.0</td>\n",
              "    </tr>\n",
              "    <tr>\n",
              "      <th>Installp</th>\n",
              "      <td>988.0</td>\n",
              "      <td>2.976721</td>\n",
              "      <td>1.120168</td>\n",
              "      <td>1.0</td>\n",
              "      <td>2.0</td>\n",
              "      <td>3.0</td>\n",
              "      <td>4.0</td>\n",
              "      <td>4.0</td>\n",
              "    </tr>\n",
              "    <tr>\n",
              "      <th>marital</th>\n",
              "      <td>988.0</td>\n",
              "      <td>2.683198</td>\n",
              "      <td>0.708782</td>\n",
              "      <td>1.0</td>\n",
              "      <td>2.0</td>\n",
              "      <td>3.0</td>\n",
              "      <td>3.0</td>\n",
              "      <td>4.0</td>\n",
              "    </tr>\n",
              "    <tr>\n",
              "      <th>Coapp</th>\n",
              "      <td>988.0</td>\n",
              "      <td>1.140688</td>\n",
              "      <td>0.473668</td>\n",
              "      <td>1.0</td>\n",
              "      <td>1.0</td>\n",
              "      <td>1.0</td>\n",
              "      <td>1.0</td>\n",
              "      <td>3.0</td>\n",
              "    </tr>\n",
              "    <tr>\n",
              "      <th>Resident</th>\n",
              "      <td>988.0</td>\n",
              "      <td>2.840081</td>\n",
              "      <td>1.106641</td>\n",
              "      <td>1.0</td>\n",
              "      <td>2.0</td>\n",
              "      <td>3.0</td>\n",
              "      <td>4.0</td>\n",
              "      <td>4.0</td>\n",
              "    </tr>\n",
              "    <tr>\n",
              "      <th>Property</th>\n",
              "      <td>988.0</td>\n",
              "      <td>2.348178</td>\n",
              "      <td>1.048097</td>\n",
              "      <td>1.0</td>\n",
              "      <td>1.0</td>\n",
              "      <td>2.0</td>\n",
              "      <td>3.0</td>\n",
              "      <td>4.0</td>\n",
              "    </tr>\n",
              "    <tr>\n",
              "      <th>Age</th>\n",
              "      <td>988.0</td>\n",
              "      <td>35.492915</td>\n",
              "      <td>11.371455</td>\n",
              "      <td>19.0</td>\n",
              "      <td>27.0</td>\n",
              "      <td>33.0</td>\n",
              "      <td>42.0</td>\n",
              "      <td>75.0</td>\n",
              "    </tr>\n",
              "    <tr>\n",
              "      <th>Other</th>\n",
              "      <td>988.0</td>\n",
              "      <td>2.686235</td>\n",
              "      <td>0.694991</td>\n",
              "      <td>1.0</td>\n",
              "      <td>3.0</td>\n",
              "      <td>3.0</td>\n",
              "      <td>3.0</td>\n",
              "      <td>3.0</td>\n",
              "    </tr>\n",
              "    <tr>\n",
              "      <th>housing</th>\n",
              "      <td>988.0</td>\n",
              "      <td>1.924089</td>\n",
              "      <td>0.530056</td>\n",
              "      <td>1.0</td>\n",
              "      <td>2.0</td>\n",
              "      <td>2.0</td>\n",
              "      <td>2.0</td>\n",
              "      <td>3.0</td>\n",
              "    </tr>\n",
              "    <tr>\n",
              "      <th>Existcr</th>\n",
              "      <td>988.0</td>\n",
              "      <td>1.405870</td>\n",
              "      <td>0.578442</td>\n",
              "      <td>1.0</td>\n",
              "      <td>1.0</td>\n",
              "      <td>1.0</td>\n",
              "      <td>2.0</td>\n",
              "      <td>4.0</td>\n",
              "    </tr>\n",
              "    <tr>\n",
              "      <th>Job</th>\n",
              "      <td>988.0</td>\n",
              "      <td>2.896761</td>\n",
              "      <td>0.645670</td>\n",
              "      <td>1.0</td>\n",
              "      <td>3.0</td>\n",
              "      <td>3.0</td>\n",
              "      <td>3.0</td>\n",
              "      <td>4.0</td>\n",
              "    </tr>\n",
              "    <tr>\n",
              "      <th>Depends</th>\n",
              "      <td>988.0</td>\n",
              "      <td>1.154858</td>\n",
              "      <td>0.361953</td>\n",
              "      <td>1.0</td>\n",
              "      <td>1.0</td>\n",
              "      <td>1.0</td>\n",
              "      <td>1.0</td>\n",
              "      <td>2.0</td>\n",
              "    </tr>\n",
              "    <tr>\n",
              "      <th>Telephone</th>\n",
              "      <td>988.0</td>\n",
              "      <td>1.397773</td>\n",
              "      <td>0.489686</td>\n",
              "      <td>1.0</td>\n",
              "      <td>1.0</td>\n",
              "      <td>1.0</td>\n",
              "      <td>2.0</td>\n",
              "      <td>2.0</td>\n",
              "    </tr>\n",
              "    <tr>\n",
              "      <th>Foreign</th>\n",
              "      <td>988.0</td>\n",
              "      <td>1.036437</td>\n",
              "      <td>0.187470</td>\n",
              "      <td>1.0</td>\n",
              "      <td>1.0</td>\n",
              "      <td>1.0</td>\n",
              "      <td>1.0</td>\n",
              "      <td>2.0</td>\n",
              "    </tr>\n",
              "    <tr>\n",
              "      <th>Bad</th>\n",
              "      <td>988.0</td>\n",
              "      <td>0.298583</td>\n",
              "      <td>0.457868</td>\n",
              "      <td>0.0</td>\n",
              "      <td>0.0</td>\n",
              "      <td>0.0</td>\n",
              "      <td>1.0</td>\n",
              "      <td>1.0</td>\n",
              "    </tr>\n",
              "    <tr>\n",
              "      <th>Good</th>\n",
              "      <td>988.0</td>\n",
              "      <td>0.701417</td>\n",
              "      <td>0.457868</td>\n",
              "      <td>0.0</td>\n",
              "      <td>0.0</td>\n",
              "      <td>1.0</td>\n",
              "      <td>1.0</td>\n",
              "      <td>1.0</td>\n",
              "    </tr>\n",
              "  </tbody>\n",
              "</table>\n",
              "</div>\n",
              "      <button class=\"colab-df-convert\" onclick=\"convertToInteractive('df-997c818d-88d1-46d4-99c5-5fd06b6c06e8')\"\n",
              "              title=\"Convert this dataframe to an interactive table.\"\n",
              "              style=\"display:none;\">\n",
              "        \n",
              "  <svg xmlns=\"http://www.w3.org/2000/svg\" height=\"24px\"viewBox=\"0 0 24 24\"\n",
              "       width=\"24px\">\n",
              "    <path d=\"M0 0h24v24H0V0z\" fill=\"none\"/>\n",
              "    <path d=\"M18.56 5.44l.94 2.06.94-2.06 2.06-.94-2.06-.94-.94-2.06-.94 2.06-2.06.94zm-11 1L8.5 8.5l.94-2.06 2.06-.94-2.06-.94L8.5 2.5l-.94 2.06-2.06.94zm10 10l.94 2.06.94-2.06 2.06-.94-2.06-.94-.94-2.06-.94 2.06-2.06.94z\"/><path d=\"M17.41 7.96l-1.37-1.37c-.4-.4-.92-.59-1.43-.59-.52 0-1.04.2-1.43.59L10.3 9.45l-7.72 7.72c-.78.78-.78 2.05 0 2.83L4 21.41c.39.39.9.59 1.41.59.51 0 1.02-.2 1.41-.59l7.78-7.78 2.81-2.81c.8-.78.8-2.07 0-2.86zM5.41 20L4 18.59l7.72-7.72 1.47 1.35L5.41 20z\"/>\n",
              "  </svg>\n",
              "      </button>\n",
              "      \n",
              "  <style>\n",
              "    .colab-df-container {\n",
              "      display:flex;\n",
              "      flex-wrap:wrap;\n",
              "      gap: 12px;\n",
              "    }\n",
              "\n",
              "    .colab-df-convert {\n",
              "      background-color: #E8F0FE;\n",
              "      border: none;\n",
              "      border-radius: 50%;\n",
              "      cursor: pointer;\n",
              "      display: none;\n",
              "      fill: #1967D2;\n",
              "      height: 32px;\n",
              "      padding: 0 0 0 0;\n",
              "      width: 32px;\n",
              "    }\n",
              "\n",
              "    .colab-df-convert:hover {\n",
              "      background-color: #E2EBFA;\n",
              "      box-shadow: 0px 1px 2px rgba(60, 64, 67, 0.3), 0px 1px 3px 1px rgba(60, 64, 67, 0.15);\n",
              "      fill: #174EA6;\n",
              "    }\n",
              "\n",
              "    [theme=dark] .colab-df-convert {\n",
              "      background-color: #3B4455;\n",
              "      fill: #D2E3FC;\n",
              "    }\n",
              "\n",
              "    [theme=dark] .colab-df-convert:hover {\n",
              "      background-color: #434B5C;\n",
              "      box-shadow: 0px 1px 3px 1px rgba(0, 0, 0, 0.15);\n",
              "      filter: drop-shadow(0px 1px 2px rgba(0, 0, 0, 0.3));\n",
              "      fill: #FFFFFF;\n",
              "    }\n",
              "  </style>\n",
              "\n",
              "      <script>\n",
              "        const buttonEl =\n",
              "          document.querySelector('#df-997c818d-88d1-46d4-99c5-5fd06b6c06e8 button.colab-df-convert');\n",
              "        buttonEl.style.display =\n",
              "          google.colab.kernel.accessAllowed ? 'block' : 'none';\n",
              "\n",
              "        async function convertToInteractive(key) {\n",
              "          const element = document.querySelector('#df-997c818d-88d1-46d4-99c5-5fd06b6c06e8');\n",
              "          const dataTable =\n",
              "            await google.colab.kernel.invokeFunction('convertToInteractive',\n",
              "                                                     [key], {});\n",
              "          if (!dataTable) return;\n",
              "\n",
              "          const docLinkHtml = 'Like what you see? Visit the ' +\n",
              "            '<a target=\"_blank\" href=https://colab.research.google.com/notebooks/data_table.ipynb>data table notebook</a>'\n",
              "            + ' to learn more about interactive tables.';\n",
              "          element.innerHTML = '';\n",
              "          dataTable['output_type'] = 'display_data';\n",
              "          await google.colab.output.renderOutput(dataTable, element);\n",
              "          const docLink = document.createElement('div');\n",
              "          docLink.innerHTML = docLinkHtml;\n",
              "          element.appendChild(docLink);\n",
              "        }\n",
              "      </script>\n",
              "    </div>\n",
              "  </div>\n",
              "  "
            ]
          },
          "metadata": {},
          "execution_count": 8
        }
      ]
    },
    {
      "cell_type": "code",
      "source": [
        "creditDf1.columns"
      ],
      "metadata": {
        "colab": {
          "base_uri": "https://localhost:8080/"
        },
        "id": "1gKjbi0eSv_H",
        "outputId": "e37c74d0-7a53-4e71-897d-76fa5d8c6f85"
      },
      "execution_count": 9,
      "outputs": [
        {
          "output_type": "execute_result",
          "data": {
            "text/plain": [
              "Index(['Checking', 'Duration', 'History', 'Purpose', 'Amount', 'Savings',\n",
              "       'Emploed', 'Installp', 'marital', 'Coapp', 'Resident', 'Property',\n",
              "       'Age', 'Other', 'housing', 'Existcr', 'Job', 'Depends', 'Telephone',\n",
              "       'Foreign', 'Bad', 'Good'],\n",
              "      dtype='object')"
            ]
          },
          "metadata": {},
          "execution_count": 9
        }
      ]
    },
    {
      "cell_type": "code",
      "source": [
        "cat_columns = ['Checking', 'History', 'Purpose', 'Savings', 'Emploed', 'marital', 'Coapp', 'Property', \n",
        "               'Other', 'housing', 'Job', 'Depends', 'Telephone', 'Foreign']\n",
        "for cat in cat_columns:\n",
        "  print('{} : {}'.format(cat, set(creditDf1[cat].unique().tolist())))"
      ],
      "metadata": {
        "colab": {
          "base_uri": "https://localhost:8080/"
        },
        "id": "ww67DLL4S7Tn",
        "outputId": "9e8506b0-2944-4c43-e20f-827348cf527e"
      },
      "execution_count": 10,
      "outputs": [
        {
          "output_type": "stream",
          "name": "stdout",
          "text": [
            "Checking : {1, 2, 3, 4}\n",
            "History : {0, 1, 2, 3, 4}\n",
            "Purpose : {0, 1, 2, 3, 4, 5, 6, 8, 9}\n",
            "Savings : {1, 2, 3, 4, 5}\n",
            "Emploed : {1, 2, 3, 4, 5}\n",
            "marital : {1, 2, 3, 4}\n",
            "Coapp : {1, 2, 3}\n",
            "Property : {1, 2, 3, 4}\n",
            "Other : {1, 2, 3}\n",
            "housing : {1, 2, 3}\n",
            "Job : {1, 2, 3, 4}\n",
            "Depends : {1, 2}\n",
            "Telephone : {1, 2}\n",
            "Foreign : {1, 2}\n"
          ]
        }
      ]
    },
    {
      "cell_type": "code",
      "source": [
        "for cat in cat_columns:\n",
        "  creditDf1[cat] = creditDf1[cat].astype('object')"
      ],
      "metadata": {
        "id": "SVd5s52JTCvr"
      },
      "execution_count": 11,
      "outputs": []
    },
    {
      "cell_type": "code",
      "source": [
        "creditDf1.info()"
      ],
      "metadata": {
        "colab": {
          "base_uri": "https://localhost:8080/"
        },
        "id": "Zhc_-6u_-27X",
        "outputId": "bf216c2c-e4de-4170-9fe5-911837ded398"
      },
      "execution_count": 12,
      "outputs": [
        {
          "output_type": "stream",
          "name": "stdout",
          "text": [
            "<class 'pandas.core.frame.DataFrame'>\n",
            "Int64Index: 988 entries, 0 to 999\n",
            "Data columns (total 22 columns):\n",
            " #   Column     Non-Null Count  Dtype \n",
            "---  ------     --------------  ----- \n",
            " 0   Checking   988 non-null    object\n",
            " 1   Duration   988 non-null    int64 \n",
            " 2   History    988 non-null    object\n",
            " 3   Purpose    988 non-null    object\n",
            " 4   Amount     988 non-null    int64 \n",
            " 5   Savings    988 non-null    object\n",
            " 6   Emploed    988 non-null    object\n",
            " 7   Installp   988 non-null    int64 \n",
            " 8   marital    988 non-null    object\n",
            " 9   Coapp      988 non-null    object\n",
            " 10  Resident   988 non-null    int64 \n",
            " 11  Property   988 non-null    object\n",
            " 12  Age        988 non-null    int64 \n",
            " 13  Other      988 non-null    object\n",
            " 14  housing    988 non-null    object\n",
            " 15  Existcr    988 non-null    int64 \n",
            " 16  Job        988 non-null    object\n",
            " 17  Depends    988 non-null    object\n",
            " 18  Telephone  988 non-null    object\n",
            " 19  Foreign    988 non-null    object\n",
            " 20  Bad        988 non-null    int64 \n",
            " 21  Good       988 non-null    int64 \n",
            "dtypes: int64(8), object(14)\n",
            "memory usage: 177.5+ KB\n"
          ]
        }
      ]
    },
    {
      "cell_type": "code",
      "source": [
        "creditDf1.groupby('Good').mean()"
      ],
      "metadata": {
        "colab": {
          "base_uri": "https://localhost:8080/",
          "height": 143
        },
        "id": "ZJh3MsHd3Wqn",
        "outputId": "cc2681e6-e76c-4880-959e-ac88b57b5479"
      },
      "execution_count": 13,
      "outputs": [
        {
          "output_type": "execute_result",
          "data": {
            "text/plain": [
              "       Duration       Amount  Installp  Resident        Age   Existcr  Bad\n",
              "Good                                                                      \n",
              "0     24.671186  3808.840678  3.108475  2.847458  33.861017  1.362712  1.0\n",
              "1     19.101010  2956.909091  2.920635  2.836941  36.187590  1.424242  0.0"
            ],
            "text/html": [
              "\n",
              "  <div id=\"df-8a640742-74f4-455b-8399-aedfa37d1820\">\n",
              "    <div class=\"colab-df-container\">\n",
              "      <div>\n",
              "<style scoped>\n",
              "    .dataframe tbody tr th:only-of-type {\n",
              "        vertical-align: middle;\n",
              "    }\n",
              "\n",
              "    .dataframe tbody tr th {\n",
              "        vertical-align: top;\n",
              "    }\n",
              "\n",
              "    .dataframe thead th {\n",
              "        text-align: right;\n",
              "    }\n",
              "</style>\n",
              "<table border=\"1\" class=\"dataframe\">\n",
              "  <thead>\n",
              "    <tr style=\"text-align: right;\">\n",
              "      <th></th>\n",
              "      <th>Duration</th>\n",
              "      <th>Amount</th>\n",
              "      <th>Installp</th>\n",
              "      <th>Resident</th>\n",
              "      <th>Age</th>\n",
              "      <th>Existcr</th>\n",
              "      <th>Bad</th>\n",
              "    </tr>\n",
              "    <tr>\n",
              "      <th>Good</th>\n",
              "      <th></th>\n",
              "      <th></th>\n",
              "      <th></th>\n",
              "      <th></th>\n",
              "      <th></th>\n",
              "      <th></th>\n",
              "      <th></th>\n",
              "    </tr>\n",
              "  </thead>\n",
              "  <tbody>\n",
              "    <tr>\n",
              "      <th>0</th>\n",
              "      <td>24.671186</td>\n",
              "      <td>3808.840678</td>\n",
              "      <td>3.108475</td>\n",
              "      <td>2.847458</td>\n",
              "      <td>33.861017</td>\n",
              "      <td>1.362712</td>\n",
              "      <td>1.0</td>\n",
              "    </tr>\n",
              "    <tr>\n",
              "      <th>1</th>\n",
              "      <td>19.101010</td>\n",
              "      <td>2956.909091</td>\n",
              "      <td>2.920635</td>\n",
              "      <td>2.836941</td>\n",
              "      <td>36.187590</td>\n",
              "      <td>1.424242</td>\n",
              "      <td>0.0</td>\n",
              "    </tr>\n",
              "  </tbody>\n",
              "</table>\n",
              "</div>\n",
              "      <button class=\"colab-df-convert\" onclick=\"convertToInteractive('df-8a640742-74f4-455b-8399-aedfa37d1820')\"\n",
              "              title=\"Convert this dataframe to an interactive table.\"\n",
              "              style=\"display:none;\">\n",
              "        \n",
              "  <svg xmlns=\"http://www.w3.org/2000/svg\" height=\"24px\"viewBox=\"0 0 24 24\"\n",
              "       width=\"24px\">\n",
              "    <path d=\"M0 0h24v24H0V0z\" fill=\"none\"/>\n",
              "    <path d=\"M18.56 5.44l.94 2.06.94-2.06 2.06-.94-2.06-.94-.94-2.06-.94 2.06-2.06.94zm-11 1L8.5 8.5l.94-2.06 2.06-.94-2.06-.94L8.5 2.5l-.94 2.06-2.06.94zm10 10l.94 2.06.94-2.06 2.06-.94-2.06-.94-.94-2.06-.94 2.06-2.06.94z\"/><path d=\"M17.41 7.96l-1.37-1.37c-.4-.4-.92-.59-1.43-.59-.52 0-1.04.2-1.43.59L10.3 9.45l-7.72 7.72c-.78.78-.78 2.05 0 2.83L4 21.41c.39.39.9.59 1.41.59.51 0 1.02-.2 1.41-.59l7.78-7.78 2.81-2.81c.8-.78.8-2.07 0-2.86zM5.41 20L4 18.59l7.72-7.72 1.47 1.35L5.41 20z\"/>\n",
              "  </svg>\n",
              "      </button>\n",
              "      \n",
              "  <style>\n",
              "    .colab-df-container {\n",
              "      display:flex;\n",
              "      flex-wrap:wrap;\n",
              "      gap: 12px;\n",
              "    }\n",
              "\n",
              "    .colab-df-convert {\n",
              "      background-color: #E8F0FE;\n",
              "      border: none;\n",
              "      border-radius: 50%;\n",
              "      cursor: pointer;\n",
              "      display: none;\n",
              "      fill: #1967D2;\n",
              "      height: 32px;\n",
              "      padding: 0 0 0 0;\n",
              "      width: 32px;\n",
              "    }\n",
              "\n",
              "    .colab-df-convert:hover {\n",
              "      background-color: #E2EBFA;\n",
              "      box-shadow: 0px 1px 2px rgba(60, 64, 67, 0.3), 0px 1px 3px 1px rgba(60, 64, 67, 0.15);\n",
              "      fill: #174EA6;\n",
              "    }\n",
              "\n",
              "    [theme=dark] .colab-df-convert {\n",
              "      background-color: #3B4455;\n",
              "      fill: #D2E3FC;\n",
              "    }\n",
              "\n",
              "    [theme=dark] .colab-df-convert:hover {\n",
              "      background-color: #434B5C;\n",
              "      box-shadow: 0px 1px 3px 1px rgba(0, 0, 0, 0.15);\n",
              "      filter: drop-shadow(0px 1px 2px rgba(0, 0, 0, 0.3));\n",
              "      fill: #FFFFFF;\n",
              "    }\n",
              "  </style>\n",
              "\n",
              "      <script>\n",
              "        const buttonEl =\n",
              "          document.querySelector('#df-8a640742-74f4-455b-8399-aedfa37d1820 button.colab-df-convert');\n",
              "        buttonEl.style.display =\n",
              "          google.colab.kernel.accessAllowed ? 'block' : 'none';\n",
              "\n",
              "        async function convertToInteractive(key) {\n",
              "          const element = document.querySelector('#df-8a640742-74f4-455b-8399-aedfa37d1820');\n",
              "          const dataTable =\n",
              "            await google.colab.kernel.invokeFunction('convertToInteractive',\n",
              "                                                     [key], {});\n",
              "          if (!dataTable) return;\n",
              "\n",
              "          const docLinkHtml = 'Like what you see? Visit the ' +\n",
              "            '<a target=\"_blank\" href=https://colab.research.google.com/notebooks/data_table.ipynb>data table notebook</a>'\n",
              "            + ' to learn more about interactive tables.';\n",
              "          element.innerHTML = '';\n",
              "          dataTable['output_type'] = 'display_data';\n",
              "          await google.colab.output.renderOutput(dataTable, element);\n",
              "          const docLink = document.createElement('div');\n",
              "          docLink.innerHTML = docLinkHtml;\n",
              "          element.appendChild(docLink);\n",
              "        }\n",
              "      </script>\n",
              "    </div>\n",
              "  </div>\n",
              "  "
            ]
          },
          "metadata": {},
          "execution_count": 13
        }
      ]
    },
    {
      "cell_type": "markdown",
      "source": [
        "####Detecting and removing the outliers"
      ],
      "metadata": {
        "id": "MAXpvcTuWvon"
      }
    },
    {
      "cell_type": "code",
      "source": [
        "def check_imbalanced_data(dataF):\n",
        "  sns.countplot(x = 'Good', data = dataF, palette = 'hls')\n",
        "  plt.show()"
      ],
      "metadata": {
        "id": "bWrVFxq6FKFq"
      },
      "execution_count": 14,
      "outputs": []
    },
    {
      "cell_type": "code",
      "source": [
        "'''\n",
        "delete_outlier: function to delete outliers\n",
        "args: num_col - numerical column whose outliers needs to be deleted\n",
        "      dFrame - data frame from which the column is picked\n",
        "returns: data frame after deleting the outliers\n",
        "'''\n",
        "def delete_outlier(num_col, dFrame):\n",
        "  for x in [num_col]:\n",
        "    q75,q25 = np.percentile(dFrame.loc[:,x],[75,25])\n",
        "    intr_qr = q75-q25\n",
        " \n",
        "    max = q75+(2*intr_qr)\n",
        "    min = q25-(2*intr_qr)\n",
        " \n",
        "    return dFrame[dFrame.loc[dFrame[x] > min,x] & dFrame.loc[dFrame[x] < max,x]]"
      ],
      "metadata": {
        "id": "KslnOvy6Zb26"
      },
      "execution_count": 15,
      "outputs": []
    },
    {
      "cell_type": "code",
      "source": [
        "'''\n",
        "boxplot_func: function to display box plots\n",
        "args: dFrame - data frame to pick attributes for box plots\n",
        "      fea_list - list of total number features whose box plots needs to be displayed\n",
        "'''\n",
        "num_columns = ['Duration', 'Amount', 'Installp', 'Resident', 'Age', 'Existcr']\n",
        "def boxplot_func(dFrame, fea_list):\n",
        "  f, ax = plt.subplots(1, len(fea_list), figsize=(25,10))\n",
        "  for i in range(len(fea_list)):\n",
        "    sns.boxplot(data = dFrame[fea_list[i]], ax = ax[i])\n",
        "    ax[i].set_xlabel(fea_list[i])"
      ],
      "metadata": {
        "id": "fzATiTb_TPpK"
      },
      "execution_count": 16,
      "outputs": []
    },
    {
      "cell_type": "code",
      "source": [
        "check_imbalanced_data(creditDf1)"
      ],
      "metadata": {
        "colab": {
          "base_uri": "https://localhost:8080/",
          "height": 279
        },
        "id": "kL87XUNXGL-f",
        "outputId": "677b8213-c8d1-4ca7-cb36-c9e88f42359e"
      },
      "execution_count": 17,
      "outputs": [
        {
          "output_type": "display_data",
          "data": {
            "text/plain": [
              "<Figure size 432x288 with 1 Axes>"
            ],
            "image/png": "[encoded data removed]"
          },
          "metadata": {
            "needs_background": "light"
          }
        }
      ]
    },
    {
      "cell_type": "code",
      "source": [
        "#plotting box plot for the whole data set\n",
        "boxplot_func(creditDf1, num_columns)\n",
        "plt.show()"
      ],
      "metadata": {
        "colab": {
          "base_uri": "https://localhost:8080/",
          "height": 495
        },
        "id": "oBEJR3cZYU_G",
        "outputId": "53953807-c4c3-4664-c825-25b94c775a04"
      },
      "execution_count": 18,
      "outputs": [
        {
          "output_type": "display_data",
          "data": {
            "text/plain": [
              "<Figure size 1800x720 with 6 Axes>"
            ],
            "image/png": "[encoded data removed]"
          },
          "metadata": {
            "needs_background": "light"
          }
        }
      ]
    },
    {
      "cell_type": "markdown",
      "source": [
        "###Q1 - Spliting the dataset into two subsets"
      ],
      "metadata": {
        "id": "UWLgDP5ck6RO"
      }
    },
    {
      "cell_type": "markdown",
      "source": [
        "####Divide into two subsets"
      ],
      "metadata": {
        "id": "LXoKBpWlOjPq"
      }
    },
    {
      "cell_type": "markdown",
      "source": [
        "#####Subset 1"
      ],
      "metadata": {
        "id": "-eQZGZx_bUy6"
      }
    },
    {
      "cell_type": "code",
      "execution_count": 19,
      "metadata": {
        "colab": {
          "base_uri": "https://localhost:8080/",
          "height": 487
        },
        "id": "bAvQC9iyW9CA",
        "outputId": "7a9f9175-3e84-4d48-903c-ccf0b62fc858"
      },
      "outputs": [
        {
          "output_type": "execute_result",
          "data": {
            "text/plain": [
              "    Checking  Duration History Purpose  Amount Savings Emploed  Installp  \\\n",
              "0          1         6       4       3    1169       5       5         4   \n",
              "1          4        12       4       6    2096       1       4         2   \n",
              "2          4        12       2       3    3059       4       4         2   \n",
              "3          2        12       2       0    1295       1       2         3   \n",
              "4          2        12       2       3    1567       1       3         1   \n",
              "..       ...       ...     ...     ...     ...     ...     ...       ...   \n",
              "353        2         6       2       3     753       1       3         2   \n",
              "354        4        12       4       6    3565       5       2         2   \n",
              "355        4        12       2       0    2390       5       5         4   \n",
              "356        4        12       2       2    1736       1       4         3   \n",
              "357        4        12       2       3     804       1       5         4   \n",
              "\n",
              "    marital Coapp  ...  Age Other  housing Existcr Job  Depends Telephone  \\\n",
              "0         3     1  ...   67     3        2       2   3        1         2   \n",
              "1         3     1  ...   49     3        2       1   2        2         1   \n",
              "2         1     1  ...   61     3        2       1   2        1         1   \n",
              "3         2     1  ...   25     3        1       1   3        1         1   \n",
              "4         2     1  ...   22     3        2       1   3        1         2   \n",
              "..      ...   ...  ...  ...   ...      ...     ...  ..      ...       ...   \n",
              "353       2     3  ...   64     3        2       1   3        1         1   \n",
              "354       3     1  ...   37     3        2       2   2        2         1   \n",
              "355       3     1  ...   50     3        2       1   3        1         2   \n",
              "356       2     1  ...   31     3        2       1   2        1         1   \n",
              "357       3     1  ...   38     3        2       1   3        1         1   \n",
              "\n",
              "    Foreign Bad Good  \n",
              "0         1   0    1  \n",
              "1         1   0    1  \n",
              "2         1   0    1  \n",
              "3         1   1    0  \n",
              "4         1   0    1  \n",
              "..      ...  ..  ...  \n",
              "353       1   0    1  \n",
              "354       1   0    1  \n",
              "355       1   0    1  \n",
              "356       1   0    1  \n",
              "357       1   0    1  \n",
              "\n",
              "[358 rows x 22 columns]"
            ],
            "text/html": [
              "\n",
              "  <div id=\"df-cb3477d4-2c1b-44a7-bda6-ae5a4b1bad05\">\n",
              "    <div class=\"colab-df-container\">\n",
              "      <div>\n",
              "<style scoped>\n",
              "    .dataframe tbody tr th:only-of-type {\n",
              "        vertical-align: middle;\n",
              "    }\n",
              "\n",
              "    .dataframe tbody tr th {\n",
              "        vertical-align: top;\n",
              "    }\n",
              "\n",
              "    .dataframe thead th {\n",
              "        text-align: right;\n",
              "    }\n",
              "</style>\n",
              "<table border=\"1\" class=\"dataframe\">\n",
              "  <thead>\n",
              "    <tr style=\"text-align: right;\">\n",
              "      <th></th>\n",
              "      <th>Checking</th>\n",
              "      <th>Duration</th>\n",
              "      <th>History</th>\n",
              "      <th>Purpose</th>\n",
              "      <th>Amount</th>\n",
              "      <th>Savings</th>\n",
              "      <th>Emploed</th>\n",
              "      <th>Installp</th>\n",
              "      <th>marital</th>\n",
              "      <th>Coapp</th>\n",
              "      <th>...</th>\n",
              "      <th>Age</th>\n",
              "      <th>Other</th>\n",
              "      <th>housing</th>\n",
              "      <th>Existcr</th>\n",
              "      <th>Job</th>\n",
              "      <th>Depends</th>\n",
              "      <th>Telephone</th>\n",
              "      <th>Foreign</th>\n",
              "      <th>Bad</th>\n",
              "      <th>Good</th>\n",
              "    </tr>\n",
              "  </thead>\n",
              "  <tbody>\n",
              "    <tr>\n",
              "      <th>0</th>\n",
              "      <td>1</td>\n",
              "      <td>6</td>\n",
              "      <td>4</td>\n",
              "      <td>3</td>\n",
              "      <td>1169</td>\n",
              "      <td>5</td>\n",
              "      <td>5</td>\n",
              "      <td>4</td>\n",
              "      <td>3</td>\n",
              "      <td>1</td>\n",
              "      <td>...</td>\n",
              "      <td>67</td>\n",
              "      <td>3</td>\n",
              "      <td>2</td>\n",
              "      <td>2</td>\n",
              "      <td>3</td>\n",
              "      <td>1</td>\n",
              "      <td>2</td>\n",
              "      <td>1</td>\n",
              "      <td>0</td>\n",
              "      <td>1</td>\n",
              "    </tr>\n",
              "    <tr>\n",
              "      <th>1</th>\n",
              "      <td>4</td>\n",
              "      <td>12</td>\n",
              "      <td>4</td>\n",
              "      <td>6</td>\n",
              "      <td>2096</td>\n",
              "      <td>1</td>\n",
              "      <td>4</td>\n",
              "      <td>2</td>\n",
              "      <td>3</td>\n",
              "      <td>1</td>\n",
              "      <td>...</td>\n",
              "      <td>49</td>\n",
              "      <td>3</td>\n",
              "      <td>2</td>\n",
              "      <td>1</td>\n",
              "      <td>2</td>\n",
              "      <td>2</td>\n",
              "      <td>1</td>\n",
              "      <td>1</td>\n",
              "      <td>0</td>\n",
              "      <td>1</td>\n",
              "    </tr>\n",
              "    <tr>\n",
              "      <th>2</th>\n",
              "      <td>4</td>\n",
              "      <td>12</td>\n",
              "      <td>2</td>\n",
              "      <td>3</td>\n",
              "      <td>3059</td>\n",
              "      <td>4</td>\n",
              "      <td>4</td>\n",
              "      <td>2</td>\n",
              "      <td>1</td>\n",
              "      <td>1</td>\n",
              "      <td>...</td>\n",
              "      <td>61</td>\n",
              "      <td>3</td>\n",
              "      <td>2</td>\n",
              "      <td>1</td>\n",
              "      <td>2</td>\n",
              "      <td>1</td>\n",
              "      <td>1</td>\n",
              "      <td>1</td>\n",
              "      <td>0</td>\n",
              "      <td>1</td>\n",
              "    </tr>\n",
              "    <tr>\n",
              "      <th>3</th>\n",
              "      <td>2</td>\n",
              "      <td>12</td>\n",
              "      <td>2</td>\n",
              "      <td>0</td>\n",
              "      <td>1295</td>\n",
              "      <td>1</td>\n",
              "      <td>2</td>\n",
              "      <td>3</td>\n",
              "      <td>2</td>\n",
              "      <td>1</td>\n",
              "      <td>...</td>\n",
              "      <td>25</td>\n",
              "      <td>3</td>\n",
              "      <td>1</td>\n",
              "      <td>1</td>\n",
              "      <td>3</td>\n",
              "      <td>1</td>\n",
              "      <td>1</td>\n",
              "      <td>1</td>\n",
              "      <td>1</td>\n",
              "      <td>0</td>\n",
              "    </tr>\n",
              "    <tr>\n",
              "      <th>4</th>\n",
              "      <td>2</td>\n",
              "      <td>12</td>\n",
              "      <td>2</td>\n",
              "      <td>3</td>\n",
              "      <td>1567</td>\n",
              "      <td>1</td>\n",
              "      <td>3</td>\n",
              "      <td>1</td>\n",
              "      <td>2</td>\n",
              "      <td>1</td>\n",
              "      <td>...</td>\n",
              "      <td>22</td>\n",
              "      <td>3</td>\n",
              "      <td>2</td>\n",
              "      <td>1</td>\n",
              "      <td>3</td>\n",
              "      <td>1</td>\n",
              "      <td>2</td>\n",
              "      <td>1</td>\n",
              "      <td>0</td>\n",
              "      <td>1</td>\n",
              "    </tr>\n",
              "    <tr>\n",
              "      <th>...</th>\n",
              "      <td>...</td>\n",
              "      <td>...</td>\n",
              "      <td>...</td>\n",
              "      <td>...</td>\n",
              "      <td>...</td>\n",
              "      <td>...</td>\n",
              "      <td>...</td>\n",
              "      <td>...</td>\n",
              "      <td>...</td>\n",
              "      <td>...</td>\n",
              "      <td>...</td>\n",
              "      <td>...</td>\n",
              "      <td>...</td>\n",
              "      <td>...</td>\n",
              "      <td>...</td>\n",
              "      <td>...</td>\n",
              "      <td>...</td>\n",
              "      <td>...</td>\n",
              "      <td>...</td>\n",
              "      <td>...</td>\n",
              "      <td>...</td>\n",
              "    </tr>\n",
              "    <tr>\n",
              "      <th>353</th>\n",
              "      <td>2</td>\n",
              "      <td>6</td>\n",
              "      <td>2</td>\n",
              "      <td>3</td>\n",
              "      <td>753</td>\n",
              "      <td>1</td>\n",
              "      <td>3</td>\n",
              "      <td>2</td>\n",
              "      <td>2</td>\n",
              "      <td>3</td>\n",
              "      <td>...</td>\n",
              "      <td>64</td>\n",
              "      <td>3</td>\n",
              "      <td>2</td>\n",
              "      <td>1</td>\n",
              "      <td>3</td>\n",
              "      <td>1</td>\n",
              "      <td>1</td>\n",
              "      <td>1</td>\n",
              "      <td>0</td>\n",
              "      <td>1</td>\n",
              "    </tr>\n",
              "    <tr>\n",
              "      <th>354</th>\n",
              "      <td>4</td>\n",
              "      <td>12</td>\n",
              "      <td>4</td>\n",
              "      <td>6</td>\n",
              "      <td>3565</td>\n",
              "      <td>5</td>\n",
              "      <td>2</td>\n",
              "      <td>2</td>\n",
              "      <td>3</td>\n",
              "      <td>1</td>\n",
              "      <td>...</td>\n",
              "      <td>37</td>\n",
              "      <td>3</td>\n",
              "      <td>2</td>\n",
              "      <td>2</td>\n",
              "      <td>2</td>\n",
              "      <td>2</td>\n",
              "      <td>1</td>\n",
              "      <td>1</td>\n",
              "      <td>0</td>\n",
              "      <td>1</td>\n",
              "    </tr>\n",
              "    <tr>\n",
              "      <th>355</th>\n",
              "      <td>4</td>\n",
              "      <td>12</td>\n",
              "      <td>2</td>\n",
              "      <td>0</td>\n",
              "      <td>2390</td>\n",
              "      <td>5</td>\n",
              "      <td>5</td>\n",
              "      <td>4</td>\n",
              "      <td>3</td>\n",
              "      <td>1</td>\n",
              "      <td>...</td>\n",
              "      <td>50</td>\n",
              "      <td>3</td>\n",
              "      <td>2</td>\n",
              "      <td>1</td>\n",
              "      <td>3</td>\n",
              "      <td>1</td>\n",
              "      <td>2</td>\n",
              "      <td>1</td>\n",
              "      <td>0</td>\n",
              "      <td>1</td>\n",
              "    </tr>\n",
              "    <tr>\n",
              "      <th>356</th>\n",
              "      <td>4</td>\n",
              "      <td>12</td>\n",
              "      <td>2</td>\n",
              "      <td>2</td>\n",
              "      <td>1736</td>\n",
              "      <td>1</td>\n",
              "      <td>4</td>\n",
              "      <td>3</td>\n",
              "      <td>2</td>\n",
              "      <td>1</td>\n",
              "      <td>...</td>\n",
              "      <td>31</td>\n",
              "      <td>3</td>\n",
              "      <td>2</td>\n",
              "      <td>1</td>\n",
              "      <td>2</td>\n",
              "      <td>1</td>\n",
              "      <td>1</td>\n",
              "      <td>1</td>\n",
              "      <td>0</td>\n",
              "      <td>1</td>\n",
              "    </tr>\n",
              "    <tr>\n",
              "      <th>357</th>\n",
              "      <td>4</td>\n",
              "      <td>12</td>\n",
              "      <td>2</td>\n",
              "      <td>3</td>\n",
              "      <td>804</td>\n",
              "      <td>1</td>\n",
              "      <td>5</td>\n",
              "      <td>4</td>\n",
              "      <td>3</td>\n",
              "      <td>1</td>\n",
              "      <td>...</td>\n",
              "      <td>38</td>\n",
              "      <td>3</td>\n",
              "      <td>2</td>\n",
              "      <td>1</td>\n",
              "      <td>3</td>\n",
              "      <td>1</td>\n",
              "      <td>1</td>\n",
              "      <td>1</td>\n",
              "      <td>0</td>\n",
              "      <td>1</td>\n",
              "    </tr>\n",
              "  </tbody>\n",
              "</table>\n",
              "<p>358 rows × 22 columns</p>\n",
              "</div>\n",
              "      <button class=\"colab-df-convert\" onclick=\"convertToInteractive('df-cb3477d4-2c1b-44a7-bda6-ae5a4b1bad05')\"\n",
              "              title=\"Convert this dataframe to an interactive table.\"\n",
              "              style=\"display:none;\">\n",
              "        \n",
              "  <svg xmlns=\"http://www.w3.org/2000/svg\" height=\"24px\"viewBox=\"0 0 24 24\"\n",
              "       width=\"24px\">\n",
              "    <path d=\"M0 0h24v24H0V0z\" fill=\"none\"/>\n",
              "    <path d=\"M18.56 5.44l.94 2.06.94-2.06 2.06-.94-2.06-.94-.94-2.06-.94 2.06-2.06.94zm-11 1L8.5 8.5l.94-2.06 2.06-.94-2.06-.94L8.5 2.5l-.94 2.06-2.06.94zm10 10l.94 2.06.94-2.06 2.06-.94-2.06-.94-.94-2.06-.94 2.06-2.06.94z\"/><path d=\"M17.41 7.96l-1.37-1.37c-.4-.4-.92-.59-1.43-.59-.52 0-1.04.2-1.43.59L10.3 9.45l-7.72 7.72c-.78.78-.78 2.05 0 2.83L4 21.41c.39.39.9.59 1.41.59.51 0 1.02-.2 1.41-.59l7.78-7.78 2.81-2.81c.8-.78.8-2.07 0-2.86zM5.41 20L4 18.59l7.72-7.72 1.47 1.35L5.41 20z\"/>\n",
              "  </svg>\n",
              "      </button>\n",
              "      \n",
              "  <style>\n",
              "    .colab-df-container {\n",
              "      display:flex;\n",
              "      flex-wrap:wrap;\n",
              "      gap: 12px;\n",
              "    }\n",
              "\n",
              "    .colab-df-convert {\n",
              "      background-color: #E8F0FE;\n",
              "      border: none;\n",
              "      border-radius: 50%;\n",
              "      cursor: pointer;\n",
              "      display: none;\n",
              "      fill: #1967D2;\n",
              "      height: 32px;\n",
              "      padding: 0 0 0 0;\n",
              "      width: 32px;\n",
              "    }\n",
              "\n",
              "    .colab-df-convert:hover {\n",
              "      background-color: #E2EBFA;\n",
              "      box-shadow: 0px 1px 2px rgba(60, 64, 67, 0.3), 0px 1px 3px 1px rgba(60, 64, 67, 0.15);\n",
              "      fill: #174EA6;\n",
              "    }\n",
              "\n",
              "    [theme=dark] .colab-df-convert {\n",
              "      background-color: #3B4455;\n",
              "      fill: #D2E3FC;\n",
              "    }\n",
              "\n",
              "    [theme=dark] .colab-df-convert:hover {\n",
              "      background-color: #434B5C;\n",
              "      box-shadow: 0px 1px 3px 1px rgba(0, 0, 0, 0.15);\n",
              "      filter: drop-shadow(0px 1px 2px rgba(0, 0, 0, 0.3));\n",
              "      fill: #FFFFFF;\n",
              "    }\n",
              "  </style>\n",
              "\n",
              "      <script>\n",
              "        const buttonEl =\n",
              "          document.querySelector('#df-cb3477d4-2c1b-44a7-bda6-ae5a4b1bad05 button.colab-df-convert');\n",
              "        buttonEl.style.display =\n",
              "          google.colab.kernel.accessAllowed ? 'block' : 'none';\n",
              "\n",
              "        async function convertToInteractive(key) {\n",
              "          const element = document.querySelector('#df-cb3477d4-2c1b-44a7-bda6-ae5a4b1bad05');\n",
              "          const dataTable =\n",
              "            await google.colab.kernel.invokeFunction('convertToInteractive',\n",
              "                                                     [key], {});\n",
              "          if (!dataTable) return;\n",
              "\n",
              "          const docLinkHtml = 'Like what you see? Visit the ' +\n",
              "            '<a target=\"_blank\" href=https://colab.research.google.com/notebooks/data_table.ipynb>data table notebook</a>'\n",
              "            + ' to learn more about interactive tables.';\n",
              "          element.innerHTML = '';\n",
              "          dataTable['output_type'] = 'display_data';\n",
              "          await google.colab.output.renderOutput(dataTable, element);\n",
              "          const docLink = document.createElement('div');\n",
              "          docLink.innerHTML = docLinkHtml;\n",
              "          element.appendChild(docLink);\n",
              "        }\n",
              "      </script>\n",
              "    </div>\n",
              "  </div>\n",
              "  "
            ]
          },
          "metadata": {},
          "execution_count": 19
        }
      ],
      "source": [
        "sub1 = creditDf1[creditDf1.Duration <= 12]\n",
        "sub1.reset_index(drop = True, inplace = True)\n",
        "sub1"
      ]
    },
    {
      "cell_type": "code",
      "source": [
        "check_imbalanced_data(sub1)"
      ],
      "metadata": {
        "colab": {
          "base_uri": "https://localhost:8080/",
          "height": 279
        },
        "id": "Vb121OdqGVOt",
        "outputId": "9b9687db-4943-4f2b-cf2d-bd05fe8eb83e"
      },
      "execution_count": 20,
      "outputs": [
        {
          "output_type": "display_data",
          "data": {
            "text/plain": [
              "<Figure size 432x288 with 1 Axes>"
            ],
            "image/png": "[encoded data removed]"
          },
          "metadata": {
            "needs_background": "light"
          }
        }
      ]
    },
    {
      "cell_type": "code",
      "source": [
        "#plotting box plot for subset 1\n",
        "boxplot_func(sub1, num_columns)\n",
        "plt.show()"
      ],
      "metadata": {
        "colab": {
          "base_uri": "https://localhost:8080/",
          "height": 495
        },
        "id": "WoZ02OYjQs3M",
        "outputId": "c7580dbf-d8eb-4513-9b09-aa2f5717ea61"
      },
      "execution_count": 21,
      "outputs": [
        {
          "output_type": "display_data",
          "data": {
            "text/plain": [
              "<Figure size 1800x720 with 6 Axes>"
            ],
            "image/png": "[encoded data removed]"
          },
          "metadata": {
            "needs_background": "light"
          }
        }
      ]
    },
    {
      "cell_type": "code",
      "source": [
        "sub1_no_outlier = delete_outlier('Amount', sub1) #deleting outliers for attribute 'Amount'"
      ],
      "metadata": {
        "id": "We2StRigTijV"
      },
      "execution_count": 22,
      "outputs": []
    },
    {
      "cell_type": "code",
      "source": [
        "sub1_no_outlier = delete_outlier('Existcr', sub1_no_outlier) #deleting outliers for attribute 'Existing credits'"
      ],
      "metadata": {
        "id": "DAYBobNBTjU6"
      },
      "execution_count": 23,
      "outputs": []
    },
    {
      "cell_type": "code",
      "source": [
        "sub1_no_outlier = delete_outlier('Age', sub1_no_outlier) #deleting outliers for attribute 'Age'"
      ],
      "metadata": {
        "id": "7YwXYYmYTwXj"
      },
      "execution_count": 24,
      "outputs": []
    },
    {
      "cell_type": "code",
      "source": [
        "boxplot_func(sub1_no_outlier, num_columns) #box plots of subset 1 after removing the outliers\n",
        "plt.show()"
      ],
      "metadata": {
        "colab": {
          "base_uri": "https://localhost:8080/",
          "height": 495
        },
        "id": "lBD7XLd3T2no",
        "outputId": "f5a7d169-fe82-440e-c095-1d6b1ab7979c"
      },
      "execution_count": 25,
      "outputs": [
        {
          "output_type": "display_data",
          "data": {
            "text/plain": [
              "<Figure size 1800x720 with 6 Axes>"
            ],
            "image/png": "[encoded data removed]"
          },
          "metadata": {
            "needs_background": "light"
          }
        }
      ]
    },
    {
      "cell_type": "markdown",
      "source": [
        "#####Subset 2"
      ],
      "metadata": {
        "id": "-6JKUFodbf8O"
      }
    },
    {
      "cell_type": "code",
      "execution_count": 26,
      "metadata": {
        "colab": {
          "base_uri": "https://localhost:8080/",
          "height": 487
        },
        "id": "hoTN1h6ZW9CD",
        "outputId": "ffdb6d74-5a8e-482b-f724-6d18515f9266"
      },
      "outputs": [
        {
          "output_type": "execute_result",
          "data": {
            "text/plain": [
              "    Checking  Duration History Purpose  Amount Savings Emploed  Installp  \\\n",
              "0          2        48       2       3    5951       1       3         2   \n",
              "1          1        42       2       2    7882       1       4         2   \n",
              "2          1        24       3       0    4870       1       3         3   \n",
              "3          4        36       2       6    9055       5       3         2   \n",
              "4          4        24       2       2    2835       3       5         3   \n",
              "..       ...       ...     ...     ...     ...     ...     ...       ...   \n",
              "625        1        18       2       3    1936       5       4         2   \n",
              "626        1        36       2       2    3959       1       1         4   \n",
              "627        1        30       2       1    3857       1       3         4   \n",
              "628        1        45       2       3    1845       1       3         4   \n",
              "629        2        45       4       1    4576       2       1         3   \n",
              "\n",
              "    marital Coapp  ...  Age Other  housing Existcr Job  Depends Telephone  \\\n",
              "0         2     1  ...   22     3        2       1   3        1         1   \n",
              "1         3     3  ...   45     3        3       1   3        2         1   \n",
              "2         3     1  ...   53     3        3       2   3        2         1   \n",
              "3         3     1  ...   35     3        3       1   2        2         2   \n",
              "4         3     1  ...   53     3        2       1   3        1         1   \n",
              "..      ...   ...  ...  ...   ...      ...     ...  ..      ...       ...   \n",
              "625       4     1  ...   23     3        1       2   2        1         1   \n",
              "626       3     1  ...   30     3        2       1   4        1         2   \n",
              "627       1     1  ...   40     3        2       1   4        1         2   \n",
              "628       3     1  ...   23     3        3       1   3        1         2   \n",
              "629       3     1  ...   27     3        2       1   3        1         1   \n",
              "\n",
              "    Foreign Bad Good  \n",
              "0         1   1    0  \n",
              "1         1   0    1  \n",
              "2         1   1    0  \n",
              "3         1   0    1  \n",
              "4         1   0    1  \n",
              "..      ...  ..  ...  \n",
              "625       1   0    1  \n",
              "626       1   0    1  \n",
              "627       1   0    1  \n",
              "628       1   1    0  \n",
              "629       1   0    1  \n",
              "\n",
              "[630 rows x 22 columns]"
            ],
            "text/html": [
              "\n",
              "  <div id=\"df-af7c7ac5-f1fe-4343-b15b-42cf4887d0f0\">\n",
              "    <div class=\"colab-df-container\">\n",
              "      <div>\n",
              "<style scoped>\n",
              "    .dataframe tbody tr th:only-of-type {\n",
              "        vertical-align: middle;\n",
              "    }\n",
              "\n",
              "    .dataframe tbody tr th {\n",
              "        vertical-align: top;\n",
              "    }\n",
              "\n",
              "    .dataframe thead th {\n",
              "        text-align: right;\n",
              "    }\n",
              "</style>\n",
              "<table border=\"1\" class=\"dataframe\">\n",
              "  <thead>\n",
              "    <tr style=\"text-align: right;\">\n",
              "      <th></th>\n",
              "      <th>Checking</th>\n",
              "      <th>Duration</th>\n",
              "      <th>History</th>\n",
              "      <th>Purpose</th>\n",
              "      <th>Amount</th>\n",
              "      <th>Savings</th>\n",
              "      <th>Emploed</th>\n",
              "      <th>Installp</th>\n",
              "      <th>marital</th>\n",
              "      <th>Coapp</th>\n",
              "      <th>...</th>\n",
              "      <th>Age</th>\n",
              "      <th>Other</th>\n",
              "      <th>housing</th>\n",
              "      <th>Existcr</th>\n",
              "      <th>Job</th>\n",
              "      <th>Depends</th>\n",
              "      <th>Telephone</th>\n",
              "      <th>Foreign</th>\n",
              "      <th>Bad</th>\n",
              "      <th>Good</th>\n",
              "    </tr>\n",
              "  </thead>\n",
              "  <tbody>\n",
              "    <tr>\n",
              "      <th>0</th>\n",
              "      <td>2</td>\n",
              "      <td>48</td>\n",
              "      <td>2</td>\n",
              "      <td>3</td>\n",
              "      <td>5951</td>\n",
              "      <td>1</td>\n",
              "      <td>3</td>\n",
              "      <td>2</td>\n",
              "      <td>2</td>\n",
              "      <td>1</td>\n",
              "      <td>...</td>\n",
              "      <td>22</td>\n",
              "      <td>3</td>\n",
              "      <td>2</td>\n",
              "      <td>1</td>\n",
              "      <td>3</td>\n",
              "      <td>1</td>\n",
              "      <td>1</td>\n",
              "      <td>1</td>\n",
              "      <td>1</td>\n",
              "      <td>0</td>\n",
              "    </tr>\n",
              "    <tr>\n",
              "      <th>1</th>\n",
              "      <td>1</td>\n",
              "      <td>42</td>\n",
              "      <td>2</td>\n",
              "      <td>2</td>\n",
              "      <td>7882</td>\n",
              "      <td>1</td>\n",
              "      <td>4</td>\n",
              "      <td>2</td>\n",
              "      <td>3</td>\n",
              "      <td>3</td>\n",
              "      <td>...</td>\n",
              "      <td>45</td>\n",
              "      <td>3</td>\n",
              "      <td>3</td>\n",
              "      <td>1</td>\n",
              "      <td>3</td>\n",
              "      <td>2</td>\n",
              "      <td>1</td>\n",
              "      <td>1</td>\n",
              "      <td>0</td>\n",
              "      <td>1</td>\n",
              "    </tr>\n",
              "    <tr>\n",
              "      <th>2</th>\n",
              "      <td>1</td>\n",
              "      <td>24</td>\n",
              "      <td>3</td>\n",
              "      <td>0</td>\n",
              "      <td>4870</td>\n",
              "      <td>1</td>\n",
              "      <td>3</td>\n",
              "      <td>3</td>\n",
              "      <td>3</td>\n",
              "      <td>1</td>\n",
              "      <td>...</td>\n",
              "      <td>53</td>\n",
              "      <td>3</td>\n",
              "      <td>3</td>\n",
              "      <td>2</td>\n",
              "      <td>3</td>\n",
              "      <td>2</td>\n",
              "      <td>1</td>\n",
              "      <td>1</td>\n",
              "      <td>1</td>\n",
              "      <td>0</td>\n",
              "    </tr>\n",
              "    <tr>\n",
              "      <th>3</th>\n",
              "      <td>4</td>\n",
              "      <td>36</td>\n",
              "      <td>2</td>\n",
              "      <td>6</td>\n",
              "      <td>9055</td>\n",
              "      <td>5</td>\n",
              "      <td>3</td>\n",
              "      <td>2</td>\n",
              "      <td>3</td>\n",
              "      <td>1</td>\n",
              "      <td>...</td>\n",
              "      <td>35</td>\n",
              "      <td>3</td>\n",
              "      <td>3</td>\n",
              "      <td>1</td>\n",
              "      <td>2</td>\n",
              "      <td>2</td>\n",
              "      <td>2</td>\n",
              "      <td>1</td>\n",
              "      <td>0</td>\n",
              "      <td>1</td>\n",
              "    </tr>\n",
              "    <tr>\n",
              "      <th>4</th>\n",
              "      <td>4</td>\n",
              "      <td>24</td>\n",
              "      <td>2</td>\n",
              "      <td>2</td>\n",
              "      <td>2835</td>\n",
              "      <td>3</td>\n",
              "      <td>5</td>\n",
              "      <td>3</td>\n",
              "      <td>3</td>\n",
              "      <td>1</td>\n",
              "      <td>...</td>\n",
              "      <td>53</td>\n",
              "      <td>3</td>\n",
              "      <td>2</td>\n",
              "      <td>1</td>\n",
              "      <td>3</td>\n",
              "      <td>1</td>\n",
              "      <td>1</td>\n",
              "      <td>1</td>\n",
              "      <td>0</td>\n",
              "      <td>1</td>\n",
              "    </tr>\n",
              "    <tr>\n",
              "      <th>...</th>\n",
              "      <td>...</td>\n",
              "      <td>...</td>\n",
              "      <td>...</td>\n",
              "      <td>...</td>\n",
              "      <td>...</td>\n",
              "      <td>...</td>\n",
              "      <td>...</td>\n",
              "      <td>...</td>\n",
              "      <td>...</td>\n",
              "      <td>...</td>\n",
              "      <td>...</td>\n",
              "      <td>...</td>\n",
              "      <td>...</td>\n",
              "      <td>...</td>\n",
              "      <td>...</td>\n",
              "      <td>...</td>\n",
              "      <td>...</td>\n",
              "      <td>...</td>\n",
              "      <td>...</td>\n",
              "      <td>...</td>\n",
              "      <td>...</td>\n",
              "    </tr>\n",
              "    <tr>\n",
              "      <th>625</th>\n",
              "      <td>1</td>\n",
              "      <td>18</td>\n",
              "      <td>2</td>\n",
              "      <td>3</td>\n",
              "      <td>1936</td>\n",
              "      <td>5</td>\n",
              "      <td>4</td>\n",
              "      <td>2</td>\n",
              "      <td>4</td>\n",
              "      <td>1</td>\n",
              "      <td>...</td>\n",
              "      <td>23</td>\n",
              "      <td>3</td>\n",
              "      <td>1</td>\n",
              "      <td>2</td>\n",
              "      <td>2</td>\n",
              "      <td>1</td>\n",
              "      <td>1</td>\n",
              "      <td>1</td>\n",
              "      <td>0</td>\n",
              "      <td>1</td>\n",
              "    </tr>\n",
              "    <tr>\n",
              "      <th>626</th>\n",
              "      <td>1</td>\n",
              "      <td>36</td>\n",
              "      <td>2</td>\n",
              "      <td>2</td>\n",
              "      <td>3959</td>\n",
              "      <td>1</td>\n",
              "      <td>1</td>\n",
              "      <td>4</td>\n",
              "      <td>3</td>\n",
              "      <td>1</td>\n",
              "      <td>...</td>\n",
              "      <td>30</td>\n",
              "      <td>3</td>\n",
              "      <td>2</td>\n",
              "      <td>1</td>\n",
              "      <td>4</td>\n",
              "      <td>1</td>\n",
              "      <td>2</td>\n",
              "      <td>1</td>\n",
              "      <td>0</td>\n",
              "      <td>1</td>\n",
              "    </tr>\n",
              "    <tr>\n",
              "      <th>627</th>\n",
              "      <td>1</td>\n",
              "      <td>30</td>\n",
              "      <td>2</td>\n",
              "      <td>1</td>\n",
              "      <td>3857</td>\n",
              "      <td>1</td>\n",
              "      <td>3</td>\n",
              "      <td>4</td>\n",
              "      <td>1</td>\n",
              "      <td>1</td>\n",
              "      <td>...</td>\n",
              "      <td>40</td>\n",
              "      <td>3</td>\n",
              "      <td>2</td>\n",
              "      <td>1</td>\n",
              "      <td>4</td>\n",
              "      <td>1</td>\n",
              "      <td>2</td>\n",
              "      <td>1</td>\n",
              "      <td>0</td>\n",
              "      <td>1</td>\n",
              "    </tr>\n",
              "    <tr>\n",
              "      <th>628</th>\n",
              "      <td>1</td>\n",
              "      <td>45</td>\n",
              "      <td>2</td>\n",
              "      <td>3</td>\n",
              "      <td>1845</td>\n",
              "      <td>1</td>\n",
              "      <td>3</td>\n",
              "      <td>4</td>\n",
              "      <td>3</td>\n",
              "      <td>1</td>\n",
              "      <td>...</td>\n",
              "      <td>23</td>\n",
              "      <td>3</td>\n",
              "      <td>3</td>\n",
              "      <td>1</td>\n",
              "      <td>3</td>\n",
              "      <td>1</td>\n",
              "      <td>2</td>\n",
              "      <td>1</td>\n",
              "      <td>1</td>\n",
              "      <td>0</td>\n",
              "    </tr>\n",
              "    <tr>\n",
              "      <th>629</th>\n",
              "      <td>2</td>\n",
              "      <td>45</td>\n",
              "      <td>4</td>\n",
              "      <td>1</td>\n",
              "      <td>4576</td>\n",
              "      <td>2</td>\n",
              "      <td>1</td>\n",
              "      <td>3</td>\n",
              "      <td>3</td>\n",
              "      <td>1</td>\n",
              "      <td>...</td>\n",
              "      <td>27</td>\n",
              "      <td>3</td>\n",
              "      <td>2</td>\n",
              "      <td>1</td>\n",
              "      <td>3</td>\n",
              "      <td>1</td>\n",
              "      <td>1</td>\n",
              "      <td>1</td>\n",
              "      <td>0</td>\n",
              "      <td>1</td>\n",
              "    </tr>\n",
              "  </tbody>\n",
              "</table>\n",
              "<p>630 rows × 22 columns</p>\n",
              "</div>\n",
              "      <button class=\"colab-df-convert\" onclick=\"convertToInteractive('df-af7c7ac5-f1fe-4343-b15b-42cf4887d0f0')\"\n",
              "              title=\"Convert this dataframe to an interactive table.\"\n",
              "              style=\"display:none;\">\n",
              "        \n",
              "  <svg xmlns=\"http://www.w3.org/2000/svg\" height=\"24px\"viewBox=\"0 0 24 24\"\n",
              "       width=\"24px\">\n",
              "    <path d=\"M0 0h24v24H0V0z\" fill=\"none\"/>\n",
              "    <path d=\"M18.56 5.44l.94 2.06.94-2.06 2.06-.94-2.06-.94-.94-2.06-.94 2.06-2.06.94zm-11 1L8.5 8.5l.94-2.06 2.06-.94-2.06-.94L8.5 2.5l-.94 2.06-2.06.94zm10 10l.94 2.06.94-2.06 2.06-.94-2.06-.94-.94-2.06-.94 2.06-2.06.94z\"/><path d=\"M17.41 7.96l-1.37-1.37c-.4-.4-.92-.59-1.43-.59-.52 0-1.04.2-1.43.59L10.3 9.45l-7.72 7.72c-.78.78-.78 2.05 0 2.83L4 21.41c.39.39.9.59 1.41.59.51 0 1.02-.2 1.41-.59l7.78-7.78 2.81-2.81c.8-.78.8-2.07 0-2.86zM5.41 20L4 18.59l7.72-7.72 1.47 1.35L5.41 20z\"/>\n",
              "  </svg>\n",
              "      </button>\n",
              "      \n",
              "  <style>\n",
              "    .colab-df-container {\n",
              "      display:flex;\n",
              "      flex-wrap:wrap;\n",
              "      gap: 12px;\n",
              "    }\n",
              "\n",
              "    .colab-df-convert {\n",
              "      background-color: #E8F0FE;\n",
              "      border: none;\n",
              "      border-radius: 50%;\n",
              "      cursor: pointer;\n",
              "      display: none;\n",
              "      fill: #1967D2;\n",
              "      height: 32px;\n",
              "      padding: 0 0 0 0;\n",
              "      width: 32px;\n",
              "    }\n",
              "\n",
              "    .colab-df-convert:hover {\n",
              "      background-color: #E2EBFA;\n",
              "      box-shadow: 0px 1px 2px rgba(60, 64, 67, 0.3), 0px 1px 3px 1px rgba(60, 64, 67, 0.15);\n",
              "      fill: #174EA6;\n",
              "    }\n",
              "\n",
              "    [theme=dark] .colab-df-convert {\n",
              "      background-color: #3B4455;\n",
              "      fill: #D2E3FC;\n",
              "    }\n",
              "\n",
              "    [theme=dark] .colab-df-convert:hover {\n",
              "      background-color: #434B5C;\n",
              "      box-shadow: 0px 1px 3px 1px rgba(0, 0, 0, 0.15);\n",
              "      filter: drop-shadow(0px 1px 2px rgba(0, 0, 0, 0.3));\n",
              "      fill: #FFFFFF;\n",
              "    }\n",
              "  </style>\n",
              "\n",
              "      <script>\n",
              "        const buttonEl =\n",
              "          document.querySelector('#df-af7c7ac5-f1fe-4343-b15b-42cf4887d0f0 button.colab-df-convert');\n",
              "        buttonEl.style.display =\n",
              "          google.colab.kernel.accessAllowed ? 'block' : 'none';\n",
              "\n",
              "        async function convertToInteractive(key) {\n",
              "          const element = document.querySelector('#df-af7c7ac5-f1fe-4343-b15b-42cf4887d0f0');\n",
              "          const dataTable =\n",
              "            await google.colab.kernel.invokeFunction('convertToInteractive',\n",
              "                                                     [key], {});\n",
              "          if (!dataTable) return;\n",
              "\n",
              "          const docLinkHtml = 'Like what you see? Visit the ' +\n",
              "            '<a target=\"_blank\" href=https://colab.research.google.com/notebooks/data_table.ipynb>data table notebook</a>'\n",
              "            + ' to learn more about interactive tables.';\n",
              "          element.innerHTML = '';\n",
              "          dataTable['output_type'] = 'display_data';\n",
              "          await google.colab.output.renderOutput(dataTable, element);\n",
              "          const docLink = document.createElement('div');\n",
              "          docLink.innerHTML = docLinkHtml;\n",
              "          element.appendChild(docLink);\n",
              "        }\n",
              "      </script>\n",
              "    </div>\n",
              "  </div>\n",
              "  "
            ]
          },
          "metadata": {},
          "execution_count": 26
        }
      ],
      "source": [
        "sub2 = creditDf1[creditDf1.Duration > 12]\n",
        "sub2.reset_index(drop = True, inplace = True)\n",
        "sub2"
      ]
    },
    {
      "cell_type": "code",
      "source": [
        "check_imbalanced_data(sub2)"
      ],
      "metadata": {
        "colab": {
          "base_uri": "https://localhost:8080/",
          "height": 279
        },
        "id": "gus9yhpHGn-Y",
        "outputId": "48fd5a4b-33ed-4b8a-9f62-b94564040ac8"
      },
      "execution_count": 27,
      "outputs": [
        {
          "output_type": "display_data",
          "data": {
            "text/plain": [
              "<Figure size 432x288 with 1 Axes>"
            ],
            "image/png": "[encoded data removed]"
          },
          "metadata": {
            "needs_background": "light"
          }
        }
      ]
    },
    {
      "cell_type": "code",
      "source": [
        "#plotting box plot for subset 2\n",
        "boxplot_func(sub2, num_columns)\n",
        "plt.show()"
      ],
      "metadata": {
        "colab": {
          "base_uri": "https://localhost:8080/",
          "height": 495
        },
        "id": "CsTnzkkBRaW0",
        "outputId": "3b945734-9c2a-41dc-b043-49bc0eb1e322"
      },
      "execution_count": 28,
      "outputs": [
        {
          "output_type": "display_data",
          "data": {
            "text/plain": [
              "<Figure size 1800x720 with 6 Axes>"
            ],
            "image/png": "[encoded data removed]"
          },
          "metadata": {
            "needs_background": "light"
          }
        }
      ]
    },
    {
      "cell_type": "code",
      "source": [
        "sub2_no_outlier = delete_outlier('Duration', sub2) #deleting outliers for attribute 'Duration'"
      ],
      "metadata": {
        "id": "RPPViepXgzkh"
      },
      "execution_count": 29,
      "outputs": []
    },
    {
      "cell_type": "code",
      "source": [
        "sub2_no_outlier = delete_outlier('Amount', sub2_no_outlier) #deleting outliers for attribute 'Amount'"
      ],
      "metadata": {
        "id": "YnSd2svLg6a0"
      },
      "execution_count": 30,
      "outputs": []
    },
    {
      "cell_type": "code",
      "source": [
        "sub2_no_outlier = delete_outlier('Age', sub2_no_outlier) #deleting outliers for attribute 'Age'"
      ],
      "metadata": {
        "id": "R_r-VMcGhD3o"
      },
      "execution_count": 31,
      "outputs": []
    },
    {
      "cell_type": "code",
      "source": [
        "sub2_no_outlier = delete_outlier('Existcr', sub2_no_outlier) #deleting outliers for attribute 'Existing Credit'"
      ],
      "metadata": {
        "id": "JMtYIiu_hEG0"
      },
      "execution_count": 32,
      "outputs": []
    },
    {
      "cell_type": "code",
      "source": [
        "boxplot_func(sub2_no_outlier, num_columns) #box plots of subset 2 after removing the outliers"
      ],
      "metadata": {
        "colab": {
          "base_uri": "https://localhost:8080/",
          "height": 495
        },
        "id": "1xjLw1vmhZni",
        "outputId": "a4f6741b-3aad-4c85-9acb-270a680744e7"
      },
      "execution_count": 33,
      "outputs": [
        {
          "output_type": "display_data",
          "data": {
            "text/plain": [
              "<Figure size 1800x720 with 6 Axes>"
            ],
            "image/png": "[encoded data removed]"
          },
          "metadata": {
            "needs_background": "light"
          }
        }
      ]
    },
    {
      "cell_type": "markdown",
      "source": [
        "###Q2 -  Establishing a training set and validation set for each subset"
      ],
      "metadata": {
        "id": "qbkonxDwSfiX"
      }
    },
    {
      "cell_type": "markdown",
      "source": [
        "#####Subset1"
      ],
      "metadata": {
        "id": "e7VF3gI2XtJ8"
      }
    },
    {
      "cell_type": "code",
      "execution_count": 34,
      "metadata": {
        "id": "npPIddXYW9CD"
      },
      "outputs": [],
      "source": [
        "y_sub1 = sub1_no_outlier.Good\n",
        "X_sub1 = sub1_no_outlier.drop(['Good'],axis=1)\n",
        "\n",
        "X_train1, X_val1, y_train1, y_val1 = train_test_split(X_sub1, y_sub1, \n",
        "                                                    test_size=0.20,\n",
        "                                                    stratify= y_sub1, \n",
        "                                                    random_state=42)"
      ]
    },
    {
      "cell_type": "code",
      "execution_count": 35,
      "metadata": {
        "colab": {
          "base_uri": "https://localhost:8080/",
          "height": 299
        },
        "id": "t-jO1lHqW9CD",
        "outputId": "87479204-2a6d-41b4-c398-7fb1d673cab6"
      },
      "outputs": [
        {
          "output_type": "execute_result",
          "data": {
            "text/plain": [
              "    Checking  Duration History Purpose  Amount Savings Emploed  Installp  \\\n",
              "295        2        12       0       8    1410       1       3         2   \n",
              "179        2         7       2       3    2576       1       3         2   \n",
              "253        3        12       2       3    1297       1       3         3   \n",
              "284        1         6       2       2     428       1       5         2   \n",
              "356        4        12       2       2    1736       1       4         3   \n",
              "\n",
              "    marital Coapp  ...  Property Age  Other housing Existcr  Job Depends  \\\n",
              "295       3     1  ...         1  31      3       2       1    2       1   \n",
              "179       3     3  ...         1  35      3       2       1    3       1   \n",
              "253       4     1  ...         1  23      3       1       1    3       1   \n",
              "284       2     1  ...         2  49      1       2       1    3       1   \n",
              "356       2     1  ...         1  31      3       2       1    2       1   \n",
              "\n",
              "    Telephone Foreign Bad  \n",
              "295         2       1   0  \n",
              "179         1       1   0  \n",
              "253         1       1   0  \n",
              "284         2       1   0  \n",
              "356         1       1   0  \n",
              "\n",
              "[5 rows x 21 columns]"
            ],
            "text/html": [
              "\n",
              "  <div id=\"df-32278290-8742-49be-9d54-f83c4b237663\">\n",
              "    <div class=\"colab-df-container\">\n",
              "      <div>\n",
              "<style scoped>\n",
              "    .dataframe tbody tr th:only-of-type {\n",
              "        vertical-align: middle;\n",
              "    }\n",
              "\n",
              "    .dataframe tbody tr th {\n",
              "        vertical-align: top;\n",
              "    }\n",
              "\n",
              "    .dataframe thead th {\n",
              "        text-align: right;\n",
              "    }\n",
              "</style>\n",
              "<table border=\"1\" class=\"dataframe\">\n",
              "  <thead>\n",
              "    <tr style=\"text-align: right;\">\n",
              "      <th></th>\n",
              "      <th>Checking</th>\n",
              "      <th>Duration</th>\n",
              "      <th>History</th>\n",
              "      <th>Purpose</th>\n",
              "      <th>Amount</th>\n",
              "      <th>Savings</th>\n",
              "      <th>Emploed</th>\n",
              "      <th>Installp</th>\n",
              "      <th>marital</th>\n",
              "      <th>Coapp</th>\n",
              "      <th>...</th>\n",
              "      <th>Property</th>\n",
              "      <th>Age</th>\n",
              "      <th>Other</th>\n",
              "      <th>housing</th>\n",
              "      <th>Existcr</th>\n",
              "      <th>Job</th>\n",
              "      <th>Depends</th>\n",
              "      <th>Telephone</th>\n",
              "      <th>Foreign</th>\n",
              "      <th>Bad</th>\n",
              "    </tr>\n",
              "  </thead>\n",
              "  <tbody>\n",
              "    <tr>\n",
              "      <th>295</th>\n",
              "      <td>2</td>\n",
              "      <td>12</td>\n",
              "      <td>0</td>\n",
              "      <td>8</td>\n",
              "      <td>1410</td>\n",
              "      <td>1</td>\n",
              "      <td>3</td>\n",
              "      <td>2</td>\n",
              "      <td>3</td>\n",
              "      <td>1</td>\n",
              "      <td>...</td>\n",
              "      <td>1</td>\n",
              "      <td>31</td>\n",
              "      <td>3</td>\n",
              "      <td>2</td>\n",
              "      <td>1</td>\n",
              "      <td>2</td>\n",
              "      <td>1</td>\n",
              "      <td>2</td>\n",
              "      <td>1</td>\n",
              "      <td>0</td>\n",
              "    </tr>\n",
              "    <tr>\n",
              "      <th>179</th>\n",
              "      <td>2</td>\n",
              "      <td>7</td>\n",
              "      <td>2</td>\n",
              "      <td>3</td>\n",
              "      <td>2576</td>\n",
              "      <td>1</td>\n",
              "      <td>3</td>\n",
              "      <td>2</td>\n",
              "      <td>3</td>\n",
              "      <td>3</td>\n",
              "      <td>...</td>\n",
              "      <td>1</td>\n",
              "      <td>35</td>\n",
              "      <td>3</td>\n",
              "      <td>2</td>\n",
              "      <td>1</td>\n",
              "      <td>3</td>\n",
              "      <td>1</td>\n",
              "      <td>1</td>\n",
              "      <td>1</td>\n",
              "      <td>0</td>\n",
              "    </tr>\n",
              "    <tr>\n",
              "      <th>253</th>\n",
              "      <td>3</td>\n",
              "      <td>12</td>\n",
              "      <td>2</td>\n",
              "      <td>3</td>\n",
              "      <td>1297</td>\n",
              "      <td>1</td>\n",
              "      <td>3</td>\n",
              "      <td>3</td>\n",
              "      <td>4</td>\n",
              "      <td>1</td>\n",
              "      <td>...</td>\n",
              "      <td>1</td>\n",
              "      <td>23</td>\n",
              "      <td>3</td>\n",
              "      <td>1</td>\n",
              "      <td>1</td>\n",
              "      <td>3</td>\n",
              "      <td>1</td>\n",
              "      <td>1</td>\n",
              "      <td>1</td>\n",
              "      <td>0</td>\n",
              "    </tr>\n",
              "    <tr>\n",
              "      <th>284</th>\n",
              "      <td>1</td>\n",
              "      <td>6</td>\n",
              "      <td>2</td>\n",
              "      <td>2</td>\n",
              "      <td>428</td>\n",
              "      <td>1</td>\n",
              "      <td>5</td>\n",
              "      <td>2</td>\n",
              "      <td>2</td>\n",
              "      <td>1</td>\n",
              "      <td>...</td>\n",
              "      <td>2</td>\n",
              "      <td>49</td>\n",
              "      <td>1</td>\n",
              "      <td>2</td>\n",
              "      <td>1</td>\n",
              "      <td>3</td>\n",
              "      <td>1</td>\n",
              "      <td>2</td>\n",
              "      <td>1</td>\n",
              "      <td>0</td>\n",
              "    </tr>\n",
              "    <tr>\n",
              "      <th>356</th>\n",
              "      <td>4</td>\n",
              "      <td>12</td>\n",
              "      <td>2</td>\n",
              "      <td>2</td>\n",
              "      <td>1736</td>\n",
              "      <td>1</td>\n",
              "      <td>4</td>\n",
              "      <td>3</td>\n",
              "      <td>2</td>\n",
              "      <td>1</td>\n",
              "      <td>...</td>\n",
              "      <td>1</td>\n",
              "      <td>31</td>\n",
              "      <td>3</td>\n",
              "      <td>2</td>\n",
              "      <td>1</td>\n",
              "      <td>2</td>\n",
              "      <td>1</td>\n",
              "      <td>1</td>\n",
              "      <td>1</td>\n",
              "      <td>0</td>\n",
              "    </tr>\n",
              "  </tbody>\n",
              "</table>\n",
              "<p>5 rows × 21 columns</p>\n",
              "</div>\n",
              "      <button class=\"colab-df-convert\" onclick=\"convertToInteractive('df-32278290-8742-49be-9d54-f83c4b237663')\"\n",
              "              title=\"Convert this dataframe to an interactive table.\"\n",
              "              style=\"display:none;\">\n",
              "        \n",
              "  <svg xmlns=\"http://www.w3.org/2000/svg\" height=\"24px\"viewBox=\"0 0 24 24\"\n",
              "       width=\"24px\">\n",
              "    <path d=\"M0 0h24v24H0V0z\" fill=\"none\"/>\n",
              "    <path d=\"M18.56 5.44l.94 2.06.94-2.06 2.06-.94-2.06-.94-.94-2.06-.94 2.06-2.06.94zm-11 1L8.5 8.5l.94-2.06 2.06-.94-2.06-.94L8.5 2.5l-.94 2.06-2.06.94zm10 10l.94 2.06.94-2.06 2.06-.94-2.06-.94-.94-2.06-.94 2.06-2.06.94z\"/><path d=\"M17.41 7.96l-1.37-1.37c-.4-.4-.92-.59-1.43-.59-.52 0-1.04.2-1.43.59L10.3 9.45l-7.72 7.72c-.78.78-.78 2.05 0 2.83L4 21.41c.39.39.9.59 1.41.59.51 0 1.02-.2 1.41-.59l7.78-7.78 2.81-2.81c.8-.78.8-2.07 0-2.86zM5.41 20L4 18.59l7.72-7.72 1.47 1.35L5.41 20z\"/>\n",
              "  </svg>\n",
              "      </button>\n",
              "      \n",
              "  <style>\n",
              "    .colab-df-container {\n",
              "      display:flex;\n",
              "      flex-wrap:wrap;\n",
              "      gap: 12px;\n",
              "    }\n",
              "\n",
              "    .colab-df-convert {\n",
              "      background-color: #E8F0FE;\n",
              "      border: none;\n",
              "      border-radius: 50%;\n",
              "      cursor: pointer;\n",
              "      display: none;\n",
              "      fill: #1967D2;\n",
              "      height: 32px;\n",
              "      padding: 0 0 0 0;\n",
              "      width: 32px;\n",
              "    }\n",
              "\n",
              "    .colab-df-convert:hover {\n",
              "      background-color: #E2EBFA;\n",
              "      box-shadow: 0px 1px 2px rgba(60, 64, 67, 0.3), 0px 1px 3px 1px rgba(60, 64, 67, 0.15);\n",
              "      fill: #174EA6;\n",
              "    }\n",
              "\n",
              "    [theme=dark] .colab-df-convert {\n",
              "      background-color: #3B4455;\n",
              "      fill: #D2E3FC;\n",
              "    }\n",
              "\n",
              "    [theme=dark] .colab-df-convert:hover {\n",
              "      background-color: #434B5C;\n",
              "      box-shadow: 0px 1px 3px 1px rgba(0, 0, 0, 0.15);\n",
              "      filter: drop-shadow(0px 1px 2px rgba(0, 0, 0, 0.3));\n",
              "      fill: #FFFFFF;\n",
              "    }\n",
              "  </style>\n",
              "\n",
              "      <script>\n",
              "        const buttonEl =\n",
              "          document.querySelector('#df-32278290-8742-49be-9d54-f83c4b237663 button.colab-df-convert');\n",
              "        buttonEl.style.display =\n",
              "          google.colab.kernel.accessAllowed ? 'block' : 'none';\n",
              "\n",
              "        async function convertToInteractive(key) {\n",
              "          const element = document.querySelector('#df-32278290-8742-49be-9d54-f83c4b237663');\n",
              "          const dataTable =\n",
              "            await google.colab.kernel.invokeFunction('convertToInteractive',\n",
              "                                                     [key], {});\n",
              "          if (!dataTable) return;\n",
              "\n",
              "          const docLinkHtml = 'Like what you see? Visit the ' +\n",
              "            '<a target=\"_blank\" href=https://colab.research.google.com/notebooks/data_table.ipynb>data table notebook</a>'\n",
              "            + ' to learn more about interactive tables.';\n",
              "          element.innerHTML = '';\n",
              "          dataTable['output_type'] = 'display_data';\n",
              "          await google.colab.output.renderOutput(dataTable, element);\n",
              "          const docLink = document.createElement('div');\n",
              "          docLink.innerHTML = docLinkHtml;\n",
              "          element.appendChild(docLink);\n",
              "        }\n",
              "      </script>\n",
              "    </div>\n",
              "  </div>\n",
              "  "
            ]
          },
          "metadata": {},
          "execution_count": 35
        }
      ],
      "source": [
        "X_train1.head()"
      ]
    },
    {
      "cell_type": "markdown",
      "source": [
        "#####Subset2"
      ],
      "metadata": {
        "id": "6nSy3nhiXyKR"
      }
    },
    {
      "cell_type": "code",
      "execution_count": 36,
      "metadata": {
        "id": "BUF64BkzW9CE"
      },
      "outputs": [],
      "source": [
        "y_sub2 = sub2_no_outlier.Good\n",
        "X_sub2 = sub2_no_outlier.drop([\"Good\"],axis=1)\n",
        "\n",
        "X_train2, X_val2, y_train2, y_val2 = train_test_split(X_sub2, y_sub2, \n",
        "                                                    test_size=0.20,\n",
        "                                                    stratify = y_sub2,\n",
        "                                                    random_state=42)"
      ]
    },
    {
      "cell_type": "code",
      "execution_count": 37,
      "metadata": {
        "colab": {
          "base_uri": "https://localhost:8080/",
          "height": 299
        },
        "id": "jg9ZxWuxW9CE",
        "outputId": "098b2f22-8a26-4420-8406-83476bcab4b4"
      },
      "outputs": [
        {
          "output_type": "execute_result",
          "data": {
            "text/plain": [
              "    Checking  Duration History Purpose  Amount Savings Emploed  Installp  \\\n",
              "596        1        28       2       0    4006       1       3         3   \n",
              "358        1        24       1       2    2828       3       3         4   \n",
              "592        2        24       2       1    4113       3       2         3   \n",
              "152        4        24       2       3     999       5       5         4   \n",
              "511        3        15       2       3    2327       1       2         2   \n",
              "\n",
              "    marital Coapp  ...  Property Age  Other housing Existcr  Job Depends  \\\n",
              "596       3     1  ...         3  45      3       2       1    2       1   \n",
              "358       3     1  ...         1  22      2       2       1    3       1   \n",
              "592       2     1  ...         3  28      3       1       1    3       1   \n",
              "152       3     1  ...         3  25      3       2       2    3       1   \n",
              "511       2     1  ...         1  25      3       2       1    2       1   \n",
              "\n",
              "    Telephone Foreign Bad  \n",
              "596         1       1   1  \n",
              "358         2       1   0  \n",
              "592         1       1   1  \n",
              "152         1       1   0  \n",
              "511         1       1   1  \n",
              "\n",
              "[5 rows x 21 columns]"
            ],
            "text/html": [
              "\n",
              "  <div id=\"df-977c899b-3b6f-4dec-8bef-2e18e6159bd9\">\n",
              "    <div class=\"colab-df-container\">\n",
              "      <div>\n",
              "<style scoped>\n",
              "    .dataframe tbody tr th:only-of-type {\n",
              "        vertical-align: middle;\n",
              "    }\n",
              "\n",
              "    .dataframe tbody tr th {\n",
              "        vertical-align: top;\n",
              "    }\n",
              "\n",
              "    .dataframe thead th {\n",
              "        text-align: right;\n",
              "    }\n",
              "</style>\n",
              "<table border=\"1\" class=\"dataframe\">\n",
              "  <thead>\n",
              "    <tr style=\"text-align: right;\">\n",
              "      <th></th>\n",
              "      <th>Checking</th>\n",
              "      <th>Duration</th>\n",
              "      <th>History</th>\n",
              "      <th>Purpose</th>\n",
              "      <th>Amount</th>\n",
              "      <th>Savings</th>\n",
              "      <th>Emploed</th>\n",
              "      <th>Installp</th>\n",
              "      <th>marital</th>\n",
              "      <th>Coapp</th>\n",
              "      <th>...</th>\n",
              "      <th>Property</th>\n",
              "      <th>Age</th>\n",
              "      <th>Other</th>\n",
              "      <th>housing</th>\n",
              "      <th>Existcr</th>\n",
              "      <th>Job</th>\n",
              "      <th>Depends</th>\n",
              "      <th>Telephone</th>\n",
              "      <th>Foreign</th>\n",
              "      <th>Bad</th>\n",
              "    </tr>\n",
              "  </thead>\n",
              "  <tbody>\n",
              "    <tr>\n",
              "      <th>596</th>\n",
              "      <td>1</td>\n",
              "      <td>28</td>\n",
              "      <td>2</td>\n",
              "      <td>0</td>\n",
              "      <td>4006</td>\n",
              "      <td>1</td>\n",
              "      <td>3</td>\n",
              "      <td>3</td>\n",
              "      <td>3</td>\n",
              "      <td>1</td>\n",
              "      <td>...</td>\n",
              "      <td>3</td>\n",
              "      <td>45</td>\n",
              "      <td>3</td>\n",
              "      <td>2</td>\n",
              "      <td>1</td>\n",
              "      <td>2</td>\n",
              "      <td>1</td>\n",
              "      <td>1</td>\n",
              "      <td>1</td>\n",
              "      <td>1</td>\n",
              "    </tr>\n",
              "    <tr>\n",
              "      <th>358</th>\n",
              "      <td>1</td>\n",
              "      <td>24</td>\n",
              "      <td>1</td>\n",
              "      <td>2</td>\n",
              "      <td>2828</td>\n",
              "      <td>3</td>\n",
              "      <td>3</td>\n",
              "      <td>4</td>\n",
              "      <td>3</td>\n",
              "      <td>1</td>\n",
              "      <td>...</td>\n",
              "      <td>1</td>\n",
              "      <td>22</td>\n",
              "      <td>2</td>\n",
              "      <td>2</td>\n",
              "      <td>1</td>\n",
              "      <td>3</td>\n",
              "      <td>1</td>\n",
              "      <td>2</td>\n",
              "      <td>1</td>\n",
              "      <td>0</td>\n",
              "    </tr>\n",
              "    <tr>\n",
              "      <th>592</th>\n",
              "      <td>2</td>\n",
              "      <td>24</td>\n",
              "      <td>2</td>\n",
              "      <td>1</td>\n",
              "      <td>4113</td>\n",
              "      <td>3</td>\n",
              "      <td>2</td>\n",
              "      <td>3</td>\n",
              "      <td>2</td>\n",
              "      <td>1</td>\n",
              "      <td>...</td>\n",
              "      <td>3</td>\n",
              "      <td>28</td>\n",
              "      <td>3</td>\n",
              "      <td>1</td>\n",
              "      <td>1</td>\n",
              "      <td>3</td>\n",
              "      <td>1</td>\n",
              "      <td>1</td>\n",
              "      <td>1</td>\n",
              "      <td>1</td>\n",
              "    </tr>\n",
              "    <tr>\n",
              "      <th>152</th>\n",
              "      <td>4</td>\n",
              "      <td>24</td>\n",
              "      <td>2</td>\n",
              "      <td>3</td>\n",
              "      <td>999</td>\n",
              "      <td>5</td>\n",
              "      <td>5</td>\n",
              "      <td>4</td>\n",
              "      <td>3</td>\n",
              "      <td>1</td>\n",
              "      <td>...</td>\n",
              "      <td>3</td>\n",
              "      <td>25</td>\n",
              "      <td>3</td>\n",
              "      <td>2</td>\n",
              "      <td>2</td>\n",
              "      <td>3</td>\n",
              "      <td>1</td>\n",
              "      <td>1</td>\n",
              "      <td>1</td>\n",
              "      <td>0</td>\n",
              "    </tr>\n",
              "    <tr>\n",
              "      <th>511</th>\n",
              "      <td>3</td>\n",
              "      <td>15</td>\n",
              "      <td>2</td>\n",
              "      <td>3</td>\n",
              "      <td>2327</td>\n",
              "      <td>1</td>\n",
              "      <td>2</td>\n",
              "      <td>2</td>\n",
              "      <td>2</td>\n",
              "      <td>1</td>\n",
              "      <td>...</td>\n",
              "      <td>1</td>\n",
              "      <td>25</td>\n",
              "      <td>3</td>\n",
              "      <td>2</td>\n",
              "      <td>1</td>\n",
              "      <td>2</td>\n",
              "      <td>1</td>\n",
              "      <td>1</td>\n",
              "      <td>1</td>\n",
              "      <td>1</td>\n",
              "    </tr>\n",
              "  </tbody>\n",
              "</table>\n",
              "<p>5 rows × 21 columns</p>\n",
              "</div>\n",
              "      <button class=\"colab-df-convert\" onclick=\"convertToInteractive('df-977c899b-3b6f-4dec-8bef-2e18e6159bd9')\"\n",
              "              title=\"Convert this dataframe to an interactive table.\"\n",
              "              style=\"display:none;\">\n",
              "        \n",
              "  <svg xmlns=\"http://www.w3.org/2000/svg\" height=\"24px\"viewBox=\"0 0 24 24\"\n",
              "       width=\"24px\">\n",
              "    <path d=\"M0 0h24v24H0V0z\" fill=\"none\"/>\n",
              "    <path d=\"M18.56 5.44l.94 2.06.94-2.06 2.06-.94-2.06-.94-.94-2.06-.94 2.06-2.06.94zm-11 1L8.5 8.5l.94-2.06 2.06-.94-2.06-.94L8.5 2.5l-.94 2.06-2.06.94zm10 10l.94 2.06.94-2.06 2.06-.94-2.06-.94-.94-2.06-.94 2.06-2.06.94z\"/><path d=\"M17.41 7.96l-1.37-1.37c-.4-.4-.92-.59-1.43-.59-.52 0-1.04.2-1.43.59L10.3 9.45l-7.72 7.72c-.78.78-.78 2.05 0 2.83L4 21.41c.39.39.9.59 1.41.59.51 0 1.02-.2 1.41-.59l7.78-7.78 2.81-2.81c.8-.78.8-2.07 0-2.86zM5.41 20L4 18.59l7.72-7.72 1.47 1.35L5.41 20z\"/>\n",
              "  </svg>\n",
              "      </button>\n",
              "      \n",
              "  <style>\n",
              "    .colab-df-container {\n",
              "      display:flex;\n",
              "      flex-wrap:wrap;\n",
              "      gap: 12px;\n",
              "    }\n",
              "\n",
              "    .colab-df-convert {\n",
              "      background-color: #E8F0FE;\n",
              "      border: none;\n",
              "      border-radius: 50%;\n",
              "      cursor: pointer;\n",
              "      display: none;\n",
              "      fill: #1967D2;\n",
              "      height: 32px;\n",
              "      padding: 0 0 0 0;\n",
              "      width: 32px;\n",
              "    }\n",
              "\n",
              "    .colab-df-convert:hover {\n",
              "      background-color: #E2EBFA;\n",
              "      box-shadow: 0px 1px 2px rgba(60, 64, 67, 0.3), 0px 1px 3px 1px rgba(60, 64, 67, 0.15);\n",
              "      fill: #174EA6;\n",
              "    }\n",
              "\n",
              "    [theme=dark] .colab-df-convert {\n",
              "      background-color: #3B4455;\n",
              "      fill: #D2E3FC;\n",
              "    }\n",
              "\n",
              "    [theme=dark] .colab-df-convert:hover {\n",
              "      background-color: #434B5C;\n",
              "      box-shadow: 0px 1px 3px 1px rgba(0, 0, 0, 0.15);\n",
              "      filter: drop-shadow(0px 1px 2px rgba(0, 0, 0, 0.3));\n",
              "      fill: #FFFFFF;\n",
              "    }\n",
              "  </style>\n",
              "\n",
              "      <script>\n",
              "        const buttonEl =\n",
              "          document.querySelector('#df-977c899b-3b6f-4dec-8bef-2e18e6159bd9 button.colab-df-convert');\n",
              "        buttonEl.style.display =\n",
              "          google.colab.kernel.accessAllowed ? 'block' : 'none';\n",
              "\n",
              "        async function convertToInteractive(key) {\n",
              "          const element = document.querySelector('#df-977c899b-3b6f-4dec-8bef-2e18e6159bd9');\n",
              "          const dataTable =\n",
              "            await google.colab.kernel.invokeFunction('convertToInteractive',\n",
              "                                                     [key], {});\n",
              "          if (!dataTable) return;\n",
              "\n",
              "          const docLinkHtml = 'Like what you see? Visit the ' +\n",
              "            '<a target=\"_blank\" href=https://colab.research.google.com/notebooks/data_table.ipynb>data table notebook</a>'\n",
              "            + ' to learn more about interactive tables.';\n",
              "          element.innerHTML = '';\n",
              "          dataTable['output_type'] = 'display_data';\n",
              "          await google.colab.output.renderOutput(dataTable, element);\n",
              "          const docLink = document.createElement('div');\n",
              "          docLink.innerHTML = docLinkHtml;\n",
              "          element.appendChild(docLink);\n",
              "        }\n",
              "      </script>\n",
              "    </div>\n",
              "  </div>\n",
              "  "
            ]
          },
          "metadata": {},
          "execution_count": 37
        }
      ],
      "source": [
        "X_train2.head()"
      ]
    },
    {
      "cell_type": "markdown",
      "source": [
        "###Q3 - (4 variables ->1 continuous, ->1 categorical)"
      ],
      "metadata": {
        "id": "c8OFMHWoSlZj"
      }
    },
    {
      "cell_type": "markdown",
      "source": [
        "####Heat map - correlation"
      ],
      "metadata": {
        "id": "_8sAUQwJW_H8"
      }
    },
    {
      "cell_type": "code",
      "execution_count": 38,
      "metadata": {
        "id": "Y7OiThNUW9CE"
      },
      "outputs": [],
      "source": [
        "'''\n",
        "heat_map_func: function to display heat map\n",
        "args: dFrame - data frame whose numerical attributes are used to make the heat map\n",
        "'''\n",
        "def heat_map_func(dFrame):\n",
        "  matrix = np.triu(dFrame.corr())\n",
        "  fig, ax = plt.subplots(figsize=(12,12))\n",
        "  sns.heatmap(dFrame.corr(), annot=True, ax=ax, fmt='.1g', vmin=-1, vmax=1, center= 0, mask=matrix, cmap='vlag')\n",
        "  plt.show()"
      ]
    },
    {
      "cell_type": "markdown",
      "source": [
        "####Chi-square Test"
      ],
      "metadata": {
        "id": "0sFncQUQ2WC7"
      }
    },
    {
      "cell_type": "code",
      "source": [
        "'''\n",
        "cal_chi2: function to calculate chi-square values of categorical attributes\n",
        "args: dFrame - data frame whose attribute's chi-quare value needs to be calculated\n",
        "      target_val - target attribute which needs to be predicted\n",
        "returns: a dictionary with attribute name as its key and respective chi-square values as their values\n",
        "'''\n",
        "def cal_chi2(dFrame, target_val):\n",
        "  chi2_vals = dict()\n",
        "  for i in cat_columns:\n",
        "    chi2_val, p_val = chi2(np.array(dFrame[i]).reshape(-1, 1), np.array(target_val).reshape(-1, 1))\n",
        "    chi2_vals[i] = chi2_val\n",
        "  return sorted(chi2_vals.items(), key = operator.itemgetter(1), reverse = True)"
      ],
      "metadata": {
        "id": "WapVWVup43WH"
      },
      "execution_count": 39,
      "outputs": []
    },
    {
      "cell_type": "markdown",
      "source": [
        "#####Subset 1"
      ],
      "metadata": {
        "id": "ziN0LaHJlW2Q"
      }
    },
    {
      "cell_type": "code",
      "source": [
        "heat_map_func(sub1_no_outlier)"
      ],
      "metadata": {
        "colab": {
          "base_uri": "https://localhost:8080/",
          "height": 704
        },
        "id": "9V0tFFNYYQ2x",
        "outputId": "2363eb2f-3bde-4ed9-a157-6cd99377185e"
      },
      "execution_count": 40,
      "outputs": [
        {
          "output_type": "display_data",
          "data": {
            "text/plain": [
              "<Figure size 864x864 with 2 Axes>"
            ],
            "image/png": "[encoded data removed]"
          },
          "metadata": {
            "needs_background": "light"
          }
        }
      ]
    },
    {
      "cell_type": "markdown",
      "source": [
        "Choosing '*Duration*', '*Installp*' and '*Age*' as top three numerical values"
      ],
      "metadata": {
        "id": "RV1J_vt1mxYP"
      }
    },
    {
      "cell_type": "code",
      "source": [
        "cal_chi2(X_sub1, y_sub1)"
      ],
      "metadata": {
        "colab": {
          "base_uri": "https://localhost:8080/"
        },
        "id": "gAO8xexUYmIT",
        "outputId": "49ca040e-a6fa-40a2-91ac-c5fcc056b341"
      },
      "execution_count": 41,
      "outputs": [
        {
          "output_type": "execute_result",
          "data": {
            "text/plain": [
              "[('Checking', array([16.70168294])),\n",
              " ('History', array([8.82323097])),\n",
              " ('Property', array([5.09090178])),\n",
              " ('Savings', array([4.24726027])),\n",
              " ('Emploed', array([0.96841632])),\n",
              " ('Other', array([0.76832167])),\n",
              " ('Coapp', array([0.72851146])),\n",
              " ('Telephone', array([0.38032269])),\n",
              " ('Foreign', array([0.35871192])),\n",
              " ('marital', array([0.33274731])),\n",
              " ('Purpose', array([0.30075295])),\n",
              " ('Depends', array([0.1741004])),\n",
              " ('housing', array([0.06464254])),\n",
              " ('Job', array([0.01517491]))]"
            ]
          },
          "metadata": {},
          "execution_count": 41
        }
      ]
    },
    {
      "cell_type": "markdown",
      "source": [
        "Choosing '*Checking*', '*History*' and '*Property*' as top three categorical values"
      ],
      "metadata": {
        "id": "PcySsKkDnFzj"
      }
    },
    {
      "cell_type": "markdown",
      "source": [
        "####Regression"
      ],
      "metadata": {
        "id": "mYunN5h_2SW6"
      }
    },
    {
      "cell_type": "code",
      "source": [
        "reg_values = dict()\n",
        "\n",
        "formula = 'Good ~ Checking+Duration+History+Installp'\n",
        "fit = sm.OLS.from_formula(formula, sub1_no_outlier).fit()\n",
        "reg_values['Checking+Duration+History+Installp'] = fit.rsquared\n",
        "\n",
        "formula = 'Good ~ Checking+Duration+History+Property'\n",
        "fit = sm.OLS.from_formula(formula, sub1_no_outlier).fit()\n",
        "reg_values['Checking+Duration+History+Property'] = fit.rsquared\n",
        "\n",
        "formula = 'Good ~ Checking+Duration+History+Age'\n",
        "fit = sm.OLS.from_formula(formula, sub1_no_outlier).fit()\n",
        "reg_values['Checking+Duration+History+Age'] = fit.rsquared\n",
        "\n",
        "formula = 'Good ~ Checking+Duration+Property+Installp'\n",
        "fit = sm.OLS.from_formula(formula, sub1_no_outlier).fit()\n",
        "reg_values['Checking+Duration+Property+Installp'] = fit.rsquared\n",
        "\n",
        "formula = 'Good ~ Checking+Duration+Property+Age'\n",
        "fit = sm.OLS.from_formula(formula, sub1_no_outlier).fit()\n",
        "reg_values['Checking+Duration+Property+Age'] = fit.rsquared\n",
        "\n",
        "formula = 'Good ~ Checking+Duration+Installp+Age'\n",
        "fit = sm.OLS.from_formula(formula, sub1_no_outlier).fit()\n",
        "reg_values['Checking+Duration+Installp+Age'] = fit.rsquared\n",
        "\n",
        "formula = 'Good ~ Checking+History+Installp+Age'\n",
        "fit = sm.OLS.from_formula(formula, sub1_no_outlier).fit()\n",
        "reg_values['Checking+History+Installp+Age'] = fit.rsquared\n",
        "\n",
        "formula = 'Good ~ Checking+History+Installp+Property'\n",
        "fit = sm.OLS.from_formula(formula, sub1_no_outlier).fit()\n",
        "reg_values['Checking+History+Installp+Property'] = fit.rsquared\n",
        "\n",
        "formula = 'Good ~ Checking+History+Age+Property'\n",
        "fit = sm.OLS.from_formula(formula, sub1_no_outlier).fit()\n",
        "reg_values['Checking+History+Age+Property'] = fit.rsquared\n",
        "\n",
        "formula = 'Good ~ Checking+Property+Installp+Age'\n",
        "fit = sm.OLS.from_formula(formula, sub1_no_outlier).fit()\n",
        "reg_values['Checking+Property+Installp+Age'] = fit.rsquared\n",
        "\n",
        "formula = 'Good ~ History+Property+Installp+Age'\n",
        "fit = sm.OLS.from_formula(formula, sub1_no_outlier).fit()\n",
        "reg_values['History+Property+Installp+Age'] = fit.rsquared\n",
        "\n",
        "formula = 'Good ~ History+Property+Installp+Duration'\n",
        "fit = sm.OLS.from_formula(formula, sub1_no_outlier).fit()\n",
        "reg_values['History+Property+Installp+Duration'] = fit.rsquared\n",
        "\n",
        "formula = 'Good ~ History+Property+Age+Duration'\n",
        "fit = sm.OLS.from_formula(formula, sub1_no_outlier).fit()\n",
        "reg_values['History+Property+Age+Duration'] = fit.rsquared\n",
        "\n",
        "formula = 'Good ~ History+Age+Installp+Duration'\n",
        "fit = sm.OLS.from_formula(formula, sub1_no_outlier).fit()\n",
        "reg_values['History+Age+Installp+Duration'] = fit.rsquared\n",
        "\n",
        "formula = 'Good ~ Age+Property+Installp+Duration'\n",
        "fit = sm.OLS.from_formula(formula, sub1_no_outlier).fit()\n",
        "reg_values['Age+Property+Installp+Duration'] = fit.rsquared\n",
        "\n",
        "max(reg_values, key = reg_values.get) #printing the combination of attributes with highest value"
      ],
      "metadata": {
        "colab": {
          "base_uri": "https://localhost:8080/",
          "height": 35
        },
        "id": "i_GmUF1Qfgnb",
        "outputId": "ef306465-ed56-4fd6-adbc-358675161a1a"
      },
      "execution_count": 42,
      "outputs": [
        {
          "output_type": "execute_result",
          "data": {
            "text/plain": [
              "'Checking+Duration+History+Property'"
            ],
            "application/vnd.google.colaboratory.intrinsic+json": {
              "type": "string"
            }
          },
          "metadata": {},
          "execution_count": 42
        }
      ]
    },
    {
      "cell_type": "markdown",
      "source": [
        "As per the above result I choose '**CHECKING**', '**DURATION**', '**HISTORY**' and '**PROPERTY**' as my four features for building the scorecard."
      ],
      "metadata": {
        "id": "aFFsSY5MnXE5"
      }
    },
    {
      "cell_type": "code",
      "source": [
        "X_train1 = X_train1[['Checking','Duration', 'History', 'Property']]\n",
        "X_val1 = X_val1[['Checking','Duration', 'History', 'Property']]"
      ],
      "metadata": {
        "id": "UNyXBEGjbYhp"
      },
      "execution_count": 43,
      "outputs": []
    },
    {
      "cell_type": "markdown",
      "source": [
        "#####Subset2"
      ],
      "metadata": {
        "id": "PcDRe-GtnuJb"
      }
    },
    {
      "cell_type": "code",
      "source": [
        "heat_map_func(sub2_no_outlier)"
      ],
      "metadata": {
        "colab": {
          "base_uri": "https://localhost:8080/",
          "height": 704
        },
        "id": "njzBBhianv8v",
        "outputId": "3a332e50-1954-4925-fd37-15f81c0a4411"
      },
      "execution_count": 44,
      "outputs": [
        {
          "output_type": "display_data",
          "data": {
            "text/plain": [
              "<Figure size 864x864 with 2 Axes>"
            ],
            "image/png": "[encoded data removed]"
          },
          "metadata": {
            "needs_background": "light"
          }
        }
      ]
    },
    {
      "cell_type": "markdown",
      "source": [
        "Choosing '*Duration*', '*Amount*' and '*Age*' as top three numerical values"
      ],
      "metadata": {
        "id": "33ZoGsbVn9Pe"
      }
    },
    {
      "cell_type": "code",
      "source": [
        "cal_chi2(X_sub2, y_sub2)"
      ],
      "metadata": {
        "colab": {
          "base_uri": "https://localhost:8080/"
        },
        "id": "CcW_JLRyoKMu",
        "outputId": "efb518de-6e59-4a97-c6bc-02c424a03224"
      },
      "execution_count": 45,
      "outputs": [
        {
          "output_type": "execute_result",
          "data": {
            "text/plain": [
              "[('Checking', array([56.22349417])),\n",
              " ('Savings', array([38.79394161])),\n",
              " ('History', array([9.89577398])),\n",
              " ('Emploed', array([7.45272724])),\n",
              " ('marital', array([1.32174478])),\n",
              " ('Other', array([1.09497223])),\n",
              " ('Telephone', array([1.03795393])),\n",
              " ('Property', array([0.57753974])),\n",
              " ('housing', array([0.47866319])),\n",
              " ('Depends', array([0.18233827])),\n",
              " ('Job', array([0.15684333])),\n",
              " ('Coapp', array([0.05746193])),\n",
              " ('Purpose', array([0.03582675])),\n",
              " ('Foreign', array([0.00361933]))]"
            ]
          },
          "metadata": {},
          "execution_count": 45
        }
      ]
    },
    {
      "cell_type": "markdown",
      "source": [
        "Choosing '*Checking*', '*History*' and '*Savings*' as top three categorical values"
      ],
      "metadata": {
        "id": "AUooNDsToggT"
      }
    },
    {
      "cell_type": "markdown",
      "source": [
        "####Regression"
      ],
      "metadata": {
        "id": "3y3igfHIpETp"
      }
    },
    {
      "cell_type": "code",
      "source": [
        "reg_values.clear()\n",
        "\n",
        "formula = 'Good ~ Checking+Duration+History+Amount'\n",
        "fit = sm.OLS.from_formula(formula, creditDf1).fit()\n",
        "reg_values['Checking+Duration+History+Amount'] = fit.rsquared\n",
        "\n",
        "formula = 'Good ~ Checking+Duration+History+Savings'\n",
        "fit = sm.OLS.from_formula(formula, creditDf1).fit()\n",
        "reg_values['Checking+Duration+History+Savings'] = fit.rsquared\n",
        "\n",
        "formula = 'Good ~ Checking+Duration+History+Age'\n",
        "fit = sm.OLS.from_formula(formula, creditDf1).fit()\n",
        "reg_values['Checking+Duration+History+Age'] = fit.rsquared\n",
        "\n",
        "formula = 'Good ~ Checking+Duration+Savings+Amount'\n",
        "fit = sm.OLS.from_formula(formula, creditDf1).fit()\n",
        "reg_values['Checking+Duration+Savings+Amount'] = fit.rsquared\n",
        "\n",
        "formula = 'Good ~ Checking+Duration+Savings+Age'\n",
        "fit = sm.OLS.from_formula(formula, creditDf1).fit()\n",
        "reg_values['Checking+Duration+Savings+Age'] = fit.rsquared\n",
        "\n",
        "formula = 'Good ~ Checking+Duration+Amount+Age'\n",
        "fit = sm.OLS.from_formula(formula, creditDf1).fit()\n",
        "reg_values['Checking+Duration+Amount+Age'] = fit.rsquared\n",
        "\n",
        "formula = 'Good ~ Checking+History+Amount+Age'\n",
        "fit = sm.OLS.from_formula(formula, creditDf1).fit()\n",
        "reg_values['Checking+History+Amount+Age'] = fit.rsquared\n",
        "\n",
        "formula = 'Good ~ Checking+History+Amount+Savings'\n",
        "fit = sm.OLS.from_formula(formula, creditDf1).fit()\n",
        "reg_values['Checking+History+Amount+Savings'] = fit.rsquared\n",
        "\n",
        "formula = 'Good ~ Checking+History+Age+Savings'\n",
        "fit = sm.OLS.from_formula(formula, creditDf1).fit()\n",
        "reg_values['Checking+History+Age+Savings'] = fit.rsquared\n",
        "\n",
        "formula = 'Good ~ Checking+Savings+Amount+Age'\n",
        "fit = sm.OLS.from_formula(formula, creditDf1).fit()\n",
        "reg_values['Checking+Savings+Amount+Age'] = fit.rsquared\n",
        "\n",
        "formula = 'Good ~ History+Savings+Amount+Age'\n",
        "fit = sm.OLS.from_formula(formula, creditDf1).fit()\n",
        "reg_values['History+Savings+Amount+Age'] = fit.rsquared\n",
        "\n",
        "formula = 'Good ~ History+Savings+Amount+Duration'\n",
        "fit = sm.OLS.from_formula(formula, creditDf1).fit()\n",
        "reg_values['History+Savings+Amount+Duration'] = fit.rsquared\n",
        "\n",
        "formula = 'Good ~ History+Savings+Age+Duration'\n",
        "fit = sm.OLS.from_formula(formula, creditDf1).fit()\n",
        "reg_values['History+Savings+Age+Duration'] = fit.rsquared\n",
        "\n",
        "formula = 'Good ~ History+Age+Amount+Duration'\n",
        "fit = sm.OLS.from_formula(formula, creditDf1).fit()\n",
        "reg_values['History+Age+Amount+Duration'] = fit.rsquared\n",
        "\n",
        "formula = 'Good ~ Age+Savings+Amount+Duration'\n",
        "fit = sm.OLS.from_formula(formula, creditDf1).fit()\n",
        "reg_values['Age+Savings+Amount+Duration'] = fit.rsquared\n",
        "\n",
        "max(reg_values, key = reg_values.get) #printing the combination of attributes with highest value"
      ],
      "metadata": {
        "colab": {
          "base_uri": "https://localhost:8080/",
          "height": 35
        },
        "id": "GQfJo2YRoj9p",
        "outputId": "eddf7fb0-df40-405b-8191-836900f5573f"
      },
      "execution_count": 46,
      "outputs": [
        {
          "output_type": "execute_result",
          "data": {
            "text/plain": [
              "'Checking+Duration+History+Savings'"
            ],
            "application/vnd.google.colaboratory.intrinsic+json": {
              "type": "string"
            }
          },
          "metadata": {},
          "execution_count": 46
        }
      ]
    },
    {
      "cell_type": "markdown",
      "source": [
        "As per the above result I choose '**CHECKING**', '**DURATION**', '**HISTORY**' and '**SAVINGS**' as my four features for building the scorecard."
      ],
      "metadata": {
        "id": "dn9UZtQhuRVB"
      }
    },
    {
      "cell_type": "code",
      "source": [
        "X_train2 = X_train2[['Checking', 'Duration', 'History', 'Savings']]\n",
        "X_val2 = X_val2[['Checking', 'Duration', 'History', 'Savings']]"
      ],
      "metadata": {
        "id": "t4sdDd75uVaN"
      },
      "execution_count": 47,
      "outputs": []
    },
    {
      "cell_type": "markdown",
      "source": [
        "###Q4 - Score Cards"
      ],
      "metadata": {
        "id": "QMVQWOFDU9Ip"
      }
    },
    {
      "cell_type": "markdown",
      "source": [
        "####Binning\n"
      ],
      "metadata": {
        "id": "BFbS81iyVSyt"
      }
    },
    {
      "cell_type": "markdown",
      "source": [
        "#####Subset 1"
      ],
      "metadata": {
        "id": "GbywN6Q8yji1"
      }
    },
    {
      "cell_type": "code",
      "source": [
        "sns.distplot(sub1_no_outlier.Duration, color = 'indigo')"
      ],
      "metadata": {
        "colab": {
          "base_uri": "https://localhost:8080/",
          "height": 351
        },
        "id": "G_w1KlTtVNrP",
        "outputId": "21b2059c-bc7f-489d-af82-c6c6518aff82"
      },
      "execution_count": 48,
      "outputs": [
        {
          "output_type": "stream",
          "name": "stderr",
          "text": [
            "/usr/local/lib/python3.7/dist-packages/seaborn/distributions.py:2619: FutureWarning: `distplot` is a deprecated function and will be removed in a future version. Please adapt your code to use either `displot` (a figure-level function with similar flexibility) or `histplot` (an axes-level function for histograms).\n",
            "  warnings.warn(msg, FutureWarning)\n"
          ]
        },
        {
          "output_type": "execute_result",
          "data": {
            "text/plain": [
              "<matplotlib.axes._subplots.AxesSubplot at 0x7f6de57480d0>"
            ]
          },
          "metadata": {},
          "execution_count": 48
        },
        {
          "output_type": "display_data",
          "data": {
            "text/plain": [
              "<Figure size 432x288 with 1 Axes>"
            ],
            "image/png": "[encoded data removed]"
          },
          "metadata": {
            "needs_background": "light"
          }
        }
      ]
    },
    {
      "cell_type": "code",
      "source": [
        "pd.qcut(sub1_no_outlier['Duration'], q = 2).value_counts()"
      ],
      "metadata": {
        "colab": {
          "base_uri": "https://localhost:8080/"
        },
        "id": "_59atKrvVSBd",
        "outputId": "fe598534-4a41-41e6-80dd-b7b337c5f249"
      },
      "execution_count": 49,
      "outputs": [
        {
          "output_type": "execute_result",
          "data": {
            "text/plain": [
              "(3.999, 11.0]    169\n",
              "(11.0, 12.0]     168\n",
              "Name: Duration, dtype: int64"
            ]
          },
          "metadata": {},
          "execution_count": 49
        }
      ]
    },
    {
      "cell_type": "code",
      "source": [
        "X_train1_binned = X_train1.copy(deep = True)\n",
        "X_train1_binned['Duration_bin'] = pd.cut(X_train1_binned.Duration, bins = [3, 11, 12])\n",
        "X_train1_binned = X_train1_binned.drop('Duration', axis = 1)\n",
        "X_val1_binned = X_val1.copy(deep = True)\n",
        "X_val1_binned['Duration_bin'] = pd.cut(X_val1_binned.Duration, bins = [3, 11, 12])\n",
        "X_val1_binned = X_val1_binned.drop('Duration', axis = 1)"
      ],
      "metadata": {
        "id": "Li4HhAGHatFq"
      },
      "execution_count": 50,
      "outputs": []
    },
    {
      "cell_type": "code",
      "source": [
        "print(X_train1_binned)\n",
        "print(X_val1_binned)"
      ],
      "metadata": {
        "colab": {
          "base_uri": "https://localhost:8080/"
        },
        "id": "MjHkL1HrbRH9",
        "outputId": "793b8ac5-9410-4b50-f7ea-8cdc30cfaa60"
      },
      "execution_count": 51,
      "outputs": [
        {
          "output_type": "stream",
          "name": "stdout",
          "text": [
            "    Checking History Property Duration_bin\n",
            "295        2       0        1     (11, 12]\n",
            "179        2       2        1      (3, 11]\n",
            "253        3       2        1     (11, 12]\n",
            "284        1       2        2      (3, 11]\n",
            "356        4       2        1     (11, 12]\n",
            "..       ...     ...      ...          ...\n",
            "307        4       2        1      (3, 11]\n",
            "16         3       2        3      (3, 11]\n",
            "130        3       2        1      (3, 11]\n",
            "221        2       2        2      (3, 11]\n",
            "91         2       2        1     (11, 12]\n",
            "\n",
            "[269 rows x 4 columns]\n",
            "    Checking History Property Duration_bin\n",
            "88         4       4        1      (3, 11]\n",
            "154        3       2        1     (11, 12]\n",
            "62         4       2        2      (3, 11]\n",
            "278        4       4        1      (3, 11]\n",
            "224        1       2        3     (11, 12]\n",
            "..       ...     ...      ...          ...\n",
            "192        2       4        1     (11, 12]\n",
            "153        4       4        3      (3, 11]\n",
            "100        4       4        2     (11, 12]\n",
            "172        2       2        1     (11, 12]\n",
            "87         4       2        2     (11, 12]\n",
            "\n",
            "[68 rows x 4 columns]\n"
          ]
        }
      ]
    },
    {
      "cell_type": "markdown",
      "source": [
        "#####Subset 2"
      ],
      "metadata": {
        "id": "g1UNnyRb572i"
      }
    },
    {
      "cell_type": "code",
      "source": [
        "sns.distplot(sub2_no_outlier.Duration, color = 'maroon')"
      ],
      "metadata": {
        "colab": {
          "base_uri": "https://localhost:8080/",
          "height": 351
        },
        "id": "guE2rpVK59xh",
        "outputId": "79ba932d-f2c6-41ad-8918-333709711ea5"
      },
      "execution_count": 52,
      "outputs": [
        {
          "output_type": "stream",
          "name": "stderr",
          "text": [
            "/usr/local/lib/python3.7/dist-packages/seaborn/distributions.py:2619: FutureWarning: `distplot` is a deprecated function and will be removed in a future version. Please adapt your code to use either `displot` (a figure-level function with similar flexibility) or `histplot` (an axes-level function for histograms).\n",
            "  warnings.warn(msg, FutureWarning)\n"
          ]
        },
        {
          "output_type": "execute_result",
          "data": {
            "text/plain": [
              "<matplotlib.axes._subplots.AxesSubplot at 0x7f6de576d0d0>"
            ]
          },
          "metadata": {},
          "execution_count": 52
        },
        {
          "output_type": "display_data",
          "data": {
            "text/plain": [
              "<Figure size 432x288 with 1 Axes>"
            ],
            "image/png": "[encoded data removed]"
          },
          "metadata": {
            "needs_background": "light"
          }
        }
      ]
    },
    {
      "cell_type": "code",
      "source": [
        "pd.qcut(sub2_no_outlier.Duration, q = 3).value_counts()"
      ],
      "metadata": {
        "colab": {
          "base_uri": "https://localhost:8080/"
        },
        "id": "c6KAUfL_6V7q",
        "outputId": "ea16b2a9-6a19-4495-bfa9-50396602f3c4"
      },
      "execution_count": 53,
      "outputs": [
        {
          "output_type": "execute_result",
          "data": {
            "text/plain": [
              "(12.999, 21.0]    219\n",
              "(27.0, 60.0]      192\n",
              "(21.0, 27.0]      190\n",
              "Name: Duration, dtype: int64"
            ]
          },
          "metadata": {},
          "execution_count": 53
        }
      ]
    },
    {
      "cell_type": "code",
      "source": [
        "X_train2_binned = X_train2.copy(deep = True)\n",
        "X_train2_binned['Duration_bin'] = pd.cut(X_train2_binned.Duration, bins = [12, 21, 27, 60])\n",
        "X_train2_binned = X_train2_binned.drop('Duration', axis = 1)\n",
        "X_train2_binned"
      ],
      "metadata": {
        "colab": {
          "base_uri": "https://localhost:8080/",
          "height": 423
        },
        "id": "ctn-UPWi6wzs",
        "outputId": "9e240916-1d41-4146-963e-f6c60ff25f87"
      },
      "execution_count": 54,
      "outputs": [
        {
          "output_type": "execute_result",
          "data": {
            "text/plain": [
              "    Checking History Savings Duration_bin\n",
              "596        1       2       1     (27, 60]\n",
              "358        1       1       3     (21, 27]\n",
              "592        2       2       3     (21, 27]\n",
              "152        4       2       5     (21, 27]\n",
              "511        3       2       1     (12, 21]\n",
              "..       ...     ...     ...          ...\n",
              "470        1       2       5     (21, 27]\n",
              "553        4       4       1     (12, 21]\n",
              "115        2       3       1     (12, 21]\n",
              "512        1       4       1     (21, 27]\n",
              "46         2       2       1     (27, 60]\n",
              "\n",
              "[480 rows x 4 columns]"
            ],
            "text/html": [
              "\n",
              "  <div id=\"df-711582f7-2acf-45bd-8bbf-420aaf6a6532\">\n",
              "    <div class=\"colab-df-container\">\n",
              "      <div>\n",
              "<style scoped>\n",
              "    .dataframe tbody tr th:only-of-type {\n",
              "        vertical-align: middle;\n",
              "    }\n",
              "\n",
              "    .dataframe tbody tr th {\n",
              "        vertical-align: top;\n",
              "    }\n",
              "\n",
              "    .dataframe thead th {\n",
              "        text-align: right;\n",
              "    }\n",
              "</style>\n",
              "<table border=\"1\" class=\"dataframe\">\n",
              "  <thead>\n",
              "    <tr style=\"text-align: right;\">\n",
              "      <th></th>\n",
              "      <th>Checking</th>\n",
              "      <th>History</th>\n",
              "      <th>Savings</th>\n",
              "      <th>Duration_bin</th>\n",
              "    </tr>\n",
              "  </thead>\n",
              "  <tbody>\n",
              "    <tr>\n",
              "      <th>596</th>\n",
              "      <td>1</td>\n",
              "      <td>2</td>\n",
              "      <td>1</td>\n",
              "      <td>(27, 60]</td>\n",
              "    </tr>\n",
              "    <tr>\n",
              "      <th>358</th>\n",
              "      <td>1</td>\n",
              "      <td>1</td>\n",
              "      <td>3</td>\n",
              "      <td>(21, 27]</td>\n",
              "    </tr>\n",
              "    <tr>\n",
              "      <th>592</th>\n",
              "      <td>2</td>\n",
              "      <td>2</td>\n",
              "      <td>3</td>\n",
              "      <td>(21, 27]</td>\n",
              "    </tr>\n",
              "    <tr>\n",
              "      <th>152</th>\n",
              "      <td>4</td>\n",
              "      <td>2</td>\n",
              "      <td>5</td>\n",
              "      <td>(21, 27]</td>\n",
              "    </tr>\n",
              "    <tr>\n",
              "      <th>511</th>\n",
              "      <td>3</td>\n",
              "      <td>2</td>\n",
              "      <td>1</td>\n",
              "      <td>(12, 21]</td>\n",
              "    </tr>\n",
              "    <tr>\n",
              "      <th>...</th>\n",
              "      <td>...</td>\n",
              "      <td>...</td>\n",
              "      <td>...</td>\n",
              "      <td>...</td>\n",
              "    </tr>\n",
              "    <tr>\n",
              "      <th>470</th>\n",
              "      <td>1</td>\n",
              "      <td>2</td>\n",
              "      <td>5</td>\n",
              "      <td>(21, 27]</td>\n",
              "    </tr>\n",
              "    <tr>\n",
              "      <th>553</th>\n",
              "      <td>4</td>\n",
              "      <td>4</td>\n",
              "      <td>1</td>\n",
              "      <td>(12, 21]</td>\n",
              "    </tr>\n",
              "    <tr>\n",
              "      <th>115</th>\n",
              "      <td>2</td>\n",
              "      <td>3</td>\n",
              "      <td>1</td>\n",
              "      <td>(12, 21]</td>\n",
              "    </tr>\n",
              "    <tr>\n",
              "      <th>512</th>\n",
              "      <td>1</td>\n",
              "      <td>4</td>\n",
              "      <td>1</td>\n",
              "      <td>(21, 27]</td>\n",
              "    </tr>\n",
              "    <tr>\n",
              "      <th>46</th>\n",
              "      <td>2</td>\n",
              "      <td>2</td>\n",
              "      <td>1</td>\n",
              "      <td>(27, 60]</td>\n",
              "    </tr>\n",
              "  </tbody>\n",
              "</table>\n",
              "<p>480 rows × 4 columns</p>\n",
              "</div>\n",
              "      <button class=\"colab-df-convert\" onclick=\"convertToInteractive('df-711582f7-2acf-45bd-8bbf-420aaf6a6532')\"\n",
              "              title=\"Convert this dataframe to an interactive table.\"\n",
              "              style=\"display:none;\">\n",
              "        \n",
              "  <svg xmlns=\"http://www.w3.org/2000/svg\" height=\"24px\"viewBox=\"0 0 24 24\"\n",
              "       width=\"24px\">\n",
              "    <path d=\"M0 0h24v24H0V0z\" fill=\"none\"/>\n",
              "    <path d=\"M18.56 5.44l.94 2.06.94-2.06 2.06-.94-2.06-.94-.94-2.06-.94 2.06-2.06.94zm-11 1L8.5 8.5l.94-2.06 2.06-.94-2.06-.94L8.5 2.5l-.94 2.06-2.06.94zm10 10l.94 2.06.94-2.06 2.06-.94-2.06-.94-.94-2.06-.94 2.06-2.06.94z\"/><path d=\"M17.41 7.96l-1.37-1.37c-.4-.4-.92-.59-1.43-.59-.52 0-1.04.2-1.43.59L10.3 9.45l-7.72 7.72c-.78.78-.78 2.05 0 2.83L4 21.41c.39.39.9.59 1.41.59.51 0 1.02-.2 1.41-.59l7.78-7.78 2.81-2.81c.8-.78.8-2.07 0-2.86zM5.41 20L4 18.59l7.72-7.72 1.47 1.35L5.41 20z\"/>\n",
              "  </svg>\n",
              "      </button>\n",
              "      \n",
              "  <style>\n",
              "    .colab-df-container {\n",
              "      display:flex;\n",
              "      flex-wrap:wrap;\n",
              "      gap: 12px;\n",
              "    }\n",
              "\n",
              "    .colab-df-convert {\n",
              "      background-color: #E8F0FE;\n",
              "      border: none;\n",
              "      border-radius: 50%;\n",
              "      cursor: pointer;\n",
              "      display: none;\n",
              "      fill: #1967D2;\n",
              "      height: 32px;\n",
              "      padding: 0 0 0 0;\n",
              "      width: 32px;\n",
              "    }\n",
              "\n",
              "    .colab-df-convert:hover {\n",
              "      background-color: #E2EBFA;\n",
              "      box-shadow: 0px 1px 2px rgba(60, 64, 67, 0.3), 0px 1px 3px 1px rgba(60, 64, 67, 0.15);\n",
              "      fill: #174EA6;\n",
              "    }\n",
              "\n",
              "    [theme=dark] .colab-df-convert {\n",
              "      background-color: #3B4455;\n",
              "      fill: #D2E3FC;\n",
              "    }\n",
              "\n",
              "    [theme=dark] .colab-df-convert:hover {\n",
              "      background-color: #434B5C;\n",
              "      box-shadow: 0px 1px 3px 1px rgba(0, 0, 0, 0.15);\n",
              "      filter: drop-shadow(0px 1px 2px rgba(0, 0, 0, 0.3));\n",
              "      fill: #FFFFFF;\n",
              "    }\n",
              "  </style>\n",
              "\n",
              "      <script>\n",
              "        const buttonEl =\n",
              "          document.querySelector('#df-711582f7-2acf-45bd-8bbf-420aaf6a6532 button.colab-df-convert');\n",
              "        buttonEl.style.display =\n",
              "          google.colab.kernel.accessAllowed ? 'block' : 'none';\n",
              "\n",
              "        async function convertToInteractive(key) {\n",
              "          const element = document.querySelector('#df-711582f7-2acf-45bd-8bbf-420aaf6a6532');\n",
              "          const dataTable =\n",
              "            await google.colab.kernel.invokeFunction('convertToInteractive',\n",
              "                                                     [key], {});\n",
              "          if (!dataTable) return;\n",
              "\n",
              "          const docLinkHtml = 'Like what you see? Visit the ' +\n",
              "            '<a target=\"_blank\" href=https://colab.research.google.com/notebooks/data_table.ipynb>data table notebook</a>'\n",
              "            + ' to learn more about interactive tables.';\n",
              "          element.innerHTML = '';\n",
              "          dataTable['output_type'] = 'display_data';\n",
              "          await google.colab.output.renderOutput(dataTable, element);\n",
              "          const docLink = document.createElement('div');\n",
              "          docLink.innerHTML = docLinkHtml;\n",
              "          element.appendChild(docLink);\n",
              "        }\n",
              "      </script>\n",
              "    </div>\n",
              "  </div>\n",
              "  "
            ]
          },
          "metadata": {},
          "execution_count": 54
        }
      ]
    },
    {
      "cell_type": "code",
      "source": [
        "X_val2_binned = X_val2.copy(deep = True)\n",
        "X_val2_binned['Duration_bin'] = pd.cut(X_val2_binned.Duration, bins = [12, 21, 27, 60])\n",
        "X_val2_binned = X_val2_binned.drop('Duration', axis = 1)\n",
        "X_val2_binned"
      ],
      "metadata": {
        "colab": {
          "base_uri": "https://localhost:8080/",
          "height": 423
        },
        "id": "f1eB-_KD7dsk",
        "outputId": "c8d99de8-439c-4408-b578-5bc868141d34"
      },
      "execution_count": 55,
      "outputs": [
        {
          "output_type": "execute_result",
          "data": {
            "text/plain": [
              "    Checking History Savings Duration_bin\n",
              "300        4       4       1     (27, 60]\n",
              "587        1       1       3     (21, 27]\n",
              "16         2       2       4     (12, 21]\n",
              "521        4       2       1     (21, 27]\n",
              "252        4       4       1     (27, 60]\n",
              "..       ...     ...     ...          ...\n",
              "217        1       1       1     (27, 60]\n",
              "249        4       2       4     (12, 21]\n",
              "314        2       4       1     (12, 21]\n",
              "406        4       4       1     (27, 60]\n",
              "325        2       0       2     (12, 21]\n",
              "\n",
              "[121 rows x 4 columns]"
            ],
            "text/html": [
              "\n",
              "  <div id=\"df-8302461b-07fa-4b6f-bba6-43163929a50f\">\n",
              "    <div class=\"colab-df-container\">\n",
              "      <div>\n",
              "<style scoped>\n",
              "    .dataframe tbody tr th:only-of-type {\n",
              "        vertical-align: middle;\n",
              "    }\n",
              "\n",
              "    .dataframe tbody tr th {\n",
              "        vertical-align: top;\n",
              "    }\n",
              "\n",
              "    .dataframe thead th {\n",
              "        text-align: right;\n",
              "    }\n",
              "</style>\n",
              "<table border=\"1\" class=\"dataframe\">\n",
              "  <thead>\n",
              "    <tr style=\"text-align: right;\">\n",
              "      <th></th>\n",
              "      <th>Checking</th>\n",
              "      <th>History</th>\n",
              "      <th>Savings</th>\n",
              "      <th>Duration_bin</th>\n",
              "    </tr>\n",
              "  </thead>\n",
              "  <tbody>\n",
              "    <tr>\n",
              "      <th>300</th>\n",
              "      <td>4</td>\n",
              "      <td>4</td>\n",
              "      <td>1</td>\n",
              "      <td>(27, 60]</td>\n",
              "    </tr>\n",
              "    <tr>\n",
              "      <th>587</th>\n",
              "      <td>1</td>\n",
              "      <td>1</td>\n",
              "      <td>3</td>\n",
              "      <td>(21, 27]</td>\n",
              "    </tr>\n",
              "    <tr>\n",
              "      <th>16</th>\n",
              "      <td>2</td>\n",
              "      <td>2</td>\n",
              "      <td>4</td>\n",
              "      <td>(12, 21]</td>\n",
              "    </tr>\n",
              "    <tr>\n",
              "      <th>521</th>\n",
              "      <td>4</td>\n",
              "      <td>2</td>\n",
              "      <td>1</td>\n",
              "      <td>(21, 27]</td>\n",
              "    </tr>\n",
              "    <tr>\n",
              "      <th>252</th>\n",
              "      <td>4</td>\n",
              "      <td>4</td>\n",
              "      <td>1</td>\n",
              "      <td>(27, 60]</td>\n",
              "    </tr>\n",
              "    <tr>\n",
              "      <th>...</th>\n",
              "      <td>...</td>\n",
              "      <td>...</td>\n",
              "      <td>...</td>\n",
              "      <td>...</td>\n",
              "    </tr>\n",
              "    <tr>\n",
              "      <th>217</th>\n",
              "      <td>1</td>\n",
              "      <td>1</td>\n",
              "      <td>1</td>\n",
              "      <td>(27, 60]</td>\n",
              "    </tr>\n",
              "    <tr>\n",
              "      <th>249</th>\n",
              "      <td>4</td>\n",
              "      <td>2</td>\n",
              "      <td>4</td>\n",
              "      <td>(12, 21]</td>\n",
              "    </tr>\n",
              "    <tr>\n",
              "      <th>314</th>\n",
              "      <td>2</td>\n",
              "      <td>4</td>\n",
              "      <td>1</td>\n",
              "      <td>(12, 21]</td>\n",
              "    </tr>\n",
              "    <tr>\n",
              "      <th>406</th>\n",
              "      <td>4</td>\n",
              "      <td>4</td>\n",
              "      <td>1</td>\n",
              "      <td>(27, 60]</td>\n",
              "    </tr>\n",
              "    <tr>\n",
              "      <th>325</th>\n",
              "      <td>2</td>\n",
              "      <td>0</td>\n",
              "      <td>2</td>\n",
              "      <td>(12, 21]</td>\n",
              "    </tr>\n",
              "  </tbody>\n",
              "</table>\n",
              "<p>121 rows × 4 columns</p>\n",
              "</div>\n",
              "      <button class=\"colab-df-convert\" onclick=\"convertToInteractive('df-8302461b-07fa-4b6f-bba6-43163929a50f')\"\n",
              "              title=\"Convert this dataframe to an interactive table.\"\n",
              "              style=\"display:none;\">\n",
              "        \n",
              "  <svg xmlns=\"http://www.w3.org/2000/svg\" height=\"24px\"viewBox=\"0 0 24 24\"\n",
              "       width=\"24px\">\n",
              "    <path d=\"M0 0h24v24H0V0z\" fill=\"none\"/>\n",
              "    <path d=\"M18.56 5.44l.94 2.06.94-2.06 2.06-.94-2.06-.94-.94-2.06-.94 2.06-2.06.94zm-11 1L8.5 8.5l.94-2.06 2.06-.94-2.06-.94L8.5 2.5l-.94 2.06-2.06.94zm10 10l.94 2.06.94-2.06 2.06-.94-2.06-.94-.94-2.06-.94 2.06-2.06.94z\"/><path d=\"M17.41 7.96l-1.37-1.37c-.4-.4-.92-.59-1.43-.59-.52 0-1.04.2-1.43.59L10.3 9.45l-7.72 7.72c-.78.78-.78 2.05 0 2.83L4 21.41c.39.39.9.59 1.41.59.51 0 1.02-.2 1.41-.59l7.78-7.78 2.81-2.81c.8-.78.8-2.07 0-2.86zM5.41 20L4 18.59l7.72-7.72 1.47 1.35L5.41 20z\"/>\n",
              "  </svg>\n",
              "      </button>\n",
              "      \n",
              "  <style>\n",
              "    .colab-df-container {\n",
              "      display:flex;\n",
              "      flex-wrap:wrap;\n",
              "      gap: 12px;\n",
              "    }\n",
              "\n",
              "    .colab-df-convert {\n",
              "      background-color: #E8F0FE;\n",
              "      border: none;\n",
              "      border-radius: 50%;\n",
              "      cursor: pointer;\n",
              "      display: none;\n",
              "      fill: #1967D2;\n",
              "      height: 32px;\n",
              "      padding: 0 0 0 0;\n",
              "      width: 32px;\n",
              "    }\n",
              "\n",
              "    .colab-df-convert:hover {\n",
              "      background-color: #E2EBFA;\n",
              "      box-shadow: 0px 1px 2px rgba(60, 64, 67, 0.3), 0px 1px 3px 1px rgba(60, 64, 67, 0.15);\n",
              "      fill: #174EA6;\n",
              "    }\n",
              "\n",
              "    [theme=dark] .colab-df-convert {\n",
              "      background-color: #3B4455;\n",
              "      fill: #D2E3FC;\n",
              "    }\n",
              "\n",
              "    [theme=dark] .colab-df-convert:hover {\n",
              "      background-color: #434B5C;\n",
              "      box-shadow: 0px 1px 3px 1px rgba(0, 0, 0, 0.15);\n",
              "      filter: drop-shadow(0px 1px 2px rgba(0, 0, 0, 0.3));\n",
              "      fill: #FFFFFF;\n",
              "    }\n",
              "  </style>\n",
              "\n",
              "      <script>\n",
              "        const buttonEl =\n",
              "          document.querySelector('#df-8302461b-07fa-4b6f-bba6-43163929a50f button.colab-df-convert');\n",
              "        buttonEl.style.display =\n",
              "          google.colab.kernel.accessAllowed ? 'block' : 'none';\n",
              "\n",
              "        async function convertToInteractive(key) {\n",
              "          const element = document.querySelector('#df-8302461b-07fa-4b6f-bba6-43163929a50f');\n",
              "          const dataTable =\n",
              "            await google.colab.kernel.invokeFunction('convertToInteractive',\n",
              "                                                     [key], {});\n",
              "          if (!dataTable) return;\n",
              "\n",
              "          const docLinkHtml = 'Like what you see? Visit the ' +\n",
              "            '<a target=\"_blank\" href=https://colab.research.google.com/notebooks/data_table.ipynb>data table notebook</a>'\n",
              "            + ' to learn more about interactive tables.';\n",
              "          element.innerHTML = '';\n",
              "          dataTable['output_type'] = 'display_data';\n",
              "          await google.colab.output.renderOutput(dataTable, element);\n",
              "          const docLink = document.createElement('div');\n",
              "          docLink.innerHTML = docLinkHtml;\n",
              "          element.appendChild(docLink);\n",
              "        }\n",
              "      </script>\n",
              "    </div>\n",
              "  </div>\n",
              "  "
            ]
          },
          "metadata": {},
          "execution_count": 55
        }
      ]
    },
    {
      "cell_type": "markdown",
      "source": [
        "####One Hot *Encoding*"
      ],
      "metadata": {
        "id": "qc4kwtS_c1Ir"
      }
    },
    {
      "cell_type": "markdown",
      "source": [
        "#####Subset 1"
      ],
      "metadata": {
        "id": "caQ2BFQnAgK1"
      }
    },
    {
      "cell_type": "code",
      "source": [
        "X_train1_hotEncoding = pd.get_dummies(X_train1_binned, columns = ['Checking', 'History', 'Property', 'Duration_bin'], drop_first = True)\n",
        "X_train1_hotEncoding"
      ],
      "metadata": {
        "colab": {
          "base_uri": "https://localhost:8080/",
          "height": 423
        },
        "id": "xrplNSg1cTTQ",
        "outputId": "2f8a8395-b8da-4312-b74e-89b3f9d7a2c2"
      },
      "execution_count": 56,
      "outputs": [
        {
          "output_type": "execute_result",
          "data": {
            "text/plain": [
              "     Checking_2  Checking_3  Checking_4  History_1  History_2  History_3  \\\n",
              "295           1           0           0          0          0          0   \n",
              "179           1           0           0          0          1          0   \n",
              "253           0           1           0          0          1          0   \n",
              "284           0           0           0          0          1          0   \n",
              "356           0           0           1          0          1          0   \n",
              "..          ...         ...         ...        ...        ...        ...   \n",
              "307           0           0           1          0          1          0   \n",
              "16            0           1           0          0          1          0   \n",
              "130           0           1           0          0          1          0   \n",
              "221           1           0           0          0          1          0   \n",
              "91            1           0           0          0          1          0   \n",
              "\n",
              "     History_4  Property_2  Property_3  Property_4  Duration_bin_(11, 12]  \n",
              "295          0           0           0           0                      1  \n",
              "179          0           0           0           0                      0  \n",
              "253          0           0           0           0                      1  \n",
              "284          0           1           0           0                      0  \n",
              "356          0           0           0           0                      1  \n",
              "..         ...         ...         ...         ...                    ...  \n",
              "307          0           0           0           0                      0  \n",
              "16           0           0           1           0                      0  \n",
              "130          0           0           0           0                      0  \n",
              "221          0           1           0           0                      0  \n",
              "91           0           0           0           0                      1  \n",
              "\n",
              "[269 rows x 11 columns]"
            ],
            "text/html": [
              "\n",
              "  <div id=\"df-2617056f-d623-4207-bfb0-7cee1f6ebc25\">\n",
              "    <div class=\"colab-df-container\">\n",
              "      <div>\n",
              "<style scoped>\n",
              "    .dataframe tbody tr th:only-of-type {\n",
              "        vertical-align: middle;\n",
              "    }\n",
              "\n",
              "    .dataframe tbody tr th {\n",
              "        vertical-align: top;\n",
              "    }\n",
              "\n",
              "    .dataframe thead th {\n",
              "        text-align: right;\n",
              "    }\n",
              "</style>\n",
              "<table border=\"1\" class=\"dataframe\">\n",
              "  <thead>\n",
              "    <tr style=\"text-align: right;\">\n",
              "      <th></th>\n",
              "      <th>Checking_2</th>\n",
              "      <th>Checking_3</th>\n",
              "      <th>Checking_4</th>\n",
              "      <th>History_1</th>\n",
              "      <th>History_2</th>\n",
              "      <th>History_3</th>\n",
              "      <th>History_4</th>\n",
              "      <th>Property_2</th>\n",
              "      <th>Property_3</th>\n",
              "      <th>Property_4</th>\n",
              "      <th>Duration_bin_(11, 12]</th>\n",
              "    </tr>\n",
              "  </thead>\n",
              "  <tbody>\n",
              "    <tr>\n",
              "      <th>295</th>\n",
              "      <td>1</td>\n",
              "      <td>0</td>\n",
              "      <td>0</td>\n",
              "      <td>0</td>\n",
              "      <td>0</td>\n",
              "      <td>0</td>\n",
              "      <td>0</td>\n",
              "      <td>0</td>\n",
              "      <td>0</td>\n",
              "      <td>0</td>\n",
              "      <td>1</td>\n",
              "    </tr>\n",
              "    <tr>\n",
              "      <th>179</th>\n",
              "      <td>1</td>\n",
              "      <td>0</td>\n",
              "      <td>0</td>\n",
              "      <td>0</td>\n",
              "      <td>1</td>\n",
              "      <td>0</td>\n",
              "      <td>0</td>\n",
              "      <td>0</td>\n",
              "      <td>0</td>\n",
              "      <td>0</td>\n",
              "      <td>0</td>\n",
              "    </tr>\n",
              "    <tr>\n",
              "      <th>253</th>\n",
              "      <td>0</td>\n",
              "      <td>1</td>\n",
              "      <td>0</td>\n",
              "      <td>0</td>\n",
              "      <td>1</td>\n",
              "      <td>0</td>\n",
              "      <td>0</td>\n",
              "      <td>0</td>\n",
              "      <td>0</td>\n",
              "      <td>0</td>\n",
              "      <td>1</td>\n",
              "    </tr>\n",
              "    <tr>\n",
              "      <th>284</th>\n",
              "      <td>0</td>\n",
              "      <td>0</td>\n",
              "      <td>0</td>\n",
              "      <td>0</td>\n",
              "      <td>1</td>\n",
              "      <td>0</td>\n",
              "      <td>0</td>\n",
              "      <td>1</td>\n",
              "      <td>0</td>\n",
              "      <td>0</td>\n",
              "      <td>0</td>\n",
              "    </tr>\n",
              "    <tr>\n",
              "      <th>356</th>\n",
              "      <td>0</td>\n",
              "      <td>0</td>\n",
              "      <td>1</td>\n",
              "      <td>0</td>\n",
              "      <td>1</td>\n",
              "      <td>0</td>\n",
              "      <td>0</td>\n",
              "      <td>0</td>\n",
              "      <td>0</td>\n",
              "      <td>0</td>\n",
              "      <td>1</td>\n",
              "    </tr>\n",
              "    <tr>\n",
              "      <th>...</th>\n",
              "      <td>...</td>\n",
              "      <td>...</td>\n",
              "      <td>...</td>\n",
              "      <td>...</td>\n",
              "      <td>...</td>\n",
              "      <td>...</td>\n",
              "      <td>...</td>\n",
              "      <td>...</td>\n",
              "      <td>...</td>\n",
              "      <td>...</td>\n",
              "      <td>...</td>\n",
              "    </tr>\n",
              "    <tr>\n",
              "      <th>307</th>\n",
              "      <td>0</td>\n",
              "      <td>0</td>\n",
              "      <td>1</td>\n",
              "      <td>0</td>\n",
              "      <td>1</td>\n",
              "      <td>0</td>\n",
              "      <td>0</td>\n",
              "      <td>0</td>\n",
              "      <td>0</td>\n",
              "      <td>0</td>\n",
              "      <td>0</td>\n",
              "    </tr>\n",
              "    <tr>\n",
              "      <th>16</th>\n",
              "      <td>0</td>\n",
              "      <td>1</td>\n",
              "      <td>0</td>\n",
              "      <td>0</td>\n",
              "      <td>1</td>\n",
              "      <td>0</td>\n",
              "      <td>0</td>\n",
              "      <td>0</td>\n",
              "      <td>1</td>\n",
              "      <td>0</td>\n",
              "      <td>0</td>\n",
              "    </tr>\n",
              "    <tr>\n",
              "      <th>130</th>\n",
              "      <td>0</td>\n",
              "      <td>1</td>\n",
              "      <td>0</td>\n",
              "      <td>0</td>\n",
              "      <td>1</td>\n",
              "      <td>0</td>\n",
              "      <td>0</td>\n",
              "      <td>0</td>\n",
              "      <td>0</td>\n",
              "      <td>0</td>\n",
              "      <td>0</td>\n",
              "    </tr>\n",
              "    <tr>\n",
              "      <th>221</th>\n",
              "      <td>1</td>\n",
              "      <td>0</td>\n",
              "      <td>0</td>\n",
              "      <td>0</td>\n",
              "      <td>1</td>\n",
              "      <td>0</td>\n",
              "      <td>0</td>\n",
              "      <td>1</td>\n",
              "      <td>0</td>\n",
              "      <td>0</td>\n",
              "      <td>0</td>\n",
              "    </tr>\n",
              "    <tr>\n",
              "      <th>91</th>\n",
              "      <td>1</td>\n",
              "      <td>0</td>\n",
              "      <td>0</td>\n",
              "      <td>0</td>\n",
              "      <td>1</td>\n",
              "      <td>0</td>\n",
              "      <td>0</td>\n",
              "      <td>0</td>\n",
              "      <td>0</td>\n",
              "      <td>0</td>\n",
              "      <td>1</td>\n",
              "    </tr>\n",
              "  </tbody>\n",
              "</table>\n",
              "<p>269 rows × 11 columns</p>\n",
              "</div>\n",
              "      <button class=\"colab-df-convert\" onclick=\"convertToInteractive('df-2617056f-d623-4207-bfb0-7cee1f6ebc25')\"\n",
              "              title=\"Convert this dataframe to an interactive table.\"\n",
              "              style=\"display:none;\">\n",
              "        \n",
              "  <svg xmlns=\"http://www.w3.org/2000/svg\" height=\"24px\"viewBox=\"0 0 24 24\"\n",
              "       width=\"24px\">\n",
              "    <path d=\"M0 0h24v24H0V0z\" fill=\"none\"/>\n",
              "    <path d=\"M18.56 5.44l.94 2.06.94-2.06 2.06-.94-2.06-.94-.94-2.06-.94 2.06-2.06.94zm-11 1L8.5 8.5l.94-2.06 2.06-.94-2.06-.94L8.5 2.5l-.94 2.06-2.06.94zm10 10l.94 2.06.94-2.06 2.06-.94-2.06-.94-.94-2.06-.94 2.06-2.06.94z\"/><path d=\"M17.41 7.96l-1.37-1.37c-.4-.4-.92-.59-1.43-.59-.52 0-1.04.2-1.43.59L10.3 9.45l-7.72 7.72c-.78.78-.78 2.05 0 2.83L4 21.41c.39.39.9.59 1.41.59.51 0 1.02-.2 1.41-.59l7.78-7.78 2.81-2.81c.8-.78.8-2.07 0-2.86zM5.41 20L4 18.59l7.72-7.72 1.47 1.35L5.41 20z\"/>\n",
              "  </svg>\n",
              "      </button>\n",
              "      \n",
              "  <style>\n",
              "    .colab-df-container {\n",
              "      display:flex;\n",
              "      flex-wrap:wrap;\n",
              "      gap: 12px;\n",
              "    }\n",
              "\n",
              "    .colab-df-convert {\n",
              "      background-color: #E8F0FE;\n",
              "      border: none;\n",
              "      border-radius: 50%;\n",
              "      cursor: pointer;\n",
              "      display: none;\n",
              "      fill: #1967D2;\n",
              "      height: 32px;\n",
              "      padding: 0 0 0 0;\n",
              "      width: 32px;\n",
              "    }\n",
              "\n",
              "    .colab-df-convert:hover {\n",
              "      background-color: #E2EBFA;\n",
              "      box-shadow: 0px 1px 2px rgba(60, 64, 67, 0.3), 0px 1px 3px 1px rgba(60, 64, 67, 0.15);\n",
              "      fill: #174EA6;\n",
              "    }\n",
              "\n",
              "    [theme=dark] .colab-df-convert {\n",
              "      background-color: #3B4455;\n",
              "      fill: #D2E3FC;\n",
              "    }\n",
              "\n",
              "    [theme=dark] .colab-df-convert:hover {\n",
              "      background-color: #434B5C;\n",
              "      box-shadow: 0px 1px 3px 1px rgba(0, 0, 0, 0.15);\n",
              "      filter: drop-shadow(0px 1px 2px rgba(0, 0, 0, 0.3));\n",
              "      fill: #FFFFFF;\n",
              "    }\n",
              "  </style>\n",
              "\n",
              "      <script>\n",
              "        const buttonEl =\n",
              "          document.querySelector('#df-2617056f-d623-4207-bfb0-7cee1f6ebc25 button.colab-df-convert');\n",
              "        buttonEl.style.display =\n",
              "          google.colab.kernel.accessAllowed ? 'block' : 'none';\n",
              "\n",
              "        async function convertToInteractive(key) {\n",
              "          const element = document.querySelector('#df-2617056f-d623-4207-bfb0-7cee1f6ebc25');\n",
              "          const dataTable =\n",
              "            await google.colab.kernel.invokeFunction('convertToInteractive',\n",
              "                                                     [key], {});\n",
              "          if (!dataTable) return;\n",
              "\n",
              "          const docLinkHtml = 'Like what you see? Visit the ' +\n",
              "            '<a target=\"_blank\" href=https://colab.research.google.com/notebooks/data_table.ipynb>data table notebook</a>'\n",
              "            + ' to learn more about interactive tables.';\n",
              "          element.innerHTML = '';\n",
              "          dataTable['output_type'] = 'display_data';\n",
              "          await google.colab.output.renderOutput(dataTable, element);\n",
              "          const docLink = document.createElement('div');\n",
              "          docLink.innerHTML = docLinkHtml;\n",
              "          element.appendChild(docLink);\n",
              "        }\n",
              "      </script>\n",
              "    </div>\n",
              "  </div>\n",
              "  "
            ]
          },
          "metadata": {},
          "execution_count": 56
        }
      ]
    },
    {
      "cell_type": "code",
      "source": [
        "X_val1_hotEncoding = pd.get_dummies(X_val1_binned, columns = ['Checking', 'History', 'Property', 'Duration_bin'], drop_first = True)\n",
        "X_val1_hotEncoding"
      ],
      "metadata": {
        "colab": {
          "base_uri": "https://localhost:8080/",
          "height": 423
        },
        "id": "lhly6TmMik46",
        "outputId": "19e1eeb3-312d-48c7-87f5-5cb23cc8079c"
      },
      "execution_count": 57,
      "outputs": [
        {
          "output_type": "execute_result",
          "data": {
            "text/plain": [
              "     Checking_2  Checking_3  Checking_4  History_1  History_2  History_3  \\\n",
              "88            0           0           1          0          0          0   \n",
              "154           0           1           0          0          1          0   \n",
              "62            0           0           1          0          1          0   \n",
              "278           0           0           1          0          0          0   \n",
              "224           0           0           0          0          1          0   \n",
              "..          ...         ...         ...        ...        ...        ...   \n",
              "192           1           0           0          0          0          0   \n",
              "153           0           0           1          0          0          0   \n",
              "100           0           0           1          0          0          0   \n",
              "172           1           0           0          0          1          0   \n",
              "87            0           0           1          0          1          0   \n",
              "\n",
              "     History_4  Property_2  Property_3  Property_4  Duration_bin_(11, 12]  \n",
              "88           1           0           0           0                      0  \n",
              "154          0           0           0           0                      1  \n",
              "62           0           1           0           0                      0  \n",
              "278          1           0           0           0                      0  \n",
              "224          0           0           1           0                      1  \n",
              "..         ...         ...         ...         ...                    ...  \n",
              "192          1           0           0           0                      1  \n",
              "153          1           0           1           0                      0  \n",
              "100          1           1           0           0                      1  \n",
              "172          0           0           0           0                      1  \n",
              "87           0           1           0           0                      1  \n",
              "\n",
              "[68 rows x 11 columns]"
            ],
            "text/html": [
              "\n",
              "  <div id=\"df-575c4e23-6ae7-4505-8bcc-85d0779b9b3d\">\n",
              "    <div class=\"colab-df-container\">\n",
              "      <div>\n",
              "<style scoped>\n",
              "    .dataframe tbody tr th:only-of-type {\n",
              "        vertical-align: middle;\n",
              "    }\n",
              "\n",
              "    .dataframe tbody tr th {\n",
              "        vertical-align: top;\n",
              "    }\n",
              "\n",
              "    .dataframe thead th {\n",
              "        text-align: right;\n",
              "    }\n",
              "</style>\n",
              "<table border=\"1\" class=\"dataframe\">\n",
              "  <thead>\n",
              "    <tr style=\"text-align: right;\">\n",
              "      <th></th>\n",
              "      <th>Checking_2</th>\n",
              "      <th>Checking_3</th>\n",
              "      <th>Checking_4</th>\n",
              "      <th>History_1</th>\n",
              "      <th>History_2</th>\n",
              "      <th>History_3</th>\n",
              "      <th>History_4</th>\n",
              "      <th>Property_2</th>\n",
              "      <th>Property_3</th>\n",
              "      <th>Property_4</th>\n",
              "      <th>Duration_bin_(11, 12]</th>\n",
              "    </tr>\n",
              "  </thead>\n",
              "  <tbody>\n",
              "    <tr>\n",
              "      <th>88</th>\n",
              "      <td>0</td>\n",
              "      <td>0</td>\n",
              "      <td>1</td>\n",
              "      <td>0</td>\n",
              "      <td>0</td>\n",
              "      <td>0</td>\n",
              "      <td>1</td>\n",
              "      <td>0</td>\n",
              "      <td>0</td>\n",
              "      <td>0</td>\n",
              "      <td>0</td>\n",
              "    </tr>\n",
              "    <tr>\n",
              "      <th>154</th>\n",
              "      <td>0</td>\n",
              "      <td>1</td>\n",
              "      <td>0</td>\n",
              "      <td>0</td>\n",
              "      <td>1</td>\n",
              "      <td>0</td>\n",
              "      <td>0</td>\n",
              "      <td>0</td>\n",
              "      <td>0</td>\n",
              "      <td>0</td>\n",
              "      <td>1</td>\n",
              "    </tr>\n",
              "    <tr>\n",
              "      <th>62</th>\n",
              "      <td>0</td>\n",
              "      <td>0</td>\n",
              "      <td>1</td>\n",
              "      <td>0</td>\n",
              "      <td>1</td>\n",
              "      <td>0</td>\n",
              "      <td>0</td>\n",
              "      <td>1</td>\n",
              "      <td>0</td>\n",
              "      <td>0</td>\n",
              "      <td>0</td>\n",
              "    </tr>\n",
              "    <tr>\n",
              "      <th>278</th>\n",
              "      <td>0</td>\n",
              "      <td>0</td>\n",
              "      <td>1</td>\n",
              "      <td>0</td>\n",
              "      <td>0</td>\n",
              "      <td>0</td>\n",
              "      <td>1</td>\n",
              "      <td>0</td>\n",
              "      <td>0</td>\n",
              "      <td>0</td>\n",
              "      <td>0</td>\n",
              "    </tr>\n",
              "    <tr>\n",
              "      <th>224</th>\n",
              "      <td>0</td>\n",
              "      <td>0</td>\n",
              "      <td>0</td>\n",
              "      <td>0</td>\n",
              "      <td>1</td>\n",
              "      <td>0</td>\n",
              "      <td>0</td>\n",
              "      <td>0</td>\n",
              "      <td>1</td>\n",
              "      <td>0</td>\n",
              "      <td>1</td>\n",
              "    </tr>\n",
              "    <tr>\n",
              "      <th>...</th>\n",
              "      <td>...</td>\n",
              "      <td>...</td>\n",
              "      <td>...</td>\n",
              "      <td>...</td>\n",
              "      <td>...</td>\n",
              "      <td>...</td>\n",
              "      <td>...</td>\n",
              "      <td>...</td>\n",
              "      <td>...</td>\n",
              "      <td>...</td>\n",
              "      <td>...</td>\n",
              "    </tr>\n",
              "    <tr>\n",
              "      <th>192</th>\n",
              "      <td>1</td>\n",
              "      <td>0</td>\n",
              "      <td>0</td>\n",
              "      <td>0</td>\n",
              "      <td>0</td>\n",
              "      <td>0</td>\n",
              "      <td>1</td>\n",
              "      <td>0</td>\n",
              "      <td>0</td>\n",
              "      <td>0</td>\n",
              "      <td>1</td>\n",
              "    </tr>\n",
              "    <tr>\n",
              "      <th>153</th>\n",
              "      <td>0</td>\n",
              "      <td>0</td>\n",
              "      <td>1</td>\n",
              "      <td>0</td>\n",
              "      <td>0</td>\n",
              "      <td>0</td>\n",
              "      <td>1</td>\n",
              "      <td>0</td>\n",
              "      <td>1</td>\n",
              "      <td>0</td>\n",
              "      <td>0</td>\n",
              "    </tr>\n",
              "    <tr>\n",
              "      <th>100</th>\n",
              "      <td>0</td>\n",
              "      <td>0</td>\n",
              "      <td>1</td>\n",
              "      <td>0</td>\n",
              "      <td>0</td>\n",
              "      <td>0</td>\n",
              "      <td>1</td>\n",
              "      <td>1</td>\n",
              "      <td>0</td>\n",
              "      <td>0</td>\n",
              "      <td>1</td>\n",
              "    </tr>\n",
              "    <tr>\n",
              "      <th>172</th>\n",
              "      <td>1</td>\n",
              "      <td>0</td>\n",
              "      <td>0</td>\n",
              "      <td>0</td>\n",
              "      <td>1</td>\n",
              "      <td>0</td>\n",
              "      <td>0</td>\n",
              "      <td>0</td>\n",
              "      <td>0</td>\n",
              "      <td>0</td>\n",
              "      <td>1</td>\n",
              "    </tr>\n",
              "    <tr>\n",
              "      <th>87</th>\n",
              "      <td>0</td>\n",
              "      <td>0</td>\n",
              "      <td>1</td>\n",
              "      <td>0</td>\n",
              "      <td>1</td>\n",
              "      <td>0</td>\n",
              "      <td>0</td>\n",
              "      <td>1</td>\n",
              "      <td>0</td>\n",
              "      <td>0</td>\n",
              "      <td>1</td>\n",
              "    </tr>\n",
              "  </tbody>\n",
              "</table>\n",
              "<p>68 rows × 11 columns</p>\n",
              "</div>\n",
              "      <button class=\"colab-df-convert\" onclick=\"convertToInteractive('df-575c4e23-6ae7-4505-8bcc-85d0779b9b3d')\"\n",
              "              title=\"Convert this dataframe to an interactive table.\"\n",
              "              style=\"display:none;\">\n",
              "        \n",
              "  <svg xmlns=\"http://www.w3.org/2000/svg\" height=\"24px\"viewBox=\"0 0 24 24\"\n",
              "       width=\"24px\">\n",
              "    <path d=\"M0 0h24v24H0V0z\" fill=\"none\"/>\n",
              "    <path d=\"M18.56 5.44l.94 2.06.94-2.06 2.06-.94-2.06-.94-.94-2.06-.94 2.06-2.06.94zm-11 1L8.5 8.5l.94-2.06 2.06-.94-2.06-.94L8.5 2.5l-.94 2.06-2.06.94zm10 10l.94 2.06.94-2.06 2.06-.94-2.06-.94-.94-2.06-.94 2.06-2.06.94z\"/><path d=\"M17.41 7.96l-1.37-1.37c-.4-.4-.92-.59-1.43-.59-.52 0-1.04.2-1.43.59L10.3 9.45l-7.72 7.72c-.78.78-.78 2.05 0 2.83L4 21.41c.39.39.9.59 1.41.59.51 0 1.02-.2 1.41-.59l7.78-7.78 2.81-2.81c.8-.78.8-2.07 0-2.86zM5.41 20L4 18.59l7.72-7.72 1.47 1.35L5.41 20z\"/>\n",
              "  </svg>\n",
              "      </button>\n",
              "      \n",
              "  <style>\n",
              "    .colab-df-container {\n",
              "      display:flex;\n",
              "      flex-wrap:wrap;\n",
              "      gap: 12px;\n",
              "    }\n",
              "\n",
              "    .colab-df-convert {\n",
              "      background-color: #E8F0FE;\n",
              "      border: none;\n",
              "      border-radius: 50%;\n",
              "      cursor: pointer;\n",
              "      display: none;\n",
              "      fill: #1967D2;\n",
              "      height: 32px;\n",
              "      padding: 0 0 0 0;\n",
              "      width: 32px;\n",
              "    }\n",
              "\n",
              "    .colab-df-convert:hover {\n",
              "      background-color: #E2EBFA;\n",
              "      box-shadow: 0px 1px 2px rgba(60, 64, 67, 0.3), 0px 1px 3px 1px rgba(60, 64, 67, 0.15);\n",
              "      fill: #174EA6;\n",
              "    }\n",
              "\n",
              "    [theme=dark] .colab-df-convert {\n",
              "      background-color: #3B4455;\n",
              "      fill: #D2E3FC;\n",
              "    }\n",
              "\n",
              "    [theme=dark] .colab-df-convert:hover {\n",
              "      background-color: #434B5C;\n",
              "      box-shadow: 0px 1px 3px 1px rgba(0, 0, 0, 0.15);\n",
              "      filter: drop-shadow(0px 1px 2px rgba(0, 0, 0, 0.3));\n",
              "      fill: #FFFFFF;\n",
              "    }\n",
              "  </style>\n",
              "\n",
              "      <script>\n",
              "        const buttonEl =\n",
              "          document.querySelector('#df-575c4e23-6ae7-4505-8bcc-85d0779b9b3d button.colab-df-convert');\n",
              "        buttonEl.style.display =\n",
              "          google.colab.kernel.accessAllowed ? 'block' : 'none';\n",
              "\n",
              "        async function convertToInteractive(key) {\n",
              "          const element = document.querySelector('#df-575c4e23-6ae7-4505-8bcc-85d0779b9b3d');\n",
              "          const dataTable =\n",
              "            await google.colab.kernel.invokeFunction('convertToInteractive',\n",
              "                                                     [key], {});\n",
              "          if (!dataTable) return;\n",
              "\n",
              "          const docLinkHtml = 'Like what you see? Visit the ' +\n",
              "            '<a target=\"_blank\" href=https://colab.research.google.com/notebooks/data_table.ipynb>data table notebook</a>'\n",
              "            + ' to learn more about interactive tables.';\n",
              "          element.innerHTML = '';\n",
              "          dataTable['output_type'] = 'display_data';\n",
              "          await google.colab.output.renderOutput(dataTable, element);\n",
              "          const docLink = document.createElement('div');\n",
              "          docLink.innerHTML = docLinkHtml;\n",
              "          element.appendChild(docLink);\n",
              "        }\n",
              "      </script>\n",
              "    </div>\n",
              "  </div>\n",
              "  "
            ]
          },
          "metadata": {},
          "execution_count": 57
        }
      ]
    },
    {
      "cell_type": "markdown",
      "source": [
        "#####Subset 2"
      ],
      "metadata": {
        "id": "o_2uINnaAjYi"
      }
    },
    {
      "cell_type": "code",
      "source": [
        "X_train2_hotEncoding = pd.get_dummies(X_train2_binned, columns = ['Checking', 'History', 'Savings', 'Duration_bin'], drop_first = True)\n",
        "X_train2_hotEncoding"
      ],
      "metadata": {
        "colab": {
          "base_uri": "https://localhost:8080/",
          "height": 505
        },
        "id": "L-ayMN11Ao1c",
        "outputId": "199f7b9b-7f3a-42bb-e824-e43272030073"
      },
      "execution_count": 58,
      "outputs": [
        {
          "output_type": "execute_result",
          "data": {
            "text/plain": [
              "     Checking_2  Checking_3  Checking_4  History_1  History_2  History_3  \\\n",
              "596           0           0           0          0          1          0   \n",
              "358           0           0           0          1          0          0   \n",
              "592           1           0           0          0          1          0   \n",
              "152           0           0           1          0          1          0   \n",
              "511           0           1           0          0          1          0   \n",
              "..          ...         ...         ...        ...        ...        ...   \n",
              "470           0           0           0          0          1          0   \n",
              "553           0           0           1          0          0          0   \n",
              "115           1           0           0          0          0          1   \n",
              "512           0           0           0          0          0          0   \n",
              "46            1           0           0          0          1          0   \n",
              "\n",
              "     History_4  Savings_2  Savings_3  Savings_4  Savings_5  \\\n",
              "596          0          0          0          0          0   \n",
              "358          0          0          1          0          0   \n",
              "592          0          0          1          0          0   \n",
              "152          0          0          0          0          1   \n",
              "511          0          0          0          0          0   \n",
              "..         ...        ...        ...        ...        ...   \n",
              "470          0          0          0          0          1   \n",
              "553          1          0          0          0          0   \n",
              "115          0          0          0          0          0   \n",
              "512          1          0          0          0          0   \n",
              "46           0          0          0          0          0   \n",
              "\n",
              "     Duration_bin_(21, 27]  Duration_bin_(27, 60]  \n",
              "596                      0                      1  \n",
              "358                      1                      0  \n",
              "592                      1                      0  \n",
              "152                      1                      0  \n",
              "511                      0                      0  \n",
              "..                     ...                    ...  \n",
              "470                      1                      0  \n",
              "553                      0                      0  \n",
              "115                      0                      0  \n",
              "512                      1                      0  \n",
              "46                       0                      1  \n",
              "\n",
              "[480 rows x 13 columns]"
            ],
            "text/html": [
              "\n",
              "  <div id=\"df-6cacd0d1-d9e3-4cbb-af21-6fe0d2785f63\">\n",
              "    <div class=\"colab-df-container\">\n",
              "      <div>\n",
              "<style scoped>\n",
              "    .dataframe tbody tr th:only-of-type {\n",
              "        vertical-align: middle;\n",
              "    }\n",
              "\n",
              "    .dataframe tbody tr th {\n",
              "        vertical-align: top;\n",
              "    }\n",
              "\n",
              "    .dataframe thead th {\n",
              "        text-align: right;\n",
              "    }\n",
              "</style>\n",
              "<table border=\"1\" class=\"dataframe\">\n",
              "  <thead>\n",
              "    <tr style=\"text-align: right;\">\n",
              "      <th></th>\n",
              "      <th>Checking_2</th>\n",
              "      <th>Checking_3</th>\n",
              "      <th>Checking_4</th>\n",
              "      <th>History_1</th>\n",
              "      <th>History_2</th>\n",
              "      <th>History_3</th>\n",
              "      <th>History_4</th>\n",
              "      <th>Savings_2</th>\n",
              "      <th>Savings_3</th>\n",
              "      <th>Savings_4</th>\n",
              "      <th>Savings_5</th>\n",
              "      <th>Duration_bin_(21, 27]</th>\n",
              "      <th>Duration_bin_(27, 60]</th>\n",
              "    </tr>\n",
              "  </thead>\n",
              "  <tbody>\n",
              "    <tr>\n",
              "      <th>596</th>\n",
              "      <td>0</td>\n",
              "      <td>0</td>\n",
              "      <td>0</td>\n",
              "      <td>0</td>\n",
              "      <td>1</td>\n",
              "      <td>0</td>\n",
              "      <td>0</td>\n",
              "      <td>0</td>\n",
              "      <td>0</td>\n",
              "      <td>0</td>\n",
              "      <td>0</td>\n",
              "      <td>0</td>\n",
              "      <td>1</td>\n",
              "    </tr>\n",
              "    <tr>\n",
              "      <th>358</th>\n",
              "      <td>0</td>\n",
              "      <td>0</td>\n",
              "      <td>0</td>\n",
              "      <td>1</td>\n",
              "      <td>0</td>\n",
              "      <td>0</td>\n",
              "      <td>0</td>\n",
              "      <td>0</td>\n",
              "      <td>1</td>\n",
              "      <td>0</td>\n",
              "      <td>0</td>\n",
              "      <td>1</td>\n",
              "      <td>0</td>\n",
              "    </tr>\n",
              "    <tr>\n",
              "      <th>592</th>\n",
              "      <td>1</td>\n",
              "      <td>0</td>\n",
              "      <td>0</td>\n",
              "      <td>0</td>\n",
              "      <td>1</td>\n",
              "      <td>0</td>\n",
              "      <td>0</td>\n",
              "      <td>0</td>\n",
              "      <td>1</td>\n",
              "      <td>0</td>\n",
              "      <td>0</td>\n",
              "      <td>1</td>\n",
              "      <td>0</td>\n",
              "    </tr>\n",
              "    <tr>\n",
              "      <th>152</th>\n",
              "      <td>0</td>\n",
              "      <td>0</td>\n",
              "      <td>1</td>\n",
              "      <td>0</td>\n",
              "      <td>1</td>\n",
              "      <td>0</td>\n",
              "      <td>0</td>\n",
              "      <td>0</td>\n",
              "      <td>0</td>\n",
              "      <td>0</td>\n",
              "      <td>1</td>\n",
              "      <td>1</td>\n",
              "      <td>0</td>\n",
              "    </tr>\n",
              "    <tr>\n",
              "      <th>511</th>\n",
              "      <td>0</td>\n",
              "      <td>1</td>\n",
              "      <td>0</td>\n",
              "      <td>0</td>\n",
              "      <td>1</td>\n",
              "      <td>0</td>\n",
              "      <td>0</td>\n",
              "      <td>0</td>\n",
              "      <td>0</td>\n",
              "      <td>0</td>\n",
              "      <td>0</td>\n",
              "      <td>0</td>\n",
              "      <td>0</td>\n",
              "    </tr>\n",
              "    <tr>\n",
              "      <th>...</th>\n",
              "      <td>...</td>\n",
              "      <td>...</td>\n",
              "      <td>...</td>\n",
              "      <td>...</td>\n",
              "      <td>...</td>\n",
              "      <td>...</td>\n",
              "      <td>...</td>\n",
              "      <td>...</td>\n",
              "      <td>...</td>\n",
              "      <td>...</td>\n",
              "      <td>...</td>\n",
              "      <td>...</td>\n",
              "      <td>...</td>\n",
              "    </tr>\n",
              "    <tr>\n",
              "      <th>470</th>\n",
              "      <td>0</td>\n",
              "      <td>0</td>\n",
              "      <td>0</td>\n",
              "      <td>0</td>\n",
              "      <td>1</td>\n",
              "      <td>0</td>\n",
              "      <td>0</td>\n",
              "      <td>0</td>\n",
              "      <td>0</td>\n",
              "      <td>0</td>\n",
              "      <td>1</td>\n",
              "      <td>1</td>\n",
              "      <td>0</td>\n",
              "    </tr>\n",
              "    <tr>\n",
              "      <th>553</th>\n",
              "      <td>0</td>\n",
              "      <td>0</td>\n",
              "      <td>1</td>\n",
              "      <td>0</td>\n",
              "      <td>0</td>\n",
              "      <td>0</td>\n",
              "      <td>1</td>\n",
              "      <td>0</td>\n",
              "      <td>0</td>\n",
              "      <td>0</td>\n",
              "      <td>0</td>\n",
              "      <td>0</td>\n",
              "      <td>0</td>\n",
              "    </tr>\n",
              "    <tr>\n",
              "      <th>115</th>\n",
              "      <td>1</td>\n",
              "      <td>0</td>\n",
              "      <td>0</td>\n",
              "      <td>0</td>\n",
              "      <td>0</td>\n",
              "      <td>1</td>\n",
              "      <td>0</td>\n",
              "      <td>0</td>\n",
              "      <td>0</td>\n",
              "      <td>0</td>\n",
              "      <td>0</td>\n",
              "      <td>0</td>\n",
              "      <td>0</td>\n",
              "    </tr>\n",
              "    <tr>\n",
              "      <th>512</th>\n",
              "      <td>0</td>\n",
              "      <td>0</td>\n",
              "      <td>0</td>\n",
              "      <td>0</td>\n",
              "      <td>0</td>\n",
              "      <td>0</td>\n",
              "      <td>1</td>\n",
              "      <td>0</td>\n",
              "      <td>0</td>\n",
              "      <td>0</td>\n",
              "      <td>0</td>\n",
              "      <td>1</td>\n",
              "      <td>0</td>\n",
              "    </tr>\n",
              "    <tr>\n",
              "      <th>46</th>\n",
              "      <td>1</td>\n",
              "      <td>0</td>\n",
              "      <td>0</td>\n",
              "      <td>0</td>\n",
              "      <td>1</td>\n",
              "      <td>0</td>\n",
              "      <td>0</td>\n",
              "      <td>0</td>\n",
              "      <td>0</td>\n",
              "      <td>0</td>\n",
              "      <td>0</td>\n",
              "      <td>0</td>\n",
              "      <td>1</td>\n",
              "    </tr>\n",
              "  </tbody>\n",
              "</table>\n",
              "<p>480 rows × 13 columns</p>\n",
              "</div>\n",
              "      <button class=\"colab-df-convert\" onclick=\"convertToInteractive('df-6cacd0d1-d9e3-4cbb-af21-6fe0d2785f63')\"\n",
              "              title=\"Convert this dataframe to an interactive table.\"\n",
              "              style=\"display:none;\">\n",
              "        \n",
              "  <svg xmlns=\"http://www.w3.org/2000/svg\" height=\"24px\"viewBox=\"0 0 24 24\"\n",
              "       width=\"24px\">\n",
              "    <path d=\"M0 0h24v24H0V0z\" fill=\"none\"/>\n",
              "    <path d=\"M18.56 5.44l.94 2.06.94-2.06 2.06-.94-2.06-.94-.94-2.06-.94 2.06-2.06.94zm-11 1L8.5 8.5l.94-2.06 2.06-.94-2.06-.94L8.5 2.5l-.94 2.06-2.06.94zm10 10l.94 2.06.94-2.06 2.06-.94-2.06-.94-.94-2.06-.94 2.06-2.06.94z\"/><path d=\"M17.41 7.96l-1.37-1.37c-.4-.4-.92-.59-1.43-.59-.52 0-1.04.2-1.43.59L10.3 9.45l-7.72 7.72c-.78.78-.78 2.05 0 2.83L4 21.41c.39.39.9.59 1.41.59.51 0 1.02-.2 1.41-.59l7.78-7.78 2.81-2.81c.8-.78.8-2.07 0-2.86zM5.41 20L4 18.59l7.72-7.72 1.47 1.35L5.41 20z\"/>\n",
              "  </svg>\n",
              "      </button>\n",
              "      \n",
              "  <style>\n",
              "    .colab-df-container {\n",
              "      display:flex;\n",
              "      flex-wrap:wrap;\n",
              "      gap: 12px;\n",
              "    }\n",
              "\n",
              "    .colab-df-convert {\n",
              "      background-color: #E8F0FE;\n",
              "      border: none;\n",
              "      border-radius: 50%;\n",
              "      cursor: pointer;\n",
              "      display: none;\n",
              "      fill: #1967D2;\n",
              "      height: 32px;\n",
              "      padding: 0 0 0 0;\n",
              "      width: 32px;\n",
              "    }\n",
              "\n",
              "    .colab-df-convert:hover {\n",
              "      background-color: #E2EBFA;\n",
              "      box-shadow: 0px 1px 2px rgba(60, 64, 67, 0.3), 0px 1px 3px 1px rgba(60, 64, 67, 0.15);\n",
              "      fill: #174EA6;\n",
              "    }\n",
              "\n",
              "    [theme=dark] .colab-df-convert {\n",
              "      background-color: #3B4455;\n",
              "      fill: #D2E3FC;\n",
              "    }\n",
              "\n",
              "    [theme=dark] .colab-df-convert:hover {\n",
              "      background-color: #434B5C;\n",
              "      box-shadow: 0px 1px 3px 1px rgba(0, 0, 0, 0.15);\n",
              "      filter: drop-shadow(0px 1px 2px rgba(0, 0, 0, 0.3));\n",
              "      fill: #FFFFFF;\n",
              "    }\n",
              "  </style>\n",
              "\n",
              "      <script>\n",
              "        const buttonEl =\n",
              "          document.querySelector('#df-6cacd0d1-d9e3-4cbb-af21-6fe0d2785f63 button.colab-df-convert');\n",
              "        buttonEl.style.display =\n",
              "          google.colab.kernel.accessAllowed ? 'block' : 'none';\n",
              "\n",
              "        async function convertToInteractive(key) {\n",
              "          const element = document.querySelector('#df-6cacd0d1-d9e3-4cbb-af21-6fe0d2785f63');\n",
              "          const dataTable =\n",
              "            await google.colab.kernel.invokeFunction('convertToInteractive',\n",
              "                                                     [key], {});\n",
              "          if (!dataTable) return;\n",
              "\n",
              "          const docLinkHtml = 'Like what you see? Visit the ' +\n",
              "            '<a target=\"_blank\" href=https://colab.research.google.com/notebooks/data_table.ipynb>data table notebook</a>'\n",
              "            + ' to learn more about interactive tables.';\n",
              "          element.innerHTML = '';\n",
              "          dataTable['output_type'] = 'display_data';\n",
              "          await google.colab.output.renderOutput(dataTable, element);\n",
              "          const docLink = document.createElement('div');\n",
              "          docLink.innerHTML = docLinkHtml;\n",
              "          element.appendChild(docLink);\n",
              "        }\n",
              "      </script>\n",
              "    </div>\n",
              "  </div>\n",
              "  "
            ]
          },
          "metadata": {},
          "execution_count": 58
        }
      ]
    },
    {
      "cell_type": "code",
      "source": [
        "X_val2_hotEncoding = pd.get_dummies(X_val2_binned, columns = ['Checking', 'History', 'Savings', 'Duration_bin'], drop_first = True)\n",
        "X_val2_hotEncoding"
      ],
      "metadata": {
        "colab": {
          "base_uri": "https://localhost:8080/",
          "height": 505
        },
        "id": "htF_HtfsCdTq",
        "outputId": "52b404a3-c6ac-4fb2-d99d-adcf5743cf7a"
      },
      "execution_count": 59,
      "outputs": [
        {
          "output_type": "execute_result",
          "data": {
            "text/plain": [
              "     Checking_2  Checking_3  Checking_4  History_1  History_2  History_3  \\\n",
              "300           0           0           1          0          0          0   \n",
              "587           0           0           0          1          0          0   \n",
              "16            1           0           0          0          1          0   \n",
              "521           0           0           1          0          1          0   \n",
              "252           0           0           1          0          0          0   \n",
              "..          ...         ...         ...        ...        ...        ...   \n",
              "217           0           0           0          1          0          0   \n",
              "249           0           0           1          0          1          0   \n",
              "314           1           0           0          0          0          0   \n",
              "406           0           0           1          0          0          0   \n",
              "325           1           0           0          0          0          0   \n",
              "\n",
              "     History_4  Savings_2  Savings_3  Savings_4  Savings_5  \\\n",
              "300          1          0          0          0          0   \n",
              "587          0          0          1          0          0   \n",
              "16           0          0          0          1          0   \n",
              "521          0          0          0          0          0   \n",
              "252          1          0          0          0          0   \n",
              "..         ...        ...        ...        ...        ...   \n",
              "217          0          0          0          0          0   \n",
              "249          0          0          0          1          0   \n",
              "314          1          0          0          0          0   \n",
              "406          1          0          0          0          0   \n",
              "325          0          1          0          0          0   \n",
              "\n",
              "     Duration_bin_(21, 27]  Duration_bin_(27, 60]  \n",
              "300                      0                      1  \n",
              "587                      1                      0  \n",
              "16                       0                      0  \n",
              "521                      1                      0  \n",
              "252                      0                      1  \n",
              "..                     ...                    ...  \n",
              "217                      0                      1  \n",
              "249                      0                      0  \n",
              "314                      0                      0  \n",
              "406                      0                      1  \n",
              "325                      0                      0  \n",
              "\n",
              "[121 rows x 13 columns]"
            ],
            "text/html": [
              "\n",
              "  <div id=\"df-058fe34b-28a6-4161-8fcf-7b5afe8f9c02\">\n",
              "    <div class=\"colab-df-container\">\n",
              "      <div>\n",
              "<style scoped>\n",
              "    .dataframe tbody tr th:only-of-type {\n",
              "        vertical-align: middle;\n",
              "    }\n",
              "\n",
              "    .dataframe tbody tr th {\n",
              "        vertical-align: top;\n",
              "    }\n",
              "\n",
              "    .dataframe thead th {\n",
              "        text-align: right;\n",
              "    }\n",
              "</style>\n",
              "<table border=\"1\" class=\"dataframe\">\n",
              "  <thead>\n",
              "    <tr style=\"text-align: right;\">\n",
              "      <th></th>\n",
              "      <th>Checking_2</th>\n",
              "      <th>Checking_3</th>\n",
              "      <th>Checking_4</th>\n",
              "      <th>History_1</th>\n",
              "      <th>History_2</th>\n",
              "      <th>History_3</th>\n",
              "      <th>History_4</th>\n",
              "      <th>Savings_2</th>\n",
              "      <th>Savings_3</th>\n",
              "      <th>Savings_4</th>\n",
              "      <th>Savings_5</th>\n",
              "      <th>Duration_bin_(21, 27]</th>\n",
              "      <th>Duration_bin_(27, 60]</th>\n",
              "    </tr>\n",
              "  </thead>\n",
              "  <tbody>\n",
              "    <tr>\n",
              "      <th>300</th>\n",
              "      <td>0</td>\n",
              "      <td>0</td>\n",
              "      <td>1</td>\n",
              "      <td>0</td>\n",
              "      <td>0</td>\n",
              "      <td>0</td>\n",
              "      <td>1</td>\n",
              "      <td>0</td>\n",
              "      <td>0</td>\n",
              "      <td>0</td>\n",
              "      <td>0</td>\n",
              "      <td>0</td>\n",
              "      <td>1</td>\n",
              "    </tr>\n",
              "    <tr>\n",
              "      <th>587</th>\n",
              "      <td>0</td>\n",
              "      <td>0</td>\n",
              "      <td>0</td>\n",
              "      <td>1</td>\n",
              "      <td>0</td>\n",
              "      <td>0</td>\n",
              "      <td>0</td>\n",
              "      <td>0</td>\n",
              "      <td>1</td>\n",
              "      <td>0</td>\n",
              "      <td>0</td>\n",
              "      <td>1</td>\n",
              "      <td>0</td>\n",
              "    </tr>\n",
              "    <tr>\n",
              "      <th>16</th>\n",
              "      <td>1</td>\n",
              "      <td>0</td>\n",
              "      <td>0</td>\n",
              "      <td>0</td>\n",
              "      <td>1</td>\n",
              "      <td>0</td>\n",
              "      <td>0</td>\n",
              "      <td>0</td>\n",
              "      <td>0</td>\n",
              "      <td>1</td>\n",
              "      <td>0</td>\n",
              "      <td>0</td>\n",
              "      <td>0</td>\n",
              "    </tr>\n",
              "    <tr>\n",
              "      <th>521</th>\n",
              "      <td>0</td>\n",
              "      <td>0</td>\n",
              "      <td>1</td>\n",
              "      <td>0</td>\n",
              "      <td>1</td>\n",
              "      <td>0</td>\n",
              "      <td>0</td>\n",
              "      <td>0</td>\n",
              "      <td>0</td>\n",
              "      <td>0</td>\n",
              "      <td>0</td>\n",
              "      <td>1</td>\n",
              "      <td>0</td>\n",
              "    </tr>\n",
              "    <tr>\n",
              "      <th>252</th>\n",
              "      <td>0</td>\n",
              "      <td>0</td>\n",
              "      <td>1</td>\n",
              "      <td>0</td>\n",
              "      <td>0</td>\n",
              "      <td>0</td>\n",
              "      <td>1</td>\n",
              "      <td>0</td>\n",
              "      <td>0</td>\n",
              "      <td>0</td>\n",
              "      <td>0</td>\n",
              "      <td>0</td>\n",
              "      <td>1</td>\n",
              "    </tr>\n",
              "    <tr>\n",
              "      <th>...</th>\n",
              "      <td>...</td>\n",
              "      <td>...</td>\n",
              "      <td>...</td>\n",
              "      <td>...</td>\n",
              "      <td>...</td>\n",
              "      <td>...</td>\n",
              "      <td>...</td>\n",
              "      <td>...</td>\n",
              "      <td>...</td>\n",
              "      <td>...</td>\n",
              "      <td>...</td>\n",
              "      <td>...</td>\n",
              "      <td>...</td>\n",
              "    </tr>\n",
              "    <tr>\n",
              "      <th>217</th>\n",
              "      <td>0</td>\n",
              "      <td>0</td>\n",
              "      <td>0</td>\n",
              "      <td>1</td>\n",
              "      <td>0</td>\n",
              "      <td>0</td>\n",
              "      <td>0</td>\n",
              "      <td>0</td>\n",
              "      <td>0</td>\n",
              "      <td>0</td>\n",
              "      <td>0</td>\n",
              "      <td>0</td>\n",
              "      <td>1</td>\n",
              "    </tr>\n",
              "    <tr>\n",
              "      <th>249</th>\n",
              "      <td>0</td>\n",
              "      <td>0</td>\n",
              "      <td>1</td>\n",
              "      <td>0</td>\n",
              "      <td>1</td>\n",
              "      <td>0</td>\n",
              "      <td>0</td>\n",
              "      <td>0</td>\n",
              "      <td>0</td>\n",
              "      <td>1</td>\n",
              "      <td>0</td>\n",
              "      <td>0</td>\n",
              "      <td>0</td>\n",
              "    </tr>\n",
              "    <tr>\n",
              "      <th>314</th>\n",
              "      <td>1</td>\n",
              "      <td>0</td>\n",
              "      <td>0</td>\n",
              "      <td>0</td>\n",
              "      <td>0</td>\n",
              "      <td>0</td>\n",
              "      <td>1</td>\n",
              "      <td>0</td>\n",
              "      <td>0</td>\n",
              "      <td>0</td>\n",
              "      <td>0</td>\n",
              "      <td>0</td>\n",
              "      <td>0</td>\n",
              "    </tr>\n",
              "    <tr>\n",
              "      <th>406</th>\n",
              "      <td>0</td>\n",
              "      <td>0</td>\n",
              "      <td>1</td>\n",
              "      <td>0</td>\n",
              "      <td>0</td>\n",
              "      <td>0</td>\n",
              "      <td>1</td>\n",
              "      <td>0</td>\n",
              "      <td>0</td>\n",
              "      <td>0</td>\n",
              "      <td>0</td>\n",
              "      <td>0</td>\n",
              "      <td>1</td>\n",
              "    </tr>\n",
              "    <tr>\n",
              "      <th>325</th>\n",
              "      <td>1</td>\n",
              "      <td>0</td>\n",
              "      <td>0</td>\n",
              "      <td>0</td>\n",
              "      <td>0</td>\n",
              "      <td>0</td>\n",
              "      <td>0</td>\n",
              "      <td>1</td>\n",
              "      <td>0</td>\n",
              "      <td>0</td>\n",
              "      <td>0</td>\n",
              "      <td>0</td>\n",
              "      <td>0</td>\n",
              "    </tr>\n",
              "  </tbody>\n",
              "</table>\n",
              "<p>121 rows × 13 columns</p>\n",
              "</div>\n",
              "      <button class=\"colab-df-convert\" onclick=\"convertToInteractive('df-058fe34b-28a6-4161-8fcf-7b5afe8f9c02')\"\n",
              "              title=\"Convert this dataframe to an interactive table.\"\n",
              "              style=\"display:none;\">\n",
              "        \n",
              "  <svg xmlns=\"http://www.w3.org/2000/svg\" height=\"24px\"viewBox=\"0 0 24 24\"\n",
              "       width=\"24px\">\n",
              "    <path d=\"M0 0h24v24H0V0z\" fill=\"none\"/>\n",
              "    <path d=\"M18.56 5.44l.94 2.06.94-2.06 2.06-.94-2.06-.94-.94-2.06-.94 2.06-2.06.94zm-11 1L8.5 8.5l.94-2.06 2.06-.94-2.06-.94L8.5 2.5l-.94 2.06-2.06.94zm10 10l.94 2.06.94-2.06 2.06-.94-2.06-.94-.94-2.06-.94 2.06-2.06.94z\"/><path d=\"M17.41 7.96l-1.37-1.37c-.4-.4-.92-.59-1.43-.59-.52 0-1.04.2-1.43.59L10.3 9.45l-7.72 7.72c-.78.78-.78 2.05 0 2.83L4 21.41c.39.39.9.59 1.41.59.51 0 1.02-.2 1.41-.59l7.78-7.78 2.81-2.81c.8-.78.8-2.07 0-2.86zM5.41 20L4 18.59l7.72-7.72 1.47 1.35L5.41 20z\"/>\n",
              "  </svg>\n",
              "      </button>\n",
              "      \n",
              "  <style>\n",
              "    .colab-df-container {\n",
              "      display:flex;\n",
              "      flex-wrap:wrap;\n",
              "      gap: 12px;\n",
              "    }\n",
              "\n",
              "    .colab-df-convert {\n",
              "      background-color: #E8F0FE;\n",
              "      border: none;\n",
              "      border-radius: 50%;\n",
              "      cursor: pointer;\n",
              "      display: none;\n",
              "      fill: #1967D2;\n",
              "      height: 32px;\n",
              "      padding: 0 0 0 0;\n",
              "      width: 32px;\n",
              "    }\n",
              "\n",
              "    .colab-df-convert:hover {\n",
              "      background-color: #E2EBFA;\n",
              "      box-shadow: 0px 1px 2px rgba(60, 64, 67, 0.3), 0px 1px 3px 1px rgba(60, 64, 67, 0.15);\n",
              "      fill: #174EA6;\n",
              "    }\n",
              "\n",
              "    [theme=dark] .colab-df-convert {\n",
              "      background-color: #3B4455;\n",
              "      fill: #D2E3FC;\n",
              "    }\n",
              "\n",
              "    [theme=dark] .colab-df-convert:hover {\n",
              "      background-color: #434B5C;\n",
              "      box-shadow: 0px 1px 3px 1px rgba(0, 0, 0, 0.15);\n",
              "      filter: drop-shadow(0px 1px 2px rgba(0, 0, 0, 0.3));\n",
              "      fill: #FFFFFF;\n",
              "    }\n",
              "  </style>\n",
              "\n",
              "      <script>\n",
              "        const buttonEl =\n",
              "          document.querySelector('#df-058fe34b-28a6-4161-8fcf-7b5afe8f9c02 button.colab-df-convert');\n",
              "        buttonEl.style.display =\n",
              "          google.colab.kernel.accessAllowed ? 'block' : 'none';\n",
              "\n",
              "        async function convertToInteractive(key) {\n",
              "          const element = document.querySelector('#df-058fe34b-28a6-4161-8fcf-7b5afe8f9c02');\n",
              "          const dataTable =\n",
              "            await google.colab.kernel.invokeFunction('convertToInteractive',\n",
              "                                                     [key], {});\n",
              "          if (!dataTable) return;\n",
              "\n",
              "          const docLinkHtml = 'Like what you see? Visit the ' +\n",
              "            '<a target=\"_blank\" href=https://colab.research.google.com/notebooks/data_table.ipynb>data table notebook</a>'\n",
              "            + ' to learn more about interactive tables.';\n",
              "          element.innerHTML = '';\n",
              "          dataTable['output_type'] = 'display_data';\n",
              "          await google.colab.output.renderOutput(dataTable, element);\n",
              "          const docLink = document.createElement('div');\n",
              "          docLink.innerHTML = docLinkHtml;\n",
              "          element.appendChild(docLink);\n",
              "        }\n",
              "      </script>\n",
              "    </div>\n",
              "  </div>\n",
              "  "
            ]
          },
          "metadata": {},
          "execution_count": 59
        }
      ]
    },
    {
      "cell_type": "markdown",
      "source": [
        "####Linear Regession"
      ],
      "metadata": {
        "id": "XJRAsEMpe5rF"
      }
    },
    {
      "cell_type": "markdown",
      "source": [
        "#####Subset 1"
      ],
      "metadata": {
        "id": "EzuZjT-S0El0"
      }
    },
    {
      "cell_type": "code",
      "source": [
        "lin_reg_sub1 = LinearRegression().fit(X_train1_hotEncoding, y_train1)"
      ],
      "metadata": {
        "id": "G2CIBwIC0D9-"
      },
      "execution_count": 60,
      "outputs": []
    },
    {
      "cell_type": "code",
      "source": [
        "lin_y1_pred = lin_reg_sub1.predict(X_val1_hotEncoding)"
      ],
      "metadata": {
        "id": "8Eg4-3tYD0Ix"
      },
      "execution_count": 61,
      "outputs": []
    },
    {
      "cell_type": "code",
      "source": [
        "print('Mean absolute error: ', mean_absolute_error(lin_y1_pred, y_val1))"
      ],
      "metadata": {
        "colab": {
          "base_uri": "https://localhost:8080/"
        },
        "id": "wm_CC-ncEFFo",
        "outputId": "fe149552-6169-49e8-adbc-bd38258170d7"
      },
      "execution_count": 62,
      "outputs": [
        {
          "output_type": "stream",
          "name": "stdout",
          "text": [
            "Mean absolute error:  0.3265576679041756\n"
          ]
        }
      ]
    },
    {
      "cell_type": "code",
      "source": [
        "print('Coefficient of linear regression are: ', lin_reg_sub1.coef_)\n",
        "print('Intercept of linear regression is: ', lin_reg_sub1.intercept_)"
      ],
      "metadata": {
        "colab": {
          "base_uri": "https://localhost:8080/"
        },
        "id": "rnwE44JaiLOc",
        "outputId": "2b0415da-d2c1-423c-c4c4-538d4092caaf"
      },
      "execution_count": 63,
      "outputs": [
        {
          "output_type": "stream",
          "name": "stdout",
          "text": [
            "Coefficient of linear regression are:  [ 0.13431191  0.19648927  0.31568019 -0.19557499  0.09217485  0.06026715\n",
            "  0.19249396 -0.10632729 -0.12205408 -0.23510932 -0.1271089 ]\n",
            "Intercept of linear regression is:  0.6437648631573183\n"
          ]
        }
      ]
    },
    {
      "cell_type": "code",
      "source": [
        "dict_lin_sub1 = {'Binary variables': X_val1_hotEncoding.columns.tolist(),\n",
        "                 'Coefficient': lin_reg_sub1.coef_}\n",
        "print(pd.DataFrame(dict_lin_sub1))"
      ],
      "metadata": {
        "colab": {
          "base_uri": "https://localhost:8080/"
        },
        "id": "WSrPEpWX7N6i",
        "outputId": "afa8d38f-1143-478f-fdc8-c1ae03b24e97"
      },
      "execution_count": 64,
      "outputs": [
        {
          "output_type": "stream",
          "name": "stdout",
          "text": [
            "         Binary variables  Coefficient\n",
            "0              Checking_2     0.134312\n",
            "1              Checking_3     0.196489\n",
            "2              Checking_4     0.315680\n",
            "3               History_1    -0.195575\n",
            "4               History_2     0.092175\n",
            "5               History_3     0.060267\n",
            "6               History_4     0.192494\n",
            "7              Property_2    -0.106327\n",
            "8              Property_3    -0.122054\n",
            "9              Property_4    -0.235109\n",
            "10  Duration_bin_(11, 12]    -0.127109\n"
          ]
        }
      ]
    },
    {
      "cell_type": "code",
      "source": [
        "cross_val_score(lin_reg_sub1, X_val1_hotEncoding, y_val1, cv = 10, scoring = 'r2')"
      ],
      "metadata": {
        "colab": {
          "base_uri": "https://localhost:8080/"
        },
        "id": "zX4G-hp3iMPL",
        "outputId": "00f01d1c-7a5e-41fc-f904-b3b0a6c050d4"
      },
      "execution_count": 65,
      "outputs": [
        {
          "output_type": "execute_result",
          "data": {
            "text/plain": [
              "array([ 0.04844633, -0.22761813, -0.79333171,  0.37788751, -0.39154149,\n",
              "       -0.17309699, -0.15184892,  0.29811714,  0.29629913,  0.21731837])"
            ]
          },
          "metadata": {},
          "execution_count": 65
        }
      ]
    },
    {
      "cell_type": "code",
      "source": [
        "cutoff = 0.7\n",
        "lin_y1_pred_classes = np.zeros_like(lin_y1_pred)\n",
        "lin_y1_pred_classes[lin_y1_pred > cutoff] = 1  "
      ],
      "metadata": {
        "id": "2fST1Ck2iwKM"
      },
      "execution_count": 66,
      "outputs": []
    },
    {
      "cell_type": "code",
      "source": [
        "lin_con_mat1 = confusion_matrix(y_val1, lin_y1_pred_classes)\n",
        "print('Confusion Matrix:')\n",
        "print(lin_con_mat1)\n",
        "print('Accuracy score: ', accuracy_score(y_val1, lin_y1_pred_classes))"
      ],
      "metadata": {
        "colab": {
          "base_uri": "https://localhost:8080/"
        },
        "id": "6WHs8J5GjHfS",
        "outputId": "522713bc-7915-470c-e26c-6b92e59f3067"
      },
      "execution_count": 67,
      "outputs": [
        {
          "output_type": "stream",
          "name": "stdout",
          "text": [
            "Confusion Matrix:\n",
            "[[ 7  7]\n",
            " [15 39]]\n",
            "Accuracy score:  0.6764705882352942\n"
          ]
        }
      ]
    },
    {
      "cell_type": "markdown",
      "source": [
        "#####Subset 2"
      ],
      "metadata": {
        "id": "tnHP8aoy0hWc"
      }
    },
    {
      "cell_type": "code",
      "source": [
        "lin_reg_sub2 = LinearRegression().fit(X_train2_hotEncoding, y_train2)"
      ],
      "metadata": {
        "id": "CkWNDVxX0leT"
      },
      "execution_count": 68,
      "outputs": []
    },
    {
      "cell_type": "code",
      "source": [
        "lin_y2_pred = lin_reg_sub2.predict(X_val2_hotEncoding)"
      ],
      "metadata": {
        "id": "iUusb9P-Ef9D"
      },
      "execution_count": 69,
      "outputs": []
    },
    {
      "cell_type": "code",
      "source": [
        "print('Mean absolute error: ', mean_absolute_error(lin_y2_pred, y_val2))"
      ],
      "metadata": {
        "colab": {
          "base_uri": "https://localhost:8080/"
        },
        "id": "f1JqIlexEvoY",
        "outputId": "6465d830-208d-409a-f3c3-8c8400718695"
      },
      "execution_count": 70,
      "outputs": [
        {
          "output_type": "stream",
          "name": "stdout",
          "text": [
            "Mean absolute error:  0.33980510256361374\n"
          ]
        }
      ]
    },
    {
      "cell_type": "code",
      "source": [
        "print('Coefficient of linear regression are: ', lin_reg_sub2.coef_)\n",
        "print('Intercept of linear regression is: ', lin_reg_sub2.intercept_)"
      ],
      "metadata": {
        "colab": {
          "base_uri": "https://localhost:8080/"
        },
        "id": "3Uj-vS4xjXgi",
        "outputId": "81ad098f-e0ad-408c-e02d-596687e7dad8"
      },
      "execution_count": 71,
      "outputs": [
        {
          "output_type": "stream",
          "name": "stdout",
          "text": [
            "Coefficient of linear regression are:  [ 0.11422514  0.22345093  0.33721141  0.04642994  0.15489736  0.13652665\n",
            "  0.26259464  0.06637097  0.13393536  0.15978113  0.15543364 -0.01364441\n",
            " -0.08213656]\n",
            "Intercept of linear regression is:  0.2945425989886634\n"
          ]
        }
      ]
    },
    {
      "cell_type": "code",
      "source": [
        "dict_lin_sub2 = {'Binary variables': X_val2_hotEncoding.columns.tolist(),\n",
        "                 'Coefficient': lin_reg_sub2.coef_}\n",
        "print(pd.DataFrame(dict_lin_sub2))"
      ],
      "metadata": {
        "colab": {
          "base_uri": "https://localhost:8080/"
        },
        "id": "y4ot3l2ZO5iN",
        "outputId": "438de41e-5aac-4328-c114-e96687fcae89"
      },
      "execution_count": 72,
      "outputs": [
        {
          "output_type": "stream",
          "name": "stdout",
          "text": [
            "         Binary variables  Coefficient\n",
            "0              Checking_2     0.114225\n",
            "1              Checking_3     0.223451\n",
            "2              Checking_4     0.337211\n",
            "3               History_1     0.046430\n",
            "4               History_2     0.154897\n",
            "5               History_3     0.136527\n",
            "6               History_4     0.262595\n",
            "7               Savings_2     0.066371\n",
            "8               Savings_3     0.133935\n",
            "9               Savings_4     0.159781\n",
            "10              Savings_5     0.155434\n",
            "11  Duration_bin_(21, 27]    -0.013644\n",
            "12  Duration_bin_(27, 60]    -0.082137\n"
          ]
        }
      ]
    },
    {
      "cell_type": "code",
      "source": [
        "cross_val_score(lin_reg_sub2, X_val2_hotEncoding, y_val2, cv = 7, scoring = 'r2')"
      ],
      "metadata": {
        "colab": {
          "base_uri": "https://localhost:8080/"
        },
        "id": "RKutScDSjdal",
        "outputId": "4df3c7d2-7cee-4420-f582-59ff8132130f"
      },
      "execution_count": 73,
      "outputs": [
        {
          "output_type": "execute_result",
          "data": {
            "text/plain": [
              "array([ 0.34422216,  0.57378583,  0.44772517, -1.11993934, -0.18690627,\n",
              "        0.27842849, -0.40612921])"
            ]
          },
          "metadata": {},
          "execution_count": 73
        }
      ]
    },
    {
      "cell_type": "code",
      "source": [
        "cutoff = 0.7\n",
        "lin_y2_pred_classes = np.zeros_like(lin_y2_pred)\n",
        "lin_y2_pred_classes[lin_y2_pred > cutoff] = 1  "
      ],
      "metadata": {
        "id": "XRKqklh3jorr"
      },
      "execution_count": 74,
      "outputs": []
    },
    {
      "cell_type": "code",
      "source": [
        "lin_con_mat2 = confusion_matrix(y_val2, lin_y2_pred_classes)\n",
        "print('Confusion Matrix:')\n",
        "print(lin_con_mat2)\n",
        "print('Accuracy score: ', accuracy_score(y_val2, lin_y2_pred_classes))"
      ],
      "metadata": {
        "colab": {
          "base_uri": "https://localhost:8080/"
        },
        "id": "VT0VEvGhjuyu",
        "outputId": "64fe0172-2997-4874-9609-c4fcf1e099d3"
      },
      "execution_count": 75,
      "outputs": [
        {
          "output_type": "stream",
          "name": "stdout",
          "text": [
            "Confusion Matrix:\n",
            "[[35  6]\n",
            " [28 52]]\n",
            "Accuracy score:  0.71900826446281\n"
          ]
        }
      ]
    },
    {
      "cell_type": "markdown",
      "source": [
        "####Logistic Regression"
      ],
      "metadata": {
        "id": "NVkdHjnUo6q-"
      }
    },
    {
      "cell_type": "markdown",
      "source": [
        "#####Subset 1"
      ],
      "metadata": {
        "id": "70h_2W8A_Lzt"
      }
    },
    {
      "cell_type": "code",
      "source": [
        "log_reg_sub1 = LogisticRegression(solver = 'liblinear').fit(X_train1_hotEncoding, y_train1)"
      ],
      "metadata": {
        "id": "ZI_piUHQ-SmZ"
      },
      "execution_count": 76,
      "outputs": []
    },
    {
      "cell_type": "code",
      "source": [
        "log_y1_pred = log_reg_sub1.predict(X_val1_hotEncoding)"
      ],
      "metadata": {
        "id": "0D-dxXQXCo7Z"
      },
      "execution_count": 77,
      "outputs": []
    },
    {
      "cell_type": "code",
      "source": [
        "print('Intercept of linear regression is: ', log_reg_sub1.intercept_)\n",
        "print('Coefficient of linear regression are: ', log_reg_sub1.coef_)"
      ],
      "metadata": {
        "colab": {
          "base_uri": "https://localhost:8080/"
        },
        "id": "PfRGv0d9_--H",
        "outputId": "49a52457-0a33-4216-f5e8-b53a795ccf63"
      },
      "execution_count": 78,
      "outputs": [
        {
          "output_type": "stream",
          "name": "stdout",
          "text": [
            "Intercept of linear regression is:  [0.87294303]\n",
            "Coefficient of linear regression are:  [[ 0.44519713  0.68171475  1.91895163 -0.71149963  0.45457823  0.15544321\n",
            "   1.15751006 -0.53747934 -0.60035503 -1.23196116 -0.79220409]]\n"
          ]
        }
      ]
    },
    {
      "cell_type": "code",
      "source": [
        "dict_log_sub1 = {'Binary variables': X_val1_hotEncoding.columns.tolist(),\n",
        "                 'Coefficient': log_reg_sub1.coef_[0]}\n",
        "print(pd.DataFrame(dict_log_sub1))"
      ],
      "metadata": {
        "colab": {
          "base_uri": "https://localhost:8080/"
        },
        "id": "sFEt61p3PIaz",
        "outputId": "b9c11b9a-87d1-446f-f15a-ae0b391e26f1"
      },
      "execution_count": 79,
      "outputs": [
        {
          "output_type": "stream",
          "name": "stdout",
          "text": [
            "         Binary variables  Coefficient\n",
            "0              Checking_2     0.445197\n",
            "1              Checking_3     0.681715\n",
            "2              Checking_4     1.918952\n",
            "3               History_1    -0.711500\n",
            "4               History_2     0.454578\n",
            "5               History_3     0.155443\n",
            "6               History_4     1.157510\n",
            "7              Property_2    -0.537479\n",
            "8              Property_3    -0.600355\n",
            "9              Property_4    -1.231961\n",
            "10  Duration_bin_(11, 12]    -0.792204\n"
          ]
        }
      ]
    },
    {
      "cell_type": "code",
      "source": [
        "cross_val_score(log_reg_sub1, X_val1_hotEncoding, y_val1, cv = 10)"
      ],
      "metadata": {
        "colab": {
          "base_uri": "https://localhost:8080/"
        },
        "id": "Yc1qJLwyAbaj",
        "outputId": "c2cc52cf-a493-4d06-aef8-e9eaf7487473"
      },
      "execution_count": 80,
      "outputs": [
        {
          "output_type": "execute_result",
          "data": {
            "text/plain": [
              "array([0.85714286, 0.85714286, 0.85714286, 0.85714286, 0.57142857,\n",
              "       0.71428571, 0.71428571, 0.85714286, 0.83333333, 0.83333333])"
            ]
          },
          "metadata": {},
          "execution_count": 80
        }
      ]
    },
    {
      "cell_type": "code",
      "source": [
        "print('Mean absolute error: ', mean_absolute_error(log_y1_pred, y_val1))"
      ],
      "metadata": {
        "colab": {
          "base_uri": "https://localhost:8080/"
        },
        "id": "qArvD-2vnm4t",
        "outputId": "9b67beb5-79c0-42f1-e2e2-c049274f07a4"
      },
      "execution_count": 81,
      "outputs": [
        {
          "output_type": "stream",
          "name": "stdout",
          "text": [
            "Mean absolute error:  0.23529411764705882\n"
          ]
        }
      ]
    },
    {
      "cell_type": "code",
      "source": [
        "log_con_mat1 = confusion_matrix(y_val1, log_y1_pred)\n",
        "print('Confusion Matrix:')\n",
        "print(log_con_mat1)\n",
        "print('Accuracy score: ', accuracy_score(y_val1, log_y1_pred))"
      ],
      "metadata": {
        "colab": {
          "base_uri": "https://localhost:8080/"
        },
        "id": "WhEZv6-fpxLP",
        "outputId": "bfabf67f-9871-4358-c34f-331ee533f228"
      },
      "execution_count": 82,
      "outputs": [
        {
          "output_type": "stream",
          "name": "stdout",
          "text": [
            "Confusion Matrix:\n",
            "[[ 3 11]\n",
            " [ 5 49]]\n",
            "Accuracy score:  0.7647058823529411\n"
          ]
        }
      ]
    },
    {
      "cell_type": "markdown",
      "source": [
        "#####Subset 2"
      ],
      "metadata": {
        "id": "RvzroIMXBUoT"
      }
    },
    {
      "cell_type": "code",
      "source": [
        "log_reg_sub2 = LogisticRegression(solver = 'liblinear').fit(X_train2_hotEncoding, y_train2)"
      ],
      "metadata": {
        "id": "wSay_8xsBW9V"
      },
      "execution_count": 83,
      "outputs": []
    },
    {
      "cell_type": "code",
      "source": [
        "log_y2_pred = log_reg_sub2.predict(X_val2_hotEncoding)"
      ],
      "metadata": {
        "id": "VOGFZwAgDYlf"
      },
      "execution_count": 84,
      "outputs": []
    },
    {
      "cell_type": "code",
      "source": [
        "print('Intercept of linear regression is: ', log_reg_sub2.intercept_)\n",
        "print('Coefficient of linear regression are: ', log_reg_sub2.coef_)"
      ],
      "metadata": {
        "colab": {
          "base_uri": "https://localhost:8080/"
        },
        "id": "yVmq79snBj61",
        "outputId": "53d87275-6831-4ade-deea-3033d50b4ca5"
      },
      "execution_count": 85,
      "outputs": [
        {
          "output_type": "stream",
          "name": "stdout",
          "text": [
            "Intercept of linear regression is:  [-0.48480987]\n",
            "Coefficient of linear regression are:  [[ 0.36283568  0.77170273  1.58689788 -0.15541913  0.31731441  0.19470033\n",
            "   0.91307298  0.28138642  0.60558113  0.83442959  0.78847498 -0.03317443\n",
            "  -0.3974845 ]]\n"
          ]
        }
      ]
    },
    {
      "cell_type": "code",
      "source": [
        "dict_log_sub2 = {'Binary variables': X_val2_hotEncoding.columns.tolist(),\n",
        "                 'Coefficient': log_reg_sub2.coef_[0]}\n",
        "print(pd.DataFrame(dict_log_sub2))"
      ],
      "metadata": {
        "colab": {
          "base_uri": "https://localhost:8080/"
        },
        "id": "luIYJiAlQTGH",
        "outputId": "71ab81c7-55e3-4aeb-94af-4d9cc637f4de"
      },
      "execution_count": 86,
      "outputs": [
        {
          "output_type": "stream",
          "name": "stdout",
          "text": [
            "         Binary variables  Coefficient\n",
            "0              Checking_2     0.362836\n",
            "1              Checking_3     0.771703\n",
            "2              Checking_4     1.586898\n",
            "3               History_1    -0.155419\n",
            "4               History_2     0.317314\n",
            "5               History_3     0.194700\n",
            "6               History_4     0.913073\n",
            "7               Savings_2     0.281386\n",
            "8               Savings_3     0.605581\n",
            "9               Savings_4     0.834430\n",
            "10              Savings_5     0.788475\n",
            "11  Duration_bin_(21, 27]    -0.033174\n",
            "12  Duration_bin_(27, 60]    -0.397484\n"
          ]
        }
      ]
    },
    {
      "cell_type": "code",
      "source": [
        "cross_val_score(log_reg_sub2, X_val2_hotEncoding, y_val2, cv = 7)"
      ],
      "metadata": {
        "colab": {
          "base_uri": "https://localhost:8080/"
        },
        "id": "X8PC9yACBstl",
        "outputId": "0e6d8342-8278-472d-cc9a-d7b9c61be3e6"
      },
      "execution_count": 87,
      "outputs": [
        {
          "output_type": "execute_result",
          "data": {
            "text/plain": [
              "array([0.83333333, 0.83333333, 0.88235294, 0.58823529, 0.70588235,\n",
              "       0.70588235, 0.76470588])"
            ]
          },
          "metadata": {},
          "execution_count": 87
        }
      ]
    },
    {
      "cell_type": "code",
      "source": [
        "print('Mean absolute error: ', mean_absolute_error(log_y2_pred, y_val2))"
      ],
      "metadata": {
        "colab": {
          "base_uri": "https://localhost:8080/"
        },
        "id": "uWQ4stidB8y8",
        "outputId": "280d79eb-ad5d-4013-b937-368c32c650a5"
      },
      "execution_count": 88,
      "outputs": [
        {
          "output_type": "stream",
          "name": "stdout",
          "text": [
            "Mean absolute error:  0.2396694214876033\n"
          ]
        }
      ]
    },
    {
      "cell_type": "code",
      "source": [
        "log_con_mat2 = confusion_matrix(y_val2, log_y2_pred)\n",
        "print('Confusion Matrix:')\n",
        "print(log_con_mat2)\n",
        "print('Accuracy score: ', accuracy_score(y_val2, log_y2_pred))"
      ],
      "metadata": {
        "colab": {
          "base_uri": "https://localhost:8080/"
        },
        "id": "hTfsQUsuCDBP",
        "outputId": "9951206c-d708-42ec-b54c-c344958a8944"
      },
      "execution_count": 89,
      "outputs": [
        {
          "output_type": "stream",
          "name": "stdout",
          "text": [
            "Confusion Matrix:\n",
            "[[22 19]\n",
            " [10 70]]\n",
            "Accuracy score:  0.7603305785123967\n"
          ]
        }
      ]
    },
    {
      "cell_type": "markdown",
      "source": [
        "####Score card"
      ],
      "metadata": {
        "id": "jNeXAWhXsu-N"
      }
    },
    {
      "cell_type": "code",
      "source": [
        "def get_score_card(y_val, y_pred, con_mat):  \n",
        "  score_card_dict = {'Model': ['Linear', 'Logistic'],\n",
        "                     'Sensitivity': [],\n",
        "                     'Specificity': [],\n",
        "                     'AUC': [],\n",
        "                     'Gini': [],\n",
        "                     'KS': []}\n",
        "  for (pred, cm) in zip(y_pred, con_mat):\n",
        "    auroc = roc_auc_score(y_val, pred)\n",
        "    gini_cof = 2*auroc - 1\n",
        "    score_card_dict['AUC'].append(auroc)\n",
        "    score_card_dict['Gini'].append(gini_cof)\n",
        "    score_card_dict['Sensitivity'].append(cm[0,0]/(cm[0,0] + cm[1,0]))\n",
        "    score_card_dict['Specificity'].append(cm[1,1]/(cm[0,1] + cm[1,1]))\n",
        "    score_card_dict['KS'].append((cm[1,1]/(cm[0,1] + cm[1,1])) - (cm[1,0]/(cm[0,0] + cm[1,0])))\n",
        "  return pd.DataFrame(score_card_dict)"
      ],
      "metadata": {
        "id": "oW89fT8iTDX-"
      },
      "execution_count": 95,
      "outputs": []
    },
    {
      "cell_type": "markdown",
      "source": [
        "#####Subset 1"
      ],
      "metadata": {
        "id": "sbT1JJ-BHuGg"
      }
    },
    {
      "cell_type": "code",
      "source": [
        "get_score_card(y_val1, [lin_y1_pred, log_y1_pred], [lin_con_mat1, log_con_mat1])"
      ],
      "metadata": {
        "colab": {
          "base_uri": "https://localhost:8080/",
          "height": 112
        },
        "id": "AjftgAomVt5Q",
        "outputId": "50143dbd-fb7a-4ef5-c64a-38713ef2b3e6"
      },
      "execution_count": 96,
      "outputs": [
        {
          "output_type": "execute_result",
          "data": {
            "text/plain": [
              "      Model  Sensitivity  Specificity       AUC      Gini        KS\n",
              "0    Linear     0.318182     0.847826  0.656746  0.313492  0.166008\n",
              "1  Logistic     0.375000     0.816667  0.560847  0.121693  0.191667"
            ],
            "text/html": [
              "\n",
              "  <div id=\"df-34141329-b558-4567-85b4-66af60aca228\">\n",
              "    <div class=\"colab-df-container\">\n",
              "      <div>\n",
              "<style scoped>\n",
              "    .dataframe tbody tr th:only-of-type {\n",
              "        vertical-align: middle;\n",
              "    }\n",
              "\n",
              "    .dataframe tbody tr th {\n",
              "        vertical-align: top;\n",
              "    }\n",
              "\n",
              "    .dataframe thead th {\n",
              "        text-align: right;\n",
              "    }\n",
              "</style>\n",
              "<table border=\"1\" class=\"dataframe\">\n",
              "  <thead>\n",
              "    <tr style=\"text-align: right;\">\n",
              "      <th></th>\n",
              "      <th>Model</th>\n",
              "      <th>Sensitivity</th>\n",
              "      <th>Specificity</th>\n",
              "      <th>AUC</th>\n",
              "      <th>Gini</th>\n",
              "      <th>KS</th>\n",
              "    </tr>\n",
              "  </thead>\n",
              "  <tbody>\n",
              "    <tr>\n",
              "      <th>0</th>\n",
              "      <td>Linear</td>\n",
              "      <td>0.318182</td>\n",
              "      <td>0.847826</td>\n",
              "      <td>0.656746</td>\n",
              "      <td>0.313492</td>\n",
              "      <td>0.166008</td>\n",
              "    </tr>\n",
              "    <tr>\n",
              "      <th>1</th>\n",
              "      <td>Logistic</td>\n",
              "      <td>0.375000</td>\n",
              "      <td>0.816667</td>\n",
              "      <td>0.560847</td>\n",
              "      <td>0.121693</td>\n",
              "      <td>0.191667</td>\n",
              "    </tr>\n",
              "  </tbody>\n",
              "</table>\n",
              "</div>\n",
              "      <button class=\"colab-df-convert\" onclick=\"convertToInteractive('df-34141329-b558-4567-85b4-66af60aca228')\"\n",
              "              title=\"Convert this dataframe to an interactive table.\"\n",
              "              style=\"display:none;\">\n",
              "        \n",
              "  <svg xmlns=\"http://www.w3.org/2000/svg\" height=\"24px\"viewBox=\"0 0 24 24\"\n",
              "       width=\"24px\">\n",
              "    <path d=\"M0 0h24v24H0V0z\" fill=\"none\"/>\n",
              "    <path d=\"M18.56 5.44l.94 2.06.94-2.06 2.06-.94-2.06-.94-.94-2.06-.94 2.06-2.06.94zm-11 1L8.5 8.5l.94-2.06 2.06-.94-2.06-.94L8.5 2.5l-.94 2.06-2.06.94zm10 10l.94 2.06.94-2.06 2.06-.94-2.06-.94-.94-2.06-.94 2.06-2.06.94z\"/><path d=\"M17.41 7.96l-1.37-1.37c-.4-.4-.92-.59-1.43-.59-.52 0-1.04.2-1.43.59L10.3 9.45l-7.72 7.72c-.78.78-.78 2.05 0 2.83L4 21.41c.39.39.9.59 1.41.59.51 0 1.02-.2 1.41-.59l7.78-7.78 2.81-2.81c.8-.78.8-2.07 0-2.86zM5.41 20L4 18.59l7.72-7.72 1.47 1.35L5.41 20z\"/>\n",
              "  </svg>\n",
              "      </button>\n",
              "      \n",
              "  <style>\n",
              "    .colab-df-container {\n",
              "      display:flex;\n",
              "      flex-wrap:wrap;\n",
              "      gap: 12px;\n",
              "    }\n",
              "\n",
              "    .colab-df-convert {\n",
              "      background-color: #E8F0FE;\n",
              "      border: none;\n",
              "      border-radius: 50%;\n",
              "      cursor: pointer;\n",
              "      display: none;\n",
              "      fill: #1967D2;\n",
              "      height: 32px;\n",
              "      padding: 0 0 0 0;\n",
              "      width: 32px;\n",
              "    }\n",
              "\n",
              "    .colab-df-convert:hover {\n",
              "      background-color: #E2EBFA;\n",
              "      box-shadow: 0px 1px 2px rgba(60, 64, 67, 0.3), 0px 1px 3px 1px rgba(60, 64, 67, 0.15);\n",
              "      fill: #174EA6;\n",
              "    }\n",
              "\n",
              "    [theme=dark] .colab-df-convert {\n",
              "      background-color: #3B4455;\n",
              "      fill: #D2E3FC;\n",
              "    }\n",
              "\n",
              "    [theme=dark] .colab-df-convert:hover {\n",
              "      background-color: #434B5C;\n",
              "      box-shadow: 0px 1px 3px 1px rgba(0, 0, 0, 0.15);\n",
              "      filter: drop-shadow(0px 1px 2px rgba(0, 0, 0, 0.3));\n",
              "      fill: #FFFFFF;\n",
              "    }\n",
              "  </style>\n",
              "\n",
              "      <script>\n",
              "        const buttonEl =\n",
              "          document.querySelector('#df-34141329-b558-4567-85b4-66af60aca228 button.colab-df-convert');\n",
              "        buttonEl.style.display =\n",
              "          google.colab.kernel.accessAllowed ? 'block' : 'none';\n",
              "\n",
              "        async function convertToInteractive(key) {\n",
              "          const element = document.querySelector('#df-34141329-b558-4567-85b4-66af60aca228');\n",
              "          const dataTable =\n",
              "            await google.colab.kernel.invokeFunction('convertToInteractive',\n",
              "                                                     [key], {});\n",
              "          if (!dataTable) return;\n",
              "\n",
              "          const docLinkHtml = 'Like what you see? Visit the ' +\n",
              "            '<a target=\"_blank\" href=https://colab.research.google.com/notebooks/data_table.ipynb>data table notebook</a>'\n",
              "            + ' to learn more about interactive tables.';\n",
              "          element.innerHTML = '';\n",
              "          dataTable['output_type'] = 'display_data';\n",
              "          await google.colab.output.renderOutput(dataTable, element);\n",
              "          const docLink = document.createElement('div');\n",
              "          docLink.innerHTML = docLinkHtml;\n",
              "          element.appendChild(docLink);\n",
              "        }\n",
              "      </script>\n",
              "    </div>\n",
              "  </div>\n",
              "  "
            ]
          },
          "metadata": {},
          "execution_count": 96
        }
      ]
    },
    {
      "cell_type": "markdown",
      "source": [
        "#####Subset 2"
      ],
      "metadata": {
        "id": "z0OehNuXHwuy"
      }
    },
    {
      "cell_type": "code",
      "source": [
        "get_score_card(y_val2, [lin_y2_pred, log_y2_pred], [lin_con_mat2, log_con_mat2])"
      ],
      "metadata": {
        "colab": {
          "base_uri": "https://localhost:8080/",
          "height": 112
        },
        "id": "sBiUMu_zU7vQ",
        "outputId": "012ba0f4-26fa-468a-e246-ef1f1545a692"
      },
      "execution_count": 97,
      "outputs": [
        {
          "output_type": "execute_result",
          "data": {
            "text/plain": [
              "      Model  Sensitivity  Specificity       AUC      Gini        KS\n",
              "0    Linear     0.555556     0.896552  0.825915  0.651829  0.452107\n",
              "1  Logistic     0.687500     0.786517  0.705793  0.411585  0.474017"
            ],
            "text/html": [
              "\n",
              "  <div id=\"df-570101b9-5119-402b-96a3-0e3b82874b91\">\n",
              "    <div class=\"colab-df-container\">\n",
              "      <div>\n",
              "<style scoped>\n",
              "    .dataframe tbody tr th:only-of-type {\n",
              "        vertical-align: middle;\n",
              "    }\n",
              "\n",
              "    .dataframe tbody tr th {\n",
              "        vertical-align: top;\n",
              "    }\n",
              "\n",
              "    .dataframe thead th {\n",
              "        text-align: right;\n",
              "    }\n",
              "</style>\n",
              "<table border=\"1\" class=\"dataframe\">\n",
              "  <thead>\n",
              "    <tr style=\"text-align: right;\">\n",
              "      <th></th>\n",
              "      <th>Model</th>\n",
              "      <th>Sensitivity</th>\n",
              "      <th>Specificity</th>\n",
              "      <th>AUC</th>\n",
              "      <th>Gini</th>\n",
              "      <th>KS</th>\n",
              "    </tr>\n",
              "  </thead>\n",
              "  <tbody>\n",
              "    <tr>\n",
              "      <th>0</th>\n",
              "      <td>Linear</td>\n",
              "      <td>0.555556</td>\n",
              "      <td>0.896552</td>\n",
              "      <td>0.825915</td>\n",
              "      <td>0.651829</td>\n",
              "      <td>0.452107</td>\n",
              "    </tr>\n",
              "    <tr>\n",
              "      <th>1</th>\n",
              "      <td>Logistic</td>\n",
              "      <td>0.687500</td>\n",
              "      <td>0.786517</td>\n",
              "      <td>0.705793</td>\n",
              "      <td>0.411585</td>\n",
              "      <td>0.474017</td>\n",
              "    </tr>\n",
              "  </tbody>\n",
              "</table>\n",
              "</div>\n",
              "      <button class=\"colab-df-convert\" onclick=\"convertToInteractive('df-570101b9-5119-402b-96a3-0e3b82874b91')\"\n",
              "              title=\"Convert this dataframe to an interactive table.\"\n",
              "              style=\"display:none;\">\n",
              "        \n",
              "  <svg xmlns=\"http://www.w3.org/2000/svg\" height=\"24px\"viewBox=\"0 0 24 24\"\n",
              "       width=\"24px\">\n",
              "    <path d=\"M0 0h24v24H0V0z\" fill=\"none\"/>\n",
              "    <path d=\"M18.56 5.44l.94 2.06.94-2.06 2.06-.94-2.06-.94-.94-2.06-.94 2.06-2.06.94zm-11 1L8.5 8.5l.94-2.06 2.06-.94-2.06-.94L8.5 2.5l-.94 2.06-2.06.94zm10 10l.94 2.06.94-2.06 2.06-.94-2.06-.94-.94-2.06-.94 2.06-2.06.94z\"/><path d=\"M17.41 7.96l-1.37-1.37c-.4-.4-.92-.59-1.43-.59-.52 0-1.04.2-1.43.59L10.3 9.45l-7.72 7.72c-.78.78-.78 2.05 0 2.83L4 21.41c.39.39.9.59 1.41.59.51 0 1.02-.2 1.41-.59l7.78-7.78 2.81-2.81c.8-.78.8-2.07 0-2.86zM5.41 20L4 18.59l7.72-7.72 1.47 1.35L5.41 20z\"/>\n",
              "  </svg>\n",
              "      </button>\n",
              "      \n",
              "  <style>\n",
              "    .colab-df-container {\n",
              "      display:flex;\n",
              "      flex-wrap:wrap;\n",
              "      gap: 12px;\n",
              "    }\n",
              "\n",
              "    .colab-df-convert {\n",
              "      background-color: #E8F0FE;\n",
              "      border: none;\n",
              "      border-radius: 50%;\n",
              "      cursor: pointer;\n",
              "      display: none;\n",
              "      fill: #1967D2;\n",
              "      height: 32px;\n",
              "      padding: 0 0 0 0;\n",
              "      width: 32px;\n",
              "    }\n",
              "\n",
              "    .colab-df-convert:hover {\n",
              "      background-color: #E2EBFA;\n",
              "      box-shadow: 0px 1px 2px rgba(60, 64, 67, 0.3), 0px 1px 3px 1px rgba(60, 64, 67, 0.15);\n",
              "      fill: #174EA6;\n",
              "    }\n",
              "\n",
              "    [theme=dark] .colab-df-convert {\n",
              "      background-color: #3B4455;\n",
              "      fill: #D2E3FC;\n",
              "    }\n",
              "\n",
              "    [theme=dark] .colab-df-convert:hover {\n",
              "      background-color: #434B5C;\n",
              "      box-shadow: 0px 1px 3px 1px rgba(0, 0, 0, 0.15);\n",
              "      filter: drop-shadow(0px 1px 2px rgba(0, 0, 0, 0.3));\n",
              "      fill: #FFFFFF;\n",
              "    }\n",
              "  </style>\n",
              "\n",
              "      <script>\n",
              "        const buttonEl =\n",
              "          document.querySelector('#df-570101b9-5119-402b-96a3-0e3b82874b91 button.colab-df-convert');\n",
              "        buttonEl.style.display =\n",
              "          google.colab.kernel.accessAllowed ? 'block' : 'none';\n",
              "\n",
              "        async function convertToInteractive(key) {\n",
              "          const element = document.querySelector('#df-570101b9-5119-402b-96a3-0e3b82874b91');\n",
              "          const dataTable =\n",
              "            await google.colab.kernel.invokeFunction('convertToInteractive',\n",
              "                                                     [key], {});\n",
              "          if (!dataTable) return;\n",
              "\n",
              "          const docLinkHtml = 'Like what you see? Visit the ' +\n",
              "            '<a target=\"_blank\" href=https://colab.research.google.com/notebooks/data_table.ipynb>data table notebook</a>'\n",
              "            + ' to learn more about interactive tables.';\n",
              "          element.innerHTML = '';\n",
              "          dataTable['output_type'] = 'display_data';\n",
              "          await google.colab.output.renderOutput(dataTable, element);\n",
              "          const docLink = document.createElement('div');\n",
              "          docLink.innerHTML = docLinkHtml;\n",
              "          element.appendChild(docLink);\n",
              "        }\n",
              "      </script>\n",
              "    </div>\n",
              "  </div>\n",
              "  "
            ]
          },
          "metadata": {},
          "execution_count": 97
        }
      ]
    },
    {
      "cell_type": "markdown",
      "source": [
        "##Q5"
      ],
      "metadata": {
        "id": "-CLGN4VoqfoU"
      }
    },
    {
      "cell_type": "markdown",
      "source": [
        "###ROC curve"
      ],
      "metadata": {
        "id": "VoBi--2arGUW"
      }
    },
    {
      "cell_type": "code",
      "source": [
        "def plot_roc_cur(model, x_val, y_val, model_name):\n",
        "  ns_probs = [0 for _ in range(len(y_val))]\n",
        "  if model_name == 'Linear':\n",
        "    y_probs = model.predict(x_val)\n",
        "  else:\n",
        "    y_probs = model.predict_proba(x_val)\n",
        "    y_probs = y_probs[:, 1]\n",
        "  ns_fpr, ns_tpr, _ = roc_curve(y_val, ns_probs)\n",
        "  mod_fpr, mod_tpr, _ = roc_curve(y_val, y_probs)\n",
        "  plt.plot(ns_fpr, ns_tpr, linestyle='--', label='No Skill')\n",
        "  plt.plot(mod_fpr, mod_tpr, marker='.', label=model_name)\n",
        "  plt.xlabel('False Positive Rate')\n",
        "  plt.ylabel('True Positive Rate')\n",
        "  plt.legend()\n",
        "  plt.show()"
      ],
      "metadata": {
        "id": "2GBUBytbKy3S"
      },
      "execution_count": 90,
      "outputs": []
    },
    {
      "cell_type": "markdown",
      "source": [
        "####Linear Regression"
      ],
      "metadata": {
        "id": "rUzEe5Uv7g9C"
      }
    },
    {
      "cell_type": "code",
      "source": [
        "plot_roc_cur(lin_reg_sub1, X_val1_hotEncoding, y_val1, 'Linear')"
      ],
      "metadata": {
        "colab": {
          "base_uri": "https://localhost:8080/",
          "height": 279
        },
        "id": "F-rf07iGMw1H",
        "outputId": "a61be617-db74-4ac7-fde8-72e693caf0a3"
      },
      "execution_count": 91,
      "outputs": [
        {
          "output_type": "display_data",
          "data": {
            "text/plain": [
              "<Figure size 432x288 with 1 Axes>"
            ],
            "image/png": "[encoded data removed]"
          },
          "metadata": {
            "needs_background": "light"
          }
        }
      ]
    },
    {
      "cell_type": "code",
      "source": [
        "plot_roc_cur(lin_reg_sub2, X_val2_hotEncoding, y_val2, 'Linear')"
      ],
      "metadata": {
        "colab": {
          "base_uri": "https://localhost:8080/",
          "height": 279
        },
        "id": "JD-2O4zbNu0t",
        "outputId": "4d91694b-74d1-40e3-80b5-b1a11b434acc"
      },
      "execution_count": 92,
      "outputs": [
        {
          "output_type": "display_data",
          "data": {
            "text/plain": [
              "<Figure size 432x288 with 1 Axes>"
            ],
            "image/png": "[encoded data removed]"
          },
          "metadata": {
            "needs_background": "light"
          }
        }
      ]
    },
    {
      "cell_type": "markdown",
      "source": [
        "####Logistic Regression"
      ],
      "metadata": {
        "id": "0O2m3FpEMm6Q"
      }
    },
    {
      "cell_type": "code",
      "source": [
        "plot_roc_cur(log_reg_sub1, X_val1_hotEncoding, y_val1, 'Logistic')"
      ],
      "metadata": {
        "colab": {
          "base_uri": "https://localhost:8080/",
          "height": 279
        },
        "id": "NCbWTdyZIDfK",
        "outputId": "ecb6eeba-c5aa-48b9-e2b1-18ec96957a60"
      },
      "execution_count": 93,
      "outputs": [
        {
          "output_type": "display_data",
          "data": {
            "text/plain": [
              "<Figure size 432x288 with 1 Axes>"
            ],
            "image/png": "[encoded data removed]"
          },
          "metadata": {
            "needs_background": "light"
          }
        }
      ]
    },
    {
      "cell_type": "code",
      "source": [
        "plot_roc_cur(log_reg_sub2, X_val2_hotEncoding, y_val2, 'Logistic')"
      ],
      "metadata": {
        "colab": {
          "base_uri": "https://localhost:8080/",
          "height": 279
        },
        "id": "N66gFbepMJ6K",
        "outputId": "1d9b11db-24dd-4ea9-dbc5-f2deca4678bd"
      },
      "execution_count": 94,
      "outputs": [
        {
          "output_type": "display_data",
          "data": {
            "text/plain": [
              "<Figure size 432x288 with 1 Axes>"
            ],
            "image/png": "[encoded data removed]"
          },
          "metadata": {
            "needs_background": "light"
          }
        }
      ]
    }
  ],
  "metadata": {
    "kernelspec": {
      "display_name": "Python 3",
      "language": "python",
      "name": "python3"
    },
    "language_info": {
      "codemirror_mode": {
        "name": "ipython",
        "version": 3
      },
      "file_extension": ".py",
      "mimetype": "text/x-python",
      "name": "python",
      "nbconvert_exporter": "python",
      "pygments_lexer": "ipython3",
      "version": "3.7.4"
    },
    "colab": {
      "name": "MAT012_21076481.ipynb",
      "provenance": [],
      "collapsed_sections": [],
      "include_colab_link": true
    }
  },
  "nbformat": 4,
  "nbformat_minor": 0
}