{
  "cells": [
    {
      "cell_type": "markdown",
      "metadata": {
        "id": "view-in-github",
        "colab_type": "text"
      },
      "source": [
        "<a href=\"https://colab.research.google.com/github/Spartz1/Machine-Learning/blob/main/MAT012_21076481.ipynb\" target=\"_parent\"><img src=\"https://colab.research.google.com/assets/colab-badge.svg\" alt=\"Open In Colab\"/></a>"
      ]
    },
    {
      "cell_type": "markdown",
      "source": [
        "#Credit Risk Scoring Coursework"
      ],
      "metadata": {
        "id": "3YPqz_WAL_uN"
      }
    },
    {
      "cell_type": "code",
      "execution_count": 1,
      "metadata": {
        "id": "EW19bbBoW9B-",
        "outputId": "ab6b7089-f67e-4071-954d-cc5b471b8f91",
        "colab": {
          "base_uri": "https://localhost:8080/"
        }
      },
      "outputs": [
        {
          "output_type": "stream",
          "name": "stderr",
          "text": [
            "/usr/local/lib/python3.7/dist-packages/statsmodels/tools/_testing.py:19: FutureWarning: pandas.util.testing is deprecated. Use the functions in the public API at pandas.testing instead.\n",
            "  import pandas.util.testing as tm\n"
          ]
        }
      ],
      "source": [
        "import numpy as np\n",
        "import pandas as pd\n",
        "import matplotlib.pyplot as plt\n",
        "import seaborn as sns\n",
        "import os\n",
        "import operator\n",
        "import statsmodels.api as sm\n",
        "import statsmodels.formula.api as smf\n",
        "from sklearn.model_selection import train_test_split, cross_val_score\n",
        "from sklearn.feature_selection import chi2\n",
        "from sklearn.linear_model import LinearRegression, LogisticRegression\n",
        "from sklearn.metrics import mean_absolute_error, roc_auc_score, plot_roc_curve, accuracy_score, confusion_matrix, classification_report"
      ]
    },
    {
      "cell_type": "code",
      "execution_count": 2,
      "metadata": {
        "id": "3ioGbPxKW9CC"
      },
      "outputs": [],
      "source": [
        "creditDf = pd.read_excel(\"GermanCreditData.xlsx\", sheet_name=\"Sheet1\")"
      ]
    },
    {
      "cell_type": "code",
      "source": [
        "creditDf.head()"
      ],
      "metadata": {
        "colab": {
          "base_uri": "https://localhost:8080/",
          "height": 299
        },
        "id": "njaEQWc_8PWP",
        "outputId": "88531953-1fe6-4b7a-ffca-b7f47fd37a5f"
      },
      "execution_count": 61,
      "outputs": [
        {
          "output_type": "execute_result",
          "data": {
            "text/plain": [
              "   Checking  Duration  History Purpose  Amount  Savings  Emploed  Installp  \\\n",
              "0         1         6        4       3    1169        5        5         4   \n",
              "1         2        48        2       3    5951        1        3         2   \n",
              "2         4        12        4       6    2096        1        4         2   \n",
              "3         1        42        2       2    7882        1        4         2   \n",
              "4         1        24        3       0    4870        1        3         3   \n",
              "\n",
              "   marital  Coapp  ...  Age  Other  housing  Existcr  Job  Depends  Telephone  \\\n",
              "0        3      1  ...   67      3        2        2    3        1          2   \n",
              "1        2      1  ...   22      3        2        1    3        1          1   \n",
              "2        3      1  ...   49      3        2        1    2        2          1   \n",
              "3        3      3  ...   45      3        3        1    3        2          1   \n",
              "4        3      1  ...   53      3        3        2    3        2          1   \n",
              "\n",
              "   Foreign  Bad  Good  \n",
              "0        1    0     1  \n",
              "1        1    1     0  \n",
              "2        1    0     1  \n",
              "3        1    0     1  \n",
              "4        1    1     0  \n",
              "\n",
              "[5 rows x 22 columns]"
            ],
            "text/html": [
              "\n",
              "  <div id=\"df-4a0c1e4d-f2e2-4f15-8e7f-587a3ece16e2\">\n",
              "    <div class=\"colab-df-container\">\n",
              "      <div>\n",
              "<style scoped>\n",
              "    .dataframe tbody tr th:only-of-type {\n",
              "        vertical-align: middle;\n",
              "    }\n",
              "\n",
              "    .dataframe tbody tr th {\n",
              "        vertical-align: top;\n",
              "    }\n",
              "\n",
              "    .dataframe thead th {\n",
              "        text-align: right;\n",
              "    }\n",
              "</style>\n",
              "<table border=\"1\" class=\"dataframe\">\n",
              "  <thead>\n",
              "    <tr style=\"text-align: right;\">\n",
              "      <th></th>\n",
              "      <th>Checking</th>\n",
              "      <th>Duration</th>\n",
              "      <th>History</th>\n",
              "      <th>Purpose</th>\n",
              "      <th>Amount</th>\n",
              "      <th>Savings</th>\n",
              "      <th>Emploed</th>\n",
              "      <th>Installp</th>\n",
              "      <th>marital</th>\n",
              "      <th>Coapp</th>\n",
              "      <th>...</th>\n",
              "      <th>Age</th>\n",
              "      <th>Other</th>\n",
              "      <th>housing</th>\n",
              "      <th>Existcr</th>\n",
              "      <th>Job</th>\n",
              "      <th>Depends</th>\n",
              "      <th>Telephone</th>\n",
              "      <th>Foreign</th>\n",
              "      <th>Bad</th>\n",
              "      <th>Good</th>\n",
              "    </tr>\n",
              "  </thead>\n",
              "  <tbody>\n",
              "    <tr>\n",
              "      <th>0</th>\n",
              "      <td>1</td>\n",
              "      <td>6</td>\n",
              "      <td>4</td>\n",
              "      <td>3</td>\n",
              "      <td>1169</td>\n",
              "      <td>5</td>\n",
              "      <td>5</td>\n",
              "      <td>4</td>\n",
              "      <td>3</td>\n",
              "      <td>1</td>\n",
              "      <td>...</td>\n",
              "      <td>67</td>\n",
              "      <td>3</td>\n",
              "      <td>2</td>\n",
              "      <td>2</td>\n",
              "      <td>3</td>\n",
              "      <td>1</td>\n",
              "      <td>2</td>\n",
              "      <td>1</td>\n",
              "      <td>0</td>\n",
              "      <td>1</td>\n",
              "    </tr>\n",
              "    <tr>\n",
              "      <th>1</th>\n",
              "      <td>2</td>\n",
              "      <td>48</td>\n",
              "      <td>2</td>\n",
              "      <td>3</td>\n",
              "      <td>5951</td>\n",
              "      <td>1</td>\n",
              "      <td>3</td>\n",
              "      <td>2</td>\n",
              "      <td>2</td>\n",
              "      <td>1</td>\n",
              "      <td>...</td>\n",
              "      <td>22</td>\n",
              "      <td>3</td>\n",
              "      <td>2</td>\n",
              "      <td>1</td>\n",
              "      <td>3</td>\n",
              "      <td>1</td>\n",
              "      <td>1</td>\n",
              "      <td>1</td>\n",
              "      <td>1</td>\n",
              "      <td>0</td>\n",
              "    </tr>\n",
              "    <tr>\n",
              "      <th>2</th>\n",
              "      <td>4</td>\n",
              "      <td>12</td>\n",
              "      <td>4</td>\n",
              "      <td>6</td>\n",
              "      <td>2096</td>\n",
              "      <td>1</td>\n",
              "      <td>4</td>\n",
              "      <td>2</td>\n",
              "      <td>3</td>\n",
              "      <td>1</td>\n",
              "      <td>...</td>\n",
              "      <td>49</td>\n",
              "      <td>3</td>\n",
              "      <td>2</td>\n",
              "      <td>1</td>\n",
              "      <td>2</td>\n",
              "      <td>2</td>\n",
              "      <td>1</td>\n",
              "      <td>1</td>\n",
              "      <td>0</td>\n",
              "      <td>1</td>\n",
              "    </tr>\n",
              "    <tr>\n",
              "      <th>3</th>\n",
              "      <td>1</td>\n",
              "      <td>42</td>\n",
              "      <td>2</td>\n",
              "      <td>2</td>\n",
              "      <td>7882</td>\n",
              "      <td>1</td>\n",
              "      <td>4</td>\n",
              "      <td>2</td>\n",
              "      <td>3</td>\n",
              "      <td>3</td>\n",
              "      <td>...</td>\n",
              "      <td>45</td>\n",
              "      <td>3</td>\n",
              "      <td>3</td>\n",
              "      <td>1</td>\n",
              "      <td>3</td>\n",
              "      <td>2</td>\n",
              "      <td>1</td>\n",
              "      <td>1</td>\n",
              "      <td>0</td>\n",
              "      <td>1</td>\n",
              "    </tr>\n",
              "    <tr>\n",
              "      <th>4</th>\n",
              "      <td>1</td>\n",
              "      <td>24</td>\n",
              "      <td>3</td>\n",
              "      <td>0</td>\n",
              "      <td>4870</td>\n",
              "      <td>1</td>\n",
              "      <td>3</td>\n",
              "      <td>3</td>\n",
              "      <td>3</td>\n",
              "      <td>1</td>\n",
              "      <td>...</td>\n",
              "      <td>53</td>\n",
              "      <td>3</td>\n",
              "      <td>3</td>\n",
              "      <td>2</td>\n",
              "      <td>3</td>\n",
              "      <td>2</td>\n",
              "      <td>1</td>\n",
              "      <td>1</td>\n",
              "      <td>1</td>\n",
              "      <td>0</td>\n",
              "    </tr>\n",
              "  </tbody>\n",
              "</table>\n",
              "<p>5 rows × 22 columns</p>\n",
              "</div>\n",
              "      <button class=\"colab-df-convert\" onclick=\"convertToInteractive('df-4a0c1e4d-f2e2-4f15-8e7f-587a3ece16e2')\"\n",
              "              title=\"Convert this dataframe to an interactive table.\"\n",
              "              style=\"display:none;\">\n",
              "        \n",
              "  <svg xmlns=\"http://www.w3.org/2000/svg\" height=\"24px\"viewBox=\"0 0 24 24\"\n",
              "       width=\"24px\">\n",
              "    <path d=\"M0 0h24v24H0V0z\" fill=\"none\"/>\n",
              "    <path d=\"M18.56 5.44l.94 2.06.94-2.06 2.06-.94-2.06-.94-.94-2.06-.94 2.06-2.06.94zm-11 1L8.5 8.5l.94-2.06 2.06-.94-2.06-.94L8.5 2.5l-.94 2.06-2.06.94zm10 10l.94 2.06.94-2.06 2.06-.94-2.06-.94-.94-2.06-.94 2.06-2.06.94z\"/><path d=\"M17.41 7.96l-1.37-1.37c-.4-.4-.92-.59-1.43-.59-.52 0-1.04.2-1.43.59L10.3 9.45l-7.72 7.72c-.78.78-.78 2.05 0 2.83L4 21.41c.39.39.9.59 1.41.59.51 0 1.02-.2 1.41-.59l7.78-7.78 2.81-2.81c.8-.78.8-2.07 0-2.86zM5.41 20L4 18.59l7.72-7.72 1.47 1.35L5.41 20z\"/>\n",
              "  </svg>\n",
              "      </button>\n",
              "      \n",
              "  <style>\n",
              "    .colab-df-container {\n",
              "      display:flex;\n",
              "      flex-wrap:wrap;\n",
              "      gap: 12px;\n",
              "    }\n",
              "\n",
              "    .colab-df-convert {\n",
              "      background-color: #E8F0FE;\n",
              "      border: none;\n",
              "      border-radius: 50%;\n",
              "      cursor: pointer;\n",
              "      display: none;\n",
              "      fill: #1967D2;\n",
              "      height: 32px;\n",
              "      padding: 0 0 0 0;\n",
              "      width: 32px;\n",
              "    }\n",
              "\n",
              "    .colab-df-convert:hover {\n",
              "      background-color: #E2EBFA;\n",
              "      box-shadow: 0px 1px 2px rgba(60, 64, 67, 0.3), 0px 1px 3px 1px rgba(60, 64, 67, 0.15);\n",
              "      fill: #174EA6;\n",
              "    }\n",
              "\n",
              "    [theme=dark] .colab-df-convert {\n",
              "      background-color: #3B4455;\n",
              "      fill: #D2E3FC;\n",
              "    }\n",
              "\n",
              "    [theme=dark] .colab-df-convert:hover {\n",
              "      background-color: #434B5C;\n",
              "      box-shadow: 0px 1px 3px 1px rgba(0, 0, 0, 0.15);\n",
              "      filter: drop-shadow(0px 1px 2px rgba(0, 0, 0, 0.3));\n",
              "      fill: #FFFFFF;\n",
              "    }\n",
              "  </style>\n",
              "\n",
              "      <script>\n",
              "        const buttonEl =\n",
              "          document.querySelector('#df-4a0c1e4d-f2e2-4f15-8e7f-587a3ece16e2 button.colab-df-convert');\n",
              "        buttonEl.style.display =\n",
              "          google.colab.kernel.accessAllowed ? 'block' : 'none';\n",
              "\n",
              "        async function convertToInteractive(key) {\n",
              "          const element = document.querySelector('#df-4a0c1e4d-f2e2-4f15-8e7f-587a3ece16e2');\n",
              "          const dataTable =\n",
              "            await google.colab.kernel.invokeFunction('convertToInteractive',\n",
              "                                                     [key], {});\n",
              "          if (!dataTable) return;\n",
              "\n",
              "          const docLinkHtml = 'Like what you see? Visit the ' +\n",
              "            '<a target=\"_blank\" href=https://colab.research.google.com/notebooks/data_table.ipynb>data table notebook</a>'\n",
              "            + ' to learn more about interactive tables.';\n",
              "          element.innerHTML = '';\n",
              "          dataTable['output_type'] = 'display_data';\n",
              "          await google.colab.output.renderOutput(dataTable, element);\n",
              "          const docLink = document.createElement('div');\n",
              "          docLink.innerHTML = docLinkHtml;\n",
              "          element.appendChild(docLink);\n",
              "        }\n",
              "      </script>\n",
              "    </div>\n",
              "  </div>\n",
              "  "
            ]
          },
          "metadata": {},
          "execution_count": 61
        }
      ]
    },
    {
      "cell_type": "code",
      "execution_count": 62,
      "metadata": {
        "colab": {
          "base_uri": "https://localhost:8080/"
        },
        "id": "uWNqFf3sW9CD",
        "outputId": "eaba61db-23cf-495d-b108-8c9188fc65fe"
      },
      "outputs": [
        {
          "output_type": "stream",
          "name": "stdout",
          "text": [
            "(1000, 22)\n",
            "Checking      int64\n",
            "Duration      int64\n",
            "History       int64\n",
            "Purpose      object\n",
            "Amount        int64\n",
            "Savings       int64\n",
            "Emploed       int64\n",
            "Installp      int64\n",
            "marital       int64\n",
            "Coapp         int64\n",
            "Resident      int64\n",
            "Property      int64\n",
            "Age           int64\n",
            "Other         int64\n",
            "housing       int64\n",
            "Existcr       int64\n",
            "Job           int64\n",
            "Depends       int64\n",
            "Telephone     int64\n",
            "Foreign       int64\n",
            "Bad           int64\n",
            "Good          int64\n",
            "dtype: object\n"
          ]
        }
      ],
      "source": [
        "print(creditDf.shape)\n",
        "print(creditDf.dtypes)"
      ]
    },
    {
      "cell_type": "markdown",
      "source": [
        "###Q1 - Spliting the dataset into two subsets"
      ],
      "metadata": {
        "id": "UWLgDP5ck6RO"
      }
    },
    {
      "cell_type": "markdown",
      "source": [
        "####Deleting missing data"
      ],
      "metadata": {
        "id": "oMTUfDBXOWfy"
      }
    },
    {
      "cell_type": "code",
      "source": [
        "creditDf.Purpose.value_counts()"
      ],
      "metadata": {
        "colab": {
          "base_uri": "https://localhost:8080/"
        },
        "id": "W-x98g3p4Z2Y",
        "outputId": "0820548e-410d-4b4f-ab77-b5ec8fd9424d"
      },
      "execution_count": 63,
      "outputs": [
        {
          "output_type": "execute_result",
          "data": {
            "text/plain": [
              "3    280\n",
              "0    234\n",
              "2    181\n",
              "1    103\n",
              "9     97\n",
              "6     50\n",
              "5     22\n",
              "4     12\n",
              "X     12\n",
              "8      9\n",
              "Name: Purpose, dtype: int64"
            ]
          },
          "metadata": {},
          "execution_count": 63
        }
      ]
    },
    {
      "cell_type": "code",
      "source": [
        "creditDf1 = creditDf[creditDf.Purpose != 'X']\n",
        "creditDf1 = creditDf1.drop('Bad', axis = 1)\n",
        "creditDf1.head()"
      ],
      "metadata": {
        "id": "CJhQMNpH9Zrw",
        "outputId": "fd850d0d-4201-41cc-df28-2d4d1b1c421c",
        "colab": {
          "base_uri": "https://localhost:8080/",
          "height": 299
        }
      },
      "execution_count": 64,
      "outputs": [
        {
          "output_type": "execute_result",
          "data": {
            "text/plain": [
              "   Checking  Duration  History Purpose  Amount  Savings  Emploed  Installp  \\\n",
              "0         1         6        4       3    1169        5        5         4   \n",
              "1         2        48        2       3    5951        1        3         2   \n",
              "2         4        12        4       6    2096        1        4         2   \n",
              "3         1        42        2       2    7882        1        4         2   \n",
              "4         1        24        3       0    4870        1        3         3   \n",
              "\n",
              "   marital  Coapp  ...  Property  Age  Other  housing  Existcr  Job  Depends  \\\n",
              "0        3      1  ...         1   67      3        2        2    3        1   \n",
              "1        2      1  ...         1   22      3        2        1    3        1   \n",
              "2        3      1  ...         1   49      3        2        1    2        2   \n",
              "3        3      3  ...         2   45      3        3        1    3        2   \n",
              "4        3      1  ...         4   53      3        3        2    3        2   \n",
              "\n",
              "   Telephone  Foreign  Good  \n",
              "0          2        1     1  \n",
              "1          1        1     0  \n",
              "2          1        1     1  \n",
              "3          1        1     1  \n",
              "4          1        1     0  \n",
              "\n",
              "[5 rows x 21 columns]"
            ],
            "text/html": [
              "\n",
              "  <div id=\"df-f4023154-a516-450d-b453-6da2156577b6\">\n",
              "    <div class=\"colab-df-container\">\n",
              "      <div>\n",
              "<style scoped>\n",
              "    .dataframe tbody tr th:only-of-type {\n",
              "        vertical-align: middle;\n",
              "    }\n",
              "\n",
              "    .dataframe tbody tr th {\n",
              "        vertical-align: top;\n",
              "    }\n",
              "\n",
              "    .dataframe thead th {\n",
              "        text-align: right;\n",
              "    }\n",
              "</style>\n",
              "<table border=\"1\" class=\"dataframe\">\n",
              "  <thead>\n",
              "    <tr style=\"text-align: right;\">\n",
              "      <th></th>\n",
              "      <th>Checking</th>\n",
              "      <th>Duration</th>\n",
              "      <th>History</th>\n",
              "      <th>Purpose</th>\n",
              "      <th>Amount</th>\n",
              "      <th>Savings</th>\n",
              "      <th>Emploed</th>\n",
              "      <th>Installp</th>\n",
              "      <th>marital</th>\n",
              "      <th>Coapp</th>\n",
              "      <th>...</th>\n",
              "      <th>Property</th>\n",
              "      <th>Age</th>\n",
              "      <th>Other</th>\n",
              "      <th>housing</th>\n",
              "      <th>Existcr</th>\n",
              "      <th>Job</th>\n",
              "      <th>Depends</th>\n",
              "      <th>Telephone</th>\n",
              "      <th>Foreign</th>\n",
              "      <th>Good</th>\n",
              "    </tr>\n",
              "  </thead>\n",
              "  <tbody>\n",
              "    <tr>\n",
              "      <th>0</th>\n",
              "      <td>1</td>\n",
              "      <td>6</td>\n",
              "      <td>4</td>\n",
              "      <td>3</td>\n",
              "      <td>1169</td>\n",
              "      <td>5</td>\n",
              "      <td>5</td>\n",
              "      <td>4</td>\n",
              "      <td>3</td>\n",
              "      <td>1</td>\n",
              "      <td>...</td>\n",
              "      <td>1</td>\n",
              "      <td>67</td>\n",
              "      <td>3</td>\n",
              "      <td>2</td>\n",
              "      <td>2</td>\n",
              "      <td>3</td>\n",
              "      <td>1</td>\n",
              "      <td>2</td>\n",
              "      <td>1</td>\n",
              "      <td>1</td>\n",
              "    </tr>\n",
              "    <tr>\n",
              "      <th>1</th>\n",
              "      <td>2</td>\n",
              "      <td>48</td>\n",
              "      <td>2</td>\n",
              "      <td>3</td>\n",
              "      <td>5951</td>\n",
              "      <td>1</td>\n",
              "      <td>3</td>\n",
              "      <td>2</td>\n",
              "      <td>2</td>\n",
              "      <td>1</td>\n",
              "      <td>...</td>\n",
              "      <td>1</td>\n",
              "      <td>22</td>\n",
              "      <td>3</td>\n",
              "      <td>2</td>\n",
              "      <td>1</td>\n",
              "      <td>3</td>\n",
              "      <td>1</td>\n",
              "      <td>1</td>\n",
              "      <td>1</td>\n",
              "      <td>0</td>\n",
              "    </tr>\n",
              "    <tr>\n",
              "      <th>2</th>\n",
              "      <td>4</td>\n",
              "      <td>12</td>\n",
              "      <td>4</td>\n",
              "      <td>6</td>\n",
              "      <td>2096</td>\n",
              "      <td>1</td>\n",
              "      <td>4</td>\n",
              "      <td>2</td>\n",
              "      <td>3</td>\n",
              "      <td>1</td>\n",
              "      <td>...</td>\n",
              "      <td>1</td>\n",
              "      <td>49</td>\n",
              "      <td>3</td>\n",
              "      <td>2</td>\n",
              "      <td>1</td>\n",
              "      <td>2</td>\n",
              "      <td>2</td>\n",
              "      <td>1</td>\n",
              "      <td>1</td>\n",
              "      <td>1</td>\n",
              "    </tr>\n",
              "    <tr>\n",
              "      <th>3</th>\n",
              "      <td>1</td>\n",
              "      <td>42</td>\n",
              "      <td>2</td>\n",
              "      <td>2</td>\n",
              "      <td>7882</td>\n",
              "      <td>1</td>\n",
              "      <td>4</td>\n",
              "      <td>2</td>\n",
              "      <td>3</td>\n",
              "      <td>3</td>\n",
              "      <td>...</td>\n",
              "      <td>2</td>\n",
              "      <td>45</td>\n",
              "      <td>3</td>\n",
              "      <td>3</td>\n",
              "      <td>1</td>\n",
              "      <td>3</td>\n",
              "      <td>2</td>\n",
              "      <td>1</td>\n",
              "      <td>1</td>\n",
              "      <td>1</td>\n",
              "    </tr>\n",
              "    <tr>\n",
              "      <th>4</th>\n",
              "      <td>1</td>\n",
              "      <td>24</td>\n",
              "      <td>3</td>\n",
              "      <td>0</td>\n",
              "      <td>4870</td>\n",
              "      <td>1</td>\n",
              "      <td>3</td>\n",
              "      <td>3</td>\n",
              "      <td>3</td>\n",
              "      <td>1</td>\n",
              "      <td>...</td>\n",
              "      <td>4</td>\n",
              "      <td>53</td>\n",
              "      <td>3</td>\n",
              "      <td>3</td>\n",
              "      <td>2</td>\n",
              "      <td>3</td>\n",
              "      <td>2</td>\n",
              "      <td>1</td>\n",
              "      <td>1</td>\n",
              "      <td>0</td>\n",
              "    </tr>\n",
              "  </tbody>\n",
              "</table>\n",
              "<p>5 rows × 21 columns</p>\n",
              "</div>\n",
              "      <button class=\"colab-df-convert\" onclick=\"convertToInteractive('df-f4023154-a516-450d-b453-6da2156577b6')\"\n",
              "              title=\"Convert this dataframe to an interactive table.\"\n",
              "              style=\"display:none;\">\n",
              "        \n",
              "  <svg xmlns=\"http://www.w3.org/2000/svg\" height=\"24px\"viewBox=\"0 0 24 24\"\n",
              "       width=\"24px\">\n",
              "    <path d=\"M0 0h24v24H0V0z\" fill=\"none\"/>\n",
              "    <path d=\"M18.56 5.44l.94 2.06.94-2.06 2.06-.94-2.06-.94-.94-2.06-.94 2.06-2.06.94zm-11 1L8.5 8.5l.94-2.06 2.06-.94-2.06-.94L8.5 2.5l-.94 2.06-2.06.94zm10 10l.94 2.06.94-2.06 2.06-.94-2.06-.94-.94-2.06-.94 2.06-2.06.94z\"/><path d=\"M17.41 7.96l-1.37-1.37c-.4-.4-.92-.59-1.43-.59-.52 0-1.04.2-1.43.59L10.3 9.45l-7.72 7.72c-.78.78-.78 2.05 0 2.83L4 21.41c.39.39.9.59 1.41.59.51 0 1.02-.2 1.41-.59l7.78-7.78 2.81-2.81c.8-.78.8-2.07 0-2.86zM5.41 20L4 18.59l7.72-7.72 1.47 1.35L5.41 20z\"/>\n",
              "  </svg>\n",
              "      </button>\n",
              "      \n",
              "  <style>\n",
              "    .colab-df-container {\n",
              "      display:flex;\n",
              "      flex-wrap:wrap;\n",
              "      gap: 12px;\n",
              "    }\n",
              "\n",
              "    .colab-df-convert {\n",
              "      background-color: #E8F0FE;\n",
              "      border: none;\n",
              "      border-radius: 50%;\n",
              "      cursor: pointer;\n",
              "      display: none;\n",
              "      fill: #1967D2;\n",
              "      height: 32px;\n",
              "      padding: 0 0 0 0;\n",
              "      width: 32px;\n",
              "    }\n",
              "\n",
              "    .colab-df-convert:hover {\n",
              "      background-color: #E2EBFA;\n",
              "      box-shadow: 0px 1px 2px rgba(60, 64, 67, 0.3), 0px 1px 3px 1px rgba(60, 64, 67, 0.15);\n",
              "      fill: #174EA6;\n",
              "    }\n",
              "\n",
              "    [theme=dark] .colab-df-convert {\n",
              "      background-color: #3B4455;\n",
              "      fill: #D2E3FC;\n",
              "    }\n",
              "\n",
              "    [theme=dark] .colab-df-convert:hover {\n",
              "      background-color: #434B5C;\n",
              "      box-shadow: 0px 1px 3px 1px rgba(0, 0, 0, 0.15);\n",
              "      filter: drop-shadow(0px 1px 2px rgba(0, 0, 0, 0.3));\n",
              "      fill: #FFFFFF;\n",
              "    }\n",
              "  </style>\n",
              "\n",
              "      <script>\n",
              "        const buttonEl =\n",
              "          document.querySelector('#df-f4023154-a516-450d-b453-6da2156577b6 button.colab-df-convert');\n",
              "        buttonEl.style.display =\n",
              "          google.colab.kernel.accessAllowed ? 'block' : 'none';\n",
              "\n",
              "        async function convertToInteractive(key) {\n",
              "          const element = document.querySelector('#df-f4023154-a516-450d-b453-6da2156577b6');\n",
              "          const dataTable =\n",
              "            await google.colab.kernel.invokeFunction('convertToInteractive',\n",
              "                                                     [key], {});\n",
              "          if (!dataTable) return;\n",
              "\n",
              "          const docLinkHtml = 'Like what you see? Visit the ' +\n",
              "            '<a target=\"_blank\" href=https://colab.research.google.com/notebooks/data_table.ipynb>data table notebook</a>'\n",
              "            + ' to learn more about interactive tables.';\n",
              "          element.innerHTML = '';\n",
              "          dataTable['output_type'] = 'display_data';\n",
              "          await google.colab.output.renderOutput(dataTable, element);\n",
              "          const docLink = document.createElement('div');\n",
              "          docLink.innerHTML = docLinkHtml;\n",
              "          element.appendChild(docLink);\n",
              "        }\n",
              "      </script>\n",
              "    </div>\n",
              "  </div>\n",
              "  "
            ]
          },
          "metadata": {},
          "execution_count": 64
        }
      ]
    },
    {
      "cell_type": "markdown",
      "source": [
        "####Changing data type of features as per data dictionary"
      ],
      "metadata": {
        "id": "5ednCUNtWgFV"
      }
    },
    {
      "cell_type": "code",
      "source": [
        "creditDf1.describe().T"
      ],
      "metadata": {
        "colab": {
          "base_uri": "https://localhost:8080/",
          "height": 677
        },
        "id": "FbiRDojPPFKF",
        "outputId": "871d8f35-025d-4b3a-bcee-e01cc11bc1a1"
      },
      "execution_count": 65,
      "outputs": [
        {
          "output_type": "execute_result",
          "data": {
            "text/plain": [
              "           count         mean          std    min     25%     50%     75%  \\\n",
              "Checking   988.0     2.586032     1.259488    1.0     1.0     2.0     4.0   \n",
              "Duration   988.0    20.764170    11.955509    4.0    12.0    18.0    24.0   \n",
              "History    988.0     2.547571     1.080716    0.0     2.0     2.0     4.0   \n",
              "Amount     988.0  3211.281377  2710.759455  250.0  1364.0  2302.5  3951.5   \n",
              "Savings    988.0     2.108300     1.581111    1.0     1.0     1.0     3.0   \n",
              "Emploed    988.0     3.388664     1.201465    1.0     3.0     3.0     5.0   \n",
              "Installp   988.0     2.976721     1.120168    1.0     2.0     3.0     4.0   \n",
              "marital    988.0     2.683198     0.708782    1.0     2.0     3.0     3.0   \n",
              "Coapp      988.0     1.140688     0.473668    1.0     1.0     1.0     1.0   \n",
              "Resident   988.0     2.840081     1.106641    1.0     2.0     3.0     4.0   \n",
              "Property   988.0     2.348178     1.048097    1.0     1.0     2.0     3.0   \n",
              "Age        988.0    35.492915    11.371455   19.0    27.0    33.0    42.0   \n",
              "Other      988.0     2.686235     0.694991    1.0     3.0     3.0     3.0   \n",
              "housing    988.0     1.924089     0.530056    1.0     2.0     2.0     2.0   \n",
              "Existcr    988.0     1.405870     0.578442    1.0     1.0     1.0     2.0   \n",
              "Job        988.0     2.896761     0.645670    1.0     3.0     3.0     3.0   \n",
              "Depends    988.0     1.154858     0.361953    1.0     1.0     1.0     1.0   \n",
              "Telephone  988.0     1.397773     0.489686    1.0     1.0     1.0     2.0   \n",
              "Foreign    988.0     1.036437     0.187470    1.0     1.0     1.0     1.0   \n",
              "Good       988.0     0.701417     0.457868    0.0     0.0     1.0     1.0   \n",
              "\n",
              "               max  \n",
              "Checking       4.0  \n",
              "Duration      72.0  \n",
              "History        4.0  \n",
              "Amount     15945.0  \n",
              "Savings        5.0  \n",
              "Emploed        5.0  \n",
              "Installp       4.0  \n",
              "marital        4.0  \n",
              "Coapp          3.0  \n",
              "Resident       4.0  \n",
              "Property       4.0  \n",
              "Age           75.0  \n",
              "Other          3.0  \n",
              "housing        3.0  \n",
              "Existcr        4.0  \n",
              "Job            4.0  \n",
              "Depends        2.0  \n",
              "Telephone      2.0  \n",
              "Foreign        2.0  \n",
              "Good           1.0  "
            ],
            "text/html": [
              "\n",
              "  <div id=\"df-77acf598-9e71-4f3a-91a1-aa8ea32a643c\">\n",
              "    <div class=\"colab-df-container\">\n",
              "      <div>\n",
              "<style scoped>\n",
              "    .dataframe tbody tr th:only-of-type {\n",
              "        vertical-align: middle;\n",
              "    }\n",
              "\n",
              "    .dataframe tbody tr th {\n",
              "        vertical-align: top;\n",
              "    }\n",
              "\n",
              "    .dataframe thead th {\n",
              "        text-align: right;\n",
              "    }\n",
              "</style>\n",
              "<table border=\"1\" class=\"dataframe\">\n",
              "  <thead>\n",
              "    <tr style=\"text-align: right;\">\n",
              "      <th></th>\n",
              "      <th>count</th>\n",
              "      <th>mean</th>\n",
              "      <th>std</th>\n",
              "      <th>min</th>\n",
              "      <th>25%</th>\n",
              "      <th>50%</th>\n",
              "      <th>75%</th>\n",
              "      <th>max</th>\n",
              "    </tr>\n",
              "  </thead>\n",
              "  <tbody>\n",
              "    <tr>\n",
              "      <th>Checking</th>\n",
              "      <td>988.0</td>\n",
              "      <td>2.586032</td>\n",
              "      <td>1.259488</td>\n",
              "      <td>1.0</td>\n",
              "      <td>1.0</td>\n",
              "      <td>2.0</td>\n",
              "      <td>4.0</td>\n",
              "      <td>4.0</td>\n",
              "    </tr>\n",
              "    <tr>\n",
              "      <th>Duration</th>\n",
              "      <td>988.0</td>\n",
              "      <td>20.764170</td>\n",
              "      <td>11.955509</td>\n",
              "      <td>4.0</td>\n",
              "      <td>12.0</td>\n",
              "      <td>18.0</td>\n",
              "      <td>24.0</td>\n",
              "      <td>72.0</td>\n",
              "    </tr>\n",
              "    <tr>\n",
              "      <th>History</th>\n",
              "      <td>988.0</td>\n",
              "      <td>2.547571</td>\n",
              "      <td>1.080716</td>\n",
              "      <td>0.0</td>\n",
              "      <td>2.0</td>\n",
              "      <td>2.0</td>\n",
              "      <td>4.0</td>\n",
              "      <td>4.0</td>\n",
              "    </tr>\n",
              "    <tr>\n",
              "      <th>Amount</th>\n",
              "      <td>988.0</td>\n",
              "      <td>3211.281377</td>\n",
              "      <td>2710.759455</td>\n",
              "      <td>250.0</td>\n",
              "      <td>1364.0</td>\n",
              "      <td>2302.5</td>\n",
              "      <td>3951.5</td>\n",
              "      <td>15945.0</td>\n",
              "    </tr>\n",
              "    <tr>\n",
              "      <th>Savings</th>\n",
              "      <td>988.0</td>\n",
              "      <td>2.108300</td>\n",
              "      <td>1.581111</td>\n",
              "      <td>1.0</td>\n",
              "      <td>1.0</td>\n",
              "      <td>1.0</td>\n",
              "      <td>3.0</td>\n",
              "      <td>5.0</td>\n",
              "    </tr>\n",
              "    <tr>\n",
              "      <th>Emploed</th>\n",
              "      <td>988.0</td>\n",
              "      <td>3.388664</td>\n",
              "      <td>1.201465</td>\n",
              "      <td>1.0</td>\n",
              "      <td>3.0</td>\n",
              "      <td>3.0</td>\n",
              "      <td>5.0</td>\n",
              "      <td>5.0</td>\n",
              "    </tr>\n",
              "    <tr>\n",
              "      <th>Installp</th>\n",
              "      <td>988.0</td>\n",
              "      <td>2.976721</td>\n",
              "      <td>1.120168</td>\n",
              "      <td>1.0</td>\n",
              "      <td>2.0</td>\n",
              "      <td>3.0</td>\n",
              "      <td>4.0</td>\n",
              "      <td>4.0</td>\n",
              "    </tr>\n",
              "    <tr>\n",
              "      <th>marital</th>\n",
              "      <td>988.0</td>\n",
              "      <td>2.683198</td>\n",
              "      <td>0.708782</td>\n",
              "      <td>1.0</td>\n",
              "      <td>2.0</td>\n",
              "      <td>3.0</td>\n",
              "      <td>3.0</td>\n",
              "      <td>4.0</td>\n",
              "    </tr>\n",
              "    <tr>\n",
              "      <th>Coapp</th>\n",
              "      <td>988.0</td>\n",
              "      <td>1.140688</td>\n",
              "      <td>0.473668</td>\n",
              "      <td>1.0</td>\n",
              "      <td>1.0</td>\n",
              "      <td>1.0</td>\n",
              "      <td>1.0</td>\n",
              "      <td>3.0</td>\n",
              "    </tr>\n",
              "    <tr>\n",
              "      <th>Resident</th>\n",
              "      <td>988.0</td>\n",
              "      <td>2.840081</td>\n",
              "      <td>1.106641</td>\n",
              "      <td>1.0</td>\n",
              "      <td>2.0</td>\n",
              "      <td>3.0</td>\n",
              "      <td>4.0</td>\n",
              "      <td>4.0</td>\n",
              "    </tr>\n",
              "    <tr>\n",
              "      <th>Property</th>\n",
              "      <td>988.0</td>\n",
              "      <td>2.348178</td>\n",
              "      <td>1.048097</td>\n",
              "      <td>1.0</td>\n",
              "      <td>1.0</td>\n",
              "      <td>2.0</td>\n",
              "      <td>3.0</td>\n",
              "      <td>4.0</td>\n",
              "    </tr>\n",
              "    <tr>\n",
              "      <th>Age</th>\n",
              "      <td>988.0</td>\n",
              "      <td>35.492915</td>\n",
              "      <td>11.371455</td>\n",
              "      <td>19.0</td>\n",
              "      <td>27.0</td>\n",
              "      <td>33.0</td>\n",
              "      <td>42.0</td>\n",
              "      <td>75.0</td>\n",
              "    </tr>\n",
              "    <tr>\n",
              "      <th>Other</th>\n",
              "      <td>988.0</td>\n",
              "      <td>2.686235</td>\n",
              "      <td>0.694991</td>\n",
              "      <td>1.0</td>\n",
              "      <td>3.0</td>\n",
              "      <td>3.0</td>\n",
              "      <td>3.0</td>\n",
              "      <td>3.0</td>\n",
              "    </tr>\n",
              "    <tr>\n",
              "      <th>housing</th>\n",
              "      <td>988.0</td>\n",
              "      <td>1.924089</td>\n",
              "      <td>0.530056</td>\n",
              "      <td>1.0</td>\n",
              "      <td>2.0</td>\n",
              "      <td>2.0</td>\n",
              "      <td>2.0</td>\n",
              "      <td>3.0</td>\n",
              "    </tr>\n",
              "    <tr>\n",
              "      <th>Existcr</th>\n",
              "      <td>988.0</td>\n",
              "      <td>1.405870</td>\n",
              "      <td>0.578442</td>\n",
              "      <td>1.0</td>\n",
              "      <td>1.0</td>\n",
              "      <td>1.0</td>\n",
              "      <td>2.0</td>\n",
              "      <td>4.0</td>\n",
              "    </tr>\n",
              "    <tr>\n",
              "      <th>Job</th>\n",
              "      <td>988.0</td>\n",
              "      <td>2.896761</td>\n",
              "      <td>0.645670</td>\n",
              "      <td>1.0</td>\n",
              "      <td>3.0</td>\n",
              "      <td>3.0</td>\n",
              "      <td>3.0</td>\n",
              "      <td>4.0</td>\n",
              "    </tr>\n",
              "    <tr>\n",
              "      <th>Depends</th>\n",
              "      <td>988.0</td>\n",
              "      <td>1.154858</td>\n",
              "      <td>0.361953</td>\n",
              "      <td>1.0</td>\n",
              "      <td>1.0</td>\n",
              "      <td>1.0</td>\n",
              "      <td>1.0</td>\n",
              "      <td>2.0</td>\n",
              "    </tr>\n",
              "    <tr>\n",
              "      <th>Telephone</th>\n",
              "      <td>988.0</td>\n",
              "      <td>1.397773</td>\n",
              "      <td>0.489686</td>\n",
              "      <td>1.0</td>\n",
              "      <td>1.0</td>\n",
              "      <td>1.0</td>\n",
              "      <td>2.0</td>\n",
              "      <td>2.0</td>\n",
              "    </tr>\n",
              "    <tr>\n",
              "      <th>Foreign</th>\n",
              "      <td>988.0</td>\n",
              "      <td>1.036437</td>\n",
              "      <td>0.187470</td>\n",
              "      <td>1.0</td>\n",
              "      <td>1.0</td>\n",
              "      <td>1.0</td>\n",
              "      <td>1.0</td>\n",
              "      <td>2.0</td>\n",
              "    </tr>\n",
              "    <tr>\n",
              "      <th>Good</th>\n",
              "      <td>988.0</td>\n",
              "      <td>0.701417</td>\n",
              "      <td>0.457868</td>\n",
              "      <td>0.0</td>\n",
              "      <td>0.0</td>\n",
              "      <td>1.0</td>\n",
              "      <td>1.0</td>\n",
              "      <td>1.0</td>\n",
              "    </tr>\n",
              "  </tbody>\n",
              "</table>\n",
              "</div>\n",
              "      <button class=\"colab-df-convert\" onclick=\"convertToInteractive('df-77acf598-9e71-4f3a-91a1-aa8ea32a643c')\"\n",
              "              title=\"Convert this dataframe to an interactive table.\"\n",
              "              style=\"display:none;\">\n",
              "        \n",
              "  <svg xmlns=\"http://www.w3.org/2000/svg\" height=\"24px\"viewBox=\"0 0 24 24\"\n",
              "       width=\"24px\">\n",
              "    <path d=\"M0 0h24v24H0V0z\" fill=\"none\"/>\n",
              "    <path d=\"M18.56 5.44l.94 2.06.94-2.06 2.06-.94-2.06-.94-.94-2.06-.94 2.06-2.06.94zm-11 1L8.5 8.5l.94-2.06 2.06-.94-2.06-.94L8.5 2.5l-.94 2.06-2.06.94zm10 10l.94 2.06.94-2.06 2.06-.94-2.06-.94-.94-2.06-.94 2.06-2.06.94z\"/><path d=\"M17.41 7.96l-1.37-1.37c-.4-.4-.92-.59-1.43-.59-.52 0-1.04.2-1.43.59L10.3 9.45l-7.72 7.72c-.78.78-.78 2.05 0 2.83L4 21.41c.39.39.9.59 1.41.59.51 0 1.02-.2 1.41-.59l7.78-7.78 2.81-2.81c.8-.78.8-2.07 0-2.86zM5.41 20L4 18.59l7.72-7.72 1.47 1.35L5.41 20z\"/>\n",
              "  </svg>\n",
              "      </button>\n",
              "      \n",
              "  <style>\n",
              "    .colab-df-container {\n",
              "      display:flex;\n",
              "      flex-wrap:wrap;\n",
              "      gap: 12px;\n",
              "    }\n",
              "\n",
              "    .colab-df-convert {\n",
              "      background-color: #E8F0FE;\n",
              "      border: none;\n",
              "      border-radius: 50%;\n",
              "      cursor: pointer;\n",
              "      display: none;\n",
              "      fill: #1967D2;\n",
              "      height: 32px;\n",
              "      padding: 0 0 0 0;\n",
              "      width: 32px;\n",
              "    }\n",
              "\n",
              "    .colab-df-convert:hover {\n",
              "      background-color: #E2EBFA;\n",
              "      box-shadow: 0px 1px 2px rgba(60, 64, 67, 0.3), 0px 1px 3px 1px rgba(60, 64, 67, 0.15);\n",
              "      fill: #174EA6;\n",
              "    }\n",
              "\n",
              "    [theme=dark] .colab-df-convert {\n",
              "      background-color: #3B4455;\n",
              "      fill: #D2E3FC;\n",
              "    }\n",
              "\n",
              "    [theme=dark] .colab-df-convert:hover {\n",
              "      background-color: #434B5C;\n",
              "      box-shadow: 0px 1px 3px 1px rgba(0, 0, 0, 0.15);\n",
              "      filter: drop-shadow(0px 1px 2px rgba(0, 0, 0, 0.3));\n",
              "      fill: #FFFFFF;\n",
              "    }\n",
              "  </style>\n",
              "\n",
              "      <script>\n",
              "        const buttonEl =\n",
              "          document.querySelector('#df-77acf598-9e71-4f3a-91a1-aa8ea32a643c button.colab-df-convert');\n",
              "        buttonEl.style.display =\n",
              "          google.colab.kernel.accessAllowed ? 'block' : 'none';\n",
              "\n",
              "        async function convertToInteractive(key) {\n",
              "          const element = document.querySelector('#df-77acf598-9e71-4f3a-91a1-aa8ea32a643c');\n",
              "          const dataTable =\n",
              "            await google.colab.kernel.invokeFunction('convertToInteractive',\n",
              "                                                     [key], {});\n",
              "          if (!dataTable) return;\n",
              "\n",
              "          const docLinkHtml = 'Like what you see? Visit the ' +\n",
              "            '<a target=\"_blank\" href=https://colab.research.google.com/notebooks/data_table.ipynb>data table notebook</a>'\n",
              "            + ' to learn more about interactive tables.';\n",
              "          element.innerHTML = '';\n",
              "          dataTable['output_type'] = 'display_data';\n",
              "          await google.colab.output.renderOutput(dataTable, element);\n",
              "          const docLink = document.createElement('div');\n",
              "          docLink.innerHTML = docLinkHtml;\n",
              "          element.appendChild(docLink);\n",
              "        }\n",
              "      </script>\n",
              "    </div>\n",
              "  </div>\n",
              "  "
            ]
          },
          "metadata": {},
          "execution_count": 65
        }
      ]
    },
    {
      "cell_type": "code",
      "source": [
        "creditDf1.columns"
      ],
      "metadata": {
        "colab": {
          "base_uri": "https://localhost:8080/"
        },
        "id": "1gKjbi0eSv_H",
        "outputId": "eb21019a-2203-4f6a-acb0-80114ce07787"
      },
      "execution_count": 66,
      "outputs": [
        {
          "output_type": "execute_result",
          "data": {
            "text/plain": [
              "Index(['Checking', 'Duration', 'History', 'Purpose', 'Amount', 'Savings',\n",
              "       'Emploed', 'Installp', 'marital', 'Coapp', 'Resident', 'Property',\n",
              "       'Age', 'Other', 'housing', 'Existcr', 'Job', 'Depends', 'Telephone',\n",
              "       'Foreign', 'Good'],\n",
              "      dtype='object')"
            ]
          },
          "metadata": {},
          "execution_count": 66
        }
      ]
    },
    {
      "cell_type": "code",
      "source": [
        "cat_columns = ['Checking', 'History', 'Purpose', 'Savings', 'Emploed', 'marital', 'Coapp', 'Property', \n",
        "               'Other', 'housing', 'Job', 'Depends', 'Telephone', 'Foreign']\n",
        "for cat in cat_columns:\n",
        "  print('{} : {}'.format(cat, set(creditDf1[cat].unique().tolist())))"
      ],
      "metadata": {
        "colab": {
          "base_uri": "https://localhost:8080/"
        },
        "id": "ww67DLL4S7Tn",
        "outputId": "06055d91-bcf3-4074-8f56-f5f70ee16378"
      },
      "execution_count": 71,
      "outputs": [
        {
          "output_type": "stream",
          "name": "stdout",
          "text": [
            "Checking : {1, 2, 3, 4}\n",
            "History : {0, 1, 2, 3, 4}\n",
            "Purpose : {0, 1, 2, 3, 4, 5, 6, 8, 9}\n",
            "Savings : {1, 2, 3, 4, 5}\n",
            "Emploed : {1, 2, 3, 4, 5}\n",
            "marital : {1, 2, 3, 4}\n",
            "Coapp : {1, 2, 3}\n",
            "Property : {1, 2, 3, 4}\n",
            "Other : {1, 2, 3}\n",
            "housing : {1, 2, 3}\n",
            "Job : {1, 2, 3, 4}\n",
            "Depends : {1, 2}\n",
            "Telephone : {1, 2}\n",
            "Foreign : {1, 2}\n"
          ]
        }
      ]
    },
    {
      "cell_type": "code",
      "source": [
        "for cat in cat_columns:\n",
        "  creditDf1[cat] = creditDf1[cat].astype('object')"
      ],
      "metadata": {
        "id": "SVd5s52JTCvr"
      },
      "execution_count": 72,
      "outputs": []
    },
    {
      "cell_type": "code",
      "source": [
        "creditDf1.info()"
      ],
      "metadata": {
        "colab": {
          "base_uri": "https://localhost:8080/"
        },
        "id": "Zhc_-6u_-27X",
        "outputId": "8c474a70-1e7f-4c16-b9f3-d5cb9f5f8b48"
      },
      "execution_count": 73,
      "outputs": [
        {
          "output_type": "stream",
          "name": "stdout",
          "text": [
            "<class 'pandas.core.frame.DataFrame'>\n",
            "Int64Index: 988 entries, 0 to 999\n",
            "Data columns (total 21 columns):\n",
            " #   Column     Non-Null Count  Dtype \n",
            "---  ------     --------------  ----- \n",
            " 0   Checking   988 non-null    object\n",
            " 1   Duration   988 non-null    int64 \n",
            " 2   History    988 non-null    object\n",
            " 3   Purpose    988 non-null    object\n",
            " 4   Amount     988 non-null    int64 \n",
            " 5   Savings    988 non-null    object\n",
            " 6   Emploed    988 non-null    object\n",
            " 7   Installp   988 non-null    int64 \n",
            " 8   marital    988 non-null    object\n",
            " 9   Coapp      988 non-null    object\n",
            " 10  Resident   988 non-null    int64 \n",
            " 11  Property   988 non-null    object\n",
            " 12  Age        988 non-null    int64 \n",
            " 13  Other      988 non-null    object\n",
            " 14  housing    988 non-null    object\n",
            " 15  Existcr    988 non-null    int64 \n",
            " 16  Job        988 non-null    object\n",
            " 17  Depends    988 non-null    object\n",
            " 18  Telephone  988 non-null    object\n",
            " 19  Foreign    988 non-null    object\n",
            " 20  Good       988 non-null    int64 \n",
            "dtypes: int64(7), object(14)\n",
            "memory usage: 169.8+ KB\n"
          ]
        }
      ]
    },
    {
      "cell_type": "markdown",
      "source": [
        "####Detecting and removing the outliers"
      ],
      "metadata": {
        "id": "MAXpvcTuWvon"
      }
    },
    {
      "cell_type": "code",
      "source": [
        "def check_imbalanced_data(dataF):\n",
        "  sns.countplot(x = 'Good', data = dataF, palette = 'hls')\n",
        "  plt.show()"
      ],
      "metadata": {
        "id": "bWrVFxq6FKFq"
      },
      "execution_count": 139,
      "outputs": []
    },
    {
      "cell_type": "code",
      "source": [
        "'''\n",
        "delete_outlier: function to delete outliers\n",
        "args: num_col - numerical column whose outliers needs to be deleted\n",
        "      dFrame - data frame from which the column is picked\n",
        "returns: data frame after deleting the outliers\n",
        "'''\n",
        "def delete_outlier(num_col, dFrame):\n",
        "  for x in [num_col]:\n",
        "    q75,q25 = np.percentile(dFrame.loc[:,x],[75,25])\n",
        "    intr_qr = q75-q25\n",
        " \n",
        "    max = q75+(2*intr_qr)\n",
        "    min = q25-(2*intr_qr)\n",
        " \n",
        "    return dFrame[dFrame.loc[dFrame[x] > min,x] & dFrame.loc[dFrame[x] < max,x]]"
      ],
      "metadata": {
        "id": "KslnOvy6Zb26"
      },
      "execution_count": 76,
      "outputs": []
    },
    {
      "cell_type": "code",
      "source": [
        "'''\n",
        "boxplot_func: function to display box plots\n",
        "args: dFrame - data frame to pick attributes for box plots\n",
        "      fea_list - list of total number features whose box plots needs to be displayed\n",
        "'''\n",
        "num_columns = ['Duration', 'Amount', 'Installp', 'Resident', 'Age', 'Existcr']\n",
        "def boxplot_func(dFrame, fea_list):\n",
        "  f, ax = plt.subplots(1, len(fea_list), figsize=(25,10))\n",
        "  for i in range(len(fea_list)):\n",
        "    sns.boxplot(data = dFrame[fea_list[i]], ax = ax[i])\n",
        "    ax[i].set_xlabel(fea_list[i])"
      ],
      "metadata": {
        "id": "fzATiTb_TPpK"
      },
      "execution_count": 87,
      "outputs": []
    },
    {
      "cell_type": "code",
      "source": [
        "check_imbalanced_data(creditDf1)"
      ],
      "metadata": {
        "colab": {
          "base_uri": "https://localhost:8080/",
          "height": 279
        },
        "id": "kL87XUNXGL-f",
        "outputId": "7a9a9907-88fb-4693-c0cb-772e6b205853"
      },
      "execution_count": 140,
      "outputs": [
        {
          "output_type": "display_data",
          "data": {
            "text/plain": [
              "<Figure size 432x288 with 1 Axes>"
            ],
            "image/png": "[encoded data removed]"
          },
          "metadata": {
            "needs_background": "light"
          }
        }
      ]
    },
    {
      "cell_type": "code",
      "source": [
        "#plotting box plot for the whole data set\n",
        "boxplot_func(creditDf1, num_columns)\n",
        "plt.show()"
      ],
      "metadata": {
        "colab": {
          "base_uri": "https://localhost:8080/",
          "height": 495
        },
        "id": "oBEJR3cZYU_G",
        "outputId": "1d6fce97-2163-45f7-ec9c-ae47e29a29c2"
      },
      "execution_count": 88,
      "outputs": [
        {
          "output_type": "display_data",
          "data": {
            "text/plain": [
              "<Figure size 1800x720 with 6 Axes>"
            ],
            "image/png": "[encoded data removed]"
          },
          "metadata": {
            "needs_background": "light"
          }
        }
      ]
    },
    {
      "cell_type": "markdown",
      "source": [
        "####Divide into two subsets"
      ],
      "metadata": {
        "id": "LXoKBpWlOjPq"
      }
    },
    {
      "cell_type": "markdown",
      "source": [
        "#####Subset 1"
      ],
      "metadata": {
        "id": "-eQZGZx_bUy6"
      }
    },
    {
      "cell_type": "code",
      "execution_count": 89,
      "metadata": {
        "colab": {
          "base_uri": "https://localhost:8080/",
          "height": 487
        },
        "id": "bAvQC9iyW9CA",
        "outputId": "fb685de4-9cfc-4835-9ecb-bf1b51d358fb"
      },
      "outputs": [
        {
          "output_type": "execute_result",
          "data": {
            "text/plain": [
              "    Checking  Duration History Purpose  Amount Savings Emploed  Installp  \\\n",
              "0          1         6       4       3    1169       5       5         4   \n",
              "1          4        12       4       6    2096       1       4         2   \n",
              "2          4        12       2       3    3059       4       4         2   \n",
              "3          2        12       2       0    1295       1       2         3   \n",
              "4          2        12       2       3    1567       1       3         1   \n",
              "..       ...       ...     ...     ...     ...     ...     ...       ...   \n",
              "353        2         6       2       3     753       1       3         2   \n",
              "354        4        12       4       6    3565       5       2         2   \n",
              "355        4        12       2       0    2390       5       5         4   \n",
              "356        4        12       2       2    1736       1       4         3   \n",
              "357        4        12       2       3     804       1       5         4   \n",
              "\n",
              "    marital Coapp  ...  Property Age  Other housing Existcr  Job Depends  \\\n",
              "0         3     1  ...         1  67      3       2       2    3       1   \n",
              "1         3     1  ...         1  49      3       2       1    2       2   \n",
              "2         1     1  ...         1  61      3       2       1    2       1   \n",
              "3         2     1  ...         3  25      3       1       1    3       1   \n",
              "4         2     1  ...         3  22      3       2       1    3       1   \n",
              "..      ...   ...  ...       ...  ..    ...     ...     ...  ...     ...   \n",
              "353       2     3  ...         1  64      3       2       1    3       1   \n",
              "354       3     1  ...         2  37      3       2       2    2       2   \n",
              "355       3     1  ...         3  50      3       2       1    3       1   \n",
              "356       2     1  ...         1  31      3       2       1    2       1   \n",
              "357       3     1  ...         3  38      3       2       1    3       1   \n",
              "\n",
              "    Telephone Foreign Good  \n",
              "0           2       1    1  \n",
              "1           1       1    1  \n",
              "2           1       1    1  \n",
              "3           1       1    0  \n",
              "4           2       1    1  \n",
              "..        ...     ...  ...  \n",
              "353         1       1    1  \n",
              "354         1       1    1  \n",
              "355         2       1    1  \n",
              "356         1       1    1  \n",
              "357         1       1    1  \n",
              "\n",
              "[358 rows x 21 columns]"
            ],
            "text/html": [
              "\n",
              "  <div id=\"df-1813fb26-50bf-4d0f-af03-75fbf42015ed\">\n",
              "    <div class=\"colab-df-container\">\n",
              "      <div>\n",
              "<style scoped>\n",
              "    .dataframe tbody tr th:only-of-type {\n",
              "        vertical-align: middle;\n",
              "    }\n",
              "\n",
              "    .dataframe tbody tr th {\n",
              "        vertical-align: top;\n",
              "    }\n",
              "\n",
              "    .dataframe thead th {\n",
              "        text-align: right;\n",
              "    }\n",
              "</style>\n",
              "<table border=\"1\" class=\"dataframe\">\n",
              "  <thead>\n",
              "    <tr style=\"text-align: right;\">\n",
              "      <th></th>\n",
              "      <th>Checking</th>\n",
              "      <th>Duration</th>\n",
              "      <th>History</th>\n",
              "      <th>Purpose</th>\n",
              "      <th>Amount</th>\n",
              "      <th>Savings</th>\n",
              "      <th>Emploed</th>\n",
              "      <th>Installp</th>\n",
              "      <th>marital</th>\n",
              "      <th>Coapp</th>\n",
              "      <th>...</th>\n",
              "      <th>Property</th>\n",
              "      <th>Age</th>\n",
              "      <th>Other</th>\n",
              "      <th>housing</th>\n",
              "      <th>Existcr</th>\n",
              "      <th>Job</th>\n",
              "      <th>Depends</th>\n",
              "      <th>Telephone</th>\n",
              "      <th>Foreign</th>\n",
              "      <th>Good</th>\n",
              "    </tr>\n",
              "  </thead>\n",
              "  <tbody>\n",
              "    <tr>\n",
              "      <th>0</th>\n",
              "      <td>1</td>\n",
              "      <td>6</td>\n",
              "      <td>4</td>\n",
              "      <td>3</td>\n",
              "      <td>1169</td>\n",
              "      <td>5</td>\n",
              "      <td>5</td>\n",
              "      <td>4</td>\n",
              "      <td>3</td>\n",
              "      <td>1</td>\n",
              "      <td>...</td>\n",
              "      <td>1</td>\n",
              "      <td>67</td>\n",
              "      <td>3</td>\n",
              "      <td>2</td>\n",
              "      <td>2</td>\n",
              "      <td>3</td>\n",
              "      <td>1</td>\n",
              "      <td>2</td>\n",
              "      <td>1</td>\n",
              "      <td>1</td>\n",
              "    </tr>\n",
              "    <tr>\n",
              "      <th>1</th>\n",
              "      <td>4</td>\n",
              "      <td>12</td>\n",
              "      <td>4</td>\n",
              "      <td>6</td>\n",
              "      <td>2096</td>\n",
              "      <td>1</td>\n",
              "      <td>4</td>\n",
              "      <td>2</td>\n",
              "      <td>3</td>\n",
              "      <td>1</td>\n",
              "      <td>...</td>\n",
              "      <td>1</td>\n",
              "      <td>49</td>\n",
              "      <td>3</td>\n",
              "      <td>2</td>\n",
              "      <td>1</td>\n",
              "      <td>2</td>\n",
              "      <td>2</td>\n",
              "      <td>1</td>\n",
              "      <td>1</td>\n",
              "      <td>1</td>\n",
              "    </tr>\n",
              "    <tr>\n",
              "      <th>2</th>\n",
              "      <td>4</td>\n",
              "      <td>12</td>\n",
              "      <td>2</td>\n",
              "      <td>3</td>\n",
              "      <td>3059</td>\n",
              "      <td>4</td>\n",
              "      <td>4</td>\n",
              "      <td>2</td>\n",
              "      <td>1</td>\n",
              "      <td>1</td>\n",
              "      <td>...</td>\n",
              "      <td>1</td>\n",
              "      <td>61</td>\n",
              "      <td>3</td>\n",
              "      <td>2</td>\n",
              "      <td>1</td>\n",
              "      <td>2</td>\n",
              "      <td>1</td>\n",
              "      <td>1</td>\n",
              "      <td>1</td>\n",
              "      <td>1</td>\n",
              "    </tr>\n",
              "    <tr>\n",
              "      <th>3</th>\n",
              "      <td>2</td>\n",
              "      <td>12</td>\n",
              "      <td>2</td>\n",
              "      <td>0</td>\n",
              "      <td>1295</td>\n",
              "      <td>1</td>\n",
              "      <td>2</td>\n",
              "      <td>3</td>\n",
              "      <td>2</td>\n",
              "      <td>1</td>\n",
              "      <td>...</td>\n",
              "      <td>3</td>\n",
              "      <td>25</td>\n",
              "      <td>3</td>\n",
              "      <td>1</td>\n",
              "      <td>1</td>\n",
              "      <td>3</td>\n",
              "      <td>1</td>\n",
              "      <td>1</td>\n",
              "      <td>1</td>\n",
              "      <td>0</td>\n",
              "    </tr>\n",
              "    <tr>\n",
              "      <th>4</th>\n",
              "      <td>2</td>\n",
              "      <td>12</td>\n",
              "      <td>2</td>\n",
              "      <td>3</td>\n",
              "      <td>1567</td>\n",
              "      <td>1</td>\n",
              "      <td>3</td>\n",
              "      <td>1</td>\n",
              "      <td>2</td>\n",
              "      <td>1</td>\n",
              "      <td>...</td>\n",
              "      <td>3</td>\n",
              "      <td>22</td>\n",
              "      <td>3</td>\n",
              "      <td>2</td>\n",
              "      <td>1</td>\n",
              "      <td>3</td>\n",
              "      <td>1</td>\n",
              "      <td>2</td>\n",
              "      <td>1</td>\n",
              "      <td>1</td>\n",
              "    </tr>\n",
              "    <tr>\n",
              "      <th>...</th>\n",
              "      <td>...</td>\n",
              "      <td>...</td>\n",
              "      <td>...</td>\n",
              "      <td>...</td>\n",
              "      <td>...</td>\n",
              "      <td>...</td>\n",
              "      <td>...</td>\n",
              "      <td>...</td>\n",
              "      <td>...</td>\n",
              "      <td>...</td>\n",
              "      <td>...</td>\n",
              "      <td>...</td>\n",
              "      <td>...</td>\n",
              "      <td>...</td>\n",
              "      <td>...</td>\n",
              "      <td>...</td>\n",
              "      <td>...</td>\n",
              "      <td>...</td>\n",
              "      <td>...</td>\n",
              "      <td>...</td>\n",
              "      <td>...</td>\n",
              "    </tr>\n",
              "    <tr>\n",
              "      <th>353</th>\n",
              "      <td>2</td>\n",
              "      <td>6</td>\n",
              "      <td>2</td>\n",
              "      <td>3</td>\n",
              "      <td>753</td>\n",
              "      <td>1</td>\n",
              "      <td>3</td>\n",
              "      <td>2</td>\n",
              "      <td>2</td>\n",
              "      <td>3</td>\n",
              "      <td>...</td>\n",
              "      <td>1</td>\n",
              "      <td>64</td>\n",
              "      <td>3</td>\n",
              "      <td>2</td>\n",
              "      <td>1</td>\n",
              "      <td>3</td>\n",
              "      <td>1</td>\n",
              "      <td>1</td>\n",
              "      <td>1</td>\n",
              "      <td>1</td>\n",
              "    </tr>\n",
              "    <tr>\n",
              "      <th>354</th>\n",
              "      <td>4</td>\n",
              "      <td>12</td>\n",
              "      <td>4</td>\n",
              "      <td>6</td>\n",
              "      <td>3565</td>\n",
              "      <td>5</td>\n",
              "      <td>2</td>\n",
              "      <td>2</td>\n",
              "      <td>3</td>\n",
              "      <td>1</td>\n",
              "      <td>...</td>\n",
              "      <td>2</td>\n",
              "      <td>37</td>\n",
              "      <td>3</td>\n",
              "      <td>2</td>\n",
              "      <td>2</td>\n",
              "      <td>2</td>\n",
              "      <td>2</td>\n",
              "      <td>1</td>\n",
              "      <td>1</td>\n",
              "      <td>1</td>\n",
              "    </tr>\n",
              "    <tr>\n",
              "      <th>355</th>\n",
              "      <td>4</td>\n",
              "      <td>12</td>\n",
              "      <td>2</td>\n",
              "      <td>0</td>\n",
              "      <td>2390</td>\n",
              "      <td>5</td>\n",
              "      <td>5</td>\n",
              "      <td>4</td>\n",
              "      <td>3</td>\n",
              "      <td>1</td>\n",
              "      <td>...</td>\n",
              "      <td>3</td>\n",
              "      <td>50</td>\n",
              "      <td>3</td>\n",
              "      <td>2</td>\n",
              "      <td>1</td>\n",
              "      <td>3</td>\n",
              "      <td>1</td>\n",
              "      <td>2</td>\n",
              "      <td>1</td>\n",
              "      <td>1</td>\n",
              "    </tr>\n",
              "    <tr>\n",
              "      <th>356</th>\n",
              "      <td>4</td>\n",
              "      <td>12</td>\n",
              "      <td>2</td>\n",
              "      <td>2</td>\n",
              "      <td>1736</td>\n",
              "      <td>1</td>\n",
              "      <td>4</td>\n",
              "      <td>3</td>\n",
              "      <td>2</td>\n",
              "      <td>1</td>\n",
              "      <td>...</td>\n",
              "      <td>1</td>\n",
              "      <td>31</td>\n",
              "      <td>3</td>\n",
              "      <td>2</td>\n",
              "      <td>1</td>\n",
              "      <td>2</td>\n",
              "      <td>1</td>\n",
              "      <td>1</td>\n",
              "      <td>1</td>\n",
              "      <td>1</td>\n",
              "    </tr>\n",
              "    <tr>\n",
              "      <th>357</th>\n",
              "      <td>4</td>\n",
              "      <td>12</td>\n",
              "      <td>2</td>\n",
              "      <td>3</td>\n",
              "      <td>804</td>\n",
              "      <td>1</td>\n",
              "      <td>5</td>\n",
              "      <td>4</td>\n",
              "      <td>3</td>\n",
              "      <td>1</td>\n",
              "      <td>...</td>\n",
              "      <td>3</td>\n",
              "      <td>38</td>\n",
              "      <td>3</td>\n",
              "      <td>2</td>\n",
              "      <td>1</td>\n",
              "      <td>3</td>\n",
              "      <td>1</td>\n",
              "      <td>1</td>\n",
              "      <td>1</td>\n",
              "      <td>1</td>\n",
              "    </tr>\n",
              "  </tbody>\n",
              "</table>\n",
              "<p>358 rows × 21 columns</p>\n",
              "</div>\n",
              "      <button class=\"colab-df-convert\" onclick=\"convertToInteractive('df-1813fb26-50bf-4d0f-af03-75fbf42015ed')\"\n",
              "              title=\"Convert this dataframe to an interactive table.\"\n",
              "              style=\"display:none;\">\n",
              "        \n",
              "  <svg xmlns=\"http://www.w3.org/2000/svg\" height=\"24px\"viewBox=\"0 0 24 24\"\n",
              "       width=\"24px\">\n",
              "    <path d=\"M0 0h24v24H0V0z\" fill=\"none\"/>\n",
              "    <path d=\"M18.56 5.44l.94 2.06.94-2.06 2.06-.94-2.06-.94-.94-2.06-.94 2.06-2.06.94zm-11 1L8.5 8.5l.94-2.06 2.06-.94-2.06-.94L8.5 2.5l-.94 2.06-2.06.94zm10 10l.94 2.06.94-2.06 2.06-.94-2.06-.94-.94-2.06-.94 2.06-2.06.94z\"/><path d=\"M17.41 7.96l-1.37-1.37c-.4-.4-.92-.59-1.43-.59-.52 0-1.04.2-1.43.59L10.3 9.45l-7.72 7.72c-.78.78-.78 2.05 0 2.83L4 21.41c.39.39.9.59 1.41.59.51 0 1.02-.2 1.41-.59l7.78-7.78 2.81-2.81c.8-.78.8-2.07 0-2.86zM5.41 20L4 18.59l7.72-7.72 1.47 1.35L5.41 20z\"/>\n",
              "  </svg>\n",
              "      </button>\n",
              "      \n",
              "  <style>\n",
              "    .colab-df-container {\n",
              "      display:flex;\n",
              "      flex-wrap:wrap;\n",
              "      gap: 12px;\n",
              "    }\n",
              "\n",
              "    .colab-df-convert {\n",
              "      background-color: #E8F0FE;\n",
              "      border: none;\n",
              "      border-radius: 50%;\n",
              "      cursor: pointer;\n",
              "      display: none;\n",
              "      fill: #1967D2;\n",
              "      height: 32px;\n",
              "      padding: 0 0 0 0;\n",
              "      width: 32px;\n",
              "    }\n",
              "\n",
              "    .colab-df-convert:hover {\n",
              "      background-color: #E2EBFA;\n",
              "      box-shadow: 0px 1px 2px rgba(60, 64, 67, 0.3), 0px 1px 3px 1px rgba(60, 64, 67, 0.15);\n",
              "      fill: #174EA6;\n",
              "    }\n",
              "\n",
              "    [theme=dark] .colab-df-convert {\n",
              "      background-color: #3B4455;\n",
              "      fill: #D2E3FC;\n",
              "    }\n",
              "\n",
              "    [theme=dark] .colab-df-convert:hover {\n",
              "      background-color: #434B5C;\n",
              "      box-shadow: 0px 1px 3px 1px rgba(0, 0, 0, 0.15);\n",
              "      filter: drop-shadow(0px 1px 2px rgba(0, 0, 0, 0.3));\n",
              "      fill: #FFFFFF;\n",
              "    }\n",
              "  </style>\n",
              "\n",
              "      <script>\n",
              "        const buttonEl =\n",
              "          document.querySelector('#df-1813fb26-50bf-4d0f-af03-75fbf42015ed button.colab-df-convert');\n",
              "        buttonEl.style.display =\n",
              "          google.colab.kernel.accessAllowed ? 'block' : 'none';\n",
              "\n",
              "        async function convertToInteractive(key) {\n",
              "          const element = document.querySelector('#df-1813fb26-50bf-4d0f-af03-75fbf42015ed');\n",
              "          const dataTable =\n",
              "            await google.colab.kernel.invokeFunction('convertToInteractive',\n",
              "                                                     [key], {});\n",
              "          if (!dataTable) return;\n",
              "\n",
              "          const docLinkHtml = 'Like what you see? Visit the ' +\n",
              "            '<a target=\"_blank\" href=https://colab.research.google.com/notebooks/data_table.ipynb>data table notebook</a>'\n",
              "            + ' to learn more about interactive tables.';\n",
              "          element.innerHTML = '';\n",
              "          dataTable['output_type'] = 'display_data';\n",
              "          await google.colab.output.renderOutput(dataTable, element);\n",
              "          const docLink = document.createElement('div');\n",
              "          docLink.innerHTML = docLinkHtml;\n",
              "          element.appendChild(docLink);\n",
              "        }\n",
              "      </script>\n",
              "    </div>\n",
              "  </div>\n",
              "  "
            ]
          },
          "metadata": {},
          "execution_count": 89
        }
      ],
      "source": [
        "sub1 = creditDf1[creditDf1.Duration <= 12]\n",
        "sub1.reset_index(drop = True, inplace = True)\n",
        "sub1"
      ]
    },
    {
      "cell_type": "code",
      "source": [
        "check_imbalanced_data(sub1)"
      ],
      "metadata": {
        "colab": {
          "base_uri": "https://localhost:8080/",
          "height": 279
        },
        "id": "Vb121OdqGVOt",
        "outputId": "23aa709a-3df1-4dcf-94be-02b836a17c9f"
      },
      "execution_count": 141,
      "outputs": [
        {
          "output_type": "display_data",
          "data": {
            "text/plain": [
              "<Figure size 432x288 with 1 Axes>"
            ],
            "image/png": "[encoded data removed]"
          },
          "metadata": {
            "needs_background": "light"
          }
        }
      ]
    },
    {
      "cell_type": "code",
      "source": [
        "#plotting box plot for subset 1\n",
        "boxplot_func(sub1, num_columns)\n",
        "plt.show()"
      ],
      "metadata": {
        "colab": {
          "base_uri": "https://localhost:8080/",
          "height": 495
        },
        "id": "WoZ02OYjQs3M",
        "outputId": "948036db-c8a8-4ac9-a2cb-f649c40849de"
      },
      "execution_count": 90,
      "outputs": [
        {
          "output_type": "display_data",
          "data": {
            "text/plain": [
              "<Figure size 1800x720 with 6 Axes>"
            ],
            "image/png": "[encoded data removed]"
          },
          "metadata": {
            "needs_background": "light"
          }
        }
      ]
    },
    {
      "cell_type": "code",
      "source": [
        "sub1_no_outlier = delete_outlier('Amount', sub1) #deleting outliers for attribute 'Amount'"
      ],
      "metadata": {
        "id": "We2StRigTijV"
      },
      "execution_count": 91,
      "outputs": []
    },
    {
      "cell_type": "code",
      "source": [
        "sub1_no_outlier = delete_outlier('Existcr', sub1_no_outlier) #deleting outliers for attribute 'Existing credits'"
      ],
      "metadata": {
        "id": "DAYBobNBTjU6"
      },
      "execution_count": 92,
      "outputs": []
    },
    {
      "cell_type": "code",
      "source": [
        "sub1_no_outlier = delete_outlier('Age', sub1_no_outlier) #deleting outliers for attribute 'Age'"
      ],
      "metadata": {
        "id": "7YwXYYmYTwXj"
      },
      "execution_count": 93,
      "outputs": []
    },
    {
      "cell_type": "code",
      "source": [
        "boxplot_func(sub1_no_outlier, num_columns) #box plots of subset 1 after removing the outliers\n",
        "plt.show()"
      ],
      "metadata": {
        "colab": {
          "base_uri": "https://localhost:8080/",
          "height": 495
        },
        "id": "lBD7XLd3T2no",
        "outputId": "2b878b1b-56f0-4ac0-cf3f-413f10022efc"
      },
      "execution_count": 94,
      "outputs": [
        {
          "output_type": "display_data",
          "data": {
            "text/plain": [
              "<Figure size 1800x720 with 6 Axes>"
            ],
            "image/png": "[encoded data removed]"
          },
          "metadata": {
            "needs_background": "light"
          }
        }
      ]
    },
    {
      "cell_type": "markdown",
      "source": [
        "#####Subset 2"
      ],
      "metadata": {
        "id": "-6JKUFodbf8O"
      }
    },
    {
      "cell_type": "code",
      "execution_count": 95,
      "metadata": {
        "colab": {
          "base_uri": "https://localhost:8080/",
          "height": 487
        },
        "id": "hoTN1h6ZW9CD",
        "outputId": "39c131e6-16ea-4af6-be57-d647f29db290"
      },
      "outputs": [
        {
          "output_type": "execute_result",
          "data": {
            "text/plain": [
              "    Checking  Duration History Purpose  Amount Savings Emploed  Installp  \\\n",
              "0          2        48       2       3    5951       1       3         2   \n",
              "1          1        42       2       2    7882       1       4         2   \n",
              "2          1        24       3       0    4870       1       3         3   \n",
              "3          4        36       2       6    9055       5       3         2   \n",
              "4          4        24       2       2    2835       3       5         3   \n",
              "..       ...       ...     ...     ...     ...     ...     ...       ...   \n",
              "625        1        18       2       3    1936       5       4         2   \n",
              "626        1        36       2       2    3959       1       1         4   \n",
              "627        1        30       2       1    3857       1       3         4   \n",
              "628        1        45       2       3    1845       1       3         4   \n",
              "629        2        45       4       1    4576       2       1         3   \n",
              "\n",
              "    marital Coapp  ...  Property Age  Other housing Existcr  Job Depends  \\\n",
              "0         2     1  ...         1  22      3       2       1    3       1   \n",
              "1         3     3  ...         2  45      3       3       1    3       2   \n",
              "2         3     1  ...         4  53      3       3       2    3       2   \n",
              "3         3     1  ...         4  35      3       3       1    2       2   \n",
              "4         3     1  ...         2  53      3       2       1    3       1   \n",
              "..      ...   ...  ...       ...  ..    ...     ...     ...  ...     ...   \n",
              "625       4     1  ...         3  23      3       1       2    2       1   \n",
              "626       3     1  ...         2  30      3       2       1    4       1   \n",
              "627       1     1  ...         2  40      3       2       1    4       1   \n",
              "628       3     1  ...         4  23      3       3       1    3       1   \n",
              "629       3     1  ...         3  27      3       2       1    3       1   \n",
              "\n",
              "    Telephone Foreign Good  \n",
              "0           1       1    0  \n",
              "1           1       1    1  \n",
              "2           1       1    0  \n",
              "3           2       1    1  \n",
              "4           1       1    1  \n",
              "..        ...     ...  ...  \n",
              "625         1       1    1  \n",
              "626         2       1    1  \n",
              "627         2       1    1  \n",
              "628         2       1    0  \n",
              "629         1       1    1  \n",
              "\n",
              "[630 rows x 21 columns]"
            ],
            "text/html": [
              "\n",
              "  <div id=\"df-8c42a0a7-de2a-4786-aeeb-cdd343890064\">\n",
              "    <div class=\"colab-df-container\">\n",
              "      <div>\n",
              "<style scoped>\n",
              "    .dataframe tbody tr th:only-of-type {\n",
              "        vertical-align: middle;\n",
              "    }\n",
              "\n",
              "    .dataframe tbody tr th {\n",
              "        vertical-align: top;\n",
              "    }\n",
              "\n",
              "    .dataframe thead th {\n",
              "        text-align: right;\n",
              "    }\n",
              "</style>\n",
              "<table border=\"1\" class=\"dataframe\">\n",
              "  <thead>\n",
              "    <tr style=\"text-align: right;\">\n",
              "      <th></th>\n",
              "      <th>Checking</th>\n",
              "      <th>Duration</th>\n",
              "      <th>History</th>\n",
              "      <th>Purpose</th>\n",
              "      <th>Amount</th>\n",
              "      <th>Savings</th>\n",
              "      <th>Emploed</th>\n",
              "      <th>Installp</th>\n",
              "      <th>marital</th>\n",
              "      <th>Coapp</th>\n",
              "      <th>...</th>\n",
              "      <th>Property</th>\n",
              "      <th>Age</th>\n",
              "      <th>Other</th>\n",
              "      <th>housing</th>\n",
              "      <th>Existcr</th>\n",
              "      <th>Job</th>\n",
              "      <th>Depends</th>\n",
              "      <th>Telephone</th>\n",
              "      <th>Foreign</th>\n",
              "      <th>Good</th>\n",
              "    </tr>\n",
              "  </thead>\n",
              "  <tbody>\n",
              "    <tr>\n",
              "      <th>0</th>\n",
              "      <td>2</td>\n",
              "      <td>48</td>\n",
              "      <td>2</td>\n",
              "      <td>3</td>\n",
              "      <td>5951</td>\n",
              "      <td>1</td>\n",
              "      <td>3</td>\n",
              "      <td>2</td>\n",
              "      <td>2</td>\n",
              "      <td>1</td>\n",
              "      <td>...</td>\n",
              "      <td>1</td>\n",
              "      <td>22</td>\n",
              "      <td>3</td>\n",
              "      <td>2</td>\n",
              "      <td>1</td>\n",
              "      <td>3</td>\n",
              "      <td>1</td>\n",
              "      <td>1</td>\n",
              "      <td>1</td>\n",
              "      <td>0</td>\n",
              "    </tr>\n",
              "    <tr>\n",
              "      <th>1</th>\n",
              "      <td>1</td>\n",
              "      <td>42</td>\n",
              "      <td>2</td>\n",
              "      <td>2</td>\n",
              "      <td>7882</td>\n",
              "      <td>1</td>\n",
              "      <td>4</td>\n",
              "      <td>2</td>\n",
              "      <td>3</td>\n",
              "      <td>3</td>\n",
              "      <td>...</td>\n",
              "      <td>2</td>\n",
              "      <td>45</td>\n",
              "      <td>3</td>\n",
              "      <td>3</td>\n",
              "      <td>1</td>\n",
              "      <td>3</td>\n",
              "      <td>2</td>\n",
              "      <td>1</td>\n",
              "      <td>1</td>\n",
              "      <td>1</td>\n",
              "    </tr>\n",
              "    <tr>\n",
              "      <th>2</th>\n",
              "      <td>1</td>\n",
              "      <td>24</td>\n",
              "      <td>3</td>\n",
              "      <td>0</td>\n",
              "      <td>4870</td>\n",
              "      <td>1</td>\n",
              "      <td>3</td>\n",
              "      <td>3</td>\n",
              "      <td>3</td>\n",
              "      <td>1</td>\n",
              "      <td>...</td>\n",
              "      <td>4</td>\n",
              "      <td>53</td>\n",
              "      <td>3</td>\n",
              "      <td>3</td>\n",
              "      <td>2</td>\n",
              "      <td>3</td>\n",
              "      <td>2</td>\n",
              "      <td>1</td>\n",
              "      <td>1</td>\n",
              "      <td>0</td>\n",
              "    </tr>\n",
              "    <tr>\n",
              "      <th>3</th>\n",
              "      <td>4</td>\n",
              "      <td>36</td>\n",
              "      <td>2</td>\n",
              "      <td>6</td>\n",
              "      <td>9055</td>\n",
              "      <td>5</td>\n",
              "      <td>3</td>\n",
              "      <td>2</td>\n",
              "      <td>3</td>\n",
              "      <td>1</td>\n",
              "      <td>...</td>\n",
              "      <td>4</td>\n",
              "      <td>35</td>\n",
              "      <td>3</td>\n",
              "      <td>3</td>\n",
              "      <td>1</td>\n",
              "      <td>2</td>\n",
              "      <td>2</td>\n",
              "      <td>2</td>\n",
              "      <td>1</td>\n",
              "      <td>1</td>\n",
              "    </tr>\n",
              "    <tr>\n",
              "      <th>4</th>\n",
              "      <td>4</td>\n",
              "      <td>24</td>\n",
              "      <td>2</td>\n",
              "      <td>2</td>\n",
              "      <td>2835</td>\n",
              "      <td>3</td>\n",
              "      <td>5</td>\n",
              "      <td>3</td>\n",
              "      <td>3</td>\n",
              "      <td>1</td>\n",
              "      <td>...</td>\n",
              "      <td>2</td>\n",
              "      <td>53</td>\n",
              "      <td>3</td>\n",
              "      <td>2</td>\n",
              "      <td>1</td>\n",
              "      <td>3</td>\n",
              "      <td>1</td>\n",
              "      <td>1</td>\n",
              "      <td>1</td>\n",
              "      <td>1</td>\n",
              "    </tr>\n",
              "    <tr>\n",
              "      <th>...</th>\n",
              "      <td>...</td>\n",
              "      <td>...</td>\n",
              "      <td>...</td>\n",
              "      <td>...</td>\n",
              "      <td>...</td>\n",
              "      <td>...</td>\n",
              "      <td>...</td>\n",
              "      <td>...</td>\n",
              "      <td>...</td>\n",
              "      <td>...</td>\n",
              "      <td>...</td>\n",
              "      <td>...</td>\n",
              "      <td>...</td>\n",
              "      <td>...</td>\n",
              "      <td>...</td>\n",
              "      <td>...</td>\n",
              "      <td>...</td>\n",
              "      <td>...</td>\n",
              "      <td>...</td>\n",
              "      <td>...</td>\n",
              "      <td>...</td>\n",
              "    </tr>\n",
              "    <tr>\n",
              "      <th>625</th>\n",
              "      <td>1</td>\n",
              "      <td>18</td>\n",
              "      <td>2</td>\n",
              "      <td>3</td>\n",
              "      <td>1936</td>\n",
              "      <td>5</td>\n",
              "      <td>4</td>\n",
              "      <td>2</td>\n",
              "      <td>4</td>\n",
              "      <td>1</td>\n",
              "      <td>...</td>\n",
              "      <td>3</td>\n",
              "      <td>23</td>\n",
              "      <td>3</td>\n",
              "      <td>1</td>\n",
              "      <td>2</td>\n",
              "      <td>2</td>\n",
              "      <td>1</td>\n",
              "      <td>1</td>\n",
              "      <td>1</td>\n",
              "      <td>1</td>\n",
              "    </tr>\n",
              "    <tr>\n",
              "      <th>626</th>\n",
              "      <td>1</td>\n",
              "      <td>36</td>\n",
              "      <td>2</td>\n",
              "      <td>2</td>\n",
              "      <td>3959</td>\n",
              "      <td>1</td>\n",
              "      <td>1</td>\n",
              "      <td>4</td>\n",
              "      <td>3</td>\n",
              "      <td>1</td>\n",
              "      <td>...</td>\n",
              "      <td>2</td>\n",
              "      <td>30</td>\n",
              "      <td>3</td>\n",
              "      <td>2</td>\n",
              "      <td>1</td>\n",
              "      <td>4</td>\n",
              "      <td>1</td>\n",
              "      <td>2</td>\n",
              "      <td>1</td>\n",
              "      <td>1</td>\n",
              "    </tr>\n",
              "    <tr>\n",
              "      <th>627</th>\n",
              "      <td>1</td>\n",
              "      <td>30</td>\n",
              "      <td>2</td>\n",
              "      <td>1</td>\n",
              "      <td>3857</td>\n",
              "      <td>1</td>\n",
              "      <td>3</td>\n",
              "      <td>4</td>\n",
              "      <td>1</td>\n",
              "      <td>1</td>\n",
              "      <td>...</td>\n",
              "      <td>2</td>\n",
              "      <td>40</td>\n",
              "      <td>3</td>\n",
              "      <td>2</td>\n",
              "      <td>1</td>\n",
              "      <td>4</td>\n",
              "      <td>1</td>\n",
              "      <td>2</td>\n",
              "      <td>1</td>\n",
              "      <td>1</td>\n",
              "    </tr>\n",
              "    <tr>\n",
              "      <th>628</th>\n",
              "      <td>1</td>\n",
              "      <td>45</td>\n",
              "      <td>2</td>\n",
              "      <td>3</td>\n",
              "      <td>1845</td>\n",
              "      <td>1</td>\n",
              "      <td>3</td>\n",
              "      <td>4</td>\n",
              "      <td>3</td>\n",
              "      <td>1</td>\n",
              "      <td>...</td>\n",
              "      <td>4</td>\n",
              "      <td>23</td>\n",
              "      <td>3</td>\n",
              "      <td>3</td>\n",
              "      <td>1</td>\n",
              "      <td>3</td>\n",
              "      <td>1</td>\n",
              "      <td>2</td>\n",
              "      <td>1</td>\n",
              "      <td>0</td>\n",
              "    </tr>\n",
              "    <tr>\n",
              "      <th>629</th>\n",
              "      <td>2</td>\n",
              "      <td>45</td>\n",
              "      <td>4</td>\n",
              "      <td>1</td>\n",
              "      <td>4576</td>\n",
              "      <td>2</td>\n",
              "      <td>1</td>\n",
              "      <td>3</td>\n",
              "      <td>3</td>\n",
              "      <td>1</td>\n",
              "      <td>...</td>\n",
              "      <td>3</td>\n",
              "      <td>27</td>\n",
              "      <td>3</td>\n",
              "      <td>2</td>\n",
              "      <td>1</td>\n",
              "      <td>3</td>\n",
              "      <td>1</td>\n",
              "      <td>1</td>\n",
              "      <td>1</td>\n",
              "      <td>1</td>\n",
              "    </tr>\n",
              "  </tbody>\n",
              "</table>\n",
              "<p>630 rows × 21 columns</p>\n",
              "</div>\n",
              "      <button class=\"colab-df-convert\" onclick=\"convertToInteractive('df-8c42a0a7-de2a-4786-aeeb-cdd343890064')\"\n",
              "              title=\"Convert this dataframe to an interactive table.\"\n",
              "              style=\"display:none;\">\n",
              "        \n",
              "  <svg xmlns=\"http://www.w3.org/2000/svg\" height=\"24px\"viewBox=\"0 0 24 24\"\n",
              "       width=\"24px\">\n",
              "    <path d=\"M0 0h24v24H0V0z\" fill=\"none\"/>\n",
              "    <path d=\"M18.56 5.44l.94 2.06.94-2.06 2.06-.94-2.06-.94-.94-2.06-.94 2.06-2.06.94zm-11 1L8.5 8.5l.94-2.06 2.06-.94-2.06-.94L8.5 2.5l-.94 2.06-2.06.94zm10 10l.94 2.06.94-2.06 2.06-.94-2.06-.94-.94-2.06-.94 2.06-2.06.94z\"/><path d=\"M17.41 7.96l-1.37-1.37c-.4-.4-.92-.59-1.43-.59-.52 0-1.04.2-1.43.59L10.3 9.45l-7.72 7.72c-.78.78-.78 2.05 0 2.83L4 21.41c.39.39.9.59 1.41.59.51 0 1.02-.2 1.41-.59l7.78-7.78 2.81-2.81c.8-.78.8-2.07 0-2.86zM5.41 20L4 18.59l7.72-7.72 1.47 1.35L5.41 20z\"/>\n",
              "  </svg>\n",
              "      </button>\n",
              "      \n",
              "  <style>\n",
              "    .colab-df-container {\n",
              "      display:flex;\n",
              "      flex-wrap:wrap;\n",
              "      gap: 12px;\n",
              "    }\n",
              "\n",
              "    .colab-df-convert {\n",
              "      background-color: #E8F0FE;\n",
              "      border: none;\n",
              "      border-radius: 50%;\n",
              "      cursor: pointer;\n",
              "      display: none;\n",
              "      fill: #1967D2;\n",
              "      height: 32px;\n",
              "      padding: 0 0 0 0;\n",
              "      width: 32px;\n",
              "    }\n",
              "\n",
              "    .colab-df-convert:hover {\n",
              "      background-color: #E2EBFA;\n",
              "      box-shadow: 0px 1px 2px rgba(60, 64, 67, 0.3), 0px 1px 3px 1px rgba(60, 64, 67, 0.15);\n",
              "      fill: #174EA6;\n",
              "    }\n",
              "\n",
              "    [theme=dark] .colab-df-convert {\n",
              "      background-color: #3B4455;\n",
              "      fill: #D2E3FC;\n",
              "    }\n",
              "\n",
              "    [theme=dark] .colab-df-convert:hover {\n",
              "      background-color: #434B5C;\n",
              "      box-shadow: 0px 1px 3px 1px rgba(0, 0, 0, 0.15);\n",
              "      filter: drop-shadow(0px 1px 2px rgba(0, 0, 0, 0.3));\n",
              "      fill: #FFFFFF;\n",
              "    }\n",
              "  </style>\n",
              "\n",
              "      <script>\n",
              "        const buttonEl =\n",
              "          document.querySelector('#df-8c42a0a7-de2a-4786-aeeb-cdd343890064 button.colab-df-convert');\n",
              "        buttonEl.style.display =\n",
              "          google.colab.kernel.accessAllowed ? 'block' : 'none';\n",
              "\n",
              "        async function convertToInteractive(key) {\n",
              "          const element = document.querySelector('#df-8c42a0a7-de2a-4786-aeeb-cdd343890064');\n",
              "          const dataTable =\n",
              "            await google.colab.kernel.invokeFunction('convertToInteractive',\n",
              "                                                     [key], {});\n",
              "          if (!dataTable) return;\n",
              "\n",
              "          const docLinkHtml = 'Like what you see? Visit the ' +\n",
              "            '<a target=\"_blank\" href=https://colab.research.google.com/notebooks/data_table.ipynb>data table notebook</a>'\n",
              "            + ' to learn more about interactive tables.';\n",
              "          element.innerHTML = '';\n",
              "          dataTable['output_type'] = 'display_data';\n",
              "          await google.colab.output.renderOutput(dataTable, element);\n",
              "          const docLink = document.createElement('div');\n",
              "          docLink.innerHTML = docLinkHtml;\n",
              "          element.appendChild(docLink);\n",
              "        }\n",
              "      </script>\n",
              "    </div>\n",
              "  </div>\n",
              "  "
            ]
          },
          "metadata": {},
          "execution_count": 95
        }
      ],
      "source": [
        "sub2 = creditDf1[creditDf1.Duration > 12]\n",
        "sub2.reset_index(drop = True, inplace = True)\n",
        "sub2"
      ]
    },
    {
      "cell_type": "code",
      "source": [
        "check_imbalanced_data(sub2)"
      ],
      "metadata": {
        "colab": {
          "base_uri": "https://localhost:8080/",
          "height": 279
        },
        "id": "gus9yhpHGn-Y",
        "outputId": "a91d21a5-873b-4392-a206-e2ea0c05fee6"
      },
      "execution_count": 142,
      "outputs": [
        {
          "output_type": "display_data",
          "data": {
            "text/plain": [
              "<Figure size 432x288 with 1 Axes>"
            ],
            "image/png": "[encoded data removed]"
          },
          "metadata": {
            "needs_background": "light"
          }
        }
      ]
    },
    {
      "cell_type": "code",
      "source": [
        "#plotting box plot for subset 2\n",
        "boxplot_func(sub2, num_columns)\n",
        "plt.show()"
      ],
      "metadata": {
        "colab": {
          "base_uri": "https://localhost:8080/",
          "height": 495
        },
        "id": "CsTnzkkBRaW0",
        "outputId": "80d9eab8-e8c2-46f3-9ca2-6620afb1f24e"
      },
      "execution_count": 96,
      "outputs": [
        {
          "output_type": "display_data",
          "data": {
            "text/plain": [
              "<Figure size 1800x720 with 6 Axes>"
            ],
            "image/png": "[encoded data removed]"
          },
          "metadata": {
            "needs_background": "light"
          }
        }
      ]
    },
    {
      "cell_type": "code",
      "source": [
        "sub2_no_outlier = delete_outlier('Duration', sub2) #deleting outliers for attribute 'Duration'"
      ],
      "metadata": {
        "id": "RPPViepXgzkh"
      },
      "execution_count": 97,
      "outputs": []
    },
    {
      "cell_type": "code",
      "source": [
        "sub2_no_outlier = delete_outlier('Amount', sub2_no_outlier) #deleting outliers for attribute 'Amount'"
      ],
      "metadata": {
        "id": "YnSd2svLg6a0"
      },
      "execution_count": 98,
      "outputs": []
    },
    {
      "cell_type": "code",
      "source": [
        "sub2_no_outlier = delete_outlier('Age', sub2_no_outlier) #deleting outliers for attribute 'Age'"
      ],
      "metadata": {
        "id": "R_r-VMcGhD3o"
      },
      "execution_count": 99,
      "outputs": []
    },
    {
      "cell_type": "code",
      "source": [
        "sub2_no_outlier = delete_outlier('Existcr', sub2_no_outlier) #deleting outliers for attribute 'Existing Credit'"
      ],
      "metadata": {
        "id": "JMtYIiu_hEG0"
      },
      "execution_count": 100,
      "outputs": []
    },
    {
      "cell_type": "code",
      "source": [
        "boxplot_func(sub2_no_outlier, num_columns) #box plots of subset 2 after removing the outliers"
      ],
      "metadata": {
        "colab": {
          "base_uri": "https://localhost:8080/",
          "height": 495
        },
        "id": "1xjLw1vmhZni",
        "outputId": "adf2f432-6218-4b59-83d2-b61abd6807e7"
      },
      "execution_count": 102,
      "outputs": [
        {
          "output_type": "display_data",
          "data": {
            "text/plain": [
              "<Figure size 1800x720 with 6 Axes>"
            ],
            "image/png": "[encoded data removed]"
          },
          "metadata": {
            "needs_background": "light"
          }
        }
      ]
    },
    {
      "cell_type": "markdown",
      "source": [
        "###Q2 -  Establishing a training set and validation set for each subset"
      ],
      "metadata": {
        "id": "qbkonxDwSfiX"
      }
    },
    {
      "cell_type": "markdown",
      "source": [
        "#####Subset1"
      ],
      "metadata": {
        "id": "e7VF3gI2XtJ8"
      }
    },
    {
      "cell_type": "code",
      "execution_count": 103,
      "metadata": {
        "id": "npPIddXYW9CD"
      },
      "outputs": [],
      "source": [
        "y_sub1 = sub1_no_outlier.Good\n",
        "X_sub1 = sub1_no_outlier.drop(['Good'],axis=1)\n",
        "\n",
        "X_train1, X_val1, y_train1, y_val1 = train_test_split(X_sub1, y_sub1, \n",
        "                                                    test_size=0.20,\n",
        "                                                    stratify= y_sub1, \n",
        "                                                    random_state=42)"
      ]
    },
    {
      "cell_type": "code",
      "execution_count": 105,
      "metadata": {
        "colab": {
          "base_uri": "https://localhost:8080/",
          "height": 270
        },
        "id": "t-jO1lHqW9CD",
        "outputId": "c81c2398-9343-4942-b2ae-690810052c7a"
      },
      "outputs": [
        {
          "output_type": "execute_result",
          "data": {
            "text/plain": [
              "    Checking  Duration History Purpose  Amount Savings Emploed  Installp  \\\n",
              "295        2        12       0       8    1410       1       3         2   \n",
              "179        2         7       2       3    2576       1       3         2   \n",
              "253        3        12       2       3    1297       1       3         3   \n",
              "284        1         6       2       2     428       1       5         2   \n",
              "356        4        12       2       2    1736       1       4         3   \n",
              "\n",
              "    marital Coapp  Resident Property  Age Other housing  Existcr Job Depends  \\\n",
              "295       3     1         2        1   31     3       2        1   2       1   \n",
              "179       3     3         2        1   35     3       2        1   3       1   \n",
              "253       4     1         4        1   23     3       1        1   3       1   \n",
              "284       2     1         1        2   49     1       2        1   3       1   \n",
              "356       2     1         4        1   31     3       2        1   2       1   \n",
              "\n",
              "    Telephone Foreign  \n",
              "295         2       1  \n",
              "179         1       1  \n",
              "253         1       1  \n",
              "284         2       1  \n",
              "356         1       1  "
            ],
            "text/html": [
              "\n",
              "  <div id=\"df-4812f5cf-b497-433d-9504-99edd8f9dcbf\">\n",
              "    <div class=\"colab-df-container\">\n",
              "      <div>\n",
              "<style scoped>\n",
              "    .dataframe tbody tr th:only-of-type {\n",
              "        vertical-align: middle;\n",
              "    }\n",
              "\n",
              "    .dataframe tbody tr th {\n",
              "        vertical-align: top;\n",
              "    }\n",
              "\n",
              "    .dataframe thead th {\n",
              "        text-align: right;\n",
              "    }\n",
              "</style>\n",
              "<table border=\"1\" class=\"dataframe\">\n",
              "  <thead>\n",
              "    <tr style=\"text-align: right;\">\n",
              "      <th></th>\n",
              "      <th>Checking</th>\n",
              "      <th>Duration</th>\n",
              "      <th>History</th>\n",
              "      <th>Purpose</th>\n",
              "      <th>Amount</th>\n",
              "      <th>Savings</th>\n",
              "      <th>Emploed</th>\n",
              "      <th>Installp</th>\n",
              "      <th>marital</th>\n",
              "      <th>Coapp</th>\n",
              "      <th>Resident</th>\n",
              "      <th>Property</th>\n",
              "      <th>Age</th>\n",
              "      <th>Other</th>\n",
              "      <th>housing</th>\n",
              "      <th>Existcr</th>\n",
              "      <th>Job</th>\n",
              "      <th>Depends</th>\n",
              "      <th>Telephone</th>\n",
              "      <th>Foreign</th>\n",
              "    </tr>\n",
              "  </thead>\n",
              "  <tbody>\n",
              "    <tr>\n",
              "      <th>295</th>\n",
              "      <td>2</td>\n",
              "      <td>12</td>\n",
              "      <td>0</td>\n",
              "      <td>8</td>\n",
              "      <td>1410</td>\n",
              "      <td>1</td>\n",
              "      <td>3</td>\n",
              "      <td>2</td>\n",
              "      <td>3</td>\n",
              "      <td>1</td>\n",
              "      <td>2</td>\n",
              "      <td>1</td>\n",
              "      <td>31</td>\n",
              "      <td>3</td>\n",
              "      <td>2</td>\n",
              "      <td>1</td>\n",
              "      <td>2</td>\n",
              "      <td>1</td>\n",
              "      <td>2</td>\n",
              "      <td>1</td>\n",
              "    </tr>\n",
              "    <tr>\n",
              "      <th>179</th>\n",
              "      <td>2</td>\n",
              "      <td>7</td>\n",
              "      <td>2</td>\n",
              "      <td>3</td>\n",
              "      <td>2576</td>\n",
              "      <td>1</td>\n",
              "      <td>3</td>\n",
              "      <td>2</td>\n",
              "      <td>3</td>\n",
              "      <td>3</td>\n",
              "      <td>2</td>\n",
              "      <td>1</td>\n",
              "      <td>35</td>\n",
              "      <td>3</td>\n",
              "      <td>2</td>\n",
              "      <td>1</td>\n",
              "      <td>3</td>\n",
              "      <td>1</td>\n",
              "      <td>1</td>\n",
              "      <td>1</td>\n",
              "    </tr>\n",
              "    <tr>\n",
              "      <th>253</th>\n",
              "      <td>3</td>\n",
              "      <td>12</td>\n",
              "      <td>2</td>\n",
              "      <td>3</td>\n",
              "      <td>1297</td>\n",
              "      <td>1</td>\n",
              "      <td>3</td>\n",
              "      <td>3</td>\n",
              "      <td>4</td>\n",
              "      <td>1</td>\n",
              "      <td>4</td>\n",
              "      <td>1</td>\n",
              "      <td>23</td>\n",
              "      <td>3</td>\n",
              "      <td>1</td>\n",
              "      <td>1</td>\n",
              "      <td>3</td>\n",
              "      <td>1</td>\n",
              "      <td>1</td>\n",
              "      <td>1</td>\n",
              "    </tr>\n",
              "    <tr>\n",
              "      <th>284</th>\n",
              "      <td>1</td>\n",
              "      <td>6</td>\n",
              "      <td>2</td>\n",
              "      <td>2</td>\n",
              "      <td>428</td>\n",
              "      <td>1</td>\n",
              "      <td>5</td>\n",
              "      <td>2</td>\n",
              "      <td>2</td>\n",
              "      <td>1</td>\n",
              "      <td>1</td>\n",
              "      <td>2</td>\n",
              "      <td>49</td>\n",
              "      <td>1</td>\n",
              "      <td>2</td>\n",
              "      <td>1</td>\n",
              "      <td>3</td>\n",
              "      <td>1</td>\n",
              "      <td>2</td>\n",
              "      <td>1</td>\n",
              "    </tr>\n",
              "    <tr>\n",
              "      <th>356</th>\n",
              "      <td>4</td>\n",
              "      <td>12</td>\n",
              "      <td>2</td>\n",
              "      <td>2</td>\n",
              "      <td>1736</td>\n",
              "      <td>1</td>\n",
              "      <td>4</td>\n",
              "      <td>3</td>\n",
              "      <td>2</td>\n",
              "      <td>1</td>\n",
              "      <td>4</td>\n",
              "      <td>1</td>\n",
              "      <td>31</td>\n",
              "      <td>3</td>\n",
              "      <td>2</td>\n",
              "      <td>1</td>\n",
              "      <td>2</td>\n",
              "      <td>1</td>\n",
              "      <td>1</td>\n",
              "      <td>1</td>\n",
              "    </tr>\n",
              "  </tbody>\n",
              "</table>\n",
              "</div>\n",
              "      <button class=\"colab-df-convert\" onclick=\"convertToInteractive('df-4812f5cf-b497-433d-9504-99edd8f9dcbf')\"\n",
              "              title=\"Convert this dataframe to an interactive table.\"\n",
              "              style=\"display:none;\">\n",
              "        \n",
              "  <svg xmlns=\"http://www.w3.org/2000/svg\" height=\"24px\"viewBox=\"0 0 24 24\"\n",
              "       width=\"24px\">\n",
              "    <path d=\"M0 0h24v24H0V0z\" fill=\"none\"/>\n",
              "    <path d=\"M18.56 5.44l.94 2.06.94-2.06 2.06-.94-2.06-.94-.94-2.06-.94 2.06-2.06.94zm-11 1L8.5 8.5l.94-2.06 2.06-.94-2.06-.94L8.5 2.5l-.94 2.06-2.06.94zm10 10l.94 2.06.94-2.06 2.06-.94-2.06-.94-.94-2.06-.94 2.06-2.06.94z\"/><path d=\"M17.41 7.96l-1.37-1.37c-.4-.4-.92-.59-1.43-.59-.52 0-1.04.2-1.43.59L10.3 9.45l-7.72 7.72c-.78.78-.78 2.05 0 2.83L4 21.41c.39.39.9.59 1.41.59.51 0 1.02-.2 1.41-.59l7.78-7.78 2.81-2.81c.8-.78.8-2.07 0-2.86zM5.41 20L4 18.59l7.72-7.72 1.47 1.35L5.41 20z\"/>\n",
              "  </svg>\n",
              "      </button>\n",
              "      \n",
              "  <style>\n",
              "    .colab-df-container {\n",
              "      display:flex;\n",
              "      flex-wrap:wrap;\n",
              "      gap: 12px;\n",
              "    }\n",
              "\n",
              "    .colab-df-convert {\n",
              "      background-color: #E8F0FE;\n",
              "      border: none;\n",
              "      border-radius: 50%;\n",
              "      cursor: pointer;\n",
              "      display: none;\n",
              "      fill: #1967D2;\n",
              "      height: 32px;\n",
              "      padding: 0 0 0 0;\n",
              "      width: 32px;\n",
              "    }\n",
              "\n",
              "    .colab-df-convert:hover {\n",
              "      background-color: #E2EBFA;\n",
              "      box-shadow: 0px 1px 2px rgba(60, 64, 67, 0.3), 0px 1px 3px 1px rgba(60, 64, 67, 0.15);\n",
              "      fill: #174EA6;\n",
              "    }\n",
              "\n",
              "    [theme=dark] .colab-df-convert {\n",
              "      background-color: #3B4455;\n",
              "      fill: #D2E3FC;\n",
              "    }\n",
              "\n",
              "    [theme=dark] .colab-df-convert:hover {\n",
              "      background-color: #434B5C;\n",
              "      box-shadow: 0px 1px 3px 1px rgba(0, 0, 0, 0.15);\n",
              "      filter: drop-shadow(0px 1px 2px rgba(0, 0, 0, 0.3));\n",
              "      fill: #FFFFFF;\n",
              "    }\n",
              "  </style>\n",
              "\n",
              "      <script>\n",
              "        const buttonEl =\n",
              "          document.querySelector('#df-4812f5cf-b497-433d-9504-99edd8f9dcbf button.colab-df-convert');\n",
              "        buttonEl.style.display =\n",
              "          google.colab.kernel.accessAllowed ? 'block' : 'none';\n",
              "\n",
              "        async function convertToInteractive(key) {\n",
              "          const element = document.querySelector('#df-4812f5cf-b497-433d-9504-99edd8f9dcbf');\n",
              "          const dataTable =\n",
              "            await google.colab.kernel.invokeFunction('convertToInteractive',\n",
              "                                                     [key], {});\n",
              "          if (!dataTable) return;\n",
              "\n",
              "          const docLinkHtml = 'Like what you see? Visit the ' +\n",
              "            '<a target=\"_blank\" href=https://colab.research.google.com/notebooks/data_table.ipynb>data table notebook</a>'\n",
              "            + ' to learn more about interactive tables.';\n",
              "          element.innerHTML = '';\n",
              "          dataTable['output_type'] = 'display_data';\n",
              "          await google.colab.output.renderOutput(dataTable, element);\n",
              "          const docLink = document.createElement('div');\n",
              "          docLink.innerHTML = docLinkHtml;\n",
              "          element.appendChild(docLink);\n",
              "        }\n",
              "      </script>\n",
              "    </div>\n",
              "  </div>\n",
              "  "
            ]
          },
          "metadata": {},
          "execution_count": 105
        }
      ],
      "source": [
        "X_train1.head()"
      ]
    },
    {
      "cell_type": "markdown",
      "source": [
        "#####Subset2"
      ],
      "metadata": {
        "id": "6nSy3nhiXyKR"
      }
    },
    {
      "cell_type": "code",
      "execution_count": 106,
      "metadata": {
        "id": "BUF64BkzW9CE"
      },
      "outputs": [],
      "source": [
        "y_sub2 = sub2_no_outlier.Good\n",
        "X_sub2 = sub2_no_outlier.drop([\"Good\"],axis=1)\n",
        "\n",
        "X_train2, X_val2, y_train2, y_val2 = train_test_split(X_sub2, y_sub2, \n",
        "                                                    test_size=0.20,\n",
        "                                                    stratify = y_sub2,\n",
        "                                                    random_state=42)"
      ]
    },
    {
      "cell_type": "code",
      "execution_count": 107,
      "metadata": {
        "colab": {
          "base_uri": "https://localhost:8080/",
          "height": 270
        },
        "id": "jg9ZxWuxW9CE",
        "outputId": "5994febb-aa46-4035-c5e6-190ab1359c10"
      },
      "outputs": [
        {
          "output_type": "execute_result",
          "data": {
            "text/plain": [
              "    Checking  Duration History Purpose  Amount Savings Emploed  Installp  \\\n",
              "596        1        28       2       0    4006       1       3         3   \n",
              "358        1        24       1       2    2828       3       3         4   \n",
              "592        2        24       2       1    4113       3       2         3   \n",
              "152        4        24       2       3     999       5       5         4   \n",
              "511        3        15       2       3    2327       1       2         2   \n",
              "\n",
              "    marital Coapp  Resident Property  Age Other housing  Existcr Job Depends  \\\n",
              "596       3     1         2        3   45     3       2        1   2       1   \n",
              "358       3     1         4        1   22     2       2        1   3       1   \n",
              "592       2     1         4        3   28     3       1        1   3       1   \n",
              "152       3     1         2        3   25     3       2        2   3       1   \n",
              "511       2     1         3        1   25     3       2        1   2       1   \n",
              "\n",
              "    Telephone Foreign  \n",
              "596         1       1  \n",
              "358         2       1  \n",
              "592         1       1  \n",
              "152         1       1  \n",
              "511         1       1  "
            ],
            "text/html": [
              "\n",
              "  <div id=\"df-6ec17d25-0e5b-4cbc-b71d-cc5f07cb11c7\">\n",
              "    <div class=\"colab-df-container\">\n",
              "      <div>\n",
              "<style scoped>\n",
              "    .dataframe tbody tr th:only-of-type {\n",
              "        vertical-align: middle;\n",
              "    }\n",
              "\n",
              "    .dataframe tbody tr th {\n",
              "        vertical-align: top;\n",
              "    }\n",
              "\n",
              "    .dataframe thead th {\n",
              "        text-align: right;\n",
              "    }\n",
              "</style>\n",
              "<table border=\"1\" class=\"dataframe\">\n",
              "  <thead>\n",
              "    <tr style=\"text-align: right;\">\n",
              "      <th></th>\n",
              "      <th>Checking</th>\n",
              "      <th>Duration</th>\n",
              "      <th>History</th>\n",
              "      <th>Purpose</th>\n",
              "      <th>Amount</th>\n",
              "      <th>Savings</th>\n",
              "      <th>Emploed</th>\n",
              "      <th>Installp</th>\n",
              "      <th>marital</th>\n",
              "      <th>Coapp</th>\n",
              "      <th>Resident</th>\n",
              "      <th>Property</th>\n",
              "      <th>Age</th>\n",
              "      <th>Other</th>\n",
              "      <th>housing</th>\n",
              "      <th>Existcr</th>\n",
              "      <th>Job</th>\n",
              "      <th>Depends</th>\n",
              "      <th>Telephone</th>\n",
              "      <th>Foreign</th>\n",
              "    </tr>\n",
              "  </thead>\n",
              "  <tbody>\n",
              "    <tr>\n",
              "      <th>596</th>\n",
              "      <td>1</td>\n",
              "      <td>28</td>\n",
              "      <td>2</td>\n",
              "      <td>0</td>\n",
              "      <td>4006</td>\n",
              "      <td>1</td>\n",
              "      <td>3</td>\n",
              "      <td>3</td>\n",
              "      <td>3</td>\n",
              "      <td>1</td>\n",
              "      <td>2</td>\n",
              "      <td>3</td>\n",
              "      <td>45</td>\n",
              "      <td>3</td>\n",
              "      <td>2</td>\n",
              "      <td>1</td>\n",
              "      <td>2</td>\n",
              "      <td>1</td>\n",
              "      <td>1</td>\n",
              "      <td>1</td>\n",
              "    </tr>\n",
              "    <tr>\n",
              "      <th>358</th>\n",
              "      <td>1</td>\n",
              "      <td>24</td>\n",
              "      <td>1</td>\n",
              "      <td>2</td>\n",
              "      <td>2828</td>\n",
              "      <td>3</td>\n",
              "      <td>3</td>\n",
              "      <td>4</td>\n",
              "      <td>3</td>\n",
              "      <td>1</td>\n",
              "      <td>4</td>\n",
              "      <td>1</td>\n",
              "      <td>22</td>\n",
              "      <td>2</td>\n",
              "      <td>2</td>\n",
              "      <td>1</td>\n",
              "      <td>3</td>\n",
              "      <td>1</td>\n",
              "      <td>2</td>\n",
              "      <td>1</td>\n",
              "    </tr>\n",
              "    <tr>\n",
              "      <th>592</th>\n",
              "      <td>2</td>\n",
              "      <td>24</td>\n",
              "      <td>2</td>\n",
              "      <td>1</td>\n",
              "      <td>4113</td>\n",
              "      <td>3</td>\n",
              "      <td>2</td>\n",
              "      <td>3</td>\n",
              "      <td>2</td>\n",
              "      <td>1</td>\n",
              "      <td>4</td>\n",
              "      <td>3</td>\n",
              "      <td>28</td>\n",
              "      <td>3</td>\n",
              "      <td>1</td>\n",
              "      <td>1</td>\n",
              "      <td>3</td>\n",
              "      <td>1</td>\n",
              "      <td>1</td>\n",
              "      <td>1</td>\n",
              "    </tr>\n",
              "    <tr>\n",
              "      <th>152</th>\n",
              "      <td>4</td>\n",
              "      <td>24</td>\n",
              "      <td>2</td>\n",
              "      <td>3</td>\n",
              "      <td>999</td>\n",
              "      <td>5</td>\n",
              "      <td>5</td>\n",
              "      <td>4</td>\n",
              "      <td>3</td>\n",
              "      <td>1</td>\n",
              "      <td>2</td>\n",
              "      <td>3</td>\n",
              "      <td>25</td>\n",
              "      <td>3</td>\n",
              "      <td>2</td>\n",
              "      <td>2</td>\n",
              "      <td>3</td>\n",
              "      <td>1</td>\n",
              "      <td>1</td>\n",
              "      <td>1</td>\n",
              "    </tr>\n",
              "    <tr>\n",
              "      <th>511</th>\n",
              "      <td>3</td>\n",
              "      <td>15</td>\n",
              "      <td>2</td>\n",
              "      <td>3</td>\n",
              "      <td>2327</td>\n",
              "      <td>1</td>\n",
              "      <td>2</td>\n",
              "      <td>2</td>\n",
              "      <td>2</td>\n",
              "      <td>1</td>\n",
              "      <td>3</td>\n",
              "      <td>1</td>\n",
              "      <td>25</td>\n",
              "      <td>3</td>\n",
              "      <td>2</td>\n",
              "      <td>1</td>\n",
              "      <td>2</td>\n",
              "      <td>1</td>\n",
              "      <td>1</td>\n",
              "      <td>1</td>\n",
              "    </tr>\n",
              "  </tbody>\n",
              "</table>\n",
              "</div>\n",
              "      <button class=\"colab-df-convert\" onclick=\"convertToInteractive('df-6ec17d25-0e5b-4cbc-b71d-cc5f07cb11c7')\"\n",
              "              title=\"Convert this dataframe to an interactive table.\"\n",
              "              style=\"display:none;\">\n",
              "        \n",
              "  <svg xmlns=\"http://www.w3.org/2000/svg\" height=\"24px\"viewBox=\"0 0 24 24\"\n",
              "       width=\"24px\">\n",
              "    <path d=\"M0 0h24v24H0V0z\" fill=\"none\"/>\n",
              "    <path d=\"M18.56 5.44l.94 2.06.94-2.06 2.06-.94-2.06-.94-.94-2.06-.94 2.06-2.06.94zm-11 1L8.5 8.5l.94-2.06 2.06-.94-2.06-.94L8.5 2.5l-.94 2.06-2.06.94zm10 10l.94 2.06.94-2.06 2.06-.94-2.06-.94-.94-2.06-.94 2.06-2.06.94z\"/><path d=\"M17.41 7.96l-1.37-1.37c-.4-.4-.92-.59-1.43-.59-.52 0-1.04.2-1.43.59L10.3 9.45l-7.72 7.72c-.78.78-.78 2.05 0 2.83L4 21.41c.39.39.9.59 1.41.59.51 0 1.02-.2 1.41-.59l7.78-7.78 2.81-2.81c.8-.78.8-2.07 0-2.86zM5.41 20L4 18.59l7.72-7.72 1.47 1.35L5.41 20z\"/>\n",
              "  </svg>\n",
              "      </button>\n",
              "      \n",
              "  <style>\n",
              "    .colab-df-container {\n",
              "      display:flex;\n",
              "      flex-wrap:wrap;\n",
              "      gap: 12px;\n",
              "    }\n",
              "\n",
              "    .colab-df-convert {\n",
              "      background-color: #E8F0FE;\n",
              "      border: none;\n",
              "      border-radius: 50%;\n",
              "      cursor: pointer;\n",
              "      display: none;\n",
              "      fill: #1967D2;\n",
              "      height: 32px;\n",
              "      padding: 0 0 0 0;\n",
              "      width: 32px;\n",
              "    }\n",
              "\n",
              "    .colab-df-convert:hover {\n",
              "      background-color: #E2EBFA;\n",
              "      box-shadow: 0px 1px 2px rgba(60, 64, 67, 0.3), 0px 1px 3px 1px rgba(60, 64, 67, 0.15);\n",
              "      fill: #174EA6;\n",
              "    }\n",
              "\n",
              "    [theme=dark] .colab-df-convert {\n",
              "      background-color: #3B4455;\n",
              "      fill: #D2E3FC;\n",
              "    }\n",
              "\n",
              "    [theme=dark] .colab-df-convert:hover {\n",
              "      background-color: #434B5C;\n",
              "      box-shadow: 0px 1px 3px 1px rgba(0, 0, 0, 0.15);\n",
              "      filter: drop-shadow(0px 1px 2px rgba(0, 0, 0, 0.3));\n",
              "      fill: #FFFFFF;\n",
              "    }\n",
              "  </style>\n",
              "\n",
              "      <script>\n",
              "        const buttonEl =\n",
              "          document.querySelector('#df-6ec17d25-0e5b-4cbc-b71d-cc5f07cb11c7 button.colab-df-convert');\n",
              "        buttonEl.style.display =\n",
              "          google.colab.kernel.accessAllowed ? 'block' : 'none';\n",
              "\n",
              "        async function convertToInteractive(key) {\n",
              "          const element = document.querySelector('#df-6ec17d25-0e5b-4cbc-b71d-cc5f07cb11c7');\n",
              "          const dataTable =\n",
              "            await google.colab.kernel.invokeFunction('convertToInteractive',\n",
              "                                                     [key], {});\n",
              "          if (!dataTable) return;\n",
              "\n",
              "          const docLinkHtml = 'Like what you see? Visit the ' +\n",
              "            '<a target=\"_blank\" href=https://colab.research.google.com/notebooks/data_table.ipynb>data table notebook</a>'\n",
              "            + ' to learn more about interactive tables.';\n",
              "          element.innerHTML = '';\n",
              "          dataTable['output_type'] = 'display_data';\n",
              "          await google.colab.output.renderOutput(dataTable, element);\n",
              "          const docLink = document.createElement('div');\n",
              "          docLink.innerHTML = docLinkHtml;\n",
              "          element.appendChild(docLink);\n",
              "        }\n",
              "      </script>\n",
              "    </div>\n",
              "  </div>\n",
              "  "
            ]
          },
          "metadata": {},
          "execution_count": 107
        }
      ],
      "source": [
        "X_train2.head()"
      ]
    },
    {
      "cell_type": "markdown",
      "source": [
        "###Q3 - (4 variables ->1 continuous, ->1 categorical)"
      ],
      "metadata": {
        "id": "c8OFMHWoSlZj"
      }
    },
    {
      "cell_type": "markdown",
      "source": [
        "####Heat map - correlation"
      ],
      "metadata": {
        "id": "_8sAUQwJW_H8"
      }
    },
    {
      "cell_type": "code",
      "execution_count": 117,
      "metadata": {
        "id": "Y7OiThNUW9CE"
      },
      "outputs": [],
      "source": [
        "'''\n",
        "heat_map_func: function to display heat map\n",
        "args: dFrame - data frame whose numerical attributes are used to make the heat map\n",
        "'''\n",
        "def heat_map_func(dFrame):\n",
        "  matrix = np.triu(dFrame.corr())\n",
        "  fig, ax = plt.subplots(figsize=(12,12))\n",
        "  sns.heatmap(dFrame.corr(), annot=True, ax=ax, fmt='.1g', vmin=-1, vmax=1, center= 0, mask=matrix, cmap='vlag')\n",
        "  plt.show()"
      ]
    },
    {
      "cell_type": "markdown",
      "source": [
        "####Chi-square Test"
      ],
      "metadata": {
        "id": "0sFncQUQ2WC7"
      }
    },
    {
      "cell_type": "code",
      "source": [
        "'''\n",
        "cal_chi2: function to calculate chi-square values of categorical attributes\n",
        "args: dFrame - data frame whose attribute's chi-quare value needs to be calculated\n",
        "      target_val - target attribute which needs to be predicted\n",
        "returns: a dictionary with attribute name as its key and respective chi-square values as their values\n",
        "'''\n",
        "def cal_chi2(dFrame, target_val):\n",
        "  chi2_vals = dict()\n",
        "  for i in cat_columns:\n",
        "    chi2_val, p_val = chi2(np.array(dFrame[i]).reshape(-1, 1), np.array(target_val).reshape(-1, 1))\n",
        "    chi2_vals[i] = chi2_val\n",
        "  return sorted(chi2_vals.items(), key = operator.itemgetter(1), reverse = True)"
      ],
      "metadata": {
        "id": "WapVWVup43WH"
      },
      "execution_count": 109,
      "outputs": []
    },
    {
      "cell_type": "markdown",
      "source": [
        "#####Subset 1"
      ],
      "metadata": {
        "id": "ziN0LaHJlW2Q"
      }
    },
    {
      "cell_type": "code",
      "source": [
        "heat_map_func(sub1_no_outlier)"
      ],
      "metadata": {
        "colab": {
          "base_uri": "https://localhost:8080/",
          "height": 704
        },
        "id": "9V0tFFNYYQ2x",
        "outputId": "0ee43780-2e3b-480c-826d-d55e715f4a88"
      },
      "execution_count": 118,
      "outputs": [
        {
          "output_type": "display_data",
          "data": {
            "text/plain": [
              "<Figure size 864x864 with 2 Axes>"
            ],
            "image/png": "[encoded data removed]"
          },
          "metadata": {
            "needs_background": "light"
          }
        }
      ]
    },
    {
      "cell_type": "markdown",
      "source": [
        "Choosing '*Duration*', '*Installp*' and '*Age*' as top three numerical values"
      ],
      "metadata": {
        "id": "RV1J_vt1mxYP"
      }
    },
    {
      "cell_type": "code",
      "source": [
        "cal_chi2(X_sub1, y_sub1)"
      ],
      "metadata": {
        "colab": {
          "base_uri": "https://localhost:8080/"
        },
        "id": "gAO8xexUYmIT",
        "outputId": "034fa896-a1a2-40a3-96a7-7f11fad98425"
      },
      "execution_count": 113,
      "outputs": [
        {
          "output_type": "execute_result",
          "data": {
            "text/plain": [
              "[('Checking', array([16.70168294])),\n",
              " ('History', array([8.82323097])),\n",
              " ('Property', array([5.09090178])),\n",
              " ('Savings', array([4.24726027])),\n",
              " ('Emploed', array([0.96841632])),\n",
              " ('Other', array([0.76832167])),\n",
              " ('Coapp', array([0.72851146])),\n",
              " ('Telephone', array([0.38032269])),\n",
              " ('Foreign', array([0.35871192])),\n",
              " ('marital', array([0.33274731])),\n",
              " ('Purpose', array([0.30075295])),\n",
              " ('Depends', array([0.1741004])),\n",
              " ('housing', array([0.06464254])),\n",
              " ('Job', array([0.01517491]))]"
            ]
          },
          "metadata": {},
          "execution_count": 113
        }
      ]
    },
    {
      "cell_type": "markdown",
      "source": [
        "Choosing '*Checking*', '*History*' and '*Property*' as top three categorical values"
      ],
      "metadata": {
        "id": "PcySsKkDnFzj"
      }
    },
    {
      "cell_type": "markdown",
      "source": [
        "####Regression"
      ],
      "metadata": {
        "id": "mYunN5h_2SW6"
      }
    },
    {
      "cell_type": "code",
      "source": [
        "reg_values = dict()\n",
        "\n",
        "formula = 'Good ~ Checking+Duration+History+Installp'\n",
        "fit = sm.OLS.from_formula(formula, sub1_no_outlier).fit()\n",
        "reg_values['Checking+Duration+History+Installp'] = fit.rsquared\n",
        "\n",
        "formula = 'Good ~ Checking+Duration+History+Property'\n",
        "fit = sm.OLS.from_formula(formula, sub1_no_outlier).fit()\n",
        "reg_values['Checking+Duration+History+Property'] = fit.rsquared\n",
        "\n",
        "formula = 'Good ~ Checking+Duration+History+Age'\n",
        "fit = sm.OLS.from_formula(formula, sub1_no_outlier).fit()\n",
        "reg_values['Checking+Duration+History+Age'] = fit.rsquared\n",
        "\n",
        "formula = 'Good ~ Checking+Duration+Property+Installp'\n",
        "fit = sm.OLS.from_formula(formula, sub1_no_outlier).fit()\n",
        "reg_values['Checking+Duration+Property+Installp'] = fit.rsquared\n",
        "\n",
        "formula = 'Good ~ Checking+Duration+Property+Age'\n",
        "fit = sm.OLS.from_formula(formula, sub1_no_outlier).fit()\n",
        "reg_values['Checking+Duration+Property+Age'] = fit.rsquared\n",
        "\n",
        "formula = 'Good ~ Checking+Duration+Installp+Age'\n",
        "fit = sm.OLS.from_formula(formula, sub1_no_outlier).fit()\n",
        "reg_values['Checking+Duration+Installp+Age'] = fit.rsquared\n",
        "\n",
        "formula = 'Good ~ Checking+History+Installp+Age'\n",
        "fit = sm.OLS.from_formula(formula, sub1_no_outlier).fit()\n",
        "reg_values['Checking+History+Installp+Age'] = fit.rsquared\n",
        "\n",
        "formula = 'Good ~ Checking+History+Installp+Property'\n",
        "fit = sm.OLS.from_formula(formula, sub1_no_outlier).fit()\n",
        "reg_values['Checking+History+Installp+Property'] = fit.rsquared\n",
        "\n",
        "formula = 'Good ~ Checking+History+Age+Property'\n",
        "fit = sm.OLS.from_formula(formula, sub1_no_outlier).fit()\n",
        "reg_values['Checking+History+Age+Property'] = fit.rsquared\n",
        "\n",
        "formula = 'Good ~ Checking+Property+Installp+Age'\n",
        "fit = sm.OLS.from_formula(formula, sub1_no_outlier).fit()\n",
        "reg_values['Checking+Property+Installp+Age'] = fit.rsquared\n",
        "\n",
        "formula = 'Good ~ History+Property+Installp+Age'\n",
        "fit = sm.OLS.from_formula(formula, sub1_no_outlier).fit()\n",
        "reg_values['History+Property+Installp+Age'] = fit.rsquared\n",
        "\n",
        "formula = 'Good ~ History+Property+Installp+Duration'\n",
        "fit = sm.OLS.from_formula(formula, sub1_no_outlier).fit()\n",
        "reg_values['History+Property+Installp+Duration'] = fit.rsquared\n",
        "\n",
        "formula = 'Good ~ History+Property+Age+Duration'\n",
        "fit = sm.OLS.from_formula(formula, sub1_no_outlier).fit()\n",
        "reg_values['History+Property+Age+Duration'] = fit.rsquared\n",
        "\n",
        "formula = 'Good ~ History+Age+Installp+Duration'\n",
        "fit = sm.OLS.from_formula(formula, sub1_no_outlier).fit()\n",
        "reg_values['History+Age+Installp+Duration'] = fit.rsquared\n",
        "\n",
        "formula = 'Good ~ Age+Property+Installp+Duration'\n",
        "fit = sm.OLS.from_formula(formula, sub1_no_outlier).fit()\n",
        "reg_values['Age+Property+Installp+Duration'] = fit.rsquared\n",
        "\n",
        "max(reg_values, key = reg_values.get) #printing the combination of attributes with highest value"
      ],
      "metadata": {
        "colab": {
          "base_uri": "https://localhost:8080/",
          "height": 35
        },
        "id": "i_GmUF1Qfgnb",
        "outputId": "4617f775-b176-4bb5-e31a-8ac8d0e9edbb"
      },
      "execution_count": 114,
      "outputs": [
        {
          "output_type": "execute_result",
          "data": {
            "text/plain": [
              "'Checking+Duration+History+Property'"
            ],
            "application/vnd.google.colaboratory.intrinsic+json": {
              "type": "string"
            }
          },
          "metadata": {},
          "execution_count": 114
        }
      ]
    },
    {
      "cell_type": "markdown",
      "source": [
        "As per the above result I choose '**CHECKING**', '**DURATION**', '**HISTORY**' and '**PROPERTY**' as my four features for building the scorecard."
      ],
      "metadata": {
        "id": "aFFsSY5MnXE5"
      }
    },
    {
      "cell_type": "code",
      "source": [
        "X_train1 = X_train1[['Checking','Duration', 'History', 'Property']]\n",
        "X_val1 = X_val1[['Checking','Duration', 'History', 'Property']]"
      ],
      "metadata": {
        "id": "UNyXBEGjbYhp"
      },
      "execution_count": 115,
      "outputs": []
    },
    {
      "cell_type": "markdown",
      "source": [
        "#####Subset2"
      ],
      "metadata": {
        "id": "PcDRe-GtnuJb"
      }
    },
    {
      "cell_type": "code",
      "source": [
        "heat_map_func(sub2_no_outlier)"
      ],
      "metadata": {
        "colab": {
          "base_uri": "https://localhost:8080/",
          "height": 704
        },
        "id": "njzBBhianv8v",
        "outputId": "ecf41211-1629-4725-cb23-e8d4e519e40f"
      },
      "execution_count": 119,
      "outputs": [
        {
          "output_type": "display_data",
          "data": {
            "text/plain": [
              "<Figure size 864x864 with 2 Axes>"
            ],
            "image/png": "[encoded data removed]"
          },
          "metadata": {
            "needs_background": "light"
          }
        }
      ]
    },
    {
      "cell_type": "markdown",
      "source": [
        "Choosing '*Duration*', '*Amount*' and '*Age*' as top three numerical values"
      ],
      "metadata": {
        "id": "33ZoGsbVn9Pe"
      }
    },
    {
      "cell_type": "code",
      "source": [
        "cal_chi2(X_sub2, y_sub2)"
      ],
      "metadata": {
        "colab": {
          "base_uri": "https://localhost:8080/"
        },
        "id": "CcW_JLRyoKMu",
        "outputId": "9f00c7df-3b25-4cb1-dd19-4f783d1b64be"
      },
      "execution_count": 120,
      "outputs": [
        {
          "output_type": "execute_result",
          "data": {
            "text/plain": [
              "[('Checking', array([56.22349417])),\n",
              " ('Savings', array([38.79394161])),\n",
              " ('History', array([9.89577398])),\n",
              " ('Emploed', array([7.45272724])),\n",
              " ('marital', array([1.32174478])),\n",
              " ('Other', array([1.09497223])),\n",
              " ('Telephone', array([1.03795393])),\n",
              " ('Property', array([0.57753974])),\n",
              " ('housing', array([0.47866319])),\n",
              " ('Depends', array([0.18233827])),\n",
              " ('Job', array([0.15684333])),\n",
              " ('Coapp', array([0.05746193])),\n",
              " ('Purpose', array([0.03582675])),\n",
              " ('Foreign', array([0.00361933]))]"
            ]
          },
          "metadata": {},
          "execution_count": 120
        }
      ]
    },
    {
      "cell_type": "markdown",
      "source": [
        "Choosing '*Checking*', '*History*' and '*Savings*' as top three categorical values"
      ],
      "metadata": {
        "id": "AUooNDsToggT"
      }
    },
    {
      "cell_type": "markdown",
      "source": [
        "####Regression"
      ],
      "metadata": {
        "id": "3y3igfHIpETp"
      }
    },
    {
      "cell_type": "code",
      "source": [
        "reg_values.clear()\n",
        "\n",
        "formula = 'Good ~ Checking+Duration+History+Amount'\n",
        "fit = sm.OLS.from_formula(formula, creditDf1).fit()\n",
        "reg_values['Checking+Duration+History+Amount'] = fit.rsquared\n",
        "\n",
        "formula = 'Good ~ Checking+Duration+History+Savings'\n",
        "fit = sm.OLS.from_formula(formula, creditDf1).fit()\n",
        "reg_values['Checking+Duration+History+Savings'] = fit.rsquared\n",
        "\n",
        "formula = 'Good ~ Checking+Duration+History+Age'\n",
        "fit = sm.OLS.from_formula(formula, creditDf1).fit()\n",
        "reg_values['Checking+Duration+History+Age'] = fit.rsquared\n",
        "\n",
        "formula = 'Good ~ Checking+Duration+Savings+Amount'\n",
        "fit = sm.OLS.from_formula(formula, creditDf1).fit()\n",
        "reg_values['Checking+Duration+Savings+Amount'] = fit.rsquared\n",
        "\n",
        "formula = 'Good ~ Checking+Duration+Savings+Age'\n",
        "fit = sm.OLS.from_formula(formula, creditDf1).fit()\n",
        "reg_values['Checking+Duration+Savings+Age'] = fit.rsquared\n",
        "\n",
        "formula = 'Good ~ Checking+Duration+Amount+Age'\n",
        "fit = sm.OLS.from_formula(formula, creditDf1).fit()\n",
        "reg_values['Checking+Duration+Amount+Age'] = fit.rsquared\n",
        "\n",
        "formula = 'Good ~ Checking+History+Amount+Age'\n",
        "fit = sm.OLS.from_formula(formula, creditDf1).fit()\n",
        "reg_values['Checking+History+Amount+Age'] = fit.rsquared\n",
        "\n",
        "formula = 'Good ~ Checking+History+Amount+Savings'\n",
        "fit = sm.OLS.from_formula(formula, creditDf1).fit()\n",
        "reg_values['Checking+History+Amount+Savings'] = fit.rsquared\n",
        "\n",
        "formula = 'Good ~ Checking+History+Age+Savings'\n",
        "fit = sm.OLS.from_formula(formula, creditDf1).fit()\n",
        "reg_values['Checking+History+Age+Savings'] = fit.rsquared\n",
        "\n",
        "formula = 'Good ~ Checking+Savings+Amount+Age'\n",
        "fit = sm.OLS.from_formula(formula, creditDf1).fit()\n",
        "reg_values['Checking+Savings+Amount+Age'] = fit.rsquared\n",
        "\n",
        "formula = 'Good ~ History+Savings+Amount+Age'\n",
        "fit = sm.OLS.from_formula(formula, creditDf1).fit()\n",
        "reg_values['History+Savings+Amount+Age'] = fit.rsquared\n",
        "\n",
        "formula = 'Good ~ History+Savings+Amount+Duration'\n",
        "fit = sm.OLS.from_formula(formula, creditDf1).fit()\n",
        "reg_values['History+Savings+Amount+Duration'] = fit.rsquared\n",
        "\n",
        "formula = 'Good ~ History+Savings+Age+Duration'\n",
        "fit = sm.OLS.from_formula(formula, creditDf1).fit()\n",
        "reg_values['History+Savings+Age+Duration'] = fit.rsquared\n",
        "\n",
        "formula = 'Good ~ History+Age+Amount+Duration'\n",
        "fit = sm.OLS.from_formula(formula, creditDf1).fit()\n",
        "reg_values['History+Age+Amount+Duration'] = fit.rsquared\n",
        "\n",
        "formula = 'Good ~ Age+Savings+Amount+Duration'\n",
        "fit = sm.OLS.from_formula(formula, creditDf1).fit()\n",
        "reg_values['Age+Savings+Amount+Duration'] = fit.rsquared\n",
        "\n",
        "max(reg_values, key = reg_values.get) #printing the combination of attributes with highest value"
      ],
      "metadata": {
        "colab": {
          "base_uri": "https://localhost:8080/",
          "height": 35
        },
        "id": "GQfJo2YRoj9p",
        "outputId": "b1c6db14-a4bf-4cda-84cb-f526a43ddba7"
      },
      "execution_count": 121,
      "outputs": [
        {
          "output_type": "execute_result",
          "data": {
            "text/plain": [
              "'Checking+Duration+History+Savings'"
            ],
            "application/vnd.google.colaboratory.intrinsic+json": {
              "type": "string"
            }
          },
          "metadata": {},
          "execution_count": 121
        }
      ]
    },
    {
      "cell_type": "markdown",
      "source": [
        "As per the above result I choose '**CHECKING**', '**DURATION**', '**HISTORY**' and '**SAVINGS**' as my four features for building the scorecard."
      ],
      "metadata": {
        "id": "dn9UZtQhuRVB"
      }
    },
    {
      "cell_type": "code",
      "source": [
        "X_train2 = X_train2[['Checking', 'Duration', 'History', 'Savings']]\n",
        "X_val2 = X_val2[['Checking', 'Duration', 'History', 'Savings']]"
      ],
      "metadata": {
        "id": "t4sdDd75uVaN"
      },
      "execution_count": 122,
      "outputs": []
    },
    {
      "cell_type": "markdown",
      "source": [
        "###Q4 - Score Cards"
      ],
      "metadata": {
        "id": "QMVQWOFDU9Ip"
      }
    },
    {
      "cell_type": "markdown",
      "source": [
        "####Binning\n"
      ],
      "metadata": {
        "id": "BFbS81iyVSyt"
      }
    },
    {
      "cell_type": "markdown",
      "source": [
        "#####Subset 1"
      ],
      "metadata": {
        "id": "GbywN6Q8yji1"
      }
    },
    {
      "cell_type": "code",
      "source": [
        "sns.distplot(sub1_no_outlier.Duration, color = 'indigo')"
      ],
      "metadata": {
        "colab": {
          "base_uri": "https://localhost:8080/",
          "height": 351
        },
        "id": "G_w1KlTtVNrP",
        "outputId": "2c00ea85-8fde-4620-e302-712a03e73c42"
      },
      "execution_count": 124,
      "outputs": [
        {
          "output_type": "stream",
          "name": "stderr",
          "text": [
            "/usr/local/lib/python3.7/dist-packages/seaborn/distributions.py:2619: FutureWarning: `distplot` is a deprecated function and will be removed in a future version. Please adapt your code to use either `displot` (a figure-level function with similar flexibility) or `histplot` (an axes-level function for histograms).\n",
            "  warnings.warn(msg, FutureWarning)\n"
          ]
        },
        {
          "output_type": "execute_result",
          "data": {
            "text/plain": [
              "<matplotlib.axes._subplots.AxesSubplot at 0x7fea7c1d9410>"
            ]
          },
          "metadata": {},
          "execution_count": 124
        },
        {
          "output_type": "display_data",
          "data": {
            "text/plain": [
              "<Figure size 432x288 with 1 Axes>"
            ],
            "image/png": "[encoded data removed]"
          },
          "metadata": {
            "needs_background": "light"
          }
        }
      ]
    },
    {
      "cell_type": "code",
      "source": [
        "pd.qcut(sub1_no_outlier['Duration'], q = 2).value_counts()"
      ],
      "metadata": {
        "colab": {
          "base_uri": "https://localhost:8080/"
        },
        "id": "_59atKrvVSBd",
        "outputId": "f78cfa36-403a-4427-c447-d81cfecdcf04"
      },
      "execution_count": 125,
      "outputs": [
        {
          "output_type": "execute_result",
          "data": {
            "text/plain": [
              "(3.999, 11.0]    169\n",
              "(11.0, 12.0]     168\n",
              "Name: Duration, dtype: int64"
            ]
          },
          "metadata": {},
          "execution_count": 125
        }
      ]
    },
    {
      "cell_type": "code",
      "source": [
        "X_train1_binned = X_train1.copy(deep = True)\n",
        "X_train1_binned['Duration_bin'] = pd.cut(X_train1_binned.Duration, bins = [3, 11, 12])\n",
        "X_train1_binned = X_train1_binned.drop('Duration', axis = 1)\n",
        "X_val1_binned = X_val1.copy(deep = True)\n",
        "X_val1_binned['Duration_bin'] = pd.cut(X_val1_binned.Duration, bins = [3, 11, 12])\n",
        "X_val1_binned = X_val1_binned.drop('Duration', axis = 1)"
      ],
      "metadata": {
        "id": "Li4HhAGHatFq"
      },
      "execution_count": 126,
      "outputs": []
    },
    {
      "cell_type": "code",
      "source": [
        "print(X_train1_binned)\n",
        "print(X_val1_binned)"
      ],
      "metadata": {
        "colab": {
          "base_uri": "https://localhost:8080/"
        },
        "id": "MjHkL1HrbRH9",
        "outputId": "7279f9ce-d363-44c8-bf4a-3c70cf5e480f"
      },
      "execution_count": 127,
      "outputs": [
        {
          "output_type": "stream",
          "name": "stdout",
          "text": [
            "    Checking History Property Duration_bin\n",
            "295        2       0        1     (11, 12]\n",
            "179        2       2        1      (3, 11]\n",
            "253        3       2        1     (11, 12]\n",
            "284        1       2        2      (3, 11]\n",
            "356        4       2        1     (11, 12]\n",
            "..       ...     ...      ...          ...\n",
            "307        4       2        1      (3, 11]\n",
            "16         3       2        3      (3, 11]\n",
            "130        3       2        1      (3, 11]\n",
            "221        2       2        2      (3, 11]\n",
            "91         2       2        1     (11, 12]\n",
            "\n",
            "[269 rows x 4 columns]\n",
            "    Checking History Property Duration_bin\n",
            "88         4       4        1      (3, 11]\n",
            "154        3       2        1     (11, 12]\n",
            "62         4       2        2      (3, 11]\n",
            "278        4       4        1      (3, 11]\n",
            "224        1       2        3     (11, 12]\n",
            "..       ...     ...      ...          ...\n",
            "192        2       4        1     (11, 12]\n",
            "153        4       4        3      (3, 11]\n",
            "100        4       4        2     (11, 12]\n",
            "172        2       2        1     (11, 12]\n",
            "87         4       2        2     (11, 12]\n",
            "\n",
            "[68 rows x 4 columns]\n"
          ]
        }
      ]
    },
    {
      "cell_type": "markdown",
      "source": [
        "#####Subset 2"
      ],
      "metadata": {
        "id": "g1UNnyRb572i"
      }
    },
    {
      "cell_type": "code",
      "source": [
        "sns.distplot(sub2_no_outlier.Duration, color = 'maroon')"
      ],
      "metadata": {
        "colab": {
          "base_uri": "https://localhost:8080/",
          "height": 351
        },
        "id": "guE2rpVK59xh",
        "outputId": "5b800dd3-516e-4f24-8cf9-ad1bb46e9d0e"
      },
      "execution_count": 128,
      "outputs": [
        {
          "output_type": "stream",
          "name": "stderr",
          "text": [
            "/usr/local/lib/python3.7/dist-packages/seaborn/distributions.py:2619: FutureWarning: `distplot` is a deprecated function and will be removed in a future version. Please adapt your code to use either `displot` (a figure-level function with similar flexibility) or `histplot` (an axes-level function for histograms).\n",
            "  warnings.warn(msg, FutureWarning)\n"
          ]
        },
        {
          "output_type": "execute_result",
          "data": {
            "text/plain": [
              "<matplotlib.axes._subplots.AxesSubplot at 0x7fea7c86a090>"
            ]
          },
          "metadata": {},
          "execution_count": 128
        },
        {
          "output_type": "display_data",
          "data": {
            "text/plain": [
              "<Figure size 432x288 with 1 Axes>"
            ],
            "image/png": "[encoded data removed]"
          },
          "metadata": {
            "needs_background": "light"
          }
        }
      ]
    },
    {
      "cell_type": "code",
      "source": [
        "pd.qcut(sub2_no_outlier.Duration, q = 3).value_counts()"
      ],
      "metadata": {
        "colab": {
          "base_uri": "https://localhost:8080/"
        },
        "id": "c6KAUfL_6V7q",
        "outputId": "ad84bbe1-29e4-4f9e-df91-2a0ea6c77320"
      },
      "execution_count": 129,
      "outputs": [
        {
          "output_type": "execute_result",
          "data": {
            "text/plain": [
              "(12.999, 21.0]    219\n",
              "(27.0, 60.0]      192\n",
              "(21.0, 27.0]      190\n",
              "Name: Duration, dtype: int64"
            ]
          },
          "metadata": {},
          "execution_count": 129
        }
      ]
    },
    {
      "cell_type": "code",
      "source": [
        "X_train2_binned = X_train2.copy(deep = True)\n",
        "X_train2_binned['Duration_bin'] = pd.cut(X_train2_binned.Duration, bins = [12, 21, 27, 60])\n",
        "X_train2_binned = X_train2_binned.drop('Duration', axis = 1)\n",
        "X_train2_binned"
      ],
      "metadata": {
        "colab": {
          "base_uri": "https://localhost:8080/",
          "height": 423
        },
        "id": "ctn-UPWi6wzs",
        "outputId": "5f72d149-37f6-4bb2-fec7-3beb1ec7ed23"
      },
      "execution_count": 130,
      "outputs": [
        {
          "output_type": "execute_result",
          "data": {
            "text/plain": [
              "    Checking History Savings Duration_bin\n",
              "596        1       2       1     (27, 60]\n",
              "358        1       1       3     (21, 27]\n",
              "592        2       2       3     (21, 27]\n",
              "152        4       2       5     (21, 27]\n",
              "511        3       2       1     (12, 21]\n",
              "..       ...     ...     ...          ...\n",
              "470        1       2       5     (21, 27]\n",
              "553        4       4       1     (12, 21]\n",
              "115        2       3       1     (12, 21]\n",
              "512        1       4       1     (21, 27]\n",
              "46         2       2       1     (27, 60]\n",
              "\n",
              "[480 rows x 4 columns]"
            ],
            "text/html": [
              "\n",
              "  <div id=\"df-bd38de2c-29bc-4097-ba58-7a2a80f0aeec\">\n",
              "    <div class=\"colab-df-container\">\n",
              "      <div>\n",
              "<style scoped>\n",
              "    .dataframe tbody tr th:only-of-type {\n",
              "        vertical-align: middle;\n",
              "    }\n",
              "\n",
              "    .dataframe tbody tr th {\n",
              "        vertical-align: top;\n",
              "    }\n",
              "\n",
              "    .dataframe thead th {\n",
              "        text-align: right;\n",
              "    }\n",
              "</style>\n",
              "<table border=\"1\" class=\"dataframe\">\n",
              "  <thead>\n",
              "    <tr style=\"text-align: right;\">\n",
              "      <th></th>\n",
              "      <th>Checking</th>\n",
              "      <th>History</th>\n",
              "      <th>Savings</th>\n",
              "      <th>Duration_bin</th>\n",
              "    </tr>\n",
              "  </thead>\n",
              "  <tbody>\n",
              "    <tr>\n",
              "      <th>596</th>\n",
              "      <td>1</td>\n",
              "      <td>2</td>\n",
              "      <td>1</td>\n",
              "      <td>(27, 60]</td>\n",
              "    </tr>\n",
              "    <tr>\n",
              "      <th>358</th>\n",
              "      <td>1</td>\n",
              "      <td>1</td>\n",
              "      <td>3</td>\n",
              "      <td>(21, 27]</td>\n",
              "    </tr>\n",
              "    <tr>\n",
              "      <th>592</th>\n",
              "      <td>2</td>\n",
              "      <td>2</td>\n",
              "      <td>3</td>\n",
              "      <td>(21, 27]</td>\n",
              "    </tr>\n",
              "    <tr>\n",
              "      <th>152</th>\n",
              "      <td>4</td>\n",
              "      <td>2</td>\n",
              "      <td>5</td>\n",
              "      <td>(21, 27]</td>\n",
              "    </tr>\n",
              "    <tr>\n",
              "      <th>511</th>\n",
              "      <td>3</td>\n",
              "      <td>2</td>\n",
              "      <td>1</td>\n",
              "      <td>(12, 21]</td>\n",
              "    </tr>\n",
              "    <tr>\n",
              "      <th>...</th>\n",
              "      <td>...</td>\n",
              "      <td>...</td>\n",
              "      <td>...</td>\n",
              "      <td>...</td>\n",
              "    </tr>\n",
              "    <tr>\n",
              "      <th>470</th>\n",
              "      <td>1</td>\n",
              "      <td>2</td>\n",
              "      <td>5</td>\n",
              "      <td>(21, 27]</td>\n",
              "    </tr>\n",
              "    <tr>\n",
              "      <th>553</th>\n",
              "      <td>4</td>\n",
              "      <td>4</td>\n",
              "      <td>1</td>\n",
              "      <td>(12, 21]</td>\n",
              "    </tr>\n",
              "    <tr>\n",
              "      <th>115</th>\n",
              "      <td>2</td>\n",
              "      <td>3</td>\n",
              "      <td>1</td>\n",
              "      <td>(12, 21]</td>\n",
              "    </tr>\n",
              "    <tr>\n",
              "      <th>512</th>\n",
              "      <td>1</td>\n",
              "      <td>4</td>\n",
              "      <td>1</td>\n",
              "      <td>(21, 27]</td>\n",
              "    </tr>\n",
              "    <tr>\n",
              "      <th>46</th>\n",
              "      <td>2</td>\n",
              "      <td>2</td>\n",
              "      <td>1</td>\n",
              "      <td>(27, 60]</td>\n",
              "    </tr>\n",
              "  </tbody>\n",
              "</table>\n",
              "<p>480 rows × 4 columns</p>\n",
              "</div>\n",
              "      <button class=\"colab-df-convert\" onclick=\"convertToInteractive('df-bd38de2c-29bc-4097-ba58-7a2a80f0aeec')\"\n",
              "              title=\"Convert this dataframe to an interactive table.\"\n",
              "              style=\"display:none;\">\n",
              "        \n",
              "  <svg xmlns=\"http://www.w3.org/2000/svg\" height=\"24px\"viewBox=\"0 0 24 24\"\n",
              "       width=\"24px\">\n",
              "    <path d=\"M0 0h24v24H0V0z\" fill=\"none\"/>\n",
              "    <path d=\"M18.56 5.44l.94 2.06.94-2.06 2.06-.94-2.06-.94-.94-2.06-.94 2.06-2.06.94zm-11 1L8.5 8.5l.94-2.06 2.06-.94-2.06-.94L8.5 2.5l-.94 2.06-2.06.94zm10 10l.94 2.06.94-2.06 2.06-.94-2.06-.94-.94-2.06-.94 2.06-2.06.94z\"/><path d=\"M17.41 7.96l-1.37-1.37c-.4-.4-.92-.59-1.43-.59-.52 0-1.04.2-1.43.59L10.3 9.45l-7.72 7.72c-.78.78-.78 2.05 0 2.83L4 21.41c.39.39.9.59 1.41.59.51 0 1.02-.2 1.41-.59l7.78-7.78 2.81-2.81c.8-.78.8-2.07 0-2.86zM5.41 20L4 18.59l7.72-7.72 1.47 1.35L5.41 20z\"/>\n",
              "  </svg>\n",
              "      </button>\n",
              "      \n",
              "  <style>\n",
              "    .colab-df-container {\n",
              "      display:flex;\n",
              "      flex-wrap:wrap;\n",
              "      gap: 12px;\n",
              "    }\n",
              "\n",
              "    .colab-df-convert {\n",
              "      background-color: #E8F0FE;\n",
              "      border: none;\n",
              "      border-radius: 50%;\n",
              "      cursor: pointer;\n",
              "      display: none;\n",
              "      fill: #1967D2;\n",
              "      height: 32px;\n",
              "      padding: 0 0 0 0;\n",
              "      width: 32px;\n",
              "    }\n",
              "\n",
              "    .colab-df-convert:hover {\n",
              "      background-color: #E2EBFA;\n",
              "      box-shadow: 0px 1px 2px rgba(60, 64, 67, 0.3), 0px 1px 3px 1px rgba(60, 64, 67, 0.15);\n",
              "      fill: #174EA6;\n",
              "    }\n",
              "\n",
              "    [theme=dark] .colab-df-convert {\n",
              "      background-color: #3B4455;\n",
              "      fill: #D2E3FC;\n",
              "    }\n",
              "\n",
              "    [theme=dark] .colab-df-convert:hover {\n",
              "      background-color: #434B5C;\n",
              "      box-shadow: 0px 1px 3px 1px rgba(0, 0, 0, 0.15);\n",
              "      filter: drop-shadow(0px 1px 2px rgba(0, 0, 0, 0.3));\n",
              "      fill: #FFFFFF;\n",
              "    }\n",
              "  </style>\n",
              "\n",
              "      <script>\n",
              "        const buttonEl =\n",
              "          document.querySelector('#df-bd38de2c-29bc-4097-ba58-7a2a80f0aeec button.colab-df-convert');\n",
              "        buttonEl.style.display =\n",
              "          google.colab.kernel.accessAllowed ? 'block' : 'none';\n",
              "\n",
              "        async function convertToInteractive(key) {\n",
              "          const element = document.querySelector('#df-bd38de2c-29bc-4097-ba58-7a2a80f0aeec');\n",
              "          const dataTable =\n",
              "            await google.colab.kernel.invokeFunction('convertToInteractive',\n",
              "                                                     [key], {});\n",
              "          if (!dataTable) return;\n",
              "\n",
              "          const docLinkHtml = 'Like what you see? Visit the ' +\n",
              "            '<a target=\"_blank\" href=https://colab.research.google.com/notebooks/data_table.ipynb>data table notebook</a>'\n",
              "            + ' to learn more about interactive tables.';\n",
              "          element.innerHTML = '';\n",
              "          dataTable['output_type'] = 'display_data';\n",
              "          await google.colab.output.renderOutput(dataTable, element);\n",
              "          const docLink = document.createElement('div');\n",
              "          docLink.innerHTML = docLinkHtml;\n",
              "          element.appendChild(docLink);\n",
              "        }\n",
              "      </script>\n",
              "    </div>\n",
              "  </div>\n",
              "  "
            ]
          },
          "metadata": {},
          "execution_count": 130
        }
      ]
    },
    {
      "cell_type": "code",
      "source": [
        "X_val2_binned = X_val2.copy(deep = True)\n",
        "X_val2_binned['Duration_bin'] = pd.cut(X_val2_binned.Duration, bins = [12, 21, 27, 60])\n",
        "X_val2_binned = X_val2_binned.drop('Duration', axis = 1)\n",
        "X_val2_binned"
      ],
      "metadata": {
        "colab": {
          "base_uri": "https://localhost:8080/",
          "height": 423
        },
        "id": "f1eB-_KD7dsk",
        "outputId": "7295d5d0-a3eb-4048-ae3d-7a7e6e493135"
      },
      "execution_count": 131,
      "outputs": [
        {
          "output_type": "execute_result",
          "data": {
            "text/plain": [
              "    Checking History Savings Duration_bin\n",
              "300        4       4       1     (27, 60]\n",
              "587        1       1       3     (21, 27]\n",
              "16         2       2       4     (12, 21]\n",
              "521        4       2       1     (21, 27]\n",
              "252        4       4       1     (27, 60]\n",
              "..       ...     ...     ...          ...\n",
              "217        1       1       1     (27, 60]\n",
              "249        4       2       4     (12, 21]\n",
              "314        2       4       1     (12, 21]\n",
              "406        4       4       1     (27, 60]\n",
              "325        2       0       2     (12, 21]\n",
              "\n",
              "[121 rows x 4 columns]"
            ],
            "text/html": [
              "\n",
              "  <div id=\"df-7622cb24-9cbc-41c7-850a-cdf8c0318306\">\n",
              "    <div class=\"colab-df-container\">\n",
              "      <div>\n",
              "<style scoped>\n",
              "    .dataframe tbody tr th:only-of-type {\n",
              "        vertical-align: middle;\n",
              "    }\n",
              "\n",
              "    .dataframe tbody tr th {\n",
              "        vertical-align: top;\n",
              "    }\n",
              "\n",
              "    .dataframe thead th {\n",
              "        text-align: right;\n",
              "    }\n",
              "</style>\n",
              "<table border=\"1\" class=\"dataframe\">\n",
              "  <thead>\n",
              "    <tr style=\"text-align: right;\">\n",
              "      <th></th>\n",
              "      <th>Checking</th>\n",
              "      <th>History</th>\n",
              "      <th>Savings</th>\n",
              "      <th>Duration_bin</th>\n",
              "    </tr>\n",
              "  </thead>\n",
              "  <tbody>\n",
              "    <tr>\n",
              "      <th>300</th>\n",
              "      <td>4</td>\n",
              "      <td>4</td>\n",
              "      <td>1</td>\n",
              "      <td>(27, 60]</td>\n",
              "    </tr>\n",
              "    <tr>\n",
              "      <th>587</th>\n",
              "      <td>1</td>\n",
              "      <td>1</td>\n",
              "      <td>3</td>\n",
              "      <td>(21, 27]</td>\n",
              "    </tr>\n",
              "    <tr>\n",
              "      <th>16</th>\n",
              "      <td>2</td>\n",
              "      <td>2</td>\n",
              "      <td>4</td>\n",
              "      <td>(12, 21]</td>\n",
              "    </tr>\n",
              "    <tr>\n",
              "      <th>521</th>\n",
              "      <td>4</td>\n",
              "      <td>2</td>\n",
              "      <td>1</td>\n",
              "      <td>(21, 27]</td>\n",
              "    </tr>\n",
              "    <tr>\n",
              "      <th>252</th>\n",
              "      <td>4</td>\n",
              "      <td>4</td>\n",
              "      <td>1</td>\n",
              "      <td>(27, 60]</td>\n",
              "    </tr>\n",
              "    <tr>\n",
              "      <th>...</th>\n",
              "      <td>...</td>\n",
              "      <td>...</td>\n",
              "      <td>...</td>\n",
              "      <td>...</td>\n",
              "    </tr>\n",
              "    <tr>\n",
              "      <th>217</th>\n",
              "      <td>1</td>\n",
              "      <td>1</td>\n",
              "      <td>1</td>\n",
              "      <td>(27, 60]</td>\n",
              "    </tr>\n",
              "    <tr>\n",
              "      <th>249</th>\n",
              "      <td>4</td>\n",
              "      <td>2</td>\n",
              "      <td>4</td>\n",
              "      <td>(12, 21]</td>\n",
              "    </tr>\n",
              "    <tr>\n",
              "      <th>314</th>\n",
              "      <td>2</td>\n",
              "      <td>4</td>\n",
              "      <td>1</td>\n",
              "      <td>(12, 21]</td>\n",
              "    </tr>\n",
              "    <tr>\n",
              "      <th>406</th>\n",
              "      <td>4</td>\n",
              "      <td>4</td>\n",
              "      <td>1</td>\n",
              "      <td>(27, 60]</td>\n",
              "    </tr>\n",
              "    <tr>\n",
              "      <th>325</th>\n",
              "      <td>2</td>\n",
              "      <td>0</td>\n",
              "      <td>2</td>\n",
              "      <td>(12, 21]</td>\n",
              "    </tr>\n",
              "  </tbody>\n",
              "</table>\n",
              "<p>121 rows × 4 columns</p>\n",
              "</div>\n",
              "      <button class=\"colab-df-convert\" onclick=\"convertToInteractive('df-7622cb24-9cbc-41c7-850a-cdf8c0318306')\"\n",
              "              title=\"Convert this dataframe to an interactive table.\"\n",
              "              style=\"display:none;\">\n",
              "        \n",
              "  <svg xmlns=\"http://www.w3.org/2000/svg\" height=\"24px\"viewBox=\"0 0 24 24\"\n",
              "       width=\"24px\">\n",
              "    <path d=\"M0 0h24v24H0V0z\" fill=\"none\"/>\n",
              "    <path d=\"M18.56 5.44l.94 2.06.94-2.06 2.06-.94-2.06-.94-.94-2.06-.94 2.06-2.06.94zm-11 1L8.5 8.5l.94-2.06 2.06-.94-2.06-.94L8.5 2.5l-.94 2.06-2.06.94zm10 10l.94 2.06.94-2.06 2.06-.94-2.06-.94-.94-2.06-.94 2.06-2.06.94z\"/><path d=\"M17.41 7.96l-1.37-1.37c-.4-.4-.92-.59-1.43-.59-.52 0-1.04.2-1.43.59L10.3 9.45l-7.72 7.72c-.78.78-.78 2.05 0 2.83L4 21.41c.39.39.9.59 1.41.59.51 0 1.02-.2 1.41-.59l7.78-7.78 2.81-2.81c.8-.78.8-2.07 0-2.86zM5.41 20L4 18.59l7.72-7.72 1.47 1.35L5.41 20z\"/>\n",
              "  </svg>\n",
              "      </button>\n",
              "      \n",
              "  <style>\n",
              "    .colab-df-container {\n",
              "      display:flex;\n",
              "      flex-wrap:wrap;\n",
              "      gap: 12px;\n",
              "    }\n",
              "\n",
              "    .colab-df-convert {\n",
              "      background-color: #E8F0FE;\n",
              "      border: none;\n",
              "      border-radius: 50%;\n",
              "      cursor: pointer;\n",
              "      display: none;\n",
              "      fill: #1967D2;\n",
              "      height: 32px;\n",
              "      padding: 0 0 0 0;\n",
              "      width: 32px;\n",
              "    }\n",
              "\n",
              "    .colab-df-convert:hover {\n",
              "      background-color: #E2EBFA;\n",
              "      box-shadow: 0px 1px 2px rgba(60, 64, 67, 0.3), 0px 1px 3px 1px rgba(60, 64, 67, 0.15);\n",
              "      fill: #174EA6;\n",
              "    }\n",
              "\n",
              "    [theme=dark] .colab-df-convert {\n",
              "      background-color: #3B4455;\n",
              "      fill: #D2E3FC;\n",
              "    }\n",
              "\n",
              "    [theme=dark] .colab-df-convert:hover {\n",
              "      background-color: #434B5C;\n",
              "      box-shadow: 0px 1px 3px 1px rgba(0, 0, 0, 0.15);\n",
              "      filter: drop-shadow(0px 1px 2px rgba(0, 0, 0, 0.3));\n",
              "      fill: #FFFFFF;\n",
              "    }\n",
              "  </style>\n",
              "\n",
              "      <script>\n",
              "        const buttonEl =\n",
              "          document.querySelector('#df-7622cb24-9cbc-41c7-850a-cdf8c0318306 button.colab-df-convert');\n",
              "        buttonEl.style.display =\n",
              "          google.colab.kernel.accessAllowed ? 'block' : 'none';\n",
              "\n",
              "        async function convertToInteractive(key) {\n",
              "          const element = document.querySelector('#df-7622cb24-9cbc-41c7-850a-cdf8c0318306');\n",
              "          const dataTable =\n",
              "            await google.colab.kernel.invokeFunction('convertToInteractive',\n",
              "                                                     [key], {});\n",
              "          if (!dataTable) return;\n",
              "\n",
              "          const docLinkHtml = 'Like what you see? Visit the ' +\n",
              "            '<a target=\"_blank\" href=https://colab.research.google.com/notebooks/data_table.ipynb>data table notebook</a>'\n",
              "            + ' to learn more about interactive tables.';\n",
              "          element.innerHTML = '';\n",
              "          dataTable['output_type'] = 'display_data';\n",
              "          await google.colab.output.renderOutput(dataTable, element);\n",
              "          const docLink = document.createElement('div');\n",
              "          docLink.innerHTML = docLinkHtml;\n",
              "          element.appendChild(docLink);\n",
              "        }\n",
              "      </script>\n",
              "    </div>\n",
              "  </div>\n",
              "  "
            ]
          },
          "metadata": {},
          "execution_count": 131
        }
      ]
    },
    {
      "cell_type": "markdown",
      "source": [
        "####One Hot *Encoding*"
      ],
      "metadata": {
        "id": "qc4kwtS_c1Ir"
      }
    },
    {
      "cell_type": "markdown",
      "source": [
        "#####Subset 1"
      ],
      "metadata": {
        "id": "caQ2BFQnAgK1"
      }
    },
    {
      "cell_type": "code",
      "source": [
        "X_train1_hotEncoding = pd.get_dummies(X_train1_binned, columns = ['Checking', 'History', 'Property', 'Duration_bin'], drop_first = True)\n",
        "X_train1_hotEncoding"
      ],
      "metadata": {
        "colab": {
          "base_uri": "https://localhost:8080/",
          "height": 423
        },
        "id": "xrplNSg1cTTQ",
        "outputId": "967f3490-b5a3-4c81-e7c3-04660fe2a3ca"
      },
      "execution_count": 132,
      "outputs": [
        {
          "output_type": "execute_result",
          "data": {
            "text/plain": [
              "     Checking_2  Checking_3  Checking_4  History_1  History_2  History_3  \\\n",
              "295           1           0           0          0          0          0   \n",
              "179           1           0           0          0          1          0   \n",
              "253           0           1           0          0          1          0   \n",
              "284           0           0           0          0          1          0   \n",
              "356           0           0           1          0          1          0   \n",
              "..          ...         ...         ...        ...        ...        ...   \n",
              "307           0           0           1          0          1          0   \n",
              "16            0           1           0          0          1          0   \n",
              "130           0           1           0          0          1          0   \n",
              "221           1           0           0          0          1          0   \n",
              "91            1           0           0          0          1          0   \n",
              "\n",
              "     History_4  Property_2  Property_3  Property_4  Duration_bin_(11, 12]  \n",
              "295          0           0           0           0                      1  \n",
              "179          0           0           0           0                      0  \n",
              "253          0           0           0           0                      1  \n",
              "284          0           1           0           0                      0  \n",
              "356          0           0           0           0                      1  \n",
              "..         ...         ...         ...         ...                    ...  \n",
              "307          0           0           0           0                      0  \n",
              "16           0           0           1           0                      0  \n",
              "130          0           0           0           0                      0  \n",
              "221          0           1           0           0                      0  \n",
              "91           0           0           0           0                      1  \n",
              "\n",
              "[269 rows x 11 columns]"
            ],
            "text/html": [
              "\n",
              "  <div id=\"df-1bf9d333-430c-4a8b-992a-acd62b6287cb\">\n",
              "    <div class=\"colab-df-container\">\n",
              "      <div>\n",
              "<style scoped>\n",
              "    .dataframe tbody tr th:only-of-type {\n",
              "        vertical-align: middle;\n",
              "    }\n",
              "\n",
              "    .dataframe tbody tr th {\n",
              "        vertical-align: top;\n",
              "    }\n",
              "\n",
              "    .dataframe thead th {\n",
              "        text-align: right;\n",
              "    }\n",
              "</style>\n",
              "<table border=\"1\" class=\"dataframe\">\n",
              "  <thead>\n",
              "    <tr style=\"text-align: right;\">\n",
              "      <th></th>\n",
              "      <th>Checking_2</th>\n",
              "      <th>Checking_3</th>\n",
              "      <th>Checking_4</th>\n",
              "      <th>History_1</th>\n",
              "      <th>History_2</th>\n",
              "      <th>History_3</th>\n",
              "      <th>History_4</th>\n",
              "      <th>Property_2</th>\n",
              "      <th>Property_3</th>\n",
              "      <th>Property_4</th>\n",
              "      <th>Duration_bin_(11, 12]</th>\n",
              "    </tr>\n",
              "  </thead>\n",
              "  <tbody>\n",
              "    <tr>\n",
              "      <th>295</th>\n",
              "      <td>1</td>\n",
              "      <td>0</td>\n",
              "      <td>0</td>\n",
              "      <td>0</td>\n",
              "      <td>0</td>\n",
              "      <td>0</td>\n",
              "      <td>0</td>\n",
              "      <td>0</td>\n",
              "      <td>0</td>\n",
              "      <td>0</td>\n",
              "      <td>1</td>\n",
              "    </tr>\n",
              "    <tr>\n",
              "      <th>179</th>\n",
              "      <td>1</td>\n",
              "      <td>0</td>\n",
              "      <td>0</td>\n",
              "      <td>0</td>\n",
              "      <td>1</td>\n",
              "      <td>0</td>\n",
              "      <td>0</td>\n",
              "      <td>0</td>\n",
              "      <td>0</td>\n",
              "      <td>0</td>\n",
              "      <td>0</td>\n",
              "    </tr>\n",
              "    <tr>\n",
              "      <th>253</th>\n",
              "      <td>0</td>\n",
              "      <td>1</td>\n",
              "      <td>0</td>\n",
              "      <td>0</td>\n",
              "      <td>1</td>\n",
              "      <td>0</td>\n",
              "      <td>0</td>\n",
              "      <td>0</td>\n",
              "      <td>0</td>\n",
              "      <td>0</td>\n",
              "      <td>1</td>\n",
              "    </tr>\n",
              "    <tr>\n",
              "      <th>284</th>\n",
              "      <td>0</td>\n",
              "      <td>0</td>\n",
              "      <td>0</td>\n",
              "      <td>0</td>\n",
              "      <td>1</td>\n",
              "      <td>0</td>\n",
              "      <td>0</td>\n",
              "      <td>1</td>\n",
              "      <td>0</td>\n",
              "      <td>0</td>\n",
              "      <td>0</td>\n",
              "    </tr>\n",
              "    <tr>\n",
              "      <th>356</th>\n",
              "      <td>0</td>\n",
              "      <td>0</td>\n",
              "      <td>1</td>\n",
              "      <td>0</td>\n",
              "      <td>1</td>\n",
              "      <td>0</td>\n",
              "      <td>0</td>\n",
              "      <td>0</td>\n",
              "      <td>0</td>\n",
              "      <td>0</td>\n",
              "      <td>1</td>\n",
              "    </tr>\n",
              "    <tr>\n",
              "      <th>...</th>\n",
              "      <td>...</td>\n",
              "      <td>...</td>\n",
              "      <td>...</td>\n",
              "      <td>...</td>\n",
              "      <td>...</td>\n",
              "      <td>...</td>\n",
              "      <td>...</td>\n",
              "      <td>...</td>\n",
              "      <td>...</td>\n",
              "      <td>...</td>\n",
              "      <td>...</td>\n",
              "    </tr>\n",
              "    <tr>\n",
              "      <th>307</th>\n",
              "      <td>0</td>\n",
              "      <td>0</td>\n",
              "      <td>1</td>\n",
              "      <td>0</td>\n",
              "      <td>1</td>\n",
              "      <td>0</td>\n",
              "      <td>0</td>\n",
              "      <td>0</td>\n",
              "      <td>0</td>\n",
              "      <td>0</td>\n",
              "      <td>0</td>\n",
              "    </tr>\n",
              "    <tr>\n",
              "      <th>16</th>\n",
              "      <td>0</td>\n",
              "      <td>1</td>\n",
              "      <td>0</td>\n",
              "      <td>0</td>\n",
              "      <td>1</td>\n",
              "      <td>0</td>\n",
              "      <td>0</td>\n",
              "      <td>0</td>\n",
              "      <td>1</td>\n",
              "      <td>0</td>\n",
              "      <td>0</td>\n",
              "    </tr>\n",
              "    <tr>\n",
              "      <th>130</th>\n",
              "      <td>0</td>\n",
              "      <td>1</td>\n",
              "      <td>0</td>\n",
              "      <td>0</td>\n",
              "      <td>1</td>\n",
              "      <td>0</td>\n",
              "      <td>0</td>\n",
              "      <td>0</td>\n",
              "      <td>0</td>\n",
              "      <td>0</td>\n",
              "      <td>0</td>\n",
              "    </tr>\n",
              "    <tr>\n",
              "      <th>221</th>\n",
              "      <td>1</td>\n",
              "      <td>0</td>\n",
              "      <td>0</td>\n",
              "      <td>0</td>\n",
              "      <td>1</td>\n",
              "      <td>0</td>\n",
              "      <td>0</td>\n",
              "      <td>1</td>\n",
              "      <td>0</td>\n",
              "      <td>0</td>\n",
              "      <td>0</td>\n",
              "    </tr>\n",
              "    <tr>\n",
              "      <th>91</th>\n",
              "      <td>1</td>\n",
              "      <td>0</td>\n",
              "      <td>0</td>\n",
              "      <td>0</td>\n",
              "      <td>1</td>\n",
              "      <td>0</td>\n",
              "      <td>0</td>\n",
              "      <td>0</td>\n",
              "      <td>0</td>\n",
              "      <td>0</td>\n",
              "      <td>1</td>\n",
              "    </tr>\n",
              "  </tbody>\n",
              "</table>\n",
              "<p>269 rows × 11 columns</p>\n",
              "</div>\n",
              "      <button class=\"colab-df-convert\" onclick=\"convertToInteractive('df-1bf9d333-430c-4a8b-992a-acd62b6287cb')\"\n",
              "              title=\"Convert this dataframe to an interactive table.\"\n",
              "              style=\"display:none;\">\n",
              "        \n",
              "  <svg xmlns=\"http://www.w3.org/2000/svg\" height=\"24px\"viewBox=\"0 0 24 24\"\n",
              "       width=\"24px\">\n",
              "    <path d=\"M0 0h24v24H0V0z\" fill=\"none\"/>\n",
              "    <path d=\"M18.56 5.44l.94 2.06.94-2.06 2.06-.94-2.06-.94-.94-2.06-.94 2.06-2.06.94zm-11 1L8.5 8.5l.94-2.06 2.06-.94-2.06-.94L8.5 2.5l-.94 2.06-2.06.94zm10 10l.94 2.06.94-2.06 2.06-.94-2.06-.94-.94-2.06-.94 2.06-2.06.94z\"/><path d=\"M17.41 7.96l-1.37-1.37c-.4-.4-.92-.59-1.43-.59-.52 0-1.04.2-1.43.59L10.3 9.45l-7.72 7.72c-.78.78-.78 2.05 0 2.83L4 21.41c.39.39.9.59 1.41.59.51 0 1.02-.2 1.41-.59l7.78-7.78 2.81-2.81c.8-.78.8-2.07 0-2.86zM5.41 20L4 18.59l7.72-7.72 1.47 1.35L5.41 20z\"/>\n",
              "  </svg>\n",
              "      </button>\n",
              "      \n",
              "  <style>\n",
              "    .colab-df-container {\n",
              "      display:flex;\n",
              "      flex-wrap:wrap;\n",
              "      gap: 12px;\n",
              "    }\n",
              "\n",
              "    .colab-df-convert {\n",
              "      background-color: #E8F0FE;\n",
              "      border: none;\n",
              "      border-radius: 50%;\n",
              "      cursor: pointer;\n",
              "      display: none;\n",
              "      fill: #1967D2;\n",
              "      height: 32px;\n",
              "      padding: 0 0 0 0;\n",
              "      width: 32px;\n",
              "    }\n",
              "\n",
              "    .colab-df-convert:hover {\n",
              "      background-color: #E2EBFA;\n",
              "      box-shadow: 0px 1px 2px rgba(60, 64, 67, 0.3), 0px 1px 3px 1px rgba(60, 64, 67, 0.15);\n",
              "      fill: #174EA6;\n",
              "    }\n",
              "\n",
              "    [theme=dark] .colab-df-convert {\n",
              "      background-color: #3B4455;\n",
              "      fill: #D2E3FC;\n",
              "    }\n",
              "\n",
              "    [theme=dark] .colab-df-convert:hover {\n",
              "      background-color: #434B5C;\n",
              "      box-shadow: 0px 1px 3px 1px rgba(0, 0, 0, 0.15);\n",
              "      filter: drop-shadow(0px 1px 2px rgba(0, 0, 0, 0.3));\n",
              "      fill: #FFFFFF;\n",
              "    }\n",
              "  </style>\n",
              "\n",
              "      <script>\n",
              "        const buttonEl =\n",
              "          document.querySelector('#df-1bf9d333-430c-4a8b-992a-acd62b6287cb button.colab-df-convert');\n",
              "        buttonEl.style.display =\n",
              "          google.colab.kernel.accessAllowed ? 'block' : 'none';\n",
              "\n",
              "        async function convertToInteractive(key) {\n",
              "          const element = document.querySelector('#df-1bf9d333-430c-4a8b-992a-acd62b6287cb');\n",
              "          const dataTable =\n",
              "            await google.colab.kernel.invokeFunction('convertToInteractive',\n",
              "                                                     [key], {});\n",
              "          if (!dataTable) return;\n",
              "\n",
              "          const docLinkHtml = 'Like what you see? Visit the ' +\n",
              "            '<a target=\"_blank\" href=https://colab.research.google.com/notebooks/data_table.ipynb>data table notebook</a>'\n",
              "            + ' to learn more about interactive tables.';\n",
              "          element.innerHTML = '';\n",
              "          dataTable['output_type'] = 'display_data';\n",
              "          await google.colab.output.renderOutput(dataTable, element);\n",
              "          const docLink = document.createElement('div');\n",
              "          docLink.innerHTML = docLinkHtml;\n",
              "          element.appendChild(docLink);\n",
              "        }\n",
              "      </script>\n",
              "    </div>\n",
              "  </div>\n",
              "  "
            ]
          },
          "metadata": {},
          "execution_count": 132
        }
      ]
    },
    {
      "cell_type": "code",
      "source": [
        "X_val1_hotEncoding = pd.get_dummies(X_val1_binned, columns = ['Checking', 'History', 'Property', 'Duration_bin'], drop_first = True)\n",
        "X_val1_hotEncoding"
      ],
      "metadata": {
        "colab": {
          "base_uri": "https://localhost:8080/",
          "height": 423
        },
        "id": "lhly6TmMik46",
        "outputId": "1a739694-284c-45c6-ec05-f706cc78ec54"
      },
      "execution_count": 133,
      "outputs": [
        {
          "output_type": "execute_result",
          "data": {
            "text/plain": [
              "     Checking_2  Checking_3  Checking_4  History_1  History_2  History_3  \\\n",
              "88            0           0           1          0          0          0   \n",
              "154           0           1           0          0          1          0   \n",
              "62            0           0           1          0          1          0   \n",
              "278           0           0           1          0          0          0   \n",
              "224           0           0           0          0          1          0   \n",
              "..          ...         ...         ...        ...        ...        ...   \n",
              "192           1           0           0          0          0          0   \n",
              "153           0           0           1          0          0          0   \n",
              "100           0           0           1          0          0          0   \n",
              "172           1           0           0          0          1          0   \n",
              "87            0           0           1          0          1          0   \n",
              "\n",
              "     History_4  Property_2  Property_3  Property_4  Duration_bin_(11, 12]  \n",
              "88           1           0           0           0                      0  \n",
              "154          0           0           0           0                      1  \n",
              "62           0           1           0           0                      0  \n",
              "278          1           0           0           0                      0  \n",
              "224          0           0           1           0                      1  \n",
              "..         ...         ...         ...         ...                    ...  \n",
              "192          1           0           0           0                      1  \n",
              "153          1           0           1           0                      0  \n",
              "100          1           1           0           0                      1  \n",
              "172          0           0           0           0                      1  \n",
              "87           0           1           0           0                      1  \n",
              "\n",
              "[68 rows x 11 columns]"
            ],
            "text/html": [
              "\n",
              "  <div id=\"df-05877f23-40f0-4565-a79a-2cdded882038\">\n",
              "    <div class=\"colab-df-container\">\n",
              "      <div>\n",
              "<style scoped>\n",
              "    .dataframe tbody tr th:only-of-type {\n",
              "        vertical-align: middle;\n",
              "    }\n",
              "\n",
              "    .dataframe tbody tr th {\n",
              "        vertical-align: top;\n",
              "    }\n",
              "\n",
              "    .dataframe thead th {\n",
              "        text-align: right;\n",
              "    }\n",
              "</style>\n",
              "<table border=\"1\" class=\"dataframe\">\n",
              "  <thead>\n",
              "    <tr style=\"text-align: right;\">\n",
              "      <th></th>\n",
              "      <th>Checking_2</th>\n",
              "      <th>Checking_3</th>\n",
              "      <th>Checking_4</th>\n",
              "      <th>History_1</th>\n",
              "      <th>History_2</th>\n",
              "      <th>History_3</th>\n",
              "      <th>History_4</th>\n",
              "      <th>Property_2</th>\n",
              "      <th>Property_3</th>\n",
              "      <th>Property_4</th>\n",
              "      <th>Duration_bin_(11, 12]</th>\n",
              "    </tr>\n",
              "  </thead>\n",
              "  <tbody>\n",
              "    <tr>\n",
              "      <th>88</th>\n",
              "      <td>0</td>\n",
              "      <td>0</td>\n",
              "      <td>1</td>\n",
              "      <td>0</td>\n",
              "      <td>0</td>\n",
              "      <td>0</td>\n",
              "      <td>1</td>\n",
              "      <td>0</td>\n",
              "      <td>0</td>\n",
              "      <td>0</td>\n",
              "      <td>0</td>\n",
              "    </tr>\n",
              "    <tr>\n",
              "      <th>154</th>\n",
              "      <td>0</td>\n",
              "      <td>1</td>\n",
              "      <td>0</td>\n",
              "      <td>0</td>\n",
              "      <td>1</td>\n",
              "      <td>0</td>\n",
              "      <td>0</td>\n",
              "      <td>0</td>\n",
              "      <td>0</td>\n",
              "      <td>0</td>\n",
              "      <td>1</td>\n",
              "    </tr>\n",
              "    <tr>\n",
              "      <th>62</th>\n",
              "      <td>0</td>\n",
              "      <td>0</td>\n",
              "      <td>1</td>\n",
              "      <td>0</td>\n",
              "      <td>1</td>\n",
              "      <td>0</td>\n",
              "      <td>0</td>\n",
              "      <td>1</td>\n",
              "      <td>0</td>\n",
              "      <td>0</td>\n",
              "      <td>0</td>\n",
              "    </tr>\n",
              "    <tr>\n",
              "      <th>278</th>\n",
              "      <td>0</td>\n",
              "      <td>0</td>\n",
              "      <td>1</td>\n",
              "      <td>0</td>\n",
              "      <td>0</td>\n",
              "      <td>0</td>\n",
              "      <td>1</td>\n",
              "      <td>0</td>\n",
              "      <td>0</td>\n",
              "      <td>0</td>\n",
              "      <td>0</td>\n",
              "    </tr>\n",
              "    <tr>\n",
              "      <th>224</th>\n",
              "      <td>0</td>\n",
              "      <td>0</td>\n",
              "      <td>0</td>\n",
              "      <td>0</td>\n",
              "      <td>1</td>\n",
              "      <td>0</td>\n",
              "      <td>0</td>\n",
              "      <td>0</td>\n",
              "      <td>1</td>\n",
              "      <td>0</td>\n",
              "      <td>1</td>\n",
              "    </tr>\n",
              "    <tr>\n",
              "      <th>...</th>\n",
              "      <td>...</td>\n",
              "      <td>...</td>\n",
              "      <td>...</td>\n",
              "      <td>...</td>\n",
              "      <td>...</td>\n",
              "      <td>...</td>\n",
              "      <td>...</td>\n",
              "      <td>...</td>\n",
              "      <td>...</td>\n",
              "      <td>...</td>\n",
              "      <td>...</td>\n",
              "    </tr>\n",
              "    <tr>\n",
              "      <th>192</th>\n",
              "      <td>1</td>\n",
              "      <td>0</td>\n",
              "      <td>0</td>\n",
              "      <td>0</td>\n",
              "      <td>0</td>\n",
              "      <td>0</td>\n",
              "      <td>1</td>\n",
              "      <td>0</td>\n",
              "      <td>0</td>\n",
              "      <td>0</td>\n",
              "      <td>1</td>\n",
              "    </tr>\n",
              "    <tr>\n",
              "      <th>153</th>\n",
              "      <td>0</td>\n",
              "      <td>0</td>\n",
              "      <td>1</td>\n",
              "      <td>0</td>\n",
              "      <td>0</td>\n",
              "      <td>0</td>\n",
              "      <td>1</td>\n",
              "      <td>0</td>\n",
              "      <td>1</td>\n",
              "      <td>0</td>\n",
              "      <td>0</td>\n",
              "    </tr>\n",
              "    <tr>\n",
              "      <th>100</th>\n",
              "      <td>0</td>\n",
              "      <td>0</td>\n",
              "      <td>1</td>\n",
              "      <td>0</td>\n",
              "      <td>0</td>\n",
              "      <td>0</td>\n",
              "      <td>1</td>\n",
              "      <td>1</td>\n",
              "      <td>0</td>\n",
              "      <td>0</td>\n",
              "      <td>1</td>\n",
              "    </tr>\n",
              "    <tr>\n",
              "      <th>172</th>\n",
              "      <td>1</td>\n",
              "      <td>0</td>\n",
              "      <td>0</td>\n",
              "      <td>0</td>\n",
              "      <td>1</td>\n",
              "      <td>0</td>\n",
              "      <td>0</td>\n",
              "      <td>0</td>\n",
              "      <td>0</td>\n",
              "      <td>0</td>\n",
              "      <td>1</td>\n",
              "    </tr>\n",
              "    <tr>\n",
              "      <th>87</th>\n",
              "      <td>0</td>\n",
              "      <td>0</td>\n",
              "      <td>1</td>\n",
              "      <td>0</td>\n",
              "      <td>1</td>\n",
              "      <td>0</td>\n",
              "      <td>0</td>\n",
              "      <td>1</td>\n",
              "      <td>0</td>\n",
              "      <td>0</td>\n",
              "      <td>1</td>\n",
              "    </tr>\n",
              "  </tbody>\n",
              "</table>\n",
              "<p>68 rows × 11 columns</p>\n",
              "</div>\n",
              "      <button class=\"colab-df-convert\" onclick=\"convertToInteractive('df-05877f23-40f0-4565-a79a-2cdded882038')\"\n",
              "              title=\"Convert this dataframe to an interactive table.\"\n",
              "              style=\"display:none;\">\n",
              "        \n",
              "  <svg xmlns=\"http://www.w3.org/2000/svg\" height=\"24px\"viewBox=\"0 0 24 24\"\n",
              "       width=\"24px\">\n",
              "    <path d=\"M0 0h24v24H0V0z\" fill=\"none\"/>\n",
              "    <path d=\"M18.56 5.44l.94 2.06.94-2.06 2.06-.94-2.06-.94-.94-2.06-.94 2.06-2.06.94zm-11 1L8.5 8.5l.94-2.06 2.06-.94-2.06-.94L8.5 2.5l-.94 2.06-2.06.94zm10 10l.94 2.06.94-2.06 2.06-.94-2.06-.94-.94-2.06-.94 2.06-2.06.94z\"/><path d=\"M17.41 7.96l-1.37-1.37c-.4-.4-.92-.59-1.43-.59-.52 0-1.04.2-1.43.59L10.3 9.45l-7.72 7.72c-.78.78-.78 2.05 0 2.83L4 21.41c.39.39.9.59 1.41.59.51 0 1.02-.2 1.41-.59l7.78-7.78 2.81-2.81c.8-.78.8-2.07 0-2.86zM5.41 20L4 18.59l7.72-7.72 1.47 1.35L5.41 20z\"/>\n",
              "  </svg>\n",
              "      </button>\n",
              "      \n",
              "  <style>\n",
              "    .colab-df-container {\n",
              "      display:flex;\n",
              "      flex-wrap:wrap;\n",
              "      gap: 12px;\n",
              "    }\n",
              "\n",
              "    .colab-df-convert {\n",
              "      background-color: #E8F0FE;\n",
              "      border: none;\n",
              "      border-radius: 50%;\n",
              "      cursor: pointer;\n",
              "      display: none;\n",
              "      fill: #1967D2;\n",
              "      height: 32px;\n",
              "      padding: 0 0 0 0;\n",
              "      width: 32px;\n",
              "    }\n",
              "\n",
              "    .colab-df-convert:hover {\n",
              "      background-color: #E2EBFA;\n",
              "      box-shadow: 0px 1px 2px rgba(60, 64, 67, 0.3), 0px 1px 3px 1px rgba(60, 64, 67, 0.15);\n",
              "      fill: #174EA6;\n",
              "    }\n",
              "\n",
              "    [theme=dark] .colab-df-convert {\n",
              "      background-color: #3B4455;\n",
              "      fill: #D2E3FC;\n",
              "    }\n",
              "\n",
              "    [theme=dark] .colab-df-convert:hover {\n",
              "      background-color: #434B5C;\n",
              "      box-shadow: 0px 1px 3px 1px rgba(0, 0, 0, 0.15);\n",
              "      filter: drop-shadow(0px 1px 2px rgba(0, 0, 0, 0.3));\n",
              "      fill: #FFFFFF;\n",
              "    }\n",
              "  </style>\n",
              "\n",
              "      <script>\n",
              "        const buttonEl =\n",
              "          document.querySelector('#df-05877f23-40f0-4565-a79a-2cdded882038 button.colab-df-convert');\n",
              "        buttonEl.style.display =\n",
              "          google.colab.kernel.accessAllowed ? 'block' : 'none';\n",
              "\n",
              "        async function convertToInteractive(key) {\n",
              "          const element = document.querySelector('#df-05877f23-40f0-4565-a79a-2cdded882038');\n",
              "          const dataTable =\n",
              "            await google.colab.kernel.invokeFunction('convertToInteractive',\n",
              "                                                     [key], {});\n",
              "          if (!dataTable) return;\n",
              "\n",
              "          const docLinkHtml = 'Like what you see? Visit the ' +\n",
              "            '<a target=\"_blank\" href=https://colab.research.google.com/notebooks/data_table.ipynb>data table notebook</a>'\n",
              "            + ' to learn more about interactive tables.';\n",
              "          element.innerHTML = '';\n",
              "          dataTable['output_type'] = 'display_data';\n",
              "          await google.colab.output.renderOutput(dataTable, element);\n",
              "          const docLink = document.createElement('div');\n",
              "          docLink.innerHTML = docLinkHtml;\n",
              "          element.appendChild(docLink);\n",
              "        }\n",
              "      </script>\n",
              "    </div>\n",
              "  </div>\n",
              "  "
            ]
          },
          "metadata": {},
          "execution_count": 133
        }
      ]
    },
    {
      "cell_type": "markdown",
      "source": [
        "#####Subset 2"
      ],
      "metadata": {
        "id": "o_2uINnaAjYi"
      }
    },
    {
      "cell_type": "code",
      "source": [
        "X_train2_hotEncoding = pd.get_dummies(X_train2_binned, columns = ['Checking', 'History', 'Savings', 'Duration_bin'], drop_first = True)\n",
        "X_train2_hotEncoding"
      ],
      "metadata": {
        "colab": {
          "base_uri": "https://localhost:8080/",
          "height": 505
        },
        "id": "L-ayMN11Ao1c",
        "outputId": "57d32910-65a6-497e-c7d5-bdfd4f9ada66"
      },
      "execution_count": 134,
      "outputs": [
        {
          "output_type": "execute_result",
          "data": {
            "text/plain": [
              "     Checking_2  Checking_3  Checking_4  History_1  History_2  History_3  \\\n",
              "596           0           0           0          0          1          0   \n",
              "358           0           0           0          1          0          0   \n",
              "592           1           0           0          0          1          0   \n",
              "152           0           0           1          0          1          0   \n",
              "511           0           1           0          0          1          0   \n",
              "..          ...         ...         ...        ...        ...        ...   \n",
              "470           0           0           0          0          1          0   \n",
              "553           0           0           1          0          0          0   \n",
              "115           1           0           0          0          0          1   \n",
              "512           0           0           0          0          0          0   \n",
              "46            1           0           0          0          1          0   \n",
              "\n",
              "     History_4  Savings_2  Savings_3  Savings_4  Savings_5  \\\n",
              "596          0          0          0          0          0   \n",
              "358          0          0          1          0          0   \n",
              "592          0          0          1          0          0   \n",
              "152          0          0          0          0          1   \n",
              "511          0          0          0          0          0   \n",
              "..         ...        ...        ...        ...        ...   \n",
              "470          0          0          0          0          1   \n",
              "553          1          0          0          0          0   \n",
              "115          0          0          0          0          0   \n",
              "512          1          0          0          0          0   \n",
              "46           0          0          0          0          0   \n",
              "\n",
              "     Duration_bin_(21, 27]  Duration_bin_(27, 60]  \n",
              "596                      0                      1  \n",
              "358                      1                      0  \n",
              "592                      1                      0  \n",
              "152                      1                      0  \n",
              "511                      0                      0  \n",
              "..                     ...                    ...  \n",
              "470                      1                      0  \n",
              "553                      0                      0  \n",
              "115                      0                      0  \n",
              "512                      1                      0  \n",
              "46                       0                      1  \n",
              "\n",
              "[480 rows x 13 columns]"
            ],
            "text/html": [
              "\n",
              "  <div id=\"df-444fcb94-5178-4fcb-bc79-e1b107f3c615\">\n",
              "    <div class=\"colab-df-container\">\n",
              "      <div>\n",
              "<style scoped>\n",
              "    .dataframe tbody tr th:only-of-type {\n",
              "        vertical-align: middle;\n",
              "    }\n",
              "\n",
              "    .dataframe tbody tr th {\n",
              "        vertical-align: top;\n",
              "    }\n",
              "\n",
              "    .dataframe thead th {\n",
              "        text-align: right;\n",
              "    }\n",
              "</style>\n",
              "<table border=\"1\" class=\"dataframe\">\n",
              "  <thead>\n",
              "    <tr style=\"text-align: right;\">\n",
              "      <th></th>\n",
              "      <th>Checking_2</th>\n",
              "      <th>Checking_3</th>\n",
              "      <th>Checking_4</th>\n",
              "      <th>History_1</th>\n",
              "      <th>History_2</th>\n",
              "      <th>History_3</th>\n",
              "      <th>History_4</th>\n",
              "      <th>Savings_2</th>\n",
              "      <th>Savings_3</th>\n",
              "      <th>Savings_4</th>\n",
              "      <th>Savings_5</th>\n",
              "      <th>Duration_bin_(21, 27]</th>\n",
              "      <th>Duration_bin_(27, 60]</th>\n",
              "    </tr>\n",
              "  </thead>\n",
              "  <tbody>\n",
              "    <tr>\n",
              "      <th>596</th>\n",
              "      <td>0</td>\n",
              "      <td>0</td>\n",
              "      <td>0</td>\n",
              "      <td>0</td>\n",
              "      <td>1</td>\n",
              "      <td>0</td>\n",
              "      <td>0</td>\n",
              "      <td>0</td>\n",
              "      <td>0</td>\n",
              "      <td>0</td>\n",
              "      <td>0</td>\n",
              "      <td>0</td>\n",
              "      <td>1</td>\n",
              "    </tr>\n",
              "    <tr>\n",
              "      <th>358</th>\n",
              "      <td>0</td>\n",
              "      <td>0</td>\n",
              "      <td>0</td>\n",
              "      <td>1</td>\n",
              "      <td>0</td>\n",
              "      <td>0</td>\n",
              "      <td>0</td>\n",
              "      <td>0</td>\n",
              "      <td>1</td>\n",
              "      <td>0</td>\n",
              "      <td>0</td>\n",
              "      <td>1</td>\n",
              "      <td>0</td>\n",
              "    </tr>\n",
              "    <tr>\n",
              "      <th>592</th>\n",
              "      <td>1</td>\n",
              "      <td>0</td>\n",
              "      <td>0</td>\n",
              "      <td>0</td>\n",
              "      <td>1</td>\n",
              "      <td>0</td>\n",
              "      <td>0</td>\n",
              "      <td>0</td>\n",
              "      <td>1</td>\n",
              "      <td>0</td>\n",
              "      <td>0</td>\n",
              "      <td>1</td>\n",
              "      <td>0</td>\n",
              "    </tr>\n",
              "    <tr>\n",
              "      <th>152</th>\n",
              "      <td>0</td>\n",
              "      <td>0</td>\n",
              "      <td>1</td>\n",
              "      <td>0</td>\n",
              "      <td>1</td>\n",
              "      <td>0</td>\n",
              "      <td>0</td>\n",
              "      <td>0</td>\n",
              "      <td>0</td>\n",
              "      <td>0</td>\n",
              "      <td>1</td>\n",
              "      <td>1</td>\n",
              "      <td>0</td>\n",
              "    </tr>\n",
              "    <tr>\n",
              "      <th>511</th>\n",
              "      <td>0</td>\n",
              "      <td>1</td>\n",
              "      <td>0</td>\n",
              "      <td>0</td>\n",
              "      <td>1</td>\n",
              "      <td>0</td>\n",
              "      <td>0</td>\n",
              "      <td>0</td>\n",
              "      <td>0</td>\n",
              "      <td>0</td>\n",
              "      <td>0</td>\n",
              "      <td>0</td>\n",
              "      <td>0</td>\n",
              "    </tr>\n",
              "    <tr>\n",
              "      <th>...</th>\n",
              "      <td>...</td>\n",
              "      <td>...</td>\n",
              "      <td>...</td>\n",
              "      <td>...</td>\n",
              "      <td>...</td>\n",
              "      <td>...</td>\n",
              "      <td>...</td>\n",
              "      <td>...</td>\n",
              "      <td>...</td>\n",
              "      <td>...</td>\n",
              "      <td>...</td>\n",
              "      <td>...</td>\n",
              "      <td>...</td>\n",
              "    </tr>\n",
              "    <tr>\n",
              "      <th>470</th>\n",
              "      <td>0</td>\n",
              "      <td>0</td>\n",
              "      <td>0</td>\n",
              "      <td>0</td>\n",
              "      <td>1</td>\n",
              "      <td>0</td>\n",
              "      <td>0</td>\n",
              "      <td>0</td>\n",
              "      <td>0</td>\n",
              "      <td>0</td>\n",
              "      <td>1</td>\n",
              "      <td>1</td>\n",
              "      <td>0</td>\n",
              "    </tr>\n",
              "    <tr>\n",
              "      <th>553</th>\n",
              "      <td>0</td>\n",
              "      <td>0</td>\n",
              "      <td>1</td>\n",
              "      <td>0</td>\n",
              "      <td>0</td>\n",
              "      <td>0</td>\n",
              "      <td>1</td>\n",
              "      <td>0</td>\n",
              "      <td>0</td>\n",
              "      <td>0</td>\n",
              "      <td>0</td>\n",
              "      <td>0</td>\n",
              "      <td>0</td>\n",
              "    </tr>\n",
              "    <tr>\n",
              "      <th>115</th>\n",
              "      <td>1</td>\n",
              "      <td>0</td>\n",
              "      <td>0</td>\n",
              "      <td>0</td>\n",
              "      <td>0</td>\n",
              "      <td>1</td>\n",
              "      <td>0</td>\n",
              "      <td>0</td>\n",
              "      <td>0</td>\n",
              "      <td>0</td>\n",
              "      <td>0</td>\n",
              "      <td>0</td>\n",
              "      <td>0</td>\n",
              "    </tr>\n",
              "    <tr>\n",
              "      <th>512</th>\n",
              "      <td>0</td>\n",
              "      <td>0</td>\n",
              "      <td>0</td>\n",
              "      <td>0</td>\n",
              "      <td>0</td>\n",
              "      <td>0</td>\n",
              "      <td>1</td>\n",
              "      <td>0</td>\n",
              "      <td>0</td>\n",
              "      <td>0</td>\n",
              "      <td>0</td>\n",
              "      <td>1</td>\n",
              "      <td>0</td>\n",
              "    </tr>\n",
              "    <tr>\n",
              "      <th>46</th>\n",
              "      <td>1</td>\n",
              "      <td>0</td>\n",
              "      <td>0</td>\n",
              "      <td>0</td>\n",
              "      <td>1</td>\n",
              "      <td>0</td>\n",
              "      <td>0</td>\n",
              "      <td>0</td>\n",
              "      <td>0</td>\n",
              "      <td>0</td>\n",
              "      <td>0</td>\n",
              "      <td>0</td>\n",
              "      <td>1</td>\n",
              "    </tr>\n",
              "  </tbody>\n",
              "</table>\n",
              "<p>480 rows × 13 columns</p>\n",
              "</div>\n",
              "      <button class=\"colab-df-convert\" onclick=\"convertToInteractive('df-444fcb94-5178-4fcb-bc79-e1b107f3c615')\"\n",
              "              title=\"Convert this dataframe to an interactive table.\"\n",
              "              style=\"display:none;\">\n",
              "        \n",
              "  <svg xmlns=\"http://www.w3.org/2000/svg\" height=\"24px\"viewBox=\"0 0 24 24\"\n",
              "       width=\"24px\">\n",
              "    <path d=\"M0 0h24v24H0V0z\" fill=\"none\"/>\n",
              "    <path d=\"M18.56 5.44l.94 2.06.94-2.06 2.06-.94-2.06-.94-.94-2.06-.94 2.06-2.06.94zm-11 1L8.5 8.5l.94-2.06 2.06-.94-2.06-.94L8.5 2.5l-.94 2.06-2.06.94zm10 10l.94 2.06.94-2.06 2.06-.94-2.06-.94-.94-2.06-.94 2.06-2.06.94z\"/><path d=\"M17.41 7.96l-1.37-1.37c-.4-.4-.92-.59-1.43-.59-.52 0-1.04.2-1.43.59L10.3 9.45l-7.72 7.72c-.78.78-.78 2.05 0 2.83L4 21.41c.39.39.9.59 1.41.59.51 0 1.02-.2 1.41-.59l7.78-7.78 2.81-2.81c.8-.78.8-2.07 0-2.86zM5.41 20L4 18.59l7.72-7.72 1.47 1.35L5.41 20z\"/>\n",
              "  </svg>\n",
              "      </button>\n",
              "      \n",
              "  <style>\n",
              "    .colab-df-container {\n",
              "      display:flex;\n",
              "      flex-wrap:wrap;\n",
              "      gap: 12px;\n",
              "    }\n",
              "\n",
              "    .colab-df-convert {\n",
              "      background-color: #E8F0FE;\n",
              "      border: none;\n",
              "      border-radius: 50%;\n",
              "      cursor: pointer;\n",
              "      display: none;\n",
              "      fill: #1967D2;\n",
              "      height: 32px;\n",
              "      padding: 0 0 0 0;\n",
              "      width: 32px;\n",
              "    }\n",
              "\n",
              "    .colab-df-convert:hover {\n",
              "      background-color: #E2EBFA;\n",
              "      box-shadow: 0px 1px 2px rgba(60, 64, 67, 0.3), 0px 1px 3px 1px rgba(60, 64, 67, 0.15);\n",
              "      fill: #174EA6;\n",
              "    }\n",
              "\n",
              "    [theme=dark] .colab-df-convert {\n",
              "      background-color: #3B4455;\n",
              "      fill: #D2E3FC;\n",
              "    }\n",
              "\n",
              "    [theme=dark] .colab-df-convert:hover {\n",
              "      background-color: #434B5C;\n",
              "      box-shadow: 0px 1px 3px 1px rgba(0, 0, 0, 0.15);\n",
              "      filter: drop-shadow(0px 1px 2px rgba(0, 0, 0, 0.3));\n",
              "      fill: #FFFFFF;\n",
              "    }\n",
              "  </style>\n",
              "\n",
              "      <script>\n",
              "        const buttonEl =\n",
              "          document.querySelector('#df-444fcb94-5178-4fcb-bc79-e1b107f3c615 button.colab-df-convert');\n",
              "        buttonEl.style.display =\n",
              "          google.colab.kernel.accessAllowed ? 'block' : 'none';\n",
              "\n",
              "        async function convertToInteractive(key) {\n",
              "          const element = document.querySelector('#df-444fcb94-5178-4fcb-bc79-e1b107f3c615');\n",
              "          const dataTable =\n",
              "            await google.colab.kernel.invokeFunction('convertToInteractive',\n",
              "                                                     [key], {});\n",
              "          if (!dataTable) return;\n",
              "\n",
              "          const docLinkHtml = 'Like what you see? Visit the ' +\n",
              "            '<a target=\"_blank\" href=https://colab.research.google.com/notebooks/data_table.ipynb>data table notebook</a>'\n",
              "            + ' to learn more about interactive tables.';\n",
              "          element.innerHTML = '';\n",
              "          dataTable['output_type'] = 'display_data';\n",
              "          await google.colab.output.renderOutput(dataTable, element);\n",
              "          const docLink = document.createElement('div');\n",
              "          docLink.innerHTML = docLinkHtml;\n",
              "          element.appendChild(docLink);\n",
              "        }\n",
              "      </script>\n",
              "    </div>\n",
              "  </div>\n",
              "  "
            ]
          },
          "metadata": {},
          "execution_count": 134
        }
      ]
    },
    {
      "cell_type": "code",
      "source": [
        "X_val2_hotEncoding = pd.get_dummies(X_val2_binned, columns = ['Checking', 'History', 'Savings', 'Duration_bin'], drop_first = True)\n",
        "X_val2_hotEncoding"
      ],
      "metadata": {
        "colab": {
          "base_uri": "https://localhost:8080/",
          "height": 505
        },
        "id": "htF_HtfsCdTq",
        "outputId": "7a3e8fa9-d59c-41b7-e6fe-13a896568673"
      },
      "execution_count": 135,
      "outputs": [
        {
          "output_type": "execute_result",
          "data": {
            "text/plain": [
              "     Checking_2  Checking_3  Checking_4  History_1  History_2  History_3  \\\n",
              "300           0           0           1          0          0          0   \n",
              "587           0           0           0          1          0          0   \n",
              "16            1           0           0          0          1          0   \n",
              "521           0           0           1          0          1          0   \n",
              "252           0           0           1          0          0          0   \n",
              "..          ...         ...         ...        ...        ...        ...   \n",
              "217           0           0           0          1          0          0   \n",
              "249           0           0           1          0          1          0   \n",
              "314           1           0           0          0          0          0   \n",
              "406           0           0           1          0          0          0   \n",
              "325           1           0           0          0          0          0   \n",
              "\n",
              "     History_4  Savings_2  Savings_3  Savings_4  Savings_5  \\\n",
              "300          1          0          0          0          0   \n",
              "587          0          0          1          0          0   \n",
              "16           0          0          0          1          0   \n",
              "521          0          0          0          0          0   \n",
              "252          1          0          0          0          0   \n",
              "..         ...        ...        ...        ...        ...   \n",
              "217          0          0          0          0          0   \n",
              "249          0          0          0          1          0   \n",
              "314          1          0          0          0          0   \n",
              "406          1          0          0          0          0   \n",
              "325          0          1          0          0          0   \n",
              "\n",
              "     Duration_bin_(21, 27]  Duration_bin_(27, 60]  \n",
              "300                      0                      1  \n",
              "587                      1                      0  \n",
              "16                       0                      0  \n",
              "521                      1                      0  \n",
              "252                      0                      1  \n",
              "..                     ...                    ...  \n",
              "217                      0                      1  \n",
              "249                      0                      0  \n",
              "314                      0                      0  \n",
              "406                      0                      1  \n",
              "325                      0                      0  \n",
              "\n",
              "[121 rows x 13 columns]"
            ],
            "text/html": [
              "\n",
              "  <div id=\"df-37b81dd4-eb1d-490e-8759-2a4bc1d26fb4\">\n",
              "    <div class=\"colab-df-container\">\n",
              "      <div>\n",
              "<style scoped>\n",
              "    .dataframe tbody tr th:only-of-type {\n",
              "        vertical-align: middle;\n",
              "    }\n",
              "\n",
              "    .dataframe tbody tr th {\n",
              "        vertical-align: top;\n",
              "    }\n",
              "\n",
              "    .dataframe thead th {\n",
              "        text-align: right;\n",
              "    }\n",
              "</style>\n",
              "<table border=\"1\" class=\"dataframe\">\n",
              "  <thead>\n",
              "    <tr style=\"text-align: right;\">\n",
              "      <th></th>\n",
              "      <th>Checking_2</th>\n",
              "      <th>Checking_3</th>\n",
              "      <th>Checking_4</th>\n",
              "      <th>History_1</th>\n",
              "      <th>History_2</th>\n",
              "      <th>History_3</th>\n",
              "      <th>History_4</th>\n",
              "      <th>Savings_2</th>\n",
              "      <th>Savings_3</th>\n",
              "      <th>Savings_4</th>\n",
              "      <th>Savings_5</th>\n",
              "      <th>Duration_bin_(21, 27]</th>\n",
              "      <th>Duration_bin_(27, 60]</th>\n",
              "    </tr>\n",
              "  </thead>\n",
              "  <tbody>\n",
              "    <tr>\n",
              "      <th>300</th>\n",
              "      <td>0</td>\n",
              "      <td>0</td>\n",
              "      <td>1</td>\n",
              "      <td>0</td>\n",
              "      <td>0</td>\n",
              "      <td>0</td>\n",
              "      <td>1</td>\n",
              "      <td>0</td>\n",
              "      <td>0</td>\n",
              "      <td>0</td>\n",
              "      <td>0</td>\n",
              "      <td>0</td>\n",
              "      <td>1</td>\n",
              "    </tr>\n",
              "    <tr>\n",
              "      <th>587</th>\n",
              "      <td>0</td>\n",
              "      <td>0</td>\n",
              "      <td>0</td>\n",
              "      <td>1</td>\n",
              "      <td>0</td>\n",
              "      <td>0</td>\n",
              "      <td>0</td>\n",
              "      <td>0</td>\n",
              "      <td>1</td>\n",
              "      <td>0</td>\n",
              "      <td>0</td>\n",
              "      <td>1</td>\n",
              "      <td>0</td>\n",
              "    </tr>\n",
              "    <tr>\n",
              "      <th>16</th>\n",
              "      <td>1</td>\n",
              "      <td>0</td>\n",
              "      <td>0</td>\n",
              "      <td>0</td>\n",
              "      <td>1</td>\n",
              "      <td>0</td>\n",
              "      <td>0</td>\n",
              "      <td>0</td>\n",
              "      <td>0</td>\n",
              "      <td>1</td>\n",
              "      <td>0</td>\n",
              "      <td>0</td>\n",
              "      <td>0</td>\n",
              "    </tr>\n",
              "    <tr>\n",
              "      <th>521</th>\n",
              "      <td>0</td>\n",
              "      <td>0</td>\n",
              "      <td>1</td>\n",
              "      <td>0</td>\n",
              "      <td>1</td>\n",
              "      <td>0</td>\n",
              "      <td>0</td>\n",
              "      <td>0</td>\n",
              "      <td>0</td>\n",
              "      <td>0</td>\n",
              "      <td>0</td>\n",
              "      <td>1</td>\n",
              "      <td>0</td>\n",
              "    </tr>\n",
              "    <tr>\n",
              "      <th>252</th>\n",
              "      <td>0</td>\n",
              "      <td>0</td>\n",
              "      <td>1</td>\n",
              "      <td>0</td>\n",
              "      <td>0</td>\n",
              "      <td>0</td>\n",
              "      <td>1</td>\n",
              "      <td>0</td>\n",
              "      <td>0</td>\n",
              "      <td>0</td>\n",
              "      <td>0</td>\n",
              "      <td>0</td>\n",
              "      <td>1</td>\n",
              "    </tr>\n",
              "    <tr>\n",
              "      <th>...</th>\n",
              "      <td>...</td>\n",
              "      <td>...</td>\n",
              "      <td>...</td>\n",
              "      <td>...</td>\n",
              "      <td>...</td>\n",
              "      <td>...</td>\n",
              "      <td>...</td>\n",
              "      <td>...</td>\n",
              "      <td>...</td>\n",
              "      <td>...</td>\n",
              "      <td>...</td>\n",
              "      <td>...</td>\n",
              "      <td>...</td>\n",
              "    </tr>\n",
              "    <tr>\n",
              "      <th>217</th>\n",
              "      <td>0</td>\n",
              "      <td>0</td>\n",
              "      <td>0</td>\n",
              "      <td>1</td>\n",
              "      <td>0</td>\n",
              "      <td>0</td>\n",
              "      <td>0</td>\n",
              "      <td>0</td>\n",
              "      <td>0</td>\n",
              "      <td>0</td>\n",
              "      <td>0</td>\n",
              "      <td>0</td>\n",
              "      <td>1</td>\n",
              "    </tr>\n",
              "    <tr>\n",
              "      <th>249</th>\n",
              "      <td>0</td>\n",
              "      <td>0</td>\n",
              "      <td>1</td>\n",
              "      <td>0</td>\n",
              "      <td>1</td>\n",
              "      <td>0</td>\n",
              "      <td>0</td>\n",
              "      <td>0</td>\n",
              "      <td>0</td>\n",
              "      <td>1</td>\n",
              "      <td>0</td>\n",
              "      <td>0</td>\n",
              "      <td>0</td>\n",
              "    </tr>\n",
              "    <tr>\n",
              "      <th>314</th>\n",
              "      <td>1</td>\n",
              "      <td>0</td>\n",
              "      <td>0</td>\n",
              "      <td>0</td>\n",
              "      <td>0</td>\n",
              "      <td>0</td>\n",
              "      <td>1</td>\n",
              "      <td>0</td>\n",
              "      <td>0</td>\n",
              "      <td>0</td>\n",
              "      <td>0</td>\n",
              "      <td>0</td>\n",
              "      <td>0</td>\n",
              "    </tr>\n",
              "    <tr>\n",
              "      <th>406</th>\n",
              "      <td>0</td>\n",
              "      <td>0</td>\n",
              "      <td>1</td>\n",
              "      <td>0</td>\n",
              "      <td>0</td>\n",
              "      <td>0</td>\n",
              "      <td>1</td>\n",
              "      <td>0</td>\n",
              "      <td>0</td>\n",
              "      <td>0</td>\n",
              "      <td>0</td>\n",
              "      <td>0</td>\n",
              "      <td>1</td>\n",
              "    </tr>\n",
              "    <tr>\n",
              "      <th>325</th>\n",
              "      <td>1</td>\n",
              "      <td>0</td>\n",
              "      <td>0</td>\n",
              "      <td>0</td>\n",
              "      <td>0</td>\n",
              "      <td>0</td>\n",
              "      <td>0</td>\n",
              "      <td>1</td>\n",
              "      <td>0</td>\n",
              "      <td>0</td>\n",
              "      <td>0</td>\n",
              "      <td>0</td>\n",
              "      <td>0</td>\n",
              "    </tr>\n",
              "  </tbody>\n",
              "</table>\n",
              "<p>121 rows × 13 columns</p>\n",
              "</div>\n",
              "      <button class=\"colab-df-convert\" onclick=\"convertToInteractive('df-37b81dd4-eb1d-490e-8759-2a4bc1d26fb4')\"\n",
              "              title=\"Convert this dataframe to an interactive table.\"\n",
              "              style=\"display:none;\">\n",
              "        \n",
              "  <svg xmlns=\"http://www.w3.org/2000/svg\" height=\"24px\"viewBox=\"0 0 24 24\"\n",
              "       width=\"24px\">\n",
              "    <path d=\"M0 0h24v24H0V0z\" fill=\"none\"/>\n",
              "    <path d=\"M18.56 5.44l.94 2.06.94-2.06 2.06-.94-2.06-.94-.94-2.06-.94 2.06-2.06.94zm-11 1L8.5 8.5l.94-2.06 2.06-.94-2.06-.94L8.5 2.5l-.94 2.06-2.06.94zm10 10l.94 2.06.94-2.06 2.06-.94-2.06-.94-.94-2.06-.94 2.06-2.06.94z\"/><path d=\"M17.41 7.96l-1.37-1.37c-.4-.4-.92-.59-1.43-.59-.52 0-1.04.2-1.43.59L10.3 9.45l-7.72 7.72c-.78.78-.78 2.05 0 2.83L4 21.41c.39.39.9.59 1.41.59.51 0 1.02-.2 1.41-.59l7.78-7.78 2.81-2.81c.8-.78.8-2.07 0-2.86zM5.41 20L4 18.59l7.72-7.72 1.47 1.35L5.41 20z\"/>\n",
              "  </svg>\n",
              "      </button>\n",
              "      \n",
              "  <style>\n",
              "    .colab-df-container {\n",
              "      display:flex;\n",
              "      flex-wrap:wrap;\n",
              "      gap: 12px;\n",
              "    }\n",
              "\n",
              "    .colab-df-convert {\n",
              "      background-color: #E8F0FE;\n",
              "      border: none;\n",
              "      border-radius: 50%;\n",
              "      cursor: pointer;\n",
              "      display: none;\n",
              "      fill: #1967D2;\n",
              "      height: 32px;\n",
              "      padding: 0 0 0 0;\n",
              "      width: 32px;\n",
              "    }\n",
              "\n",
              "    .colab-df-convert:hover {\n",
              "      background-color: #E2EBFA;\n",
              "      box-shadow: 0px 1px 2px rgba(60, 64, 67, 0.3), 0px 1px 3px 1px rgba(60, 64, 67, 0.15);\n",
              "      fill: #174EA6;\n",
              "    }\n",
              "\n",
              "    [theme=dark] .colab-df-convert {\n",
              "      background-color: #3B4455;\n",
              "      fill: #D2E3FC;\n",
              "    }\n",
              "\n",
              "    [theme=dark] .colab-df-convert:hover {\n",
              "      background-color: #434B5C;\n",
              "      box-shadow: 0px 1px 3px 1px rgba(0, 0, 0, 0.15);\n",
              "      filter: drop-shadow(0px 1px 2px rgba(0, 0, 0, 0.3));\n",
              "      fill: #FFFFFF;\n",
              "    }\n",
              "  </style>\n",
              "\n",
              "      <script>\n",
              "        const buttonEl =\n",
              "          document.querySelector('#df-37b81dd4-eb1d-490e-8759-2a4bc1d26fb4 button.colab-df-convert');\n",
              "        buttonEl.style.display =\n",
              "          google.colab.kernel.accessAllowed ? 'block' : 'none';\n",
              "\n",
              "        async function convertToInteractive(key) {\n",
              "          const element = document.querySelector('#df-37b81dd4-eb1d-490e-8759-2a4bc1d26fb4');\n",
              "          const dataTable =\n",
              "            await google.colab.kernel.invokeFunction('convertToInteractive',\n",
              "                                                     [key], {});\n",
              "          if (!dataTable) return;\n",
              "\n",
              "          const docLinkHtml = 'Like what you see? Visit the ' +\n",
              "            '<a target=\"_blank\" href=https://colab.research.google.com/notebooks/data_table.ipynb>data table notebook</a>'\n",
              "            + ' to learn more about interactive tables.';\n",
              "          element.innerHTML = '';\n",
              "          dataTable['output_type'] = 'display_data';\n",
              "          await google.colab.output.renderOutput(dataTable, element);\n",
              "          const docLink = document.createElement('div');\n",
              "          docLink.innerHTML = docLinkHtml;\n",
              "          element.appendChild(docLink);\n",
              "        }\n",
              "      </script>\n",
              "    </div>\n",
              "  </div>\n",
              "  "
            ]
          },
          "metadata": {},
          "execution_count": 135
        }
      ]
    },
    {
      "cell_type": "markdown",
      "source": [
        "####Linear Regession"
      ],
      "metadata": {
        "id": "XJRAsEMpe5rF"
      }
    },
    {
      "cell_type": "markdown",
      "source": [
        "#####Subset 1"
      ],
      "metadata": {
        "id": "EzuZjT-S0El0"
      }
    },
    {
      "cell_type": "code",
      "source": [
        "lin_reg_sub1 = LinearRegression().fit(X_train1_hotEncoding, y_train1)"
      ],
      "metadata": {
        "id": "G2CIBwIC0D9-"
      },
      "execution_count": 229,
      "outputs": []
    },
    {
      "cell_type": "code",
      "source": [
        "lin_y1_pred = lin_reg_sub1.predict(X_val1_hotEncoding)"
      ],
      "metadata": {
        "id": "8Eg4-3tYD0Ix"
      },
      "execution_count": 230,
      "outputs": []
    },
    {
      "cell_type": "code",
      "source": [
        "print('Mean absolute error: ', mean_absolute_error(lin_y1_pred, y_val1))"
      ],
      "metadata": {
        "colab": {
          "base_uri": "https://localhost:8080/"
        },
        "id": "wm_CC-ncEFFo",
        "outputId": "99311f3a-e9c7-48c5-9bd8-add8855f1edc"
      },
      "execution_count": 231,
      "outputs": [
        {
          "output_type": "stream",
          "name": "stdout",
          "text": [
            "Mean absolute error:  0.3265576679041756\n"
          ]
        }
      ]
    },
    {
      "cell_type": "code",
      "source": [
        "print('Coefficient of linear regression are: ', lin_reg_sub1.coef_)\n",
        "print('Intercept of linear regression is: ', lin_reg_sub1.intercept_)"
      ],
      "metadata": {
        "colab": {
          "base_uri": "https://localhost:8080/"
        },
        "id": "rnwE44JaiLOc",
        "outputId": "1ea6d060-3ba3-4032-fc4c-ac3f66605fa7"
      },
      "execution_count": 232,
      "outputs": [
        {
          "output_type": "stream",
          "name": "stdout",
          "text": [
            "Coefficient of linear regression are:  [ 0.13431191  0.19648927  0.31568019 -0.19557499  0.09217485  0.06026715\n",
            "  0.19249396 -0.10632729 -0.12205408 -0.23510932 -0.1271089 ]\n",
            "Intercept of linear regression is:  0.6437648631573183\n"
          ]
        }
      ]
    },
    {
      "cell_type": "code",
      "source": [
        "dict_lin_sub1 = {'Binary variables': X_val1_hotEncoding.columns.tolist(),\n",
        "                 'Coefficient': lin_reg_sub1.coef_}\n",
        "print(pd.DataFrame(dict_lin_sub1))"
      ],
      "metadata": {
        "colab": {
          "base_uri": "https://localhost:8080/"
        },
        "id": "WSrPEpWX7N6i",
        "outputId": "978e3e2d-44cc-499f-f1ce-6104a7c2d27b"
      },
      "execution_count": 233,
      "outputs": [
        {
          "output_type": "stream",
          "name": "stdout",
          "text": [
            "         Binary variables  Coefficient\n",
            "0              Checking_2     0.134312\n",
            "1              Checking_3     0.196489\n",
            "2              Checking_4     0.315680\n",
            "3               History_1    -0.195575\n",
            "4               History_2     0.092175\n",
            "5               History_3     0.060267\n",
            "6               History_4     0.192494\n",
            "7              Property_2    -0.106327\n",
            "8              Property_3    -0.122054\n",
            "9              Property_4    -0.235109\n",
            "10  Duration_bin_(11, 12]    -0.127109\n"
          ]
        }
      ]
    },
    {
      "cell_type": "code",
      "source": [
        "cross_val_score(lin_reg_sub1, X_val1_hotEncoding, y_val1, cv = 10, scoring = 'r2')"
      ],
      "metadata": {
        "colab": {
          "base_uri": "https://localhost:8080/"
        },
        "id": "zX4G-hp3iMPL",
        "outputId": "239b9cf2-71ce-4e91-ed13-22e5e24f2772"
      },
      "execution_count": 274,
      "outputs": [
        {
          "output_type": "execute_result",
          "data": {
            "text/plain": [
              "array([ 0.04844633, -0.22761813, -0.79333171,  0.37788751, -0.39154149,\n",
              "       -0.17309699, -0.15184892,  0.29811714,  0.29629913,  0.21731837])"
            ]
          },
          "metadata": {},
          "execution_count": 274
        }
      ]
    },
    {
      "cell_type": "code",
      "source": [
        "cutoff = 0.7\n",
        "lin_y1_pred_classes = np.zeros_like(lin_y1_pred)\n",
        "lin_y1_pred_classes[lin_y1_pred > cutoff] = 1  "
      ],
      "metadata": {
        "id": "2fST1Ck2iwKM"
      },
      "execution_count": 278,
      "outputs": []
    },
    {
      "cell_type": "code",
      "source": [
        "lin_con_mat1 = confusion_matrix(y_val1, lin_y1_pred_classes)\n",
        "print('Confusion Matrix:')\n",
        "lin_con_mat1"
      ],
      "metadata": {
        "colab": {
          "base_uri": "https://localhost:8080/"
        },
        "id": "6WHs8J5GjHfS",
        "outputId": "edb5c456-8073-4030-ef93-26de1f7dba48"
      },
      "execution_count": 283,
      "outputs": [
        {
          "output_type": "stream",
          "name": "stdout",
          "text": [
            "Confusion Matrix:\n"
          ]
        },
        {
          "output_type": "execute_result",
          "data": {
            "text/plain": [
              "array([[ 7,  7],\n",
              "       [15, 39]])"
            ]
          },
          "metadata": {},
          "execution_count": 283
        }
      ]
    },
    {
      "cell_type": "code",
      "source": [
        "print('Accuracy score: ', accuracy_score(y_val1, lin_y1_pred_classes))"
      ],
      "metadata": {
        "colab": {
          "base_uri": "https://localhost:8080/"
        },
        "id": "alEg3pGBjU93",
        "outputId": "f15ba88b-660e-4196-bee0-08dce0d89c75"
      },
      "execution_count": 284,
      "outputs": [
        {
          "output_type": "stream",
          "name": "stdout",
          "text": [
            "Accuracy score:  0.6764705882352942\n"
          ]
        }
      ]
    },
    {
      "cell_type": "markdown",
      "source": [
        "#####Subset 2"
      ],
      "metadata": {
        "id": "tnHP8aoy0hWc"
      }
    },
    {
      "cell_type": "code",
      "source": [
        "lin_reg_sub2 = LinearRegression().fit(X_train2_hotEncoding, y_train2)"
      ],
      "metadata": {
        "id": "CkWNDVxX0leT"
      },
      "execution_count": 235,
      "outputs": []
    },
    {
      "cell_type": "code",
      "source": [
        "lin_y2_pred = lin_reg_sub2.predict(X_val2_hotEncoding)"
      ],
      "metadata": {
        "id": "iUusb9P-Ef9D"
      },
      "execution_count": 236,
      "outputs": []
    },
    {
      "cell_type": "code",
      "source": [
        "print('Mean absolute error: ', mean_absolute_error(lin_y2_pred, y_val2))"
      ],
      "metadata": {
        "colab": {
          "base_uri": "https://localhost:8080/"
        },
        "id": "f1JqIlexEvoY",
        "outputId": "83dca673-60b5-404e-bafb-d537a672f5c1"
      },
      "execution_count": 237,
      "outputs": [
        {
          "output_type": "stream",
          "name": "stdout",
          "text": [
            "Mean absolute error:  0.33980510256361374\n"
          ]
        }
      ]
    },
    {
      "cell_type": "code",
      "source": [
        "print('Coefficient of linear regression are: ', lin_reg_sub2.coef_)\n",
        "print('Intercept of linear regression is: ', lin_reg_sub2.intercept_)"
      ],
      "metadata": {
        "colab": {
          "base_uri": "https://localhost:8080/"
        },
        "id": "3Uj-vS4xjXgi",
        "outputId": "1e2417e6-9a67-4834-8a93-42bfad39304b"
      },
      "execution_count": 238,
      "outputs": [
        {
          "output_type": "stream",
          "name": "stdout",
          "text": [
            "Coefficient of linear regression are:  [ 0.11422514  0.22345093  0.33721141  0.04642994  0.15489736  0.13652665\n",
            "  0.26259464  0.06637097  0.13393536  0.15978113  0.15543364 -0.01364441\n",
            " -0.08213656]\n",
            "Intercept of linear regression is:  0.2945425989886634\n"
          ]
        }
      ]
    },
    {
      "cell_type": "code",
      "source": [
        "dict_lin_sub2 = {'Binary variables': X_val2_hotEncoding.columns.tolist(),\n",
        "                 'Coefficient': lin_reg_sub2.coef_}\n",
        "print(pd.DataFrame(dict_lin_sub2))"
      ],
      "metadata": {
        "colab": {
          "base_uri": "https://localhost:8080/"
        },
        "id": "y4ot3l2ZO5iN",
        "outputId": "fff15c8c-cb9f-44f8-806c-eeed419642cd"
      },
      "execution_count": 239,
      "outputs": [
        {
          "output_type": "stream",
          "name": "stdout",
          "text": [
            "         Binary variables  Coefficient\n",
            "0              Checking_2     0.114225\n",
            "1              Checking_3     0.223451\n",
            "2              Checking_4     0.337211\n",
            "3               History_1     0.046430\n",
            "4               History_2     0.154897\n",
            "5               History_3     0.136527\n",
            "6               History_4     0.262595\n",
            "7               Savings_2     0.066371\n",
            "8               Savings_3     0.133935\n",
            "9               Savings_4     0.159781\n",
            "10              Savings_5     0.155434\n",
            "11  Duration_bin_(21, 27]    -0.013644\n",
            "12  Duration_bin_(27, 60]    -0.082137\n"
          ]
        }
      ]
    },
    {
      "cell_type": "code",
      "source": [
        "cross_val_score(lin_reg_sub2, X_val2_hotEncoding, y_val2, cv = 7, scoring = 'r2')"
      ],
      "metadata": {
        "colab": {
          "base_uri": "https://localhost:8080/"
        },
        "id": "RKutScDSjdal",
        "outputId": "f5c5356b-f14a-43bc-cb79-61749f06967a"
      },
      "execution_count": 275,
      "outputs": [
        {
          "output_type": "execute_result",
          "data": {
            "text/plain": [
              "array([ 0.34422216,  0.57378583,  0.44772517, -1.11993934, -0.18690627,\n",
              "        0.27842849, -0.40612921])"
            ]
          },
          "metadata": {},
          "execution_count": 275
        }
      ]
    },
    {
      "cell_type": "code",
      "source": [
        "cutoff = 0.7\n",
        "lin_y2_pred_classes = np.zeros_like(lin_y2_pred)\n",
        "lin_y2_pred_classes[lin_y2_pred > cutoff] = 1  "
      ],
      "metadata": {
        "id": "XRKqklh3jorr"
      },
      "execution_count": 282,
      "outputs": []
    },
    {
      "cell_type": "code",
      "source": [
        "lin_con_mat2 = confusion_matrix(y_val2, lin_y2_pred_classes)\n",
        "print('Confusion Matrix:')\n",
        "lin_con_mat2"
      ],
      "metadata": {
        "colab": {
          "base_uri": "https://localhost:8080/"
        },
        "id": "VT0VEvGhjuyu",
        "outputId": "024fd9fa-afaf-4ac3-8cfd-4ea01a464d7d"
      },
      "execution_count": 285,
      "outputs": [
        {
          "output_type": "stream",
          "name": "stdout",
          "text": [
            "Confusion Matrix:\n"
          ]
        },
        {
          "output_type": "execute_result",
          "data": {
            "text/plain": [
              "array([[35,  6],\n",
              "       [28, 52]])"
            ]
          },
          "metadata": {},
          "execution_count": 285
        }
      ]
    },
    {
      "cell_type": "code",
      "source": [
        "print('Accuracy score: ', accuracy_score(y_val2, lin_y2_pred_classes))"
      ],
      "metadata": {
        "colab": {
          "base_uri": "https://localhost:8080/"
        },
        "id": "FQru6xpDkEIr",
        "outputId": "2cf71880-f03d-4924-d000-fdd8f7fcee25"
      },
      "execution_count": 286,
      "outputs": [
        {
          "output_type": "stream",
          "name": "stdout",
          "text": [
            "Accuracy score:  0.71900826446281\n"
          ]
        }
      ]
    },
    {
      "cell_type": "markdown",
      "source": [
        "####Logistic Regression"
      ],
      "metadata": {
        "id": "NVkdHjnUo6q-"
      }
    },
    {
      "cell_type": "markdown",
      "source": [
        "#####Subset 1"
      ],
      "metadata": {
        "id": "70h_2W8A_Lzt"
      }
    },
    {
      "cell_type": "code",
      "source": [
        "log_reg_sub1 = LogisticRegression(solver = 'liblinear').fit(X_train1_hotEncoding, y_train1)"
      ],
      "metadata": {
        "id": "ZI_piUHQ-SmZ"
      },
      "execution_count": 151,
      "outputs": []
    },
    {
      "cell_type": "code",
      "source": [
        "log_y1_pred = log_reg_sub1.predict(X_val1_hotEncoding)"
      ],
      "metadata": {
        "id": "0D-dxXQXCo7Z"
      },
      "execution_count": 152,
      "outputs": []
    },
    {
      "cell_type": "code",
      "source": [
        "print('Intercept of linear regression is: ', log_reg_sub1.intercept_)\n",
        "print('Coefficient of linear regression are: ', log_reg_sub1.coef_)"
      ],
      "metadata": {
        "colab": {
          "base_uri": "https://localhost:8080/"
        },
        "id": "PfRGv0d9_--H",
        "outputId": "3b6f9e84-2e6c-439b-b73d-fcb58f9b20f0"
      },
      "execution_count": 153,
      "outputs": [
        {
          "output_type": "stream",
          "name": "stdout",
          "text": [
            "Intercept of linear regression is:  [0.87294303]\n",
            "Coefficient of linear regression are:  [[ 0.44519713  0.68171475  1.91895163 -0.71149963  0.45457823  0.15544321\n",
            "   1.15751006 -0.53747934 -0.60035503 -1.23196116 -0.79220409]]\n"
          ]
        }
      ]
    },
    {
      "cell_type": "code",
      "source": [
        "dict_log_sub1 = {'Binary variables': X_val1_hotEncoding.columns.tolist(),\n",
        "                 'Coefficient': log_reg_sub1.coef_[0]}\n",
        "print(pd.DataFrame(dict_log_sub1))"
      ],
      "metadata": {
        "colab": {
          "base_uri": "https://localhost:8080/"
        },
        "id": "sFEt61p3PIaz",
        "outputId": "14e5f773-a7e8-43c1-c16b-e5b8bfff1e2b"
      },
      "execution_count": 227,
      "outputs": [
        {
          "output_type": "stream",
          "name": "stdout",
          "text": [
            "         Binary variables  Coefficient\n",
            "0              Checking_2     0.445197\n",
            "1              Checking_3     0.681715\n",
            "2              Checking_4     1.918952\n",
            "3               History_1    -0.711500\n",
            "4               History_2     0.454578\n",
            "5               History_3     0.155443\n",
            "6               History_4     1.157510\n",
            "7              Property_2    -0.537479\n",
            "8              Property_3    -0.600355\n",
            "9              Property_4    -1.231961\n",
            "10  Duration_bin_(11, 12]    -0.792204\n"
          ]
        }
      ]
    },
    {
      "cell_type": "code",
      "source": [
        "cross_val_score(log_reg_sub1, X_val1_hotEncoding, y_val1, cv = 10)"
      ],
      "metadata": {
        "colab": {
          "base_uri": "https://localhost:8080/"
        },
        "id": "Yc1qJLwyAbaj",
        "outputId": "4cefe881-5cbe-4b8b-b6f4-5d0e99f72123"
      },
      "execution_count": 276,
      "outputs": [
        {
          "output_type": "execute_result",
          "data": {
            "text/plain": [
              "array([0.85714286, 0.85714286, 0.85714286, 0.85714286, 0.57142857,\n",
              "       0.71428571, 0.71428571, 0.85714286, 0.83333333, 0.83333333])"
            ]
          },
          "metadata": {},
          "execution_count": 276
        }
      ]
    },
    {
      "cell_type": "code",
      "source": [
        "print('Mean absolute error: ', mean_absolute_error(log_y1_pred, y_val1))"
      ],
      "metadata": {
        "colab": {
          "base_uri": "https://localhost:8080/"
        },
        "id": "qArvD-2vnm4t",
        "outputId": "3865731b-3419-4b05-ad52-bcfc1e9c4365"
      },
      "execution_count": 155,
      "outputs": [
        {
          "output_type": "stream",
          "name": "stdout",
          "text": [
            "Mean absolute error:  0.23529411764705882\n"
          ]
        }
      ]
    },
    {
      "cell_type": "code",
      "source": [
        "log_con_mat1 = confusion_matrix(y_val1, log_y1_pred)\n",
        "print('Confusion Matrix:')\n",
        "log_con_mat1"
      ],
      "metadata": {
        "colab": {
          "base_uri": "https://localhost:8080/"
        },
        "id": "WhEZv6-fpxLP",
        "outputId": "bba18b72-0119-403b-8a02-7c3959b68d62"
      },
      "execution_count": 287,
      "outputs": [
        {
          "output_type": "stream",
          "name": "stdout",
          "text": [
            "Confusion Matrix:\n"
          ]
        },
        {
          "output_type": "execute_result",
          "data": {
            "text/plain": [
              "array([[ 3, 11],\n",
              "       [ 5, 49]])"
            ]
          },
          "metadata": {},
          "execution_count": 287
        }
      ]
    },
    {
      "cell_type": "code",
      "source": [
        "print('Accuracy score: ', accuracy_score(y_val1, log_y1_pred))"
      ],
      "metadata": {
        "colab": {
          "base_uri": "https://localhost:8080/"
        },
        "id": "XJiJpNNiqBIb",
        "outputId": "64682ad1-84d0-4a3a-fade-2a91d5e740b5"
      },
      "execution_count": 288,
      "outputs": [
        {
          "output_type": "stream",
          "name": "stdout",
          "text": [
            "Accuracy score:  0.7647058823529411\n"
          ]
        }
      ]
    },
    {
      "cell_type": "markdown",
      "source": [
        "#####Subset 2"
      ],
      "metadata": {
        "id": "RvzroIMXBUoT"
      }
    },
    {
      "cell_type": "code",
      "source": [
        "log_reg_sub2 = LogisticRegression(solver = 'liblinear').fit(X_train2_hotEncoding, y_train2)"
      ],
      "metadata": {
        "id": "wSay_8xsBW9V"
      },
      "execution_count": 158,
      "outputs": []
    },
    {
      "cell_type": "code",
      "source": [
        "log_y2_pred = log_reg_sub2.predict(X_val2_hotEncoding)"
      ],
      "metadata": {
        "id": "VOGFZwAgDYlf"
      },
      "execution_count": 159,
      "outputs": []
    },
    {
      "cell_type": "code",
      "source": [
        "print('Intercept of linear regression is: ', log_reg_sub2.intercept_)\n",
        "print('Coefficient of linear regression are: ', log_reg_sub2.coef_)"
      ],
      "metadata": {
        "colab": {
          "base_uri": "https://localhost:8080/"
        },
        "id": "yVmq79snBj61",
        "outputId": "15c951aa-78c8-4385-8b6f-f793163efd6c"
      },
      "execution_count": 160,
      "outputs": [
        {
          "output_type": "stream",
          "name": "stdout",
          "text": [
            "Intercept of linear regression is:  [-0.48480987]\n",
            "Coefficient of linear regression are:  [[ 0.36283568  0.77170273  1.58689788 -0.15541913  0.31731441  0.19470033\n",
            "   0.91307298  0.28138642  0.60558113  0.83442959  0.78847498 -0.03317443\n",
            "  -0.3974845 ]]\n"
          ]
        }
      ]
    },
    {
      "cell_type": "code",
      "source": [
        "dict_log_sub2 = {'Binary variables': X_val2_hotEncoding.columns.tolist(),\n",
        "                 'Coefficient': log_reg_sub2.coef_[0]}\n",
        "print(pd.DataFrame(dict_log_sub2))"
      ],
      "metadata": {
        "colab": {
          "base_uri": "https://localhost:8080/"
        },
        "id": "luIYJiAlQTGH",
        "outputId": "b07c0f47-105c-4e22-886e-5e0d593745d1"
      },
      "execution_count": 228,
      "outputs": [
        {
          "output_type": "stream",
          "name": "stdout",
          "text": [
            "         Binary variables  Coefficient\n",
            "0              Checking_2     0.362836\n",
            "1              Checking_3     0.771703\n",
            "2              Checking_4     1.586898\n",
            "3               History_1    -0.155419\n",
            "4               History_2     0.317314\n",
            "5               History_3     0.194700\n",
            "6               History_4     0.913073\n",
            "7               Savings_2     0.281386\n",
            "8               Savings_3     0.605581\n",
            "9               Savings_4     0.834430\n",
            "10              Savings_5     0.788475\n",
            "11  Duration_bin_(21, 27]    -0.033174\n",
            "12  Duration_bin_(27, 60]    -0.397484\n"
          ]
        }
      ]
    },
    {
      "cell_type": "code",
      "source": [
        "cross_val_score(log_reg_sub2, X_val2_hotEncoding, y_val2, cv = 7)"
      ],
      "metadata": {
        "colab": {
          "base_uri": "https://localhost:8080/"
        },
        "id": "X8PC9yACBstl",
        "outputId": "94fc5d9d-e41e-4712-9da5-31ed482bd6c6"
      },
      "execution_count": 277,
      "outputs": [
        {
          "output_type": "execute_result",
          "data": {
            "text/plain": [
              "array([0.83333333, 0.83333333, 0.88235294, 0.58823529, 0.70588235,\n",
              "       0.70588235, 0.76470588])"
            ]
          },
          "metadata": {},
          "execution_count": 277
        }
      ]
    },
    {
      "cell_type": "code",
      "source": [
        "print('Mean absolute error: ', mean_absolute_error(log_y2_pred, y_val2))"
      ],
      "metadata": {
        "colab": {
          "base_uri": "https://localhost:8080/"
        },
        "id": "uWQ4stidB8y8",
        "outputId": "a3b589fd-88df-401f-bc9e-cc90c63297f8"
      },
      "execution_count": 162,
      "outputs": [
        {
          "output_type": "stream",
          "name": "stdout",
          "text": [
            "Mean absolute error:  0.2396694214876033\n"
          ]
        }
      ]
    },
    {
      "cell_type": "code",
      "source": [
        "log_con_mat2 = confusion_matrix(y_val2, log_y2_pred)\n",
        "print('Confusion Matrix:')\n",
        "log_con_mat2"
      ],
      "metadata": {
        "colab": {
          "base_uri": "https://localhost:8080/"
        },
        "id": "hTfsQUsuCDBP",
        "outputId": "605b7b57-db00-42b2-e4a9-72d4586e8de6"
      },
      "execution_count": 289,
      "outputs": [
        {
          "output_type": "stream",
          "name": "stdout",
          "text": [
            "Confusion Matrix:\n"
          ]
        },
        {
          "output_type": "execute_result",
          "data": {
            "text/plain": [
              "array([[22, 19],\n",
              "       [10, 70]])"
            ]
          },
          "metadata": {},
          "execution_count": 289
        }
      ]
    },
    {
      "cell_type": "code",
      "source": [
        "print('Accuracy score: ', accuracy_score(y_val2, log_y2_pred))"
      ],
      "metadata": {
        "colab": {
          "base_uri": "https://localhost:8080/"
        },
        "id": "5iTrHv3mCOeM",
        "outputId": "0a7f3b90-4b06-427e-efce-436bc2277034"
      },
      "execution_count": 290,
      "outputs": [
        {
          "output_type": "stream",
          "name": "stdout",
          "text": [
            "Accuracy score:  0.7603305785123967\n"
          ]
        }
      ]
    },
    {
      "cell_type": "markdown",
      "source": [
        "##Q5"
      ],
      "metadata": {
        "id": "-CLGN4VoqfoU"
      }
    },
    {
      "cell_type": "markdown",
      "source": [
        "###ROC curve"
      ],
      "metadata": {
        "id": "VoBi--2arGUW"
      }
    },
    {
      "cell_type": "code",
      "source": [
        "from sklearn.metrics import roc_curve\n",
        "from matplotlib import pyplot"
      ],
      "metadata": {
        "id": "OCEEnW9jKD6W"
      },
      "execution_count": 184,
      "outputs": []
    },
    {
      "cell_type": "code",
      "source": [
        "def plot_roc_cur(model, x_val, y_val, model_name):\n",
        "  ns_probs = [0 for _ in range(len(y_val))]\n",
        "  if model_name == 'Linear':\n",
        "    y_probs = model.predict(x_val)\n",
        "  else:\n",
        "    y_probs = model.predict_proba(x_val)\n",
        "    y_probs = y_probs[:, 1]\n",
        "  ns_fpr, ns_tpr, _ = roc_curve(y_val, ns_probs)\n",
        "  mod_fpr, mod_tpr, _ = roc_curve(y_val, y_probs)\n",
        "  pyplot.plot(ns_fpr, ns_tpr, linestyle='--', label='No Skill')\n",
        "  pyplot.plot(mod_fpr, mod_tpr, marker='.', label=model_name)\n",
        "  pyplot.xlabel('False Positive Rate')\n",
        "  pyplot.ylabel('True Positive Rate')\n",
        "  pyplot.legend()\n",
        "  pyplot.show()"
      ],
      "metadata": {
        "id": "2GBUBytbKy3S"
      },
      "execution_count": 205,
      "outputs": []
    },
    {
      "cell_type": "markdown",
      "source": [
        "####Linear Regression"
      ],
      "metadata": {
        "id": "rUzEe5Uv7g9C"
      }
    },
    {
      "cell_type": "code",
      "source": [
        "plot_roc_cur(lin_reg_sub1, X_val1_hotEncoding, y_val1, 'Linear')"
      ],
      "metadata": {
        "colab": {
          "base_uri": "https://localhost:8080/",
          "height": 279
        },
        "id": "F-rf07iGMw1H",
        "outputId": "899064f5-aa2e-42ac-abc4-b1770f6d4fc5"
      },
      "execution_count": 244,
      "outputs": [
        {
          "output_type": "display_data",
          "data": {
            "text/plain": [
              "<Figure size 432x288 with 1 Axes>"
            ],
            "image/png": "[encoded data removed]"
          },
          "metadata": {
            "needs_background": "light"
          }
        }
      ]
    },
    {
      "cell_type": "code",
      "source": [
        "plot_roc_cur(lin_reg_sub2, X_val2_hotEncoding, y_val2, 'Linear')"
      ],
      "metadata": {
        "colab": {
          "base_uri": "https://localhost:8080/",
          "height": 279
        },
        "id": "JD-2O4zbNu0t",
        "outputId": "31d17ab3-3b1d-460b-ff53-ca23e38c7a14"
      },
      "execution_count": 245,
      "outputs": [
        {
          "output_type": "display_data",
          "data": {
            "text/plain": [
              "<Figure size 432x288 with 1 Axes>"
            ],
            "image/png": "[encoded data removed]"
          },
          "metadata": {
            "needs_background": "light"
          }
        }
      ]
    },
    {
      "cell_type": "markdown",
      "source": [
        "####Logistic Regression"
      ],
      "metadata": {
        "id": "0O2m3FpEMm6Q"
      }
    },
    {
      "cell_type": "code",
      "source": [
        "plot_roc_cur(log_reg_sub1, X_val1_hotEncoding, y_val1, 'Logistic')"
      ],
      "metadata": {
        "colab": {
          "base_uri": "https://localhost:8080/",
          "height": 279
        },
        "id": "NCbWTdyZIDfK",
        "outputId": "155bb65e-1dc3-4ee4-da16-202cf83a4790"
      },
      "execution_count": 207,
      "outputs": [
        {
          "output_type": "display_data",
          "data": {
            "text/plain": [
              "<Figure size 432x288 with 1 Axes>"
            ],
            "image/png": "[encoded data removed]"
          },
          "metadata": {
            "needs_background": "light"
          }
        }
      ]
    },
    {
      "cell_type": "code",
      "source": [
        "plot_roc_cur(log_reg_sub2, X_val2_hotEncoding, y_val2, 'Logistic')"
      ],
      "metadata": {
        "colab": {
          "base_uri": "https://localhost:8080/",
          "height": 279
        },
        "id": "N66gFbepMJ6K",
        "outputId": "249b9f6c-6d31-47b1-bdf8-1f6e835122dc"
      },
      "execution_count": 208,
      "outputs": [
        {
          "output_type": "display_data",
          "data": {
            "text/plain": [
              "<Figure size 432x288 with 1 Axes>"
            ],
            "image/png": "[encoded data removed]"
          },
          "metadata": {
            "needs_background": "light"
          }
        }
      ]
    },
    {
      "cell_type": "markdown",
      "source": [
        "####Score card"
      ],
      "metadata": {
        "id": "jNeXAWhXsu-N"
      }
    },
    {
      "cell_type": "code",
      "source": [
        "def get_score_card(y_val, y_pred, con_mat):  \n",
        "  score_card_dict = {'Model': ['Linear', 'Logistic'],\n",
        "                     'Sensitivity': [],\n",
        "                     'Specificity': [],\n",
        "                     'AUC': [],\n",
        "                     'Gini': [],\n",
        "                     'KS': []}\n",
        "  for (pred, cm) in zip(y_pred, con_mat):\n",
        "    auroc = roc_auc_score(y_val, pred)\n",
        "    gini_cof = 2*auroc - 1\n",
        "    score_card_dict['AUC'].append(auroc)\n",
        "    score_card_dict['Gini'].append(gini_cof)\n",
        "    score_card_dict['Sensitivity'].append(cm[0,0]/(cm[0,0] + cm[1,0]))\n",
        "    score_card_dict['Specificity'].append(cm[1,1]/(cm[0,1] + cm[1,1]))\n",
        "    score_card_dict['KS'].append((cm[1,1]/(cm[0,1] + cm[1,1])) - (cm[1,0]/(cm[0,0] + cm[1,0])))\n",
        "  return pd.DataFrame(score_card_dict)"
      ],
      "metadata": {
        "id": "oW89fT8iTDX-"
      },
      "execution_count": 295,
      "outputs": []
    },
    {
      "cell_type": "markdown",
      "source": [
        "#####Subset 1"
      ],
      "metadata": {
        "id": "sbT1JJ-BHuGg"
      }
    },
    {
      "cell_type": "code",
      "source": [
        "get_score_card(y_val1, [lin_y1_pred, log_y1_pred], [lin_con_mat1, log_con_mat1])"
      ],
      "metadata": {
        "colab": {
          "base_uri": "https://localhost:8080/",
          "height": 112
        },
        "id": "AjftgAomVt5Q",
        "outputId": "fb955511-aae1-4c26-8e20-58449cb540cc"
      },
      "execution_count": 296,
      "outputs": [
        {
          "output_type": "execute_result",
          "data": {
            "text/plain": [
              "      Model  Sensitivity  Specificity       AUC      Gini        KS\n",
              "0    Linear     0.318182     0.847826  0.656746  0.313492  0.166008\n",
              "1  Logistic     0.375000     0.816667  0.560847  0.121693  0.191667"
            ],
            "text/html": [
              "\n",
              "  <div id=\"df-9921bd36-d434-4665-ad0b-d581876bb4e4\">\n",
              "    <div class=\"colab-df-container\">\n",
              "      <div>\n",
              "<style scoped>\n",
              "    .dataframe tbody tr th:only-of-type {\n",
              "        vertical-align: middle;\n",
              "    }\n",
              "\n",
              "    .dataframe tbody tr th {\n",
              "        vertical-align: top;\n",
              "    }\n",
              "\n",
              "    .dataframe thead th {\n",
              "        text-align: right;\n",
              "    }\n",
              "</style>\n",
              "<table border=\"1\" class=\"dataframe\">\n",
              "  <thead>\n",
              "    <tr style=\"text-align: right;\">\n",
              "      <th></th>\n",
              "      <th>Model</th>\n",
              "      <th>Sensitivity</th>\n",
              "      <th>Specificity</th>\n",
              "      <th>AUC</th>\n",
              "      <th>Gini</th>\n",
              "      <th>KS</th>\n",
              "    </tr>\n",
              "  </thead>\n",
              "  <tbody>\n",
              "    <tr>\n",
              "      <th>0</th>\n",
              "      <td>Linear</td>\n",
              "      <td>0.318182</td>\n",
              "      <td>0.847826</td>\n",
              "      <td>0.656746</td>\n",
              "      <td>0.313492</td>\n",
              "      <td>0.166008</td>\n",
              "    </tr>\n",
              "    <tr>\n",
              "      <th>1</th>\n",
              "      <td>Logistic</td>\n",
              "      <td>0.375000</td>\n",
              "      <td>0.816667</td>\n",
              "      <td>0.560847</td>\n",
              "      <td>0.121693</td>\n",
              "      <td>0.191667</td>\n",
              "    </tr>\n",
              "  </tbody>\n",
              "</table>\n",
              "</div>\n",
              "      <button class=\"colab-df-convert\" onclick=\"convertToInteractive('df-9921bd36-d434-4665-ad0b-d581876bb4e4')\"\n",
              "              title=\"Convert this dataframe to an interactive table.\"\n",
              "              style=\"display:none;\">\n",
              "        \n",
              "  <svg xmlns=\"http://www.w3.org/2000/svg\" height=\"24px\"viewBox=\"0 0 24 24\"\n",
              "       width=\"24px\">\n",
              "    <path d=\"M0 0h24v24H0V0z\" fill=\"none\"/>\n",
              "    <path d=\"M18.56 5.44l.94 2.06.94-2.06 2.06-.94-2.06-.94-.94-2.06-.94 2.06-2.06.94zm-11 1L8.5 8.5l.94-2.06 2.06-.94-2.06-.94L8.5 2.5l-.94 2.06-2.06.94zm10 10l.94 2.06.94-2.06 2.06-.94-2.06-.94-.94-2.06-.94 2.06-2.06.94z\"/><path d=\"M17.41 7.96l-1.37-1.37c-.4-.4-.92-.59-1.43-.59-.52 0-1.04.2-1.43.59L10.3 9.45l-7.72 7.72c-.78.78-.78 2.05 0 2.83L4 21.41c.39.39.9.59 1.41.59.51 0 1.02-.2 1.41-.59l7.78-7.78 2.81-2.81c.8-.78.8-2.07 0-2.86zM5.41 20L4 18.59l7.72-7.72 1.47 1.35L5.41 20z\"/>\n",
              "  </svg>\n",
              "      </button>\n",
              "      \n",
              "  <style>\n",
              "    .colab-df-container {\n",
              "      display:flex;\n",
              "      flex-wrap:wrap;\n",
              "      gap: 12px;\n",
              "    }\n",
              "\n",
              "    .colab-df-convert {\n",
              "      background-color: #E8F0FE;\n",
              "      border: none;\n",
              "      border-radius: 50%;\n",
              "      cursor: pointer;\n",
              "      display: none;\n",
              "      fill: #1967D2;\n",
              "      height: 32px;\n",
              "      padding: 0 0 0 0;\n",
              "      width: 32px;\n",
              "    }\n",
              "\n",
              "    .colab-df-convert:hover {\n",
              "      background-color: #E2EBFA;\n",
              "      box-shadow: 0px 1px 2px rgba(60, 64, 67, 0.3), 0px 1px 3px 1px rgba(60, 64, 67, 0.15);\n",
              "      fill: #174EA6;\n",
              "    }\n",
              "\n",
              "    [theme=dark] .colab-df-convert {\n",
              "      background-color: #3B4455;\n",
              "      fill: #D2E3FC;\n",
              "    }\n",
              "\n",
              "    [theme=dark] .colab-df-convert:hover {\n",
              "      background-color: #434B5C;\n",
              "      box-shadow: 0px 1px 3px 1px rgba(0, 0, 0, 0.15);\n",
              "      filter: drop-shadow(0px 1px 2px rgba(0, 0, 0, 0.3));\n",
              "      fill: #FFFFFF;\n",
              "    }\n",
              "  </style>\n",
              "\n",
              "      <script>\n",
              "        const buttonEl =\n",
              "          document.querySelector('#df-9921bd36-d434-4665-ad0b-d581876bb4e4 button.colab-df-convert');\n",
              "        buttonEl.style.display =\n",
              "          google.colab.kernel.accessAllowed ? 'block' : 'none';\n",
              "\n",
              "        async function convertToInteractive(key) {\n",
              "          const element = document.querySelector('#df-9921bd36-d434-4665-ad0b-d581876bb4e4');\n",
              "          const dataTable =\n",
              "            await google.colab.kernel.invokeFunction('convertToInteractive',\n",
              "                                                     [key], {});\n",
              "          if (!dataTable) return;\n",
              "\n",
              "          const docLinkHtml = 'Like what you see? Visit the ' +\n",
              "            '<a target=\"_blank\" href=https://colab.research.google.com/notebooks/data_table.ipynb>data table notebook</a>'\n",
              "            + ' to learn more about interactive tables.';\n",
              "          element.innerHTML = '';\n",
              "          dataTable['output_type'] = 'display_data';\n",
              "          await google.colab.output.renderOutput(dataTable, element);\n",
              "          const docLink = document.createElement('div');\n",
              "          docLink.innerHTML = docLinkHtml;\n",
              "          element.appendChild(docLink);\n",
              "        }\n",
              "      </script>\n",
              "    </div>\n",
              "  </div>\n",
              "  "
            ]
          },
          "metadata": {},
          "execution_count": 296
        }
      ]
    },
    {
      "cell_type": "markdown",
      "source": [
        "#####Subset 2"
      ],
      "metadata": {
        "id": "z0OehNuXHwuy"
      }
    },
    {
      "cell_type": "code",
      "source": [
        "get_score_card(y_val2, [lin_y2_pred, log_y2_pred], [lin_con_mat2, log_con_mat2])"
      ],
      "metadata": {
        "colab": {
          "base_uri": "https://localhost:8080/",
          "height": 112
        },
        "id": "sBiUMu_zU7vQ",
        "outputId": "a3521a6f-d03e-418b-9219-1ae5a1a1d392"
      },
      "execution_count": 297,
      "outputs": [
        {
          "output_type": "execute_result",
          "data": {
            "text/plain": [
              "      Model  Sensitivity  Specificity       AUC      Gini        KS\n",
              "0    Linear     0.555556     0.896552  0.825915  0.651829  0.452107\n",
              "1  Logistic     0.687500     0.786517  0.705793  0.411585  0.474017"
            ],
            "text/html": [
              "\n",
              "  <div id=\"df-736c0879-9298-433b-846e-8f287dc072f7\">\n",
              "    <div class=\"colab-df-container\">\n",
              "      <div>\n",
              "<style scoped>\n",
              "    .dataframe tbody tr th:only-of-type {\n",
              "        vertical-align: middle;\n",
              "    }\n",
              "\n",
              "    .dataframe tbody tr th {\n",
              "        vertical-align: top;\n",
              "    }\n",
              "\n",
              "    .dataframe thead th {\n",
              "        text-align: right;\n",
              "    }\n",
              "</style>\n",
              "<table border=\"1\" class=\"dataframe\">\n",
              "  <thead>\n",
              "    <tr style=\"text-align: right;\">\n",
              "      <th></th>\n",
              "      <th>Model</th>\n",
              "      <th>Sensitivity</th>\n",
              "      <th>Specificity</th>\n",
              "      <th>AUC</th>\n",
              "      <th>Gini</th>\n",
              "      <th>KS</th>\n",
              "    </tr>\n",
              "  </thead>\n",
              "  <tbody>\n",
              "    <tr>\n",
              "      <th>0</th>\n",
              "      <td>Linear</td>\n",
              "      <td>0.555556</td>\n",
              "      <td>0.896552</td>\n",
              "      <td>0.825915</td>\n",
              "      <td>0.651829</td>\n",
              "      <td>0.452107</td>\n",
              "    </tr>\n",
              "    <tr>\n",
              "      <th>1</th>\n",
              "      <td>Logistic</td>\n",
              "      <td>0.687500</td>\n",
              "      <td>0.786517</td>\n",
              "      <td>0.705793</td>\n",
              "      <td>0.411585</td>\n",
              "      <td>0.474017</td>\n",
              "    </tr>\n",
              "  </tbody>\n",
              "</table>\n",
              "</div>\n",
              "      <button class=\"colab-df-convert\" onclick=\"convertToInteractive('df-736c0879-9298-433b-846e-8f287dc072f7')\"\n",
              "              title=\"Convert this dataframe to an interactive table.\"\n",
              "              style=\"display:none;\">\n",
              "        \n",
              "  <svg xmlns=\"http://www.w3.org/2000/svg\" height=\"24px\"viewBox=\"0 0 24 24\"\n",
              "       width=\"24px\">\n",
              "    <path d=\"M0 0h24v24H0V0z\" fill=\"none\"/>\n",
              "    <path d=\"M18.56 5.44l.94 2.06.94-2.06 2.06-.94-2.06-.94-.94-2.06-.94 2.06-2.06.94zm-11 1L8.5 8.5l.94-2.06 2.06-.94-2.06-.94L8.5 2.5l-.94 2.06-2.06.94zm10 10l.94 2.06.94-2.06 2.06-.94-2.06-.94-.94-2.06-.94 2.06-2.06.94z\"/><path d=\"M17.41 7.96l-1.37-1.37c-.4-.4-.92-.59-1.43-.59-.52 0-1.04.2-1.43.59L10.3 9.45l-7.72 7.72c-.78.78-.78 2.05 0 2.83L4 21.41c.39.39.9.59 1.41.59.51 0 1.02-.2 1.41-.59l7.78-7.78 2.81-2.81c.8-.78.8-2.07 0-2.86zM5.41 20L4 18.59l7.72-7.72 1.47 1.35L5.41 20z\"/>\n",
              "  </svg>\n",
              "      </button>\n",
              "      \n",
              "  <style>\n",
              "    .colab-df-container {\n",
              "      display:flex;\n",
              "      flex-wrap:wrap;\n",
              "      gap: 12px;\n",
              "    }\n",
              "\n",
              "    .colab-df-convert {\n",
              "      background-color: #E8F0FE;\n",
              "      border: none;\n",
              "      border-radius: 50%;\n",
              "      cursor: pointer;\n",
              "      display: none;\n",
              "      fill: #1967D2;\n",
              "      height: 32px;\n",
              "      padding: 0 0 0 0;\n",
              "      width: 32px;\n",
              "    }\n",
              "\n",
              "    .colab-df-convert:hover {\n",
              "      background-color: #E2EBFA;\n",
              "      box-shadow: 0px 1px 2px rgba(60, 64, 67, 0.3), 0px 1px 3px 1px rgba(60, 64, 67, 0.15);\n",
              "      fill: #174EA6;\n",
              "    }\n",
              "\n",
              "    [theme=dark] .colab-df-convert {\n",
              "      background-color: #3B4455;\n",
              "      fill: #D2E3FC;\n",
              "    }\n",
              "\n",
              "    [theme=dark] .colab-df-convert:hover {\n",
              "      background-color: #434B5C;\n",
              "      box-shadow: 0px 1px 3px 1px rgba(0, 0, 0, 0.15);\n",
              "      filter: drop-shadow(0px 1px 2px rgba(0, 0, 0, 0.3));\n",
              "      fill: #FFFFFF;\n",
              "    }\n",
              "  </style>\n",
              "\n",
              "      <script>\n",
              "        const buttonEl =\n",
              "          document.querySelector('#df-736c0879-9298-433b-846e-8f287dc072f7 button.colab-df-convert');\n",
              "        buttonEl.style.display =\n",
              "          google.colab.kernel.accessAllowed ? 'block' : 'none';\n",
              "\n",
              "        async function convertToInteractive(key) {\n",
              "          const element = document.querySelector('#df-736c0879-9298-433b-846e-8f287dc072f7');\n",
              "          const dataTable =\n",
              "            await google.colab.kernel.invokeFunction('convertToInteractive',\n",
              "                                                     [key], {});\n",
              "          if (!dataTable) return;\n",
              "\n",
              "          const docLinkHtml = 'Like what you see? Visit the ' +\n",
              "            '<a target=\"_blank\" href=https://colab.research.google.com/notebooks/data_table.ipynb>data table notebook</a>'\n",
              "            + ' to learn more about interactive tables.';\n",
              "          element.innerHTML = '';\n",
              "          dataTable['output_type'] = 'display_data';\n",
              "          await google.colab.output.renderOutput(dataTable, element);\n",
              "          const docLink = document.createElement('div');\n",
              "          docLink.innerHTML = docLinkHtml;\n",
              "          element.appendChild(docLink);\n",
              "        }\n",
              "      </script>\n",
              "    </div>\n",
              "  </div>\n",
              "  "
            ]
          },
          "metadata": {},
          "execution_count": 297
        }
      ]
    }
  ],
  "metadata": {
    "kernelspec": {
      "display_name": "Python 3",
      "language": "python",
      "name": "python3"
    },
    "language_info": {
      "codemirror_mode": {
        "name": "ipython",
        "version": 3
      },
      "file_extension": ".py",
      "mimetype": "text/x-python",
      "name": "python",
      "nbconvert_exporter": "python",
      "pygments_lexer": "ipython3",
      "version": "3.7.4"
    },
    "colab": {
      "name": "MAT012_21076481.ipynb",
      "provenance": [],
      "collapsed_sections": [],
      "include_colab_link": true
    }
  },
  "nbformat": 4,
  "nbformat_minor": 0
}